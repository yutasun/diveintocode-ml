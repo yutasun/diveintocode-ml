{
 "cells": [
  {
   "cell_type": "markdown",
   "metadata": {},
   "source": [
    "手を加える箇所\n",
    "- 層の数<br>\n",
    "   (3層以上を扱えるようにselfで最適化クラス、活性化関数を呼び出し計算、バックフォワークラスで重みの調整)\n",
    "- 層の種類（今後畳み込み層など他のタイプの層が登場する）<br>\n",
    " 　(とりあえずはSGDで実装)\n",
    "- 活性化関数の種類<br>\n",
    "　 （tanh、ソフトマックス、RELU）\n",
    "- 重みやバイアスの初期化方法<br>\n",
    "　 （初期設定の方法としてガウス分布他、ザビエル、フーの標準偏差を導入）\n",
    "- 最適化手法<br>\n",
    "　 （学習率の変更を行えるようにする）イテレーションごとの勾配の二乗和 Hを更新しながら使う"
   ]
  },
  {
   "cell_type": "code",
   "execution_count": 1,
   "metadata": {},
   "outputs": [],
   "source": [
    "# インポート\n",
    "import random\n",
    "import pandas as pd\n",
    "import numpy as np\n",
    "import matplotlib.pyplot as plt\n",
    "import seaborn as sns\n",
    "from sklearn.model_selection import train_test_split\n",
    "from sklearn.preprocessing import StandardScaler\n",
    "from sklearn.preprocessing import OneHotEncoder\n",
    "from sklearn import metrics"
   ]
  },
  {
   "cell_type": "code",
   "execution_count": null,
   "metadata": {},
   "outputs": [],
   "source": [
    "# クラスイメージ\n",
    "optimizer = SGD(self.lr)\n",
    "self.FC1 = FC(self.n_features, self.n_nodes1, SimpleInitializer(self.sigma), optimizer)\n",
    "self.activation1 = Tanh()\n",
    "self.FC2 = FC(self.n_nodes1, self.n_nodes2, SimpleInitializer(self.sigma), optimizer)\n",
    "self.activation2 = Tanh()\n",
    "self.FC3 = FC(self.n_nodes2, self.n_output, SimpleInitializer(self.sigma), optimizer)\n",
    "self.activation3 = Softmax()"
   ]
  },
  {
   "cell_type": "code",
   "execution_count": null,
   "metadata": {},
   "outputs": [],
   "source": [
    "# フォワードプロ\n",
    "A1 = self.FC1.forward(X)\n",
    "Z1 = self.activation1.forward(A1)\n",
    "A2 = self.FC2.forward(Z1)\n",
    "Z2 = self.activation2.forward(A2)\n",
    "A3 = self.FC3.forward(Z2)\n",
    "Z3 = self.activation3.forward(A3)"
   ]
  },
  {
   "cell_type": "code",
   "execution_count": null,
   "metadata": {},
   "outputs": [],
   "source": [
    "# バックプロ\n",
    "dA3 = self.activation3.backward(Z3, Y) # 交差エントロピー誤差とソフトマックスを合わせている\n",
    "dZ2 = self.FC3.backward(dA3)\n",
    "dA2 = self.activation2.backward(dZ2)\n",
    "dZ1 = self.FC2.backward(dA2)\n",
    "dA1 = self.activation1.backward(dZ1)\n",
    "dZ0 = self.FC1.backward(dA1) # dZ0は使用しない"
   ]
  },
  {
   "cell_type": "markdown",
   "metadata": {},
   "source": [
    "# 【問題2】初期化方法のクラス化"
   ]
  },
  {
   "cell_type": "code",
   "execution_count": 2,
   "metadata": {},
   "outputs": [],
   "source": [
    "class SimpleInitializer:\n",
    "    \"\"\"\n",
    "    ガウス分布によるシンプルな初期化\n",
    "    Parameters\n",
    "    ----------\n",
    "    sigma : float\n",
    "      ガウス分布の標準偏差\n",
    "    \"\"\"\n",
    "    def __init__(self, sigma=0.005):\n",
    "        self.sigma = sigma\n",
    "        \n",
    "    def W(self, n_nodes1, n_nodes2):\n",
    "        W = self.sigma * np.random.randn(n_nodes1, n_nodes2)\n",
    "        pass\n",
    "        return W\n",
    "    \n",
    "    def B(self, n_nodes2):\n",
    "        B = self.sigma * np.random.rand(n_nodes2)\n",
    "        pass\n",
    "        return B"
   ]
  },
  {
   "cell_type": "markdown",
   "metadata": {},
   "source": [
    "# 【問題3】最適化手法のクラス化"
   ]
  },
  {
   "cell_type": "code",
   "execution_count": 3,
   "metadata": {},
   "outputs": [],
   "source": [
    "class SGD:\n",
    "    \"\"\"\n",
    "    確率的勾配降下法\n",
    "    Parameters\n",
    "    ----------\n",
    "    lr : 学習率\n",
    "    \"\"\"\n",
    "    def __init__(self, lr=0.001):\n",
    "        self.lr = lr\n",
    "    def update(self, layer):\n",
    "        layer.W = layer.W - self.lr*layer.dW\n",
    "        layer.B = layer.B - self.lr*layer.dB.mean(axis=0)\n",
    "        return layer"
   ]
  },
  {
   "cell_type": "markdown",
   "metadata": {},
   "source": [
    "# 【問題1】全結合層のクラス化"
   ]
  },
  {
   "cell_type": "code",
   "execution_count": 4,
   "metadata": {},
   "outputs": [],
   "source": [
    "class FC:\n",
    "    \"\"\"\n",
    "    ノード数n_nodes1からn_nodes2への全結合層\n",
    "    Parameters\n",
    "    ----------\n",
    "    n_nodes1 : int\n",
    "      前の層のノード数\n",
    "    n_nodes2 : int\n",
    "      後の層のノード数\n",
    "    initializer : 初期化方法のインスタンス\n",
    "    optimizer : 最適化手法のインスタンス\n",
    "    \"\"\"\n",
    "    \n",
    "    def __init__(self, n_nodes1, n_nodes2, initializer=SimpleInitializer, optimizer=SGD):\n",
    "        self.initializer = SimpleInitializer\n",
    "        self.optimizer = optimizer\n",
    "        self.n_nodes1 = n_nodes1\n",
    "        self.n_nodes2 = n_nodes2\n",
    "        \n",
    "        ini = self.initializer()\n",
    "        #初期値を決める\n",
    "        # WとBを決定する\n",
    "        self.W = ini.W(self.n_nodes1,self.n_nodes2)\n",
    "        self.B = ini.B(self.n_nodes2)        \n",
    "        \n",
    "        opt = self.optimizer\n",
    "        #最適化処理をインスタンス化\n",
    "        \n",
    "        pass\n",
    "    def forward(self, Z):\n",
    "        self.Z = Z\n",
    "        A = self.Z@self.W + self.B\n",
    "        self.A = A\n",
    "        \n",
    "        pass\n",
    "        return A\n",
    "    def backward(self, dA):\n",
    "        self.dA = dA\n",
    "        self.dB = self.dA.mean(axis=0)\n",
    "        self.dW = self.Z.T@self.dA\n",
    "        dZ = self.dA@self.W.T\n",
    "        \n",
    "        pass\n",
    "        # 更新\n",
    "        self.optimizer.update(self)\n",
    "        return dZ"
   ]
  },
  {
   "cell_type": "markdown",
   "metadata": {},
   "source": [
    "# 【問題4】活性化関数のクラス化"
   ]
  },
  {
   "cell_type": "code",
   "execution_count": 5,
   "metadata": {},
   "outputs": [],
   "source": [
    "#ソフトマックス\n",
    "class softmax:\n",
    "    def __init__(self):\n",
    "        \n",
    "        pass\n",
    "    def forward(self, A):\n",
    "        Z = (np.exp(A).T/np.exp(A).sum(axis=1)).T\n",
    "         \n",
    "        return Z\n",
    "    def backward(self, Z, Y):\n",
    "        dA = Z - Y\n",
    "        \n",
    "        return dA"
   ]
  },
  {
   "cell_type": "code",
   "execution_count": 6,
   "metadata": {},
   "outputs": [],
   "source": [
    "# タンジェントハイポ\n",
    "class tanh:\n",
    "    def __init__(self):\n",
    "        \n",
    "        pass\n",
    "    def forward(self, A):\n",
    "        self.A = A\n",
    "        Z = np.tanh(A)\n",
    "        self.Z = Z       \n",
    "        return Z        \n",
    "    def backward(self, dZ):\n",
    "        dA = dZ*(1-np.tanh(self.A)**2)\n",
    "    \n",
    "        return dA"
   ]
  },
  {
   "cell_type": "markdown",
   "metadata": {},
   "source": [
    "# 【問題5】ReLUクラスの作成"
   ]
  },
  {
   "cell_type": "markdown",
   "metadata": {},
   "source": [
    "ReLUは以下の数式です。$$% <![CDATA[\n",
    "f(x) = ReLU(x) = \\begin{cases}\n",
    "x  & \\text{if $x>0$,}\\\\\n",
    "0 & \\text{if $x\\leqq0$.}\n",
    "\\end{cases} %]]>$$"
   ]
  },
  {
   "cell_type": "markdown",
   "metadata": {},
   "source": [
    "一方、バックプロパゲーションのための xに関する f(x)の微分は以下のようになります。$$% <![CDATA[\n",
    "\\frac{\\partial f(x)}{\\partial x} = \\begin{cases}\n",
    "1  & \\text{if $x>0$,}\\\\\n",
    "0 & \\text{if $x\\leqq0$.}\n",
    "\\end{cases} %]]>$$"
   ]
  },
  {
   "cell_type": "code",
   "execution_count": 7,
   "metadata": {},
   "outputs": [],
   "source": [
    "class sc_relu:\n",
    "    def __init__(self):\n",
    "        \n",
    "        pass\n",
    "    def forward(self, A):\n",
    "        self.F = np.where(A > 0 , 1, 0)\n",
    "        Z = np.where(A > 0 , A, 0)\n",
    "        self.Z = Z\n",
    "        return Z        \n",
    "    def backward(self, dZ):\n",
    "        dA = dZ*self.F\n",
    "    \n",
    "        return dA"
   ]
  },
  {
   "cell_type": "code",
   "execution_count": 8,
   "metadata": {},
   "outputs": [
    {
     "name": "stdout",
     "output_type": "stream",
     "text": [
      "<class 'numpy.ndarray'>\n",
      "[0 0 1 2 3]\n",
      "[0 0 1 2 3]\n"
     ]
    }
   ],
   "source": [
    "A = np.array([-1,0,1,2,3])\n",
    "\n",
    "print(type(A))\n",
    "\n",
    "test = sc_relu()\n",
    "print(test.forward(A))\n",
    "\n",
    "print(test.backward(A))"
   ]
  },
  {
   "cell_type": "markdown",
   "metadata": {},
   "source": [
    "# 【問題6】重みの初期値"
   ]
  },
  {
   "cell_type": "markdown",
   "metadata": {},
   "source": [
    "Xavierの初期値$$\\sigma = \\frac{1}{\\sqrt{n}}$$"
   ]
  },
  {
   "cell_type": "code",
   "execution_count": 9,
   "metadata": {},
   "outputs": [],
   "source": [
    "class Initializer_Xa:\n",
    "    \"\"\"\n",
    "    ガウス分布によるシンプルな初期化\n",
    "    Parameters\n",
    "    ----------\n",
    "    sigma : float\n",
    "      ガウス分布の標準偏差\n",
    "    \"\"\"\n",
    "    def __init__(self,n_nodes1):\n",
    "        self.sigma = 1/((n_nodes1)**0.5)\n",
    "        \n",
    "    def W(self, n_nodes1, n_nodes2):\n",
    "        W = self.sigma * np.random.randn(n_nodes1, n_nodes2)\n",
    "        pass\n",
    "        return W\n",
    "    \n",
    "    def B(self, n_nodes2):\n",
    "        B = self.sigma * np.random.rand(n_nodes2)\n",
    "        pass\n",
    "        return B"
   ]
  },
  {
   "cell_type": "markdown",
   "metadata": {},
   "source": [
    "Heの初期値$$\\sigma = \\sqrt{\\frac{2}{n}}$$"
   ]
  },
  {
   "cell_type": "code",
   "execution_count": 10,
   "metadata": {},
   "outputs": [],
   "source": [
    "class Initializer_He:\n",
    "    \"\"\"\n",
    "    ガウス分布によるシンプルな初期化\n",
    "    Parameters\n",
    "    ----------\n",
    "    sigma : float\n",
    "      ガウス分布の標準偏差\n",
    "    \"\"\"\n",
    "    def __init__(self,n_nodes1):\n",
    "        self.sigma = (2/(n_nodes1))**0.5\n",
    "        \n",
    "    def W(self, n_nodes1, n_nodes2):\n",
    "        W = self.sigma * np.random.randn(n_nodes1, n_nodes2)\n",
    "        pass\n",
    "        return W\n",
    "    \n",
    "    def B(self, n_nodes2):\n",
    "        B = self.sigma * np.random.rand(n_nodes2)\n",
    "        pass\n",
    "        return B"
   ]
  },
  {
   "cell_type": "markdown",
   "metadata": {},
   "source": [
    "# 【問題7】最適化手法"
   ]
  },
  {
   "cell_type": "markdown",
   "metadata": {},
   "source": [
    "学習率は学習過程で変化させていく方法が一般的です。基本的な手法である AdaGrad のクラスを作成してください。<br>\n",
    "まず、これまで使ってきたSGDを確認します。<br>\n",
    "$$W_i^{\\prime} = W_i - \\alpha E(\\frac{\\partial L}{\\partial W_i}) \\\\<br/>B_i^{\\prime} = B_i - \\alpha E(\\frac{\\partial L}{\\partial B_i})$$\n",
    "E( ): ミニバッチ方向にベクトルの平均を計算"
   ]
  },
  {
   "cell_type": "markdown",
   "metadata": {},
   "source": [
    "$$H_i^{\\prime}  = H_i+E(\\frac{\\partial L}{\\partial W_i})×E(\\frac{\\partial L}{\\partial W_i})\\\\<br/>W_i^{\\prime} = W_i - \\alpha \\frac{1}{\\sqrt{H_i^{\\prime} }} E(\\frac{\\partial L}{\\partial W_i})$$"
   ]
  },
  {
   "cell_type": "markdown",
   "metadata": {},
   "source": [
    "Hi: i層目に関して、前のイテレーションまでの勾配の二乗和（初期値は0）\n",
    "H′i: 更新した Hi"
   ]
  },
  {
   "cell_type": "code",
   "execution_count": 11,
   "metadata": {},
   "outputs": [],
   "source": [
    "import copy"
   ]
  },
  {
   "cell_type": "code",
   "execution_count": 87,
   "metadata": {},
   "outputs": [],
   "source": [
    "class AdaGrad:\n",
    "    \"\"\"\n",
    "    確率的勾配降下法\n",
    "    Parameters\n",
    "    ----------\n",
    "    lr : 学習率\n",
    "    \"\"\"\n",
    "    def __init__(self, lr=0.001, h=0):\n",
    "        self.lr = lr\n",
    "        self.h_W = copy.deepcopy(h)\n",
    "        self.h_B = copy.deepcopy(h)\n",
    "    def update(self, layer):\n",
    "        self.h_W += ((layer.dW/layer.dW.shape[0])*(layer.dW/layer.dW.shape[0]))\n",
    "#         print(self.h_W.shape)\n",
    "        #self.h += ((layer.dW.mean(axis=1))*(layer.dW.mean(axis=1)))#.sum()\n",
    "      \n",
    "        layer.W = layer.W - self.lr/((self.h_W**0.5) + 0.001) *layer.dW/layer.dW.shape[0]\n",
    "        #if self.h >= 0.2:\n",
    "            #layer.W = layer.W - self.lr/(self.h**0.5)*layer.dW + 1e-7\n",
    "#         else:\n",
    "#             layer.W = layer.W - self.lr*layer.dW\n",
    "        self.h_B += ((layer.dB/layer.dB.shape[0])*(layer.dB/layer.dB.shape[0]))\n",
    "#         print('dB',layer.dB.shape)#20\n",
    "#         print('h_B',self.h_B.shape)#20\n",
    "#         print('B',layer.B.shape)#10\n",
    "#         print('dB.mean',layer.dB.mean(axis=0).shape)#shapeない\n",
    "        layer.B = layer.B - self.lr/((self.h_B**0.5) + 0.001) *layer.dB.mean(axis=0)/layer.dB.shape[0]\n",
    "        return layer"
   ]
  },
  {
   "cell_type": "code",
   "execution_count": 180,
   "metadata": {},
   "outputs": [],
   "source": [
    "# テスト用\n",
    "class AdaGrad_print:\n",
    "    \"\"\"\n",
    "    確率的勾配降下法\n",
    "    Parameters\n",
    "    ----------\n",
    "    lr : 学習率\n",
    "    \"\"\"\n",
    "    def __init__(self, lr=0.001, h=0):\n",
    "        self.lr = lr\n",
    "        self.h = h\n",
    "    def update(self, layer):\n",
    "        self.h += ((layer.dW.mean(axis=1))*(layer.dW.mean(axis=1))).sum()\n",
    "        print(self.h)\n",
    "        layer.W = layer.W - self.lr/(self.h**0.5)*layer.dW\n",
    "        layer.B = layer.B - self.lr*layer.dB.mean(axis=0)\n",
    "        return layer"
   ]
  },
  {
   "cell_type": "markdown",
   "metadata": {},
   "source": [
    "# MNISTデータセット"
   ]
  },
  {
   "cell_type": "code",
   "execution_count": 13,
   "metadata": {},
   "outputs": [
    {
     "name": "stderr",
     "output_type": "stream",
     "text": [
      "Using TensorFlow backend.\n"
     ]
    }
   ],
   "source": [
    "# データセットインストール\n",
    "from keras.datasets import mnist\n",
    "(X_train, y_train), (X_test, y_test) = mnist.load_data()"
   ]
  },
  {
   "cell_type": "code",
   "execution_count": 14,
   "metadata": {},
   "outputs": [
    {
     "name": "stdout",
     "output_type": "stream",
     "text": [
      "(60000, 28, 28)\n",
      "(10000, 28, 28)\n",
      "uint8\n",
      "[[  0   0   0   0   0   0   0   0   0   0   0   0   0   0   0   0   0   0\n",
      "    0   0   0   0   0   0   0   0   0   0]\n",
      " [  0   0   0   0   0   0   0   0   0   0   0   0   0   0   0   0   0   0\n",
      "    0   0   0   0   0   0   0   0   0   0]\n",
      " [  0   0   0   0   0   0   0   0   0   0   0   0   0   0   0   0   0   0\n",
      "    0   0   0   0   0   0   0   0   0   0]\n",
      " [  0   0   0   0   0   0   0   0   0   0   0   0   0   0   0   0   0   0\n",
      "    0   0   0   0   0   0   0   0   0   0]\n",
      " [  0   0   0   0   0   0   0   0   0   0   0   0   0   0   0   0   0   0\n",
      "    0   0   0   0   0   0   0   0   0   0]\n",
      " [  0   0   0   0   0   0   0   0   0   0   0   0   3  18  18  18 126 136\n",
      "  175  26 166 255 247 127   0   0   0   0]\n",
      " [  0   0   0   0   0   0   0   0  30  36  94 154 170 253 253 253 253 253\n",
      "  225 172 253 242 195  64   0   0   0   0]\n",
      " [  0   0   0   0   0   0   0  49 238 253 253 253 253 253 253 253 253 251\n",
      "   93  82  82  56  39   0   0   0   0   0]\n",
      " [  0   0   0   0   0   0   0  18 219 253 253 253 253 253 198 182 247 241\n",
      "    0   0   0   0   0   0   0   0   0   0]\n",
      " [  0   0   0   0   0   0   0   0  80 156 107 253 253 205  11   0  43 154\n",
      "    0   0   0   0   0   0   0   0   0   0]\n",
      " [  0   0   0   0   0   0   0   0   0  14   1 154 253  90   0   0   0   0\n",
      "    0   0   0   0   0   0   0   0   0   0]\n",
      " [  0   0   0   0   0   0   0   0   0   0   0 139 253 190   2   0   0   0\n",
      "    0   0   0   0   0   0   0   0   0   0]\n",
      " [  0   0   0   0   0   0   0   0   0   0   0  11 190 253  70   0   0   0\n",
      "    0   0   0   0   0   0   0   0   0   0]\n",
      " [  0   0   0   0   0   0   0   0   0   0   0   0  35 241 225 160 108   1\n",
      "    0   0   0   0   0   0   0   0   0   0]\n",
      " [  0   0   0   0   0   0   0   0   0   0   0   0   0  81 240 253 253 119\n",
      "   25   0   0   0   0   0   0   0   0   0]\n",
      " [  0   0   0   0   0   0   0   0   0   0   0   0   0   0  45 186 253 253\n",
      "  150  27   0   0   0   0   0   0   0   0]\n",
      " [  0   0   0   0   0   0   0   0   0   0   0   0   0   0   0  16  93 252\n",
      "  253 187   0   0   0   0   0   0   0   0]\n",
      " [  0   0   0   0   0   0   0   0   0   0   0   0   0   0   0   0   0 249\n",
      "  253 249  64   0   0   0   0   0   0   0]\n",
      " [  0   0   0   0   0   0   0   0   0   0   0   0   0   0  46 130 183 253\n",
      "  253 207   2   0   0   0   0   0   0   0]\n",
      " [  0   0   0   0   0   0   0   0   0   0   0   0  39 148 229 253 253 253\n",
      "  250 182   0   0   0   0   0   0   0   0]\n",
      " [  0   0   0   0   0   0   0   0   0   0  24 114 221 253 253 253 253 201\n",
      "   78   0   0   0   0   0   0   0   0   0]\n",
      " [  0   0   0   0   0   0   0   0  23  66 213 253 253 253 253 198  81   2\n",
      "    0   0   0   0   0   0   0   0   0   0]\n",
      " [  0   0   0   0   0   0  18 171 219 253 253 253 253 195  80   9   0   0\n",
      "    0   0   0   0   0   0   0   0   0   0]\n",
      " [  0   0   0   0  55 172 226 253 253 253 253 244 133  11   0   0   0   0\n",
      "    0   0   0   0   0   0   0   0   0   0]\n",
      " [  0   0   0   0 136 253 253 253 212 135 132  16   0   0   0   0   0   0\n",
      "    0   0   0   0   0   0   0   0   0   0]\n",
      " [  0   0   0   0   0   0   0   0   0   0   0   0   0   0   0   0   0   0\n",
      "    0   0   0   0   0   0   0   0   0   0]\n",
      " [  0   0   0   0   0   0   0   0   0   0   0   0   0   0   0   0   0   0\n",
      "    0   0   0   0   0   0   0   0   0   0]\n",
      " [  0   0   0   0   0   0   0   0   0   0   0   0   0   0   0   0   0   0\n",
      "    0   0   0   0   0   0   0   0   0   0]]\n"
     ]
    }
   ],
   "source": [
    "# データセットの確認\n",
    "print(X_train.shape) # (60000, 28, 28)\n",
    "print(X_test.shape) # (10000, 28, 28)\n",
    "print(X_train[0].dtype) # uint8\n",
    "print(X_train[0])"
   ]
  },
  {
   "cell_type": "code",
   "execution_count": 15,
   "metadata": {},
   "outputs": [],
   "source": [
    "# 平滑化\n",
    "X_train = X_train.reshape(-1, 784)\n",
    "X_test = X_test.reshape(-1, 784)"
   ]
  },
  {
   "cell_type": "code",
   "execution_count": 16,
   "metadata": {},
   "outputs": [
    {
     "name": "stdout",
     "output_type": "stream",
     "text": [
      "1.0\n",
      "0.0\n",
      "(60000,)\n",
      "(60000, 10)\n",
      "float64\n"
     ]
    }
   ],
   "source": [
    "X_train = X_train.astype(np.float)\n",
    "X_test = X_test.astype(np.float)\n",
    "X_train /= 255\n",
    "X_test /= 255\n",
    "print(X_train.max()) # 1.0\n",
    "print(X_train.min()) # 0.0\n",
    "enc = OneHotEncoder(handle_unknown='ignore', sparse=False)\n",
    "y_train_one_hot = enc.fit_transform(y_train[:, np.newaxis])\n",
    "y_test_one_hot = enc.transform(y_test[:, np.newaxis])\n",
    "print(y_train.shape) # (60000,)\n",
    "print(y_train_one_hot.shape) # (60000, 10)\n",
    "print(y_train_one_hot.dtype) # float64"
   ]
  },
  {
   "cell_type": "code",
   "execution_count": 17,
   "metadata": {},
   "outputs": [
    {
     "name": "stdout",
     "output_type": "stream",
     "text": [
      "(600, 784)\n",
      "(59400, 784)\n",
      "(600, 10)\n"
     ]
    }
   ],
   "source": [
    "X_train_1, X_val, y_train_1, y_val = train_test_split(X_train, y_train_one_hot, test_size=0.99)\n",
    "print(X_train_1.shape) # (48000, 784)\n",
    "print(X_val.shape) # (12000, 784)\n",
    "print(y_train_1.shape)"
   ]
  },
  {
   "cell_type": "code",
   "execution_count": 18,
   "metadata": {},
   "outputs": [],
   "source": [
    "# ミニバッチ\n",
    "class GetMiniBatch:\n",
    "    \"\"\"\n",
    "    ミニバッチを取得するイテレータ\n",
    "\n",
    "    Parameters\n",
    "    ----------\n",
    "    X : 次の形のndarray, shape (n_samples, n_features)\n",
    "      訓練データ\n",
    "    y : 次の形のndarray, shape (n_samples, 1)\n",
    "      正解値\n",
    "    batch_size : int\n",
    "      バッチサイズ\n",
    "    seed : int\n",
    "      NumPyの乱数のシード\n",
    "    \"\"\"\n",
    "    def __init__(self, X, y, batch_size = 20, seed=0):\n",
    "        self.batch_size = batch_size\n",
    "        np.random.seed(seed)\n",
    "        shuffle_index = np.random.permutation(np.arange(X.shape[0]))\n",
    "        self._X = X[shuffle_index]\n",
    "        self._y = y[shuffle_index]\n",
    "        self._stop = np.ceil(X.shape[0]/self.batch_size).astype(np.int)\n",
    "    def __len__(self):\n",
    "        return self._stop\n",
    "    def __getitem__(self,item):\n",
    "        p0 = item*self.batch_size\n",
    "        p1 = item*self.batch_size + self.batch_size\n",
    "        return self._X[p0:p1], self._y[p0:p1]        \n",
    "    def __iter__(self):\n",
    "        self._counter = 0\n",
    "        return self\n",
    "    def __next__(self):\n",
    "        if self._counter >= self._stop:\n",
    "            raise StopIteration()\n",
    "        p0 = self._counter*self.batch_size\n",
    "        p1 = self._counter*self.batch_size + self.batch_size\n",
    "        self._counter += 1\n",
    "        return self._X[p0:p1], self._y[p0:p1]"
   ]
  },
  {
   "cell_type": "markdown",
   "metadata": {},
   "source": [
    "# 【問題8】クラスの完成"
   ]
  },
  {
   "cell_type": "code",
   "execution_count": 19,
   "metadata": {},
   "outputs": [],
   "source": [
    "class ScratchDeepNeuralNetrowkClassifier():\n",
    "\n",
    "    def __init__(self,num_iter = 15,lr = 0.01, verbose = True):\n",
    "        self.verbose = verbose\n",
    "        self.num_iter = num_iter\n",
    "        self.lr = lr\n",
    "        self.verbose = verbose\n",
    "        self.n_features = 784\n",
    "        self.n_nodes1 = 400\n",
    "        self.n_nodes2 = 200\n",
    "        self.n_output = 10\n",
    "        self.alpha = 0.001\n",
    "        self.rec_loss = [] \n",
    "        self.rec_val_loss = []         \n",
    "        \n",
    "        pass\n",
    "    def fit(self, X, y, X_val=None, y_val=None):\n",
    "        #最適化手法のインスタンス化\n",
    "        optimizer = SGD(self.lr)\n",
    "        initializer = SimpleInitializer()\n",
    "        #層の数、各層の特徴数（インプット＆アウトプット）、初期値設定、最適化手法、活性化関数の種類を設定\n",
    "        self.FC1 = FC(self.n_features, self.n_nodes1, initializer, optimizer)\n",
    "        self.activation1 = tanh()\n",
    "        self.FC2 = FC(self.n_nodes1, self.n_nodes2, initializer, optimizer)\n",
    "        self.activation2 = tanh()\n",
    "        self.FC3 = FC(self.n_nodes2, self.n_output, initializer, optimizer)\n",
    "        self.activation3 = softmax()\n",
    "\n",
    "        #ミニバッチ２０で学習\n",
    "        self.X = X\n",
    "        self.y = y\n",
    "        self.X_val = X_val\n",
    "        self.y_val = y_val\n",
    "        get_mini_batch = GetMiniBatch(self.X, self.y, batch_size=20)\n",
    "        self.z_all = np.empty((0, 10),dtype=np.float)\n",
    "        for i in range(self.num_iter):\n",
    "            for mini_X_train, mini_y_train in get_mini_batch:\n",
    "        # フォワードプロパゲーション\n",
    "                A1 = self.FC1.forward(mini_X_train)\n",
    "                Z1 = self.activation1.forward(A1)\n",
    "                A2 = self.FC2.forward(Z1)\n",
    "                Z2 = self.activation2.forward(A2)\n",
    "                A3 = self.FC3.forward(Z2)\n",
    "                Z3 = self.activation3.forward(A3)\n",
    "                self.Z3 = Z3\n",
    "        # バックプロパゲーション\n",
    "                dA3 = self.activation3.backward(Z3, mini_y_train) # 交差エントロピー誤差とソフトマックスを合わせている\n",
    "                dZ2 = self.FC3.backward(dA3)\n",
    "                dA2 = self.activation2.backward(dZ2)\n",
    "                dZ1 = self.FC2.backward(dA2)\n",
    "                dA1 = self.activation1.backward(dZ1)\n",
    "                dZ0 = self.FC1.backward(dA1) # dZ0は使用しない\n",
    "            self.loss_entropy(mini_y_train)\n",
    "            #フィット後のB、Wを抜き出す\n",
    "            self.B1 = self.FC1.B\n",
    "            self.B2 = self.FC2.B\n",
    "            self.B3 = self.FC3.B\n",
    "            \n",
    "            self.W1 = self.FC1.W\n",
    "            self.W2 = self.FC2.W\n",
    "            self.W3 = self.FC3.W\n",
    "            self.val_loss_entropy()\n",
    "                \n",
    "        if self.verbose:\n",
    "            #verboseをTrueにした際は学習過程などを出力する\n",
    "            print()\n",
    "        pass\n",
    "\n",
    "    def loss_entropy(self,y_train_batch):\n",
    "        self.loss = -1/self.Z3.shape[0]*(y_train_batch*(np.log(self.Z3))).sum()  \n",
    "        self.rec_loss.append(self.loss)\n",
    "        \n",
    "    def val_loss_entropy(self):\n",
    "        self.a1 = self.X_val@self.W1 + self.B1\n",
    "        self.z1 = np.tanh(self.a1)\n",
    "        self.a2 = self.z1@self.W2 + self.B2\n",
    "        self.z2 = np.tanh(self.a2)\n",
    "        self.a3 = self.z2@self.W3 + self.B3\n",
    "        self.z3 = self.activation3.forward(self.a3)        \n",
    "        self.val_loss = -1/self.z3.shape[0]*(self.y_val*(np.log(self.z3))).sum()  \n",
    "        self.rec_val_loss.append(self.val_loss)\n",
    "        \n",
    "    def predict(self, X_test):\n",
    "        z_all = np.empty((0, 10),dtype=np.float)\n",
    "#         print(z_all.shape)\n",
    "        self.a1 = X_test@self.W1 + self.B1\n",
    "        self.z1 = np.tanh(self.a1)\n",
    "        self.a2 = self.z1@self.W2 + self.B2\n",
    "        self.z2 = np.tanh(self.a2)\n",
    "        self.a3 = self.z2@self.W3 + self.B3\n",
    "        self.z3 = self.activation3.forward(self.a3)\n",
    "        z_all = np.concatenate([z_all,self.z3])\n",
    "        z_all_index = np.argmax(z_all, axis=1)\n",
    "        \n",
    "        pass\n",
    "        return z_all, z_all_index"
   ]
  },
  {
   "cell_type": "markdown",
   "metadata": {},
   "source": [
    "# 【問題9】学習と推定"
   ]
  },
  {
   "cell_type": "code",
   "execution_count": 20,
   "metadata": {},
   "outputs": [
    {
     "name": "stdout",
     "output_type": "stream",
     "text": [
      "\n"
     ]
    }
   ],
   "source": [
    "clf = ScratchDeepNeuralNetrowkClassifier()\n",
    "clf.fit(X_train_1, y_train_1, X_val, y_val)"
   ]
  },
  {
   "cell_type": "code",
   "execution_count": 21,
   "metadata": {},
   "outputs": [
    {
     "name": "stdout",
     "output_type": "stream",
     "text": [
      "[2.3016512100421793, 2.2991527824842577, 2.2885952896914405, 2.112848832289084, 1.3393671512955017, 1.0011520190063543, 0.6156927546372618, 0.4678982434438845, 0.3672678768394383, 0.3094300725882038, 0.2577675974170707, 0.20957128049826967, 0.14230013130323574, 0.07132874524723777, 0.10291123600546073]\n"
     ]
    }
   ],
   "source": [
    "print(clf.rec_loss)"
   ]
  },
  {
   "cell_type": "code",
   "execution_count": 22,
   "metadata": {},
   "outputs": [
    {
     "name": "stdout",
     "output_type": "stream",
     "text": [
      "[2.301581891364243, 2.2993121043028597, 2.2891398120809088, 2.107787639060137, 1.4467625996457478, 1.1084301152754574, 0.8386655499107034, 0.7473751007183596, 0.7104447942922433, 0.7597404280838187, 0.8141228832236652, 0.8233749397769218, 0.7715722306971743, 0.7398920224572028, 0.7855185798432531]\n"
     ]
    }
   ],
   "source": [
    "print(clf.rec_val_loss)"
   ]
  },
  {
   "cell_type": "code",
   "execution_count": 23,
   "metadata": {},
   "outputs": [
    {
     "data": {
      "image/png": "[encoded data removed]",
      "text/plain": [
       "<Figure size 432x288 with 1 Axes>"
      ]
     },
     "metadata": {
      "needs_background": "light"
     },
     "output_type": "display_data"
    }
   ],
   "source": [
    "plt.title('LOSS,val_LOSS')\n",
    "plt.xlabel('iter')\n",
    "plt.ylabel('loss')\n",
    "\n",
    "plt.plot(range(1,16), clf.rec_loss)\n",
    "plt.plot(range(1,16), clf.rec_val_loss)\n",
    "legend_info = ('loss', 'val_loss')\n",
    "plt.legend(legend_info, loc=(0.7, 0.7), labelspacing=0.1, fontsize='large')\n",
    "plt.show()"
   ]
  },
  {
   "cell_type": "code",
   "execution_count": 24,
   "metadata": {},
   "outputs": [
    {
     "name": "stdout",
     "output_type": "stream",
     "text": [
      "学習結果0.8079124579124579\n"
     ]
    }
   ],
   "source": [
    "y_pred,y_pred_index  = clf.predict(X_val)\n",
    "print(\"学習結果\" + str(metrics.accuracy_score(np.argmax(y_val, axis = 1), y_pred_index)))"
   ]
  },
  {
   "cell_type": "code",
   "execution_count": 25,
   "metadata": {},
   "outputs": [
    {
     "name": "stdout",
     "output_type": "stream",
     "text": [
      "(48000, 784)\n",
      "(12000, 784)\n",
      "(48000, 10)\n"
     ]
    }
   ],
   "source": [
    "X_train_1, X_val, y_train_1, y_val = train_test_split(X_train, y_train_one_hot, test_size=0.2)\n",
    "print(X_train_1.shape) # (48000, 784)\n",
    "print(X_val.shape) # (12000, 784)\n",
    "print(y_train_1.shape)"
   ]
  },
  {
   "cell_type": "code",
   "execution_count": 26,
   "metadata": {},
   "outputs": [
    {
     "name": "stdout",
     "output_type": "stream",
     "text": [
      "\n"
     ]
    }
   ],
   "source": [
    "clf = ScratchDeepNeuralNetrowkClassifier()\n",
    "clf.fit(X_train_1, y_train_1, X_val, y_val)"
   ]
  },
  {
   "cell_type": "code",
   "execution_count": 27,
   "metadata": {},
   "outputs": [
    {
     "name": "stdout",
     "output_type": "stream",
     "text": [
      "[0.25740348522324197, 0.19890010139432032, 0.08156610631624861, 0.020993917330383693, 0.01574470360324756, 0.0020434358540482598, 0.0008985413230023174, 0.0014166209776131547, 0.0003816537356856713, 0.0006251875948896464, 0.0004889119964484057, 6.34775199097234e-05, 4.430943439943689e-05, 2.9026969142040544e-05, 1.5119000779179442e-05]\n",
      "[0.25592991169379004, 0.15924097186595798, 0.12154213052921697, 0.11484436879446704, 0.10626386895663627, 0.10653604655818617, 0.10916243992957442, 0.10407219964798436, 0.11414594523293355, 0.11390345605301176, 0.10532995177602868, 0.10068949411729443, 0.09689410987294779, 0.09920793467389064, 0.09681124012061261]\n"
     ]
    },
    {
     "data": {
      "image/png": "[encoded data removed]",
      "text/plain": [
       "<Figure size 432x288 with 1 Axes>"
      ]
     },
     "metadata": {
      "needs_background": "light"
     },
     "output_type": "display_data"
    }
   ],
   "source": [
    "print(clf.rec_loss)\n",
    "print(clf.rec_val_loss)\n",
    "plt.title('LOSS,val_LOSS')\n",
    "plt.xlabel('iter')\n",
    "plt.ylabel('loss')\n",
    "\n",
    "plt.plot(range(1,16), clf.rec_loss)\n",
    "plt.plot(range(1,16), clf.rec_val_loss)\n",
    "legend_info = ('loss', 'val_loss')\n",
    "plt.legend(legend_info, loc=(0.7, 0.7), labelspacing=0.1, fontsize='large')\n",
    "plt.show()"
   ]
  },
  {
   "cell_type": "code",
   "execution_count": 28,
   "metadata": {},
   "outputs": [
    {
     "name": "stdout",
     "output_type": "stream",
     "text": [
      "学習結果0.9779166666666667\n"
     ]
    }
   ],
   "source": [
    "y_pred,y_pred_index  = clf.predict(X_val)\n",
    "print(\"学習結果\" + str(metrics.accuracy_score(np.argmax(y_val, axis = 1), y_pred_index)))"
   ]
  },
  {
   "cell_type": "code",
   "execution_count": 29,
   "metadata": {},
   "outputs": [
    {
     "name": "stdout",
     "output_type": "stream",
     "text": [
      "(600, 784)\n",
      "(59400, 784)\n",
      "(600, 10)\n"
     ]
    }
   ],
   "source": [
    "X_train_1, X_val, y_train_1, y_val = train_test_split(X_train, y_train_one_hot, test_size=0.99)\n",
    "print(X_train_1.shape) # (48000, 784)\n",
    "print(X_val.shape) # (12000, 784)\n",
    "print(y_train_1.shape)"
   ]
  },
  {
   "cell_type": "code",
   "execution_count": 30,
   "metadata": {},
   "outputs": [],
   "source": [
    "# 初期化方法変更(ザビエル)"
   ]
  },
  {
   "cell_type": "code",
   "execution_count": 31,
   "metadata": {},
   "outputs": [],
   "source": [
    "class ScratchDeepNeuralNetrowkClassifier():\n",
    "\n",
    "    def __init__(self,num_iter = 15,lr = 0.01, verbose = True):\n",
    "        self.verbose = verbose\n",
    "        self.num_iter = num_iter\n",
    "        self.lr = lr\n",
    "        self.verbose = verbose\n",
    "        self.n_features = 784\n",
    "        self.n_nodes1 = 400\n",
    "        self.n_nodes2 = 200\n",
    "        self.n_output = 10\n",
    "        self.alpha = 0.001\n",
    "        self.rec_loss = [] \n",
    "        self.rec_val_loss = []         \n",
    "        \n",
    "        pass\n",
    "    def fit(self, X, y, X_val=None, y_val=None):\n",
    "        #最適化手法のインスタンス化\n",
    "        optimizer = SGD(self.lr)\n",
    "        initializer1 = Initializer_Xa(self.n_features)\n",
    "        initializer2 = Initializer_Xa(self.n_nodes1)\n",
    "        initializer3 = Initializer_Xa(self.n_nodes2)\n",
    "        #層の数、各層の特徴数（インプット＆アウトプット）、初期値設定、最適化手法、活性化関数の種類を設定\n",
    "        self.FC1 = FC(self.n_features, self.n_nodes1, initializer1, optimizer)\n",
    "        self.activation1 = tanh()\n",
    "        self.FC2 = FC(self.n_nodes1, self.n_nodes2, initializer2, optimizer)\n",
    "        self.activation2 = tanh()\n",
    "        self.FC3 = FC(self.n_nodes2, self.n_output, initializer3, optimizer)\n",
    "        self.activation3 = softmax()\n",
    "\n",
    "        #ミニバッチ２０で学習\n",
    "        self.X = X\n",
    "        self.y = y\n",
    "        self.X_val = X_val\n",
    "        self.y_val = y_val\n",
    "        get_mini_batch = GetMiniBatch(self.X, self.y, batch_size=20)\n",
    "        self.z_all = np.empty((0, 10),dtype=np.float)\n",
    "        for i in range(self.num_iter):\n",
    "            for mini_X_train, mini_y_train in get_mini_batch:\n",
    "        # フォワードプロパゲーション\n",
    "                A1 = self.FC1.forward(mini_X_train)\n",
    "                Z1 = self.activation1.forward(A1)\n",
    "                A2 = self.FC2.forward(Z1)\n",
    "                Z2 = self.activation2.forward(A2)\n",
    "                A3 = self.FC3.forward(Z2)\n",
    "                Z3 = self.activation3.forward(A3)\n",
    "                self.Z3 = Z3\n",
    "        # バックプロパゲーション\n",
    "                dA3 = self.activation3.backward(Z3, mini_y_train) # 交差エントロピー誤差とソフトマックスを合わせている\n",
    "                dZ2 = self.FC3.backward(dA3)\n",
    "                dA2 = self.activation2.backward(dZ2)\n",
    "                dZ1 = self.FC2.backward(dA2)\n",
    "                dA1 = self.activation1.backward(dZ1)\n",
    "                dZ0 = self.FC1.backward(dA1) # dZ0は使用しない\n",
    "            self.loss_entropy(mini_y_train)\n",
    "            #フィット後のB、Wを抜き出す\n",
    "            self.B1 = self.FC1.B\n",
    "            self.B2 = self.FC2.B\n",
    "            self.B3 = self.FC3.B\n",
    "            \n",
    "            self.W1 = self.FC1.W\n",
    "            self.W2 = self.FC2.W\n",
    "            self.W3 = self.FC3.W\n",
    "            self.val_loss_entropy()\n",
    "                \n",
    "        if self.verbose:\n",
    "            #verboseをTrueにした際は学習過程などを出力する\n",
    "            print()\n",
    "        pass\n",
    "\n",
    "    def loss_entropy(self,y_train_batch):\n",
    "        self.loss = -1/self.Z3.shape[0]*(y_train_batch*(np.log(self.Z3))).sum()  \n",
    "        self.rec_loss.append(self.loss)\n",
    "        \n",
    "    def val_loss_entropy(self):\n",
    "        self.a1 = self.X_val@self.W1 + self.B1\n",
    "        self.z1 = np.tanh(self.a1)\n",
    "        self.a2 = self.z1@self.W2 + self.B2\n",
    "        self.z2 = np.tanh(self.a2)\n",
    "        self.a3 = self.z2@self.W3 + self.B3\n",
    "        self.z3 = self.activation3.forward(self.a3)        \n",
    "        self.val_loss = -1/self.z3.shape[0]*(self.y_val*(np.log(self.z3))).sum()  \n",
    "        self.rec_val_loss.append(self.val_loss)\n",
    "        \n",
    "    def predict(self, X_test):\n",
    "        z_all = np.empty((0, 10),dtype=np.float)\n",
    "#         print(z_all.shape)\n",
    "        self.a1 = X_test@self.W1 + self.B1\n",
    "        self.z1 = np.tanh(self.a1)\n",
    "        self.a2 = self.z1@self.W2 + self.B2\n",
    "        self.z2 = np.tanh(self.a2)\n",
    "        self.a3 = self.z2@self.W3 + self.B3\n",
    "        self.z3 = self.activation3.forward(self.a3)\n",
    "        z_all = np.concatenate([z_all,self.z3])\n",
    "        z_all_index = np.argmax(z_all, axis=1)\n",
    "        \n",
    "        pass\n",
    "        return z_all, z_all_index"
   ]
  },
  {
   "cell_type": "code",
   "execution_count": 32,
   "metadata": {},
   "outputs": [
    {
     "name": "stdout",
     "output_type": "stream",
     "text": [
      "\n"
     ]
    }
   ],
   "source": [
    "clf = ScratchDeepNeuralNetrowkClassifier()\n",
    "clf.fit(X_train_1, y_train_1, X_val, y_val)"
   ]
  },
  {
   "cell_type": "code",
   "execution_count": 33,
   "metadata": {},
   "outputs": [
    {
     "name": "stdout",
     "output_type": "stream",
     "text": [
      "[2.301463980829183, 2.2994601777659116, 2.2913819366862023, 2.227762253117329, 1.5345967045028894, 1.0967754545437363, 0.7551543681735592, 0.5431374526717153, 0.44163524782848285, 0.38046579854658413, 0.3190298656089002, 0.25404517792281955, 0.21653451623435585, 0.1838529120520377, 0.17481123253827227]\n",
      "[2.301452778458543, 2.2988915684061704, 2.2854989325745207, 1.9773341096774308, 1.451402759880878, 1.0910108146777457, 0.9392361387824004, 0.8456730986399714, 0.8267739198222858, 0.8285423490519948, 0.8467108588694485, 0.8784436204342785, 0.8924454089617898, 0.8920761114186395, 0.9511460284454746]\n"
     ]
    },
    {
     "data": {
      "image/png": "[encoded data removed]",
      "text/plain": [
       "<Figure size 432x288 with 1 Axes>"
      ]
     },
     "metadata": {
      "needs_background": "light"
     },
     "output_type": "display_data"
    }
   ],
   "source": [
    "print(clf.rec_loss)\n",
    "print(clf.rec_val_loss)\n",
    "plt.title('LOSS,val_LOSS')\n",
    "plt.xlabel('iter')\n",
    "plt.ylabel('loss')\n",
    "\n",
    "plt.plot(range(1,16), clf.rec_loss)\n",
    "plt.plot(range(1,16), clf.rec_val_loss)\n",
    "legend_info = ('loss', 'val_loss')\n",
    "plt.legend(legend_info, loc=(0.7, 0.7), labelspacing=0.1, fontsize='large')\n",
    "plt.show()"
   ]
  },
  {
   "cell_type": "code",
   "execution_count": 34,
   "metadata": {},
   "outputs": [],
   "source": [
    "# 初期化方法変更(フー)"
   ]
  },
  {
   "cell_type": "code",
   "execution_count": 35,
   "metadata": {},
   "outputs": [],
   "source": [
    "class ScratchDeepNeuralNetrowkClassifier():\n",
    "\n",
    "    def __init__(self,num_iter = 15,lr = 0.01, verbose = True):\n",
    "        self.verbose = verbose\n",
    "        self.num_iter = num_iter\n",
    "        self.lr = lr\n",
    "        self.verbose = verbose\n",
    "        self.n_features = 784\n",
    "        self.n_nodes1 = 400\n",
    "        self.n_nodes2 = 200\n",
    "        self.n_output = 10\n",
    "        self.alpha = 0.001\n",
    "        self.rec_loss = [] \n",
    "        self.rec_val_loss = []         \n",
    "        \n",
    "        pass\n",
    "    def fit(self, X, y, X_val=None, y_val=None):\n",
    "        #最適化手法のインスタンス化\n",
    "        optimizer = SGD(self.lr)\n",
    "        initializer1 = Initializer_He(self.n_features)\n",
    "        initializer2 = Initializer_He(self.n_nodes1)\n",
    "        initializer3 = Initializer_He(self.n_nodes2)\n",
    "        #層の数、各層の特徴数（インプット＆アウトプット）、初期値設定、最適化手法、活性化関数の種類を設定\n",
    "        self.FC1 = FC(self.n_features, self.n_nodes1, initializer1, optimizer)\n",
    "        self.activation1 = tanh()\n",
    "        self.FC2 = FC(self.n_nodes1, self.n_nodes2, initializer2, optimizer)\n",
    "        self.activation2 = tanh()\n",
    "        self.FC3 = FC(self.n_nodes2, self.n_output, initializer3, optimizer)\n",
    "        self.activation3 = softmax()\n",
    "\n",
    "        #ミニバッチ２０で学習\n",
    "        self.X = X\n",
    "        self.y = y\n",
    "        self.X_val = X_val\n",
    "        self.y_val = y_val\n",
    "        get_mini_batch = GetMiniBatch(self.X, self.y, batch_size=20)\n",
    "        self.z_all = np.empty((0, 10),dtype=np.float)\n",
    "        for i in range(self.num_iter):\n",
    "            for mini_X_train, mini_y_train in get_mini_batch:\n",
    "        # フォワードプロパゲーション\n",
    "                A1 = self.FC1.forward(mini_X_train)\n",
    "                Z1 = self.activation1.forward(A1)\n",
    "                A2 = self.FC2.forward(Z1)\n",
    "                Z2 = self.activation2.forward(A2)\n",
    "                A3 = self.FC3.forward(Z2)\n",
    "                Z3 = self.activation3.forward(A3)\n",
    "                self.Z3 = Z3\n",
    "        # バックプロパゲーション\n",
    "                dA3 = self.activation3.backward(Z3, mini_y_train) # 交差エントロピー誤差とソフトマックスを合わせている\n",
    "                dZ2 = self.FC3.backward(dA3)\n",
    "                dA2 = self.activation2.backward(dZ2)\n",
    "                dZ1 = self.FC2.backward(dA2)\n",
    "                dA1 = self.activation1.backward(dZ1)\n",
    "                dZ0 = self.FC1.backward(dA1) # dZ0は使用しない\n",
    "            self.loss_entropy(mini_y_train)\n",
    "            #フィット後のB、Wを抜き出す\n",
    "            self.B1 = self.FC1.B\n",
    "            self.B2 = self.FC2.B\n",
    "            self.B3 = self.FC3.B\n",
    "            \n",
    "            self.W1 = self.FC1.W\n",
    "            self.W2 = self.FC2.W\n",
    "            self.W3 = self.FC3.W\n",
    "            self.val_loss_entropy()\n",
    "                \n",
    "        if self.verbose:\n",
    "            #verboseをTrueにした際は学習過程などを出力する\n",
    "            print()\n",
    "        pass\n",
    "\n",
    "    def loss_entropy(self,y_train_batch):\n",
    "        self.loss = -1/self.Z3.shape[0]*(y_train_batch*(np.log(self.Z3))).sum()  \n",
    "        self.rec_loss.append(self.loss)\n",
    "        \n",
    "    def val_loss_entropy(self):\n",
    "        self.a1 = self.X_val@self.W1 + self.B1\n",
    "        self.z1 = np.tanh(self.a1)\n",
    "        self.a2 = self.z1@self.W2 + self.B2\n",
    "        self.z2 = np.tanh(self.a2)\n",
    "        self.a3 = self.z2@self.W3 + self.B3\n",
    "        self.z3 = self.activation3.forward(self.a3)        \n",
    "        self.val_loss = -1/self.z3.shape[0]*(self.y_val*(np.log(self.z3))).sum()  \n",
    "        self.rec_val_loss.append(self.val_loss)\n",
    "        \n",
    "    def predict(self, X_test):\n",
    "        z_all = np.empty((0, 10),dtype=np.float)\n",
    "#         print(z_all.shape)\n",
    "        self.a1 = X_test@self.W1 + self.B1\n",
    "        self.z1 = np.tanh(self.a1)\n",
    "        self.a2 = self.z1@self.W2 + self.B2\n",
    "        self.z2 = np.tanh(self.a2)\n",
    "        self.a3 = self.z2@self.W3 + self.B3\n",
    "        self.z3 = self.activation3.forward(self.a3)\n",
    "        z_all = np.concatenate([z_all,self.z3])\n",
    "        z_all_index = np.argmax(z_all, axis=1)\n",
    "        \n",
    "        pass\n",
    "        return z_all, z_all_index"
   ]
  },
  {
   "cell_type": "code",
   "execution_count": 36,
   "metadata": {},
   "outputs": [
    {
     "name": "stdout",
     "output_type": "stream",
     "text": [
      "\n"
     ]
    }
   ],
   "source": [
    "clf = ScratchDeepNeuralNetrowkClassifier()\n",
    "clf.fit(X_train_1, y_train_1, X_val, y_val)"
   ]
  },
  {
   "cell_type": "code",
   "execution_count": 37,
   "metadata": {},
   "outputs": [
    {
     "name": "stdout",
     "output_type": "stream",
     "text": [
      "[2.30216201394188, 2.300588107435069, 2.2944931886421376, 2.211690886137229, 1.6004023977659185, 1.1725633483713929, 0.7963963702890141, 0.5626797887887799, 0.4532384152096368, 0.3806792616695792, 0.3289472184086247, 0.2760249938220933, 0.22933213531560936, 0.20835665435347794, 0.152462097413132]\n",
      "[2.3015363723603697, 2.299203733242859, 2.288085863924507, 2.0613623000313446, 1.4662928765627028, 1.1042269078481468, 0.9386508757832147, 0.8518196891958792, 0.833394984181929, 0.8502572244539374, 0.8645582851152697, 0.9229972237172354, 0.9102900703460286, 0.9306533643945967, 0.9309420623612036]\n"
     ]
    },
    {
     "data": {
      "image/png": "[encoded data removed]",
      "text/plain": [
       "<Figure size 432x288 with 1 Axes>"
      ]
     },
     "metadata": {
      "needs_background": "light"
     },
     "output_type": "display_data"
    }
   ],
   "source": [
    "print(clf.rec_loss)\n",
    "print(clf.rec_val_loss)\n",
    "plt.title('LOSS,val_LOSS')\n",
    "plt.xlabel('iter')\n",
    "plt.ylabel('loss')\n",
    "\n",
    "plt.plot(range(1,16), clf.rec_loss)\n",
    "plt.plot(range(1,16), clf.rec_val_loss)\n",
    "legend_info = ('loss', 'val_loss')\n",
    "plt.legend(legend_info, loc=(0.7, 0.7), labelspacing=0.1, fontsize='large')\n",
    "plt.show()"
   ]
  },
  {
   "cell_type": "code",
   "execution_count": 39,
   "metadata": {},
   "outputs": [],
   "source": [
    "class ScratchDeepNeuralNetrowkClassifier():\n",
    "\n",
    "    def __init__(self,num_iter = 15,lr = 0.01, verbose = True):\n",
    "        self.verbose = verbose\n",
    "        self.num_iter = num_iter\n",
    "        self.lr = lr\n",
    "        self.verbose = verbose\n",
    "        self.n_features = 784\n",
    "        self.n_nodes1 = 400\n",
    "        self.n_nodes2 = 200\n",
    "        self.n_output = 10\n",
    "        self.alpha = 0.001\n",
    "        self.rec_loss = [] \n",
    "        self.rec_val_loss = []         \n",
    "        \n",
    "        pass\n",
    "    def fit(self, X, y, X_val=None, y_val=None):\n",
    "        #最適化手法のインスタンス化\n",
    "        optimizer = SGD(self.lr)\n",
    "        initializer1 = Initializer_He(self.n_features)\n",
    "        initializer2 = Initializer_He(self.n_nodes1)\n",
    "        initializer3 = Initializer_He(self.n_nodes2)\n",
    "        #層の数、各層の特徴数（インプット＆アウトプット）、初期値設定、最適化手法、活性化関数の種類を設定\n",
    "        self.FC1 = FC(self.n_features, self.n_nodes1, initializer1, optimizer)\n",
    "        self.activation1 = tanh()\n",
    "        self.FC2 = FC(self.n_nodes1, self.n_nodes2, initializer2, optimizer)\n",
    "        self.activation2 = tanh()\n",
    "        self.FC3 = FC(self.n_nodes2, self.n_output, initializer3, optimizer)\n",
    "        self.activation3 = softmax()\n",
    "\n",
    "        #ミニバッチ２０で学習\n",
    "        self.X = X\n",
    "        self.y = y\n",
    "        self.X_val = X_val\n",
    "        self.y_val = y_val\n",
    "        get_mini_batch = GetMiniBatch(self.X, self.y, batch_size=20)\n",
    "        self.z_all = np.empty((0, 10),dtype=np.float)\n",
    "        for i in range(self.num_iter):\n",
    "            for mini_X_train, mini_y_train in get_mini_batch:\n",
    "        # フォワードプロパゲーション\n",
    "                A1 = self.FC1.forward(mini_X_train)\n",
    "                Z1 = self.activation1.forward(A1)\n",
    "                A2 = self.FC2.forward(Z1)\n",
    "                Z2 = self.activation2.forward(A2)\n",
    "                A3 = self.FC3.forward(Z2)\n",
    "                Z3 = self.activation3.forward(A3)\n",
    "                self.Z3 = Z3\n",
    "        # バックプロパゲーション\n",
    "                dA3 = self.activation3.backward(Z3, mini_y_train) # 交差エントロピー誤差とソフトマックスを合わせている\n",
    "                dZ2 = self.FC3.backward(dA3)\n",
    "                dA2 = self.activation2.backward(dZ2)\n",
    "                dZ1 = self.FC2.backward(dA2)\n",
    "                dA1 = self.activation1.backward(dZ1)\n",
    "                dZ0 = self.FC1.backward(dA1) # dZ0は使用しない\n",
    "            self.loss_entropy(mini_y_train)\n",
    "            #フィット後のB、Wを抜き出す\n",
    "            self.B1 = self.FC1.B\n",
    "            self.B2 = self.FC2.B\n",
    "            self.B3 = self.FC3.B\n",
    "            \n",
    "            self.W1 = self.FC1.W\n",
    "            self.W2 = self.FC2.W\n",
    "            self.W3 = self.FC3.W\n",
    "            self.val_loss_entropy()\n",
    "\n",
    "        if self.verbose:\n",
    "            #verboseをTrueにした際は学習過程などを出力する\n",
    "            print()\n",
    "        pass\n",
    "\n",
    "    def loss_entropy(self,y_train_batch):\n",
    "        self.loss = -1/self.Z3.shape[0]*(y_train_batch*(np.log(self.Z3))).sum()  \n",
    "        self.rec_loss.append(self.loss)\n",
    "        \n",
    "    def val_loss_entropy(self):\n",
    "        self.a1 = self.X_val@self.W1 + self.B1\n",
    "        self.z1 = self.activation1.forward(self.a1)\n",
    "        self.a2 = self.z1@self.W2 + self.B2\n",
    "        self.z2 = self.activation2.forward(self.a2)\n",
    "        self.a3 = self.z2@self.W3 + self.B3\n",
    "        self.z3 = self.activation3.forward(self.a3)        \n",
    "        self.val_loss = -1/self.z3.shape[0]*(self.y_val*(np.log(self.z3))).sum()  \n",
    "        self.rec_val_loss.append(self.val_loss)\n",
    "        \n",
    "    def predict(self, X_test):\n",
    "        z_all = np.empty((0, 10),dtype=np.float)\n",
    "#         print(z_all.shape)\n",
    "        self.a1 = X_test@self.W1 + self.B1\n",
    "        self.z1 = self.activation1.forward(self.a1)\n",
    "        self.a2 = self.z1@self.W2 + self.B2\n",
    "        self.z2 = self.activation2.forward(self.a2)\n",
    "        self.a3 = self.z2@self.W3 + self.B3\n",
    "        self.z3 = self.activation3.forward(self.a3)\n",
    "        z_all = np.concatenate([z_all,self.z3])\n",
    "        z_all_index = np.argmax(z_all, axis=1)\n",
    "        \n",
    "        pass\n",
    "        return z_all, z_all_index"
   ]
  },
  {
   "cell_type": "code",
   "execution_count": 40,
   "metadata": {},
   "outputs": [
    {
     "name": "stdout",
     "output_type": "stream",
     "text": [
      "\n"
     ]
    }
   ],
   "source": [
    "clf = ScratchDeepNeuralNetrowkClassifier()\n",
    "clf.fit(X_train_1, y_train_1, X_val, y_val)"
   ]
  },
  {
   "cell_type": "code",
   "execution_count": 41,
   "metadata": {},
   "outputs": [
    {
     "name": "stdout",
     "output_type": "stream",
     "text": [
      "[2.30216201394188, 2.300588107435069, 2.2944931886421376, 2.211690886137229, 1.6004023977659185, 1.1725633483713929, 0.7963963702890141, 0.5626797887887799, 0.4532384152096368, 0.3806792616695792, 0.3289472184086247, 0.2760249938220933, 0.22933213531560936, 0.20835665435347794, 0.152462097413132]\n",
      "[2.3015363723603697, 2.299203733242859, 2.288085863924507, 2.0613623000313446, 1.4662928765627028, 1.1042269078481468, 0.9386508757832147, 0.8518196891958792, 0.833394984181929, 0.8502572244539374, 0.8645582851152697, 0.9229972237172354, 0.9102900703460286, 0.9306533643945967, 0.9309420623612036]\n"
     ]
    },
    {
     "data": {
      "image/png": "[encoded data removed]",
      "text/plain": [
       "<Figure size 432x288 with 1 Axes>"
      ]
     },
     "metadata": {
      "needs_background": "light"
     },
     "output_type": "display_data"
    }
   ],
   "source": [
    "print(clf.rec_loss)\n",
    "print(clf.rec_val_loss)\n",
    "plt.title('LOSS,val_LOSS')\n",
    "plt.xlabel('iter')\n",
    "plt.ylabel('loss')\n",
    "\n",
    "plt.plot(range(1,16), clf.rec_loss)\n",
    "plt.plot(range(1,16), clf.rec_val_loss)\n",
    "legend_info = ('loss', 'val_loss')\n",
    "plt.legend(legend_info, loc=(0.7, 0.7), labelspacing=0.1, fontsize='large')\n",
    "plt.show()"
   ]
  },
  {
   "cell_type": "code",
   "execution_count": 42,
   "metadata": {},
   "outputs": [
    {
     "name": "stdout",
     "output_type": "stream",
     "text": [
      "学習結果0.7628114478114478\n"
     ]
    }
   ],
   "source": [
    "y_pred,y_pred_index  = clf.predict(X_val)\n",
    "print(\"学習結果\" + str(metrics.accuracy_score(np.argmax(y_val, axis = 1), y_pred_index)))"
   ]
  },
  {
   "cell_type": "code",
   "execution_count": 44,
   "metadata": {},
   "outputs": [],
   "source": [
    "# 初期化方法変更(フー、活性化関数RELU)"
   ]
  },
  {
   "cell_type": "code",
   "execution_count": 45,
   "metadata": {},
   "outputs": [],
   "source": [
    "class ScratchDeepNeuralNetrowkClassifier():\n",
    "\n",
    "    def __init__(self,num_iter = 15,lr = 0.01, verbose = True):\n",
    "        self.verbose = verbose\n",
    "        self.num_iter = num_iter\n",
    "        self.lr = lr\n",
    "        self.verbose = verbose\n",
    "        self.n_features = 784\n",
    "        self.n_nodes1 = 400\n",
    "        self.n_nodes2 = 200\n",
    "        self.n_output = 10\n",
    "        self.alpha = 0.01\n",
    "        self.rec_loss = [] \n",
    "        self.rec_val_loss = []         \n",
    "        \n",
    "        pass\n",
    "    def fit(self, X, y, X_val=None, y_val=None):\n",
    "        #最適化手法のインスタンス化\n",
    "        optimizer = SGD(self.lr)\n",
    "        initializer1 = Initializer_He(self.n_features)\n",
    "        initializer2 = Initializer_He(self.n_nodes1)\n",
    "        initializer3 = Initializer_He(self.n_nodes2)\n",
    "        #層の数、各層の特徴数（インプット＆アウトプット）、初期値設定、最適化手法、活性化関数の種類を設定\n",
    "        self.FC1 = FC(self.n_features, self.n_nodes1, initializer1, optimizer)\n",
    "        self.activation1 = sc_relu()\n",
    "        self.FC2 = FC(self.n_nodes1, self.n_nodes2, initializer2, optimizer)\n",
    "        self.activation2 = sc_relu()\n",
    "        self.FC3 = FC(self.n_nodes2, self.n_output, initializer3, optimizer)\n",
    "        self.activation3 = softmax()\n",
    "\n",
    "        #ミニバッチ２０で学習\n",
    "        self.X = X\n",
    "        self.y = y\n",
    "        self.X_val = X_val\n",
    "        self.y_val = y_val\n",
    "        get_mini_batch = GetMiniBatch(self.X, self.y, batch_size=20)\n",
    "        self.z_all = np.empty((0, 10),dtype=np.float)\n",
    "        for i in range(self.num_iter):\n",
    "            for mini_X_train, mini_y_train in get_mini_batch:\n",
    "        # フォワードプロパゲーション\n",
    "                A1 = self.FC1.forward(mini_X_train)\n",
    "                Z1 = self.activation1.forward(A1)\n",
    "                A2 = self.FC2.forward(Z1)\n",
    "                Z2 = self.activation2.forward(A2)\n",
    "                A3 = self.FC3.forward(Z2)\n",
    "                Z3 = self.activation3.forward(A3)\n",
    "                self.Z3 = Z3\n",
    "        # バックプロパゲーション\n",
    "                dA3 = self.activation3.backward(Z3, mini_y_train) # 交差エントロピー誤差とソフトマックスを合わせている\n",
    "                dZ2 = self.FC3.backward(dA3)\n",
    "                dA2 = self.activation2.backward(dZ2)\n",
    "                dZ1 = self.FC2.backward(dA2)\n",
    "                dA1 = self.activation1.backward(dZ1)\n",
    "                dZ0 = self.FC1.backward(dA1) # dZ0は使用しない\n",
    "            self.loss_entropy(mini_y_train)\n",
    "            #フィット後のB、Wを抜き出す\n",
    "            self.B1 = self.FC1.B\n",
    "            self.B2 = self.FC2.B\n",
    "            self.B3 = self.FC3.B\n",
    "#             print(self.B1.shape)\n",
    "#             print(self.B2.shape)\n",
    "#             print(self.B3.shape)\n",
    "            \n",
    "            self.W1 = self.FC1.W\n",
    "            self.W2 = self.FC2.W\n",
    "            self.W3 = self.FC3.W\n",
    "            self.val_loss_entropy()\n",
    "\n",
    "        if self.verbose:\n",
    "            #verboseをTrueにした際は学習過程などを出力する\n",
    "            print()\n",
    "        pass\n",
    "\n",
    "    def loss_entropy(self,y_train_batch):\n",
    "        self.loss = -1/self.Z3.shape[0]*(y_train_batch*(np.log(self.Z3))).sum()  \n",
    "        self.rec_loss.append(self.loss)\n",
    "        \n",
    "    def val_loss_entropy(self):\n",
    "        self.a1 = self.X_val@self.W1 + self.B1\n",
    "        self.z1 = self.activation1.forward(self.a1)\n",
    "        self.a2 = self.z1@self.W2 + self.B2\n",
    "        self.z2 = self.activation2.forward(self.a2)\n",
    "        self.a3 = self.z2@self.W3 + self.B3\n",
    "        self.z3 = self.activation3.forward(self.a3)        \n",
    "        self.val_loss = -1/self.z3.shape[0]*(self.y_val*(np.log(self.z3))).sum()  \n",
    "        self.rec_val_loss.append(self.val_loss)\n",
    "        \n",
    "    def predict(self, X_test):\n",
    "        z_all = np.empty((0, 10),dtype=np.float)\n",
    "#         print(z_all.shape)\n",
    "        self.a1 = X_test@self.W1 + self.B1\n",
    "        self.z1 = self.activation1.forward(self.a1)\n",
    "        self.a2 = self.z1@self.W2 + self.B2\n",
    "        self.z2 = self.activation2.forward(self.a2)\n",
    "        self.a3 = self.z2@self.W3 + self.B3\n",
    "        self.z3 = self.activation3.forward(self.a3)\n",
    "        z_all = np.concatenate([z_all,self.z3])\n",
    "        z_all_index = np.argmax(z_all, axis=1)\n",
    "        \n",
    "        pass\n",
    "        return z_all, z_all_index"
   ]
  },
  {
   "cell_type": "code",
   "execution_count": 46,
   "metadata": {},
   "outputs": [
    {
     "name": "stdout",
     "output_type": "stream",
     "text": [
      "\n"
     ]
    }
   ],
   "source": [
    "clf = ScratchDeepNeuralNetrowkClassifier()\n",
    "clf.fit(X_train_1, y_train_1, X_val, y_val)"
   ]
  },
  {
   "cell_type": "code",
   "execution_count": 47,
   "metadata": {},
   "outputs": [
    {
     "name": "stdout",
     "output_type": "stream",
     "text": [
      "[2.302615043196852, 2.302282705043797, 2.301645807880057, 2.299909401043118, 2.2919552372648946, 2.216882489416712, 2.1990604867441754, 1.4515825525248518, 0.9273211399698623, 0.7470975854727504, 0.6154551090200064, 0.4156212567958096, 0.37201943954171274, 0.32218795108697096, 0.2919798905900685]\n",
      "[2.3022981763284847, 2.3018799880208003, 2.3010133504754458, 2.298533684764317, 2.286850828716222, 2.136196073304509, 2.099158033223404, 1.8236957856418703, 1.1177053050065238, 0.9511401645128629, 0.846339976200058, 0.8618489520739098, 0.8789025835333312, 0.8781152408806966, 0.8103958090422098]\n"
     ]
    },
    {
     "data": {
      "image/png": "[encoded data removed]",
      "text/plain": [
       "<Figure size 432x288 with 1 Axes>"
      ]
     },
     "metadata": {
      "needs_background": "light"
     },
     "output_type": "display_data"
    }
   ],
   "source": [
    "print(clf.rec_loss)\n",
    "print(clf.rec_val_loss)\n",
    "plt.title('LOSS,val_LOSS')\n",
    "plt.xlabel('iter')\n",
    "plt.ylabel('loss')\n",
    "\n",
    "plt.plot(range(1,16), clf.rec_loss)\n",
    "plt.plot(range(1,16), clf.rec_val_loss)\n",
    "legend_info = ('loss', 'val_loss')\n",
    "plt.legend(legend_info, loc=(0.7, 0.7), labelspacing=0.1, fontsize='large')\n",
    "plt.show()"
   ]
  },
  {
   "cell_type": "code",
   "execution_count": 48,
   "metadata": {},
   "outputs": [
    {
     "name": "stdout",
     "output_type": "stream",
     "text": [
      "学習結果0.7731818181818182\n"
     ]
    }
   ],
   "source": [
    "y_pred,y_pred_index  = clf.predict(X_val)\n",
    "print(\"学習結果\" + str(metrics.accuracy_score(np.argmax(y_val, axis = 1), y_pred_index)))"
   ]
  },
  {
   "cell_type": "markdown",
   "metadata": {},
   "source": [
    "# AdaGrad(ユニーク)"
   ]
  },
  {
   "cell_type": "code",
   "execution_count": 76,
   "metadata": {},
   "outputs": [
    {
     "name": "stdout",
     "output_type": "stream",
     "text": [
      "(600, 784)\n",
      "(59400, 784)\n",
      "(600, 10)\n"
     ]
    }
   ],
   "source": [
    "X_train_1, X_val, y_train_1, y_val = train_test_split(X_train, y_train_one_hot, test_size=0.99)\n",
    "print(X_train_1.shape) # (48000, 784)\n",
    "print(X_val.shape) # (12000, 784)\n",
    "print(y_train_1.shape)"
   ]
  },
  {
   "cell_type": "code",
   "execution_count": 88,
   "metadata": {},
   "outputs": [],
   "source": [
    "class ScratchDeepNeuralNetrowkClassifier():\n",
    "\n",
    "    def __init__(self,num_iter = 15,lr = 0.01, verbose = True):\n",
    "        self.verbose = verbose\n",
    "        self.num_iter = num_iter\n",
    "        self.lr = lr\n",
    "        self.verbose = verbose\n",
    "        self.n_features = 784\n",
    "        self.n_nodes1 = 400\n",
    "        self.n_nodes2 = 200\n",
    "        self.n_output = 10\n",
    "        self.alpha = 0.01\n",
    "        self.rec_loss = [] \n",
    "        self.rec_val_loss = []         \n",
    "        \n",
    "        pass\n",
    "    def fit(self, X, y, X_val=None, y_val=None):\n",
    "        #最適化手法のインスタンス化\n",
    "        optimizer1 = AdaGrad(lr=0.01)\n",
    "        optimizer2 = AdaGrad(lr=0.01)\n",
    "        optimizer3 = AdaGrad(lr=0.01)\n",
    "        initializer1 = Initializer_He(self.n_features)\n",
    "        initializer2 = Initializer_He(self.n_nodes1)\n",
    "        initializer3 = Initializer_He(self.n_nodes2)\n",
    "        #層の数、各層の特徴数（インプット＆アウトプット）、初期値設定、最適化手法、活性化関数の種類を設定\n",
    "        self.FC1 = FC(self.n_features, self.n_nodes1, initializer1, optimizer1)\n",
    "        self.activation1 = sc_relu()\n",
    "        self.FC2 = FC(self.n_nodes1, self.n_nodes2, initializer2, optimizer2)\n",
    "        self.activation2 = sc_relu()\n",
    "        self.FC3 = FC(self.n_nodes2, self.n_output, initializer3, optimizer3)\n",
    "        self.activation3 = softmax()\n",
    "\n",
    "        #ミニバッチ２０で学習\n",
    "        self.X = X\n",
    "        self.y = y\n",
    "        self.X_val = X_val\n",
    "        self.y_val = y_val\n",
    "        get_mini_batch = GetMiniBatch(self.X, self.y, batch_size=20)\n",
    "        self.z_all = np.empty((0, 10),dtype=np.float)\n",
    "        for i in range(self.num_iter):\n",
    "            for mini_X_train, mini_y_train in get_mini_batch:\n",
    "        # フォワードプロパゲーション\n",
    "                A1 = self.FC1.forward(mini_X_train)\n",
    "                Z1 = self.activation1.forward(A1)\n",
    "                A2 = self.FC2.forward(Z1)\n",
    "                Z2 = self.activation2.forward(A2)\n",
    "                A3 = self.FC3.forward(Z2)\n",
    "                Z3 = self.activation3.forward(A3)\n",
    "                self.Z3 = Z3\n",
    "        # バックプロパゲーション\n",
    "                dA3 = self.activation3.backward(Z3, mini_y_train) # 交差エントロピー誤差とソフトマックスを合わせている\n",
    "                dZ2 = self.FC3.backward(dA3)\n",
    "                dA2 = self.activation2.backward(dZ2)\n",
    "                dZ1 = self.FC2.backward(dA2)\n",
    "                dA1 = self.activation1.backward(dZ1)\n",
    "                dZ0 = self.FC1.backward(dA1) # dZ0は使用しない\n",
    "            self.loss_entropy(mini_y_train)\n",
    "            #フィット後のB、Wを抜き出す\n",
    "            self.B1 = self.FC1.B\n",
    "            self.B2 = self.FC2.B\n",
    "            self.B3 = self.FC3.B\n",
    "#             print(self.B1)\n",
    "#             print(self.B2)\n",
    "#             print(self.B3)\n",
    "            \n",
    "            self.W1 = self.FC1.W\n",
    "            self.W2 = self.FC2.W\n",
    "            self.W3 = self.FC3.W\n",
    "            self.val_loss_entropy()\n",
    "\n",
    "        if self.verbose:\n",
    "            #verboseをTrueにした際は学習過程などを出力する\n",
    "            print()\n",
    "        pass\n",
    "\n",
    "    def loss_entropy(self,y_train_batch):\n",
    "        self.loss = -1/self.Z3.shape[0]*(y_train_batch*(np.log(self.Z3))).sum()  \n",
    "        self.rec_loss.append(self.loss)\n",
    "        \n",
    "    def val_loss_entropy(self):\n",
    "        self.a1 = self.X_val@self.W1 + self.B1\n",
    "        self.z1 = self.activation1.forward(self.a1)\n",
    "        self.a2 = self.z1@self.W2 + self.B2\n",
    "        self.z2 = self.activation2.forward(self.a2)\n",
    "        self.a3 = self.z2@self.W3 + self.B3\n",
    "        self.z3 = self.activation3.forward(self.a3)        \n",
    "        self.val_loss = -1/self.z3.shape[0]*(self.y_val*(np.log(self.z3))).sum()  \n",
    "        self.rec_val_loss.append(self.val_loss)\n",
    "        \n",
    "    def predict(self, X_test):\n",
    "        z_all = np.empty((0, 10),dtype=np.float)\n",
    "#         print(z_all.shape)\n",
    "        self.a1 = X_test@self.W1 + self.B1\n",
    "        self.z1 = self.activation1.forward(self.a1)\n",
    "        self.a2 = self.z1@self.W2 + self.B2\n",
    "        self.z2 = self.activation2.forward(self.a2)\n",
    "        self.a3 = self.z2@self.W3 + self.B3\n",
    "        self.z3 = self.activation3.forward(self.a3)\n",
    "        z_all = np.concatenate([z_all,self.z3])\n",
    "        z_all_index = np.argmax(z_all, axis=1)\n",
    "        \n",
    "        pass\n",
    "        return z_all, z_all_index"
   ]
  },
  {
   "cell_type": "code",
   "execution_count": 89,
   "metadata": {},
   "outputs": [
    {
     "name": "stdout",
     "output_type": "stream",
     "text": [
      "\n"
     ]
    }
   ],
   "source": [
    "clf = ScratchDeepNeuralNetrowkClassifier()\n",
    "clf.fit(X_train_1, y_train_1, X_val, y_val)"
   ]
  },
  {
   "cell_type": "code",
   "execution_count": 90,
   "metadata": {},
   "outputs": [
    {
     "name": "stdout",
     "output_type": "stream",
     "text": [
      "[2.30232200222178, 2.2971100065613697, 2.090407867119209, 1.5596856732380855, 1.0126987929204245, 0.8093790009600519, 0.705877042746662, 0.628409375615987, 0.5646793844074626, 0.5110476922061977, 0.46863140076209925, 0.4336849936043887, 0.4053210120596685, 0.3782815029728587, 0.3586343495220777]\n",
      "[2.3015385402853163, 2.2926012839419734, 1.899637840776336, 1.5678352489368033, 1.090655262894483, 0.9346939348697237, 0.8622466501149348, 0.8225358693081527, 0.7967509471025793, 0.7788706010907327, 0.7659975270053621, 0.7552438932712173, 0.7453227467369143, 0.7419260869750932, 0.7369832710918539]\n"
     ]
    },
    {
     "data": {
      "image/png": "[encoded data removed]",
      "text/plain": [
       "<Figure size 432x288 with 1 Axes>"
      ]
     },
     "metadata": {
      "needs_background": "light"
     },
     "output_type": "display_data"
    }
   ],
   "source": [
    "print(clf.rec_loss)\n",
    "print(clf.rec_val_loss)\n",
    "plt.title('LOSS,val_LOSS')\n",
    "plt.xlabel('iter')\n",
    "plt.ylabel('loss')\n",
    "\n",
    "plt.plot(range(1,16), clf.rec_loss)\n",
    "plt.plot(range(1,16), clf.rec_val_loss)\n",
    "legend_info = ('loss', 'val_loss')\n",
    "plt.legend(legend_info, loc=(0.7, 0.7), labelspacing=0.1, fontsize='large')\n",
    "plt.show()"
   ]
  },
  {
   "cell_type": "code",
   "execution_count": 91,
   "metadata": {
    "scrolled": true
   },
   "outputs": [
    {
     "name": "stdout",
     "output_type": "stream",
     "text": [
      "学習結果0.7894107744107745\n"
     ]
    }
   ],
   "source": [
    "y_pred,y_pred_index  = clf.predict(X_val)\n",
    "print(\"学習結果\" + str(metrics.accuracy_score(np.argmax(y_val, axis = 1), y_pred_index)))"
   ]
  },
  {
   "cell_type": "code",
   "execution_count": 92,
   "metadata": {
    "scrolled": true
   },
   "outputs": [
    {
     "name": "stdout",
     "output_type": "stream",
     "text": [
      "(48000, 784)\n",
      "(12000, 784)\n",
      "(48000, 10)\n"
     ]
    }
   ],
   "source": [
    "X_train_1, X_val, y_train_1, y_val = train_test_split(X_train, y_train_one_hot, test_size=0.2)\n",
    "print(X_train_1.shape) # (48000, 784)\n",
    "print(X_val.shape) # (12000, 784)\n",
    "print(y_train_1.shape)"
   ]
  },
  {
   "cell_type": "code",
   "execution_count": 93,
   "metadata": {
    "scrolled": true
   },
   "outputs": [
    {
     "name": "stdout",
     "output_type": "stream",
     "text": [
      "\n"
     ]
    }
   ],
   "source": [
    "clf = ScratchDeepNeuralNetrowkClassifier()\n",
    "clf.fit(X_train_1, y_train_1, X_val, y_val)"
   ]
  },
  {
   "cell_type": "code",
   "execution_count": 94,
   "metadata": {},
   "outputs": [
    {
     "name": "stdout",
     "output_type": "stream",
     "text": [
      "[0.14295852969945003, 0.03589975118024271, 0.013531750999641497, 0.008206619772085469, 0.005477276239972271, 0.004103942474240613, 0.003037656430410743, 0.0022996115007086243, 0.0017620842218089802, 0.0013889338045064762, 0.001121234524025345, 0.0009354334285578423, 0.0007872375769949806, 0.0006604355151334712, 0.0005949237000820365]\n",
      "[0.20723434924690126, 0.1420398682234692, 0.11685150689147392, 0.10393449668606657, 0.09623391083144218, 0.09121499932652374, 0.0876165382943081, 0.08527229710080705, 0.08335185886741654, 0.08158197126252208, 0.08019076520440435, 0.07913512334660008, 0.0784206701433463, 0.07782184796200682, 0.07743725092108805]\n"
     ]
    },
    {
     "data": {
      "image/png": "[encoded data removed]",
      "text/plain": [
       "<Figure size 432x288 with 1 Axes>"
      ]
     },
     "metadata": {
      "needs_background": "light"
     },
     "output_type": "display_data"
    }
   ],
   "source": [
    "print(clf.rec_loss)\n",
    "print(clf.rec_val_loss)\n",
    "plt.title('LOSS,val_LOSS')\n",
    "plt.xlabel('iter')\n",
    "plt.ylabel('loss')\n",
    "\n",
    "plt.plot(range(1,16), clf.rec_loss)\n",
    "plt.plot(range(1,16), clf.rec_val_loss)\n",
    "legend_info = ('loss', 'val_loss')\n",
    "plt.legend(legend_info, loc=(0.7, 0.7), labelspacing=0.1, fontsize='large')\n",
    "plt.show()"
   ]
  },
  {
   "cell_type": "code",
   "execution_count": 95,
   "metadata": {
    "scrolled": true
   },
   "outputs": [
    {
     "name": "stdout",
     "output_type": "stream",
     "text": [
      "学習結果0.9789166666666667\n"
     ]
    }
   ],
   "source": [
    "y_pred,y_pred_index  = clf.predict(X_val)\n",
    "print(\"学習結果\" + str(metrics.accuracy_score(np.argmax(y_val, axis = 1), y_pred_index)))"
   ]
  },
  {
   "cell_type": "markdown",
   "metadata": {},
   "source": [
    "# AdaGrad（平均）"
   ]
  },
  {
   "cell_type": "code",
   "execution_count": 99,
   "metadata": {},
   "outputs": [],
   "source": [
    "class AdaGrad_mean:\n",
    "    \"\"\"\n",
    "    確率的勾配降下法\n",
    "    Parameters\n",
    "    ----------\n",
    "    lr : 学習率\n",
    "    \"\"\"\n",
    "    def __init__(self, lr=0.001, h=0):\n",
    "        self.lr = lr\n",
    "        self.h_W = copy.deepcopy(h)\n",
    "        self.h_B = copy.deepcopy(h)\n",
    "    def update(self, layer):\n",
    "        self.h_W += ((layer.dW/layer.dW.shape[0])*(layer.dW/layer.dW.shape[0])).mean()\n",
    "#         print(self.h_W.shape)\n",
    "        #self.h += ((layer.dW.mean(axis=1))*(layer.dW.mean(axis=1)))#.sum()\n",
    "      \n",
    "        layer.W = layer.W - self.lr/((self.h_W**0.5) + 0.001) *layer.dW/layer.dW.shape[0]\n",
    "        #if self.h >= 0.2:\n",
    "            #layer.W = layer.W - self.lr/(self.h**0.5)*layer.dW + 1e-7\n",
    "#         else:\n",
    "#             layer.W = layer.W - self.lr*layer.dW\n",
    "        self.h_B += ((layer.dB/layer.dB.shape[0])*(layer.dB/layer.dB.shape[0])).mean()\n",
    "#         print('dB',layer.dB.shape)#20\n",
    "#         print('h_B',self.h_B.shape)#20\n",
    "#         print('B',layer.B.shape)#10\n",
    "#         print('dB.mean',layer.dB.mean(axis=0).shape)#shapeない\n",
    "        layer.B = layer.B - self.lr/((self.h_B**0.5) + 0.001) *layer.dB.mean(axis=0)/layer.dB.shape[0]\n",
    "        return layer"
   ]
  },
  {
   "cell_type": "code",
   "execution_count": 100,
   "metadata": {},
   "outputs": [],
   "source": [
    "class ScratchDeepNeuralNetrowkClassifier():\n",
    "\n",
    "    def __init__(self,num_iter = 15,lr = 0.01, verbose = True):\n",
    "        self.verbose = verbose\n",
    "        self.num_iter = num_iter\n",
    "        self.lr = lr\n",
    "        self.verbose = verbose\n",
    "        self.n_features = 784\n",
    "        self.n_nodes1 = 400\n",
    "        self.n_nodes2 = 200\n",
    "        self.n_output = 10\n",
    "        self.alpha = 0.01\n",
    "        self.rec_loss = [] \n",
    "        self.rec_val_loss = []         \n",
    "        \n",
    "        pass\n",
    "    def fit(self, X, y, X_val=None, y_val=None):\n",
    "        #最適化手法のインスタンス化\n",
    "        optimizer1 = AdaGrad_mean(lr=0.01)\n",
    "        optimizer2 = AdaGrad_mean(lr=0.01)\n",
    "        optimizer3 = AdaGrad_mean(lr=0.01)\n",
    "        initializer1 = Initializer_He(self.n_features)\n",
    "        initializer2 = Initializer_He(self.n_nodes1)\n",
    "        initializer3 = Initializer_He(self.n_nodes2)\n",
    "        #層の数、各層の特徴数（インプット＆アウトプット）、初期値設定、最適化手法、活性化関数の種類を設定\n",
    "        self.FC1 = FC(self.n_features, self.n_nodes1, initializer1, optimizer1)\n",
    "        self.activation1 = sc_relu()\n",
    "        self.FC2 = FC(self.n_nodes1, self.n_nodes2, initializer2, optimizer2)\n",
    "        self.activation2 = sc_relu()\n",
    "        self.FC3 = FC(self.n_nodes2, self.n_output, initializer3, optimizer3)\n",
    "        self.activation3 = softmax()\n",
    "\n",
    "        #ミニバッチ２０で学習\n",
    "        self.X = X\n",
    "        self.y = y\n",
    "        self.X_val = X_val\n",
    "        self.y_val = y_val\n",
    "        get_mini_batch = GetMiniBatch(self.X, self.y, batch_size=20)\n",
    "        self.z_all = np.empty((0, 10),dtype=np.float)\n",
    "        for i in range(self.num_iter):\n",
    "            for mini_X_train, mini_y_train in get_mini_batch:\n",
    "        # フォワードプロパゲーション\n",
    "                A1 = self.FC1.forward(mini_X_train)\n",
    "                Z1 = self.activation1.forward(A1)\n",
    "                A2 = self.FC2.forward(Z1)\n",
    "                Z2 = self.activation2.forward(A2)\n",
    "                A3 = self.FC3.forward(Z2)\n",
    "                Z3 = self.activation3.forward(A3)\n",
    "                self.Z3 = Z3\n",
    "        # バックプロパゲーション\n",
    "                dA3 = self.activation3.backward(Z3, mini_y_train) # 交差エントロピー誤差とソフトマックスを合わせている\n",
    "                dZ2 = self.FC3.backward(dA3)\n",
    "                dA2 = self.activation2.backward(dZ2)\n",
    "                dZ1 = self.FC2.backward(dA2)\n",
    "                dA1 = self.activation1.backward(dZ1)\n",
    "                dZ0 = self.FC1.backward(dA1) # dZ0は使用しない\n",
    "            self.loss_entropy(mini_y_train)\n",
    "            #フィット後のB、Wを抜き出す\n",
    "            self.B1 = self.FC1.B\n",
    "            self.B2 = self.FC2.B\n",
    "            self.B3 = self.FC3.B\n",
    "#             print(self.B1)\n",
    "#             print(self.B2)\n",
    "#             print(self.B3)\n",
    "            \n",
    "            self.W1 = self.FC1.W\n",
    "            self.W2 = self.FC2.W\n",
    "            self.W3 = self.FC3.W\n",
    "            self.val_loss_entropy()\n",
    "\n",
    "        if self.verbose:\n",
    "            #verboseをTrueにした際は学習過程などを出力する\n",
    "            print()\n",
    "        pass\n",
    "\n",
    "    def loss_entropy(self,y_train_batch):\n",
    "        self.loss = -1/self.Z3.shape[0]*(y_train_batch*(np.log(self.Z3))).sum()  \n",
    "        self.rec_loss.append(self.loss)\n",
    "        \n",
    "    def val_loss_entropy(self):\n",
    "        self.a1 = self.X_val@self.W1 + self.B1\n",
    "        self.z1 = self.activation1.forward(self.a1)\n",
    "        self.a2 = self.z1@self.W2 + self.B2\n",
    "        self.z2 = self.activation2.forward(self.a2)\n",
    "        self.a3 = self.z2@self.W3 + self.B3\n",
    "        self.z3 = self.activation3.forward(self.a3)        \n",
    "        self.val_loss = -1/self.z3.shape[0]*(self.y_val*(np.log(self.z3))).sum()  \n",
    "        self.rec_val_loss.append(self.val_loss)\n",
    "        \n",
    "    def predict(self, X_test):\n",
    "        z_all = np.empty((0, 10),dtype=np.float)\n",
    "#         print(z_all.shape)\n",
    "        self.a1 = X_test@self.W1 + self.B1\n",
    "        self.z1 = self.activation1.forward(self.a1)\n",
    "        self.a2 = self.z1@self.W2 + self.B2\n",
    "        self.z2 = self.activation2.forward(self.a2)\n",
    "        self.a3 = self.z2@self.W3 + self.B3\n",
    "        self.z3 = self.activation3.forward(self.a3)\n",
    "        z_all = np.concatenate([z_all,self.z3])\n",
    "        z_all_index = np.argmax(z_all, axis=1)\n",
    "        \n",
    "        pass\n",
    "        return z_all, z_all_index"
   ]
  },
  {
   "cell_type": "code",
   "execution_count": 101,
   "metadata": {},
   "outputs": [
    {
     "name": "stdout",
     "output_type": "stream",
     "text": [
      "\n"
     ]
    }
   ],
   "source": [
    "clf = ScratchDeepNeuralNetrowkClassifier()\n",
    "clf.fit(X_train_1, y_train_1, X_val, y_val)"
   ]
  },
  {
   "cell_type": "code",
   "execution_count": 102,
   "metadata": {},
   "outputs": [
    {
     "name": "stdout",
     "output_type": "stream",
     "text": [
      "[0.13559616391596271, 0.03617705371682011, 0.01721347261627223, 0.011105684424015203, 0.007751651860004382, 0.005548446920747473, 0.00443253529033176, 0.003339847005588409, 0.00265686574270586, 0.0021234462996999404, 0.0016860197933477594, 0.0013906616576015206, 0.001130501148834525, 0.0009593536413660995, 0.0008248714101708147]\n",
      "[0.22774272077268734, 0.16028409045049502, 0.133450295343423, 0.11850189643762297, 0.10901802434647093, 0.10319494658145632, 0.09933860596768088, 0.09643239946771164, 0.09396473800499335, 0.09199158207442275, 0.09048615119691046, 0.0892378561099464, 0.08831138631315863, 0.0875083847571535, 0.08698410032944108]\n"
     ]
    },
    {
     "data": {
      "image/png": "[encoded data removed]",
      "text/plain": [
       "<Figure size 432x288 with 1 Axes>"
      ]
     },
     "metadata": {
      "needs_background": "light"
     },
     "output_type": "display_data"
    }
   ],
   "source": [
    "print(clf.rec_loss)\n",
    "print(clf.rec_val_loss)\n",
    "plt.title('LOSS,val_LOSS')\n",
    "plt.xlabel('iter')\n",
    "plt.ylabel('loss')\n",
    "\n",
    "plt.plot(range(1,16), clf.rec_loss)\n",
    "plt.plot(range(1,16), clf.rec_val_loss)\n",
    "legend_info = ('loss', 'val_loss')\n",
    "plt.legend(legend_info, loc=(0.7, 0.7), labelspacing=0.1, fontsize='large')\n",
    "plt.show()"
   ]
  },
  {
   "cell_type": "code",
   "execution_count": 103,
   "metadata": {},
   "outputs": [
    {
     "name": "stdout",
     "output_type": "stream",
     "text": [
      "学習結果0.9745833333333334\n"
     ]
    }
   ],
   "source": [
    "y_pred,y_pred_index  = clf.predict(X_val)\n",
    "print(\"学習結果\" + str(metrics.accuracy_score(np.argmax(y_val, axis = 1), y_pred_index)))"
   ]
  },
  {
   "cell_type": "code",
   "execution_count": 105,
   "metadata": {},
   "outputs": [],
   "source": [
    "loss_ori = np.array([0.14295852969945003, 0.03589975118024271, 0.013531750999641497, 0.008206619772085469, 0.005477276239972271, 0.004103942474240613, 0.003037656430410743, 0.0022996115007086243, 0.0017620842218089802, 0.0013889338045064762, 0.001121234524025345, 0.0009354334285578423, 0.0007872375769949806, 0.0006604355151334712, 0.0005949237000820365])\n",
    "val_loss_ori = np.array([0.20723434924690126, 0.1420398682234692, 0.11685150689147392, 0.10393449668606657, 0.09623391083144218, 0.09121499932652374, 0.0876165382943081, 0.08527229710080705, 0.08335185886741654, 0.08158197126252208, 0.08019076520440435, 0.07913512334660008, 0.0784206701433463, 0.07782184796200682, 0.07743725092108805])"
   ]
  },
  {
   "cell_type": "code",
   "execution_count": 106,
   "metadata": {},
   "outputs": [],
   "source": [
    "loss_mean = np.array([0.13559616391596271, 0.03617705371682011, 0.01721347261627223, 0.011105684424015203, 0.007751651860004382, 0.005548446920747473, 0.00443253529033176, 0.003339847005588409, 0.00265686574270586, 0.0021234462996999404, 0.0016860197933477594, 0.0013906616576015206, 0.001130501148834525, 0.0009593536413660995, 0.0008248714101708147])\n",
    "val_loss_mean = np.array([0.22774272077268734, 0.16028409045049502, 0.133450295343423, 0.11850189643762297, 0.10901802434647093, 0.10319494658145632, 0.09933860596768088, 0.09643239946771164, 0.09396473800499335, 0.09199158207442275, 0.09048615119691046, 0.0892378561099464, 0.08831138631315863, 0.0875083847571535, 0.08698410032944108])"
   ]
  },
  {
   "cell_type": "code",
   "execution_count": 107,
   "metadata": {},
   "outputs": [],
   "source": [
    "loss_def = loss_ori - loss_mean\n",
    "val_loss_def = val_loss_ori - val_loss_mean"
   ]
  },
  {
   "cell_type": "code",
   "execution_count": 108,
   "metadata": {},
   "outputs": [
    {
     "data": {
      "image/png": "[encoded data removed]",
      "text/plain": [
       "<Figure size 432x288 with 1 Axes>"
      ]
     },
     "metadata": {
      "needs_background": "light"
     },
     "output_type": "display_data"
    }
   ],
   "source": [
    "plt.title('LOSS_ori,LOSS_mean')\n",
    "plt.xlabel('iter')\n",
    "plt.ylabel('loss')\n",
    "\n",
    "plt.plot(range(1,16), loss_ori)\n",
    "plt.plot(range(1,16), loss_mean)\n",
    "legend_info = ('loss_ori', 'loss_mean')\n",
    "plt.legend(legend_info, loc=(0.7, 0.7), labelspacing=0.1, fontsize='large')\n",
    "plt.show()"
   ]
  },
  {
   "cell_type": "code",
   "execution_count": 109,
   "metadata": {},
   "outputs": [
    {
     "data": {
      "image/png": "[encoded data removed]",
      "text/plain": [
       "<Figure size 432x288 with 1 Axes>"
      ]
     },
     "metadata": {
      "needs_background": "light"
     },
     "output_type": "display_data"
    }
   ],
   "source": [
    "plt.title('val_LOSS_ori,val_LOSS_mean')\n",
    "plt.xlabel('iter')\n",
    "plt.ylabel('loss')\n",
    "\n",
    "plt.plot(range(1,16), val_loss_ori)\n",
    "plt.plot(range(1,16), val_loss_mean)\n",
    "legend_info = ('val_loss_ori', 'val_loss_mean')\n",
    "plt.legend(legend_info, loc=(0.7, 0.7), labelspacing=0.1, fontsize='large')\n",
    "plt.show()"
   ]
  },
  {
   "cell_type": "code",
   "execution_count": 110,
   "metadata": {},
   "outputs": [
    {
     "data": {
      "image/png": "[encoded data removed]",
      "text/plain": [
       "<Figure size 432x288 with 1 Axes>"
      ]
     },
     "metadata": {
      "needs_background": "light"
     },
     "output_type": "display_data"
    }
   ],
   "source": [
    "plt.title('LOSS_def,val_LOSS_def')\n",
    "plt.xlabel('iter')\n",
    "plt.ylabel('loss')\n",
    "\n",
    "plt.plot(range(1,16), loss_def)\n",
    "plt.plot(range(1,16), val_loss_def)\n",
    "legend_info = ('loss_def', 'val_loss_def')\n",
    "plt.legend(legend_info, loc=(0.7, 0.7), labelspacing=0.1, fontsize='large')\n",
    "plt.show()"
   ]
  },
  {
   "cell_type": "code",
   "execution_count": 111,
   "metadata": {},
   "outputs": [
    {
     "name": "stdout",
     "output_type": "stream",
     "text": [
      "[ 0.00736237 -0.0002773  -0.00368172 -0.00289906 -0.00227438 -0.0014445\n",
      " -0.00139488 -0.00104024 -0.00089478 -0.00073451 -0.00056479 -0.00045523\n",
      " -0.00034326 -0.00029892 -0.00022995]\n",
      "[-0.02050837 -0.01824422 -0.01659879 -0.0145674  -0.01278411 -0.01197995\n",
      " -0.01172207 -0.0111601  -0.01061288 -0.01040961 -0.01029539 -0.01010273\n",
      " -0.00989072 -0.00968654 -0.00954685]\n"
     ]
    }
   ],
   "source": [
    "print(loss_def)\n",
    "print(val_loss_def)"
   ]
  },
  {
   "cell_type": "code",
   "execution_count": null,
   "metadata": {},
   "outputs": [],
   "source": []
  }
 ],
 "metadata": {
  "kernelspec": {
   "display_name": "Python 3",
   "language": "python",
   "name": "python3"
  },
  "language_info": {
   "codemirror_mode": {
    "name": "ipython",
    "version": 3
   },
   "file_extension": ".py",
   "mimetype": "text/x-python",
   "name": "python",
   "nbconvert_exporter": "python",
   "pygments_lexer": "ipython3",
   "version": "3.7.4"
  },
  "toc": {
   "base_numbering": 1,
   "nav_menu": {},
   "number_sections": true,
   "sideBar": true,
   "skip_h1_title": false,
   "title_cell": "Table of Contents",
   "title_sidebar": "Contents",
   "toc_cell": false,
   "toc_position": {
    "height": "calc(100% - 180px)",
    "left": "10px",
    "top": "150px",
    "width": "256px"
   },
   "toc_section_display": true,
   "toc_window_display": true
  }
 },
 "nbformat": 4,
 "nbformat_minor": 2
}
