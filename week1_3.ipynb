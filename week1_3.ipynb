{
 "cells": [
  {
   "cell_type": "code",
   "execution_count": 3,
   "metadata": {},
   "outputs": [
    {
     "name": "stdout",
     "output_type": "stream",
     "text": [
      "885\n",
      "[0, 5, 10, 15, 20, 25, 30, 35, 40, 45, 50, 55, 60, 65, 70, 75, 80, 85, 90, 95, 100, 105, 110, 115, 120, 125, 130, 135, 140, 145, 150, 155, 160, 165, 170, 175, 180, 185, 190, 195, 200, 205, 210, 215, 220, 225, 230, 235, 240, 245, 250, 255, 260, 265, 270, 275, 280, 285, 290, 295, 300, 305, 310, 315, 320, 325, 330, 335, 340, 345, 350, 355, 360, 365, 370, 375, 380, 385, 390, 395, 400, 405, 410, 415, 420, 425, 430, 435, 440, 445, 450, 455, 460, 465, 470, 475, 480, 485, 490, 495, 500, 505, 510, 515, 520, 525, 530, 535, 540, 545, 550, 555, 560, 565, 570, 575, 580, 585, 590, 595, 600, 605, 610, 615, 620, 625, 630, 635, 640, 645, 650, 655, 660, 665, 670, 675, 680, 685, 690, 695, 700, 705, 710, 715, 720, 725, 730, 735, 740, 745, 750, 755, 760, 765, 770, 775, 780, 785, 790, 795, 800, 805, 810, 815, 820, 825, 830, 835, 840, 845, 850, 855, 860, 865, 870, 875, 880, 885]\n"
     ]
    },
    {
     "data": {
      "image/png": "[encoded data removed]",
      "text/plain": [
       "<Figure size 432x288 with 1 Axes>"
      ]
     },
     "metadata": {
      "needs_background": "light"
     },
     "output_type": "display_data"
    }
   ],
   "source": [
    "import math\n",
    "R = 15000000000000000 # 太陽系の半径は15兆キロメートル\n",
    "Vt = 4*math.pi/3*(R**3) # 太陽系は完全な球体と仮定し体積を求める\n",
    "\n",
    "Vm = 100/1000000 # 栗饅頭の体積は100立方センチメートル（0.0001立方メートル）\n",
    "i = 0 # 栗饅頭の増殖回数\n",
    "# print(Vt)\n",
    "# print(Vm)\n",
    "n = 1\n",
    "gra_list = []\n",
    "t_gra_list = []\n",
    "time_list = []\n",
    "\n",
    "while n >= 1:\n",
    "    n = Vt/(Vm*2**i)\n",
    "    gra_list.append(Vm*2**i)\n",
    "    t_gra_list.append(Vt)\n",
    "    time_list.append(i*5)\n",
    "    i = i + 1\n",
    "\n",
    "\n",
    "time = (i - 1)*5 # 栗饅頭が太陽系を埋め尽くすまでの時間（分）\n",
    "print(time)\n",
    "# print(time_list)\n",
    "import matplotlib.pyplot as plt\n",
    "\n",
    "plt.title(\"baibain\")\n",
    "plt.xlabel(\"time[m]\")\n",
    "plt.ylabel(\"V[m^3]\")\n",
    "#plt.yscale('log') #対数グラフにする\n",
    "plt.plot(time_list, gra_list, color='g')\n",
    "plt.plot(time_list, t_gra_list, color='b')\n",
    "plt.show()\n"
   ]
  },
  {
   "cell_type": "code",
   "execution_count": null,
   "metadata": {},
   "outputs": [],
   "source": []
  }
 ],
 "metadata": {
  "kernelspec": {
   "display_name": "Python 3",
   "language": "python",
   "name": "python3"
  },
  "language_info": {
   "codemirror_mode": {
    "name": "ipython",
    "version": 3
   },
   "file_extension": ".py",
   "mimetype": "text/x-python",
   "name": "python",
   "nbconvert_exporter": "python",
   "pygments_lexer": "ipython3",
   "version": "3.7.4"
  }
 },
 "nbformat": 4,
 "nbformat_minor": 2
}
