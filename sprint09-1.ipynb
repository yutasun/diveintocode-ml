{
 "cells": [
  {
   "cell_type": "markdown",
   "metadata": {},
   "source": [
    "# MNISTデータセット"
   ]
  },
  {
   "cell_type": "code",
   "execution_count": 1,
   "metadata": {},
   "outputs": [
    {
     "name": "stderr",
     "output_type": "stream",
     "text": [
      "Using TensorFlow backend.\n"
     ]
    }
   ],
   "source": [
    "# データセットインストール\n",
    "from keras.datasets import mnist\n",
    "(X_train, y_train), (X_test, y_test) = mnist.load_data()"
   ]
  },
  {
   "cell_type": "code",
   "execution_count": 2,
   "metadata": {},
   "outputs": [
    {
     "name": "stdout",
     "output_type": "stream",
     "text": [
      "(60000, 28, 28)\n",
      "(10000, 28, 28)\n",
      "uint8\n",
      "[[  0   0   0   0   0   0   0   0   0   0   0   0   0   0   0   0   0   0\n",
      "    0   0   0   0   0   0   0   0   0   0]\n",
      " [  0   0   0   0   0   0   0   0   0   0   0   0   0   0   0   0   0   0\n",
      "    0   0   0   0   0   0   0   0   0   0]\n",
      " [  0   0   0   0   0   0   0   0   0   0   0   0   0   0   0   0   0   0\n",
      "    0   0   0   0   0   0   0   0   0   0]\n",
      " [  0   0   0   0   0   0   0   0   0   0   0   0   0   0   0   0   0   0\n",
      "    0   0   0   0   0   0   0   0   0   0]\n",
      " [  0   0   0   0   0   0   0   0   0   0   0   0   0   0   0   0   0   0\n",
      "    0   0   0   0   0   0   0   0   0   0]\n",
      " [  0   0   0   0   0   0   0   0   0   0   0   0   3  18  18  18 126 136\n",
      "  175  26 166 255 247 127   0   0   0   0]\n",
      " [  0   0   0   0   0   0   0   0  30  36  94 154 170 253 253 253 253 253\n",
      "  225 172 253 242 195  64   0   0   0   0]\n",
      " [  0   0   0   0   0   0   0  49 238 253 253 253 253 253 253 253 253 251\n",
      "   93  82  82  56  39   0   0   0   0   0]\n",
      " [  0   0   0   0   0   0   0  18 219 253 253 253 253 253 198 182 247 241\n",
      "    0   0   0   0   0   0   0   0   0   0]\n",
      " [  0   0   0   0   0   0   0   0  80 156 107 253 253 205  11   0  43 154\n",
      "    0   0   0   0   0   0   0   0   0   0]\n",
      " [  0   0   0   0   0   0   0   0   0  14   1 154 253  90   0   0   0   0\n",
      "    0   0   0   0   0   0   0   0   0   0]\n",
      " [  0   0   0   0   0   0   0   0   0   0   0 139 253 190   2   0   0   0\n",
      "    0   0   0   0   0   0   0   0   0   0]\n",
      " [  0   0   0   0   0   0   0   0   0   0   0  11 190 253  70   0   0   0\n",
      "    0   0   0   0   0   0   0   0   0   0]\n",
      " [  0   0   0   0   0   0   0   0   0   0   0   0  35 241 225 160 108   1\n",
      "    0   0   0   0   0   0   0   0   0   0]\n",
      " [  0   0   0   0   0   0   0   0   0   0   0   0   0  81 240 253 253 119\n",
      "   25   0   0   0   0   0   0   0   0   0]\n",
      " [  0   0   0   0   0   0   0   0   0   0   0   0   0   0  45 186 253 253\n",
      "  150  27   0   0   0   0   0   0   0   0]\n",
      " [  0   0   0   0   0   0   0   0   0   0   0   0   0   0   0  16  93 252\n",
      "  253 187   0   0   0   0   0   0   0   0]\n",
      " [  0   0   0   0   0   0   0   0   0   0   0   0   0   0   0   0   0 249\n",
      "  253 249  64   0   0   0   0   0   0   0]\n",
      " [  0   0   0   0   0   0   0   0   0   0   0   0   0   0  46 130 183 253\n",
      "  253 207   2   0   0   0   0   0   0   0]\n",
      " [  0   0   0   0   0   0   0   0   0   0   0   0  39 148 229 253 253 253\n",
      "  250 182   0   0   0   0   0   0   0   0]\n",
      " [  0   0   0   0   0   0   0   0   0   0  24 114 221 253 253 253 253 201\n",
      "   78   0   0   0   0   0   0   0   0   0]\n",
      " [  0   0   0   0   0   0   0   0  23  66 213 253 253 253 253 198  81   2\n",
      "    0   0   0   0   0   0   0   0   0   0]\n",
      " [  0   0   0   0   0   0  18 171 219 253 253 253 253 195  80   9   0   0\n",
      "    0   0   0   0   0   0   0   0   0   0]\n",
      " [  0   0   0   0  55 172 226 253 253 253 253 244 133  11   0   0   0   0\n",
      "    0   0   0   0   0   0   0   0   0   0]\n",
      " [  0   0   0   0 136 253 253 253 212 135 132  16   0   0   0   0   0   0\n",
      "    0   0   0   0   0   0   0   0   0   0]\n",
      " [  0   0   0   0   0   0   0   0   0   0   0   0   0   0   0   0   0   0\n",
      "    0   0   0   0   0   0   0   0   0   0]\n",
      " [  0   0   0   0   0   0   0   0   0   0   0   0   0   0   0   0   0   0\n",
      "    0   0   0   0   0   0   0   0   0   0]\n",
      " [  0   0   0   0   0   0   0   0   0   0   0   0   0   0   0   0   0   0\n",
      "    0   0   0   0   0   0   0   0   0   0]]\n"
     ]
    }
   ],
   "source": [
    "# データセットの確認\n",
    "print(X_train.shape) # (60000, 28, 28)\n",
    "print(X_test.shape) # (10000, 28, 28)\n",
    "print(X_train[0].dtype) # uint8\n",
    "print(X_train[0])"
   ]
  },
  {
   "cell_type": "code",
   "execution_count": 3,
   "metadata": {},
   "outputs": [],
   "source": [
    "# 平滑化\n",
    "X_train = X_train.reshape(-1, 784)\n",
    "X_test = X_test.reshape(-1, 784)"
   ]
  },
  {
   "cell_type": "code",
   "execution_count": 4,
   "metadata": {},
   "outputs": [
    {
     "data": {
      "image/png": "[encoded data removed]",
      "text/plain": [
       "<Figure size 432x288 with 1 Axes>"
      ]
     },
     "metadata": {
      "needs_background": "light"
     },
     "output_type": "display_data"
    }
   ],
   "source": [
    "# 画像データの可視化\n",
    "import matplotlib.pyplot as plt\n",
    "%matplotlib inline\n",
    "index = 0\n",
    "image = X_train[index].reshape(28,28)\n",
    "# X_train[index]: (784,)\n",
    "# image: (28, 28)\n",
    "plt.imshow(image, 'gray')\n",
    "plt.title('label : {}'.format(y_train[index]))\n",
    "plt.show()"
   ]
  },
  {
   "cell_type": "code",
   "execution_count": 5,
   "metadata": {},
   "outputs": [],
   "source": [
    "# インポート\n",
    "import random\n",
    "import pandas as pd\n",
    "import numpy as np\n",
    "import matplotlib.pyplot as plt\n",
    "import seaborn as sns\n",
    "from sklearn.model_selection import train_test_split\n",
    "from sklearn.preprocessing import StandardScaler"
   ]
  },
  {
   "cell_type": "code",
   "execution_count": 6,
   "metadata": {},
   "outputs": [
    {
     "data": {
      "image/png": "[encoded data removed]",
      "text/plain": [
       "<Figure size 432x288 with 1 Axes>"
      ]
     },
     "metadata": {
      "needs_background": "light"
     },
     "output_type": "display_data"
    },
    {
     "name": "stdout",
     "output_type": "stream",
     "text": [
      "[[-105.35 -105.35 -105.35 -105.35 -105.35 -105.35 -105.35 -105.35 -105.35\n",
      "  -105.35 -105.35 -105.35 -105.35 -105.35 -105.35 -105.35 -105.35 -105.35\n",
      "  -105.35 -105.35 -105.35 -105.35 -105.35 -105.35 -105.35 -105.35 -105.35\n",
      "  -105.35]\n",
      " [-105.35 -105.35 -105.35 -105.35 -105.35 -105.35 -105.35 -105.35 -105.35\n",
      "  -105.35 -105.35 -105.35 -105.35 -105.35 -105.35 -105.35 -105.35 -105.35\n",
      "  -105.35 -105.35 -105.35 -105.35 -105.35 -105.35 -105.35 -105.35 -105.35\n",
      "  -105.35]\n",
      " [-105.35 -105.35 -105.35 -105.35 -105.35 -105.35 -105.35 -105.35 -105.35\n",
      "  -105.35 -105.35 -105.35 -105.35 -105.35 -105.35 -105.35 -105.35 -105.35\n",
      "  -105.35 -105.35 -105.35 -105.35 -105.35 -105.35 -105.35 -105.35 -105.35\n",
      "  -105.35]\n",
      " [-105.35 -105.35 -105.35 -105.35 -105.35 -105.35 -105.35 -105.35 -105.35\n",
      "  -105.35 -105.35 -105.35 -105.35 -105.35 -105.35 -105.35 -105.35 -105.35\n",
      "  -105.35 -105.35 -105.35 -105.35 -105.35 -105.35 -105.35 -105.35 -105.35\n",
      "  -105.35]\n",
      " [-105.35 -105.35 -105.35 -105.35 -105.35 -105.35 -105.35 -105.35 -105.35\n",
      "  -105.35 -105.35 -105.35 -105.35 -105.35 -105.35 -105.35 -105.35 -105.35\n",
      "  -105.35 -105.35 -105.35 -105.35 -105.35 -105.35 -105.35 -105.35 -105.35\n",
      "  -105.35]\n",
      " [-105.35 -105.35 -105.35 -105.35 -105.35 -105.35 -105.35 -105.35 -105.35\n",
      "  -105.35 -105.35 -105.35 -102.35  -87.35  -87.35  -87.35   20.65   30.65\n",
      "    69.65  -79.35   60.65  149.65  141.65   21.65 -105.35 -105.35 -105.35\n",
      "  -105.35]\n",
      " [-105.35 -105.35 -105.35 -105.35 -105.35 -105.35 -105.35 -105.35  -75.35\n",
      "   -69.35  -11.35   48.65   64.65  147.65  147.65  147.65  147.65  147.65\n",
      "   119.65   66.65  147.65  136.65   89.65  -41.35 -105.35 -105.35 -105.35\n",
      "  -105.35]\n",
      " [-105.35 -105.35 -105.35 -105.35 -105.35 -105.35 -105.35  -56.35  132.65\n",
      "   147.65  147.65  147.65  147.65  147.65  147.65  147.65  147.65  145.65\n",
      "   -12.35  -23.35  -23.35  -49.35  -66.35 -105.35 -105.35 -105.35 -105.35\n",
      "  -105.35]\n",
      " [-105.35 -105.35 -105.35 -105.35 -105.35 -105.35 -105.35  -87.35  113.65\n",
      "   147.65  147.65  147.65  147.65  147.65   92.65   76.65  141.65  135.65\n",
      "  -105.35 -105.35 -105.35 -105.35 -105.35 -105.35 -105.35 -105.35 -105.35\n",
      "  -105.35]\n",
      " [-105.35 -105.35 -105.35 -105.35 -105.35 -105.35 -105.35 -105.35  -25.35\n",
      "    50.65    1.65  147.65  147.65   99.65  -94.35 -105.35  -62.35   48.65\n",
      "  -105.35 -105.35 -105.35 -105.35 -105.35 -105.35 -105.35 -105.35 -105.35\n",
      "  -105.35]\n",
      " [-105.35 -105.35 -105.35 -105.35 -105.35 -105.35 -105.35 -105.35 -105.35\n",
      "   -91.35 -104.35   48.65  147.65  -15.35 -105.35 -105.35 -105.35 -105.35\n",
      "  -105.35 -105.35 -105.35 -105.35 -105.35 -105.35 -105.35 -105.35 -105.35\n",
      "  -105.35]\n",
      " [-105.35 -105.35 -105.35 -105.35 -105.35 -105.35 -105.35 -105.35 -105.35\n",
      "  -105.35 -105.35   33.65  147.65   84.65 -103.35 -105.35 -105.35 -105.35\n",
      "  -105.35 -105.35 -105.35 -105.35 -105.35 -105.35 -105.35 -105.35 -105.35\n",
      "  -105.35]\n",
      " [-105.35 -105.35 -105.35 -105.35 -105.35 -105.35 -105.35 -105.35 -105.35\n",
      "  -105.35 -105.35  -94.35   84.65  147.65  -35.35 -105.35 -105.35 -105.35\n",
      "  -105.35 -105.35 -105.35 -105.35 -105.35 -105.35 -105.35 -105.35 -105.35\n",
      "  -105.35]\n",
      " [-105.35 -105.35 -105.35 -105.35 -105.35 -105.35 -105.35 -105.35 -105.35\n",
      "  -105.35 -105.35 -105.35  -70.35  135.65  119.65   54.65    2.65 -104.35\n",
      "  -105.35 -105.35 -105.35 -105.35 -105.35 -105.35 -105.35 -105.35 -105.35\n",
      "  -105.35]\n",
      " [-105.35 -105.35 -105.35 -105.35 -105.35 -105.35 -105.35 -105.35 -105.35\n",
      "  -105.35 -105.35 -105.35 -105.35  -24.35  134.65  147.65  147.65   13.65\n",
      "   -80.35 -105.35 -105.35 -105.35 -105.35 -105.35 -105.35 -105.35 -105.35\n",
      "  -105.35]\n",
      " [-105.35 -105.35 -105.35 -105.35 -105.35 -105.35 -105.35 -105.35 -105.35\n",
      "  -105.35 -105.35 -105.35 -105.35 -105.35  -60.35   80.65  147.65  147.65\n",
      "    44.65  -78.35 -105.35 -105.35 -105.35 -105.35 -105.35 -105.35 -105.35\n",
      "  -105.35]\n",
      " [-105.35 -105.35 -105.35 -105.35 -105.35 -105.35 -105.35 -105.35 -105.35\n",
      "  -105.35 -105.35 -105.35 -105.35 -105.35 -105.35  -89.35  -12.35  146.65\n",
      "   147.65   81.65 -105.35 -105.35 -105.35 -105.35 -105.35 -105.35 -105.35\n",
      "  -105.35]\n",
      " [-105.35 -105.35 -105.35 -105.35 -105.35 -105.35 -105.35 -105.35 -105.35\n",
      "  -105.35 -105.35 -105.35 -105.35 -105.35 -105.35 -105.35 -105.35  143.65\n",
      "   147.65  143.65  -41.35 -105.35 -105.35 -105.35 -105.35 -105.35 -105.35\n",
      "  -105.35]\n",
      " [-105.35 -105.35 -105.35 -105.35 -105.35 -105.35 -105.35 -105.35 -105.35\n",
      "  -105.35 -105.35 -105.35 -105.35 -105.35  -59.35   24.65   77.65  147.65\n",
      "   147.65  101.65 -103.35 -105.35 -105.35 -105.35 -105.35 -105.35 -105.35\n",
      "  -105.35]\n",
      " [-105.35 -105.35 -105.35 -105.35 -105.35 -105.35 -105.35 -105.35 -105.35\n",
      "  -105.35 -105.35 -105.35  -66.35   42.65  123.65  147.65  147.65  147.65\n",
      "   144.65   76.65 -105.35 -105.35 -105.35 -105.35 -105.35 -105.35 -105.35\n",
      "  -105.35]\n",
      " [-105.35 -105.35 -105.35 -105.35 -105.35 -105.35 -105.35 -105.35 -105.35\n",
      "  -105.35  -81.35    8.65  115.65  147.65  147.65  147.65  147.65   95.65\n",
      "   -27.35 -105.35 -105.35 -105.35 -105.35 -105.35 -105.35 -105.35 -105.35\n",
      "  -105.35]\n",
      " [-105.35 -105.35 -105.35 -105.35 -105.35 -105.35 -105.35 -105.35  -82.35\n",
      "   -39.35  107.65  147.65  147.65  147.65  147.65   92.65  -24.35 -103.35\n",
      "  -105.35 -105.35 -105.35 -105.35 -105.35 -105.35 -105.35 -105.35 -105.35\n",
      "  -105.35]\n",
      " [-105.35 -105.35 -105.35 -105.35 -105.35 -105.35  -87.35   65.65  113.65\n",
      "   147.65  147.65  147.65  147.65   89.65  -25.35  -96.35 -105.35 -105.35\n",
      "  -105.35 -105.35 -105.35 -105.35 -105.35 -105.35 -105.35 -105.35 -105.35\n",
      "  -105.35]\n",
      " [-105.35 -105.35 -105.35 -105.35  -50.35   66.65  120.65  147.65  147.65\n",
      "   147.65  147.65  138.65   27.65  -94.35 -105.35 -105.35 -105.35 -105.35\n",
      "  -105.35 -105.35 -105.35 -105.35 -105.35 -105.35 -105.35 -105.35 -105.35\n",
      "  -105.35]\n",
      " [-105.35 -105.35 -105.35 -105.35   30.65  147.65  147.65  147.65  106.65\n",
      "    29.65   26.65  -89.35 -105.35 -105.35 -105.35 -105.35 -105.35 -105.35\n",
      "  -105.35 -105.35 -105.35 -105.35 -105.35 -105.35 -105.35 -105.35 -105.35\n",
      "  -105.35]\n",
      " [-105.35 -105.35 -105.35 -105.35 -105.35 -105.35 -105.35 -105.35 -105.35\n",
      "  -105.35 -105.35 -105.35 -105.35 -105.35 -105.35 -105.35 -105.35 -105.35\n",
      "  -105.35 -105.35 -105.35 -105.35 -105.35 -105.35 -105.35 -105.35 -105.35\n",
      "  -105.35]\n",
      " [-105.35 -105.35 -105.35 -105.35 -105.35 -105.35 -105.35 -105.35 -105.35\n",
      "  -105.35 -105.35 -105.35 -105.35 -105.35 -105.35 -105.35 -105.35 -105.35\n",
      "  -105.35 -105.35 -105.35 -105.35 -105.35 -105.35 -105.35 -105.35 -105.35\n",
      "  -105.35]\n",
      " [-105.35 -105.35 -105.35 -105.35 -105.35 -105.35 -105.35 -105.35 -105.35\n",
      "  -105.35 -105.35 -105.35 -105.35 -105.35 -105.35 -105.35 -105.35 -105.35\n",
      "  -105.35 -105.35 -105.35 -105.35 -105.35 -105.35 -105.35 -105.35 -105.35\n",
      "  -105.35]]\n"
     ]
    }
   ],
   "source": [
    "index = 0\n",
    "image = X_train[index].reshape(28,28)\n",
    "image = image.astype(np.float) # float型に変換\n",
    "image -= 105.35 # 意図的に負の小数値を作り出してみる\n",
    "plt.imshow(image, 'gray')\n",
    "plt.title('label : {}'.format(y_train[index]))\n",
    "plt.show()\n",
    "print(image) # 値を確認"
   ]
  },
  {
   "cell_type": "code",
   "execution_count": 7,
   "metadata": {},
   "outputs": [
    {
     "data": {
      "text/plain": [
       "<matplotlib.image.AxesImage at 0x151e7f7d0>"
      ]
     },
     "execution_count": 7,
     "metadata": {},
     "output_type": "execute_result"
    },
    {
     "data": {
      "image/png": "[encoded data removed]",
      "text/plain": [
       "<Figure size 432x288 with 1 Axes>"
      ]
     },
     "metadata": {
      "needs_background": "light"
     },
     "output_type": "display_data"
    }
   ],
   "source": [
    "plt.imshow(image, 'gray', vmin = 0, vmax = 255)"
   ]
  },
  {
   "cell_type": "markdown",
   "metadata": {},
   "source": [
    "# 前処理"
   ]
  },
  {
   "cell_type": "code",
   "execution_count": 8,
   "metadata": {},
   "outputs": [
    {
     "name": "stdout",
     "output_type": "stream",
     "text": [
      "1.0\n",
      "0.0\n"
     ]
    }
   ],
   "source": [
    "X_train = X_train.astype(np.float)\n",
    "X_test = X_test.astype(np.float)\n",
    "X_train /= 255\n",
    "X_test /= 255\n",
    "print(X_train.max()) # 1.0\n",
    "print(X_train.min()) # 0.0"
   ]
  },
  {
   "cell_type": "code",
   "execution_count": 9,
   "metadata": {},
   "outputs": [
    {
     "name": "stdout",
     "output_type": "stream",
     "text": [
      "(60000,)\n",
      "(60000, 10)\n",
      "float64\n"
     ]
    }
   ],
   "source": [
    "from sklearn.preprocessing import OneHotEncoder\n",
    "enc = OneHotEncoder(handle_unknown='ignore', sparse=False)\n",
    "y_train_one_hot = enc.fit_transform(y_train[:, np.newaxis])\n",
    "y_test_one_hot = enc.transform(y_test[:, np.newaxis])\n",
    "print(y_train.shape) # (60000,)\n",
    "print(y_train_one_hot.shape) # (60000, 10)\n",
    "print(y_train_one_hot.dtype) # float64"
   ]
  },
  {
   "cell_type": "code",
   "execution_count": 10,
   "metadata": {},
   "outputs": [
    {
     "name": "stdout",
     "output_type": "stream",
     "text": [
      "(48000, 784)\n",
      "(12000, 784)\n",
      "(48000, 10)\n"
     ]
    }
   ],
   "source": [
    "X_train_1, X_val, y_train_1, y_val = train_test_split(X_train, y_train_one_hot, test_size=0.2)\n",
    "print(X_train_1.shape) # (48000, 784)\n",
    "print(X_val.shape) # (12000, 784)\n",
    "print(y_train_1.shape)"
   ]
  },
  {
   "cell_type": "code",
   "execution_count": 11,
   "metadata": {},
   "outputs": [],
   "source": [
    "# ミニバッチ\n",
    "class GetMiniBatch:\n",
    "    \"\"\"\n",
    "    ミニバッチを取得するイテレータ\n",
    "\n",
    "    Parameters\n",
    "    ----------\n",
    "    X : 次の形のndarray, shape (n_samples, n_features)\n",
    "      訓練データ\n",
    "    y : 次の形のndarray, shape (n_samples, 1)\n",
    "      正解値\n",
    "    batch_size : int\n",
    "      バッチサイズ\n",
    "    seed : int\n",
    "      NumPyの乱数のシード\n",
    "    \"\"\"\n",
    "    def __init__(self, X, y, batch_size = 20, seed=0):\n",
    "        self.batch_size = batch_size\n",
    "        np.random.seed(seed)\n",
    "        shuffle_index = np.random.permutation(np.arange(X.shape[0]))\n",
    "        self._X = X[shuffle_index]\n",
    "        self._y = y[shuffle_index]\n",
    "        self._stop = np.ceil(X.shape[0]/self.batch_size).astype(np.int)\n",
    "    def __len__(self):\n",
    "        return self._stop\n",
    "    def __getitem__(self,item):\n",
    "        p0 = item*self.batch_size\n",
    "        p1 = item*self.batch_size + self.batch_size\n",
    "        return self._X[p0:p1], self._y[p0:p1]        \n",
    "    def __iter__(self):\n",
    "        self._counter = 0\n",
    "        return self\n",
    "    def __next__(self):\n",
    "        if self._counter >= self._stop:\n",
    "            raise StopIteration()\n",
    "        p0 = self._counter*self.batch_size\n",
    "        p1 = self._counter*self.batch_size + self.batch_size\n",
    "        self._counter += 1\n",
    "        return self._X[p0:p1], self._y[p0:p1]"
   ]
  },
  {
   "cell_type": "code",
   "execution_count": 12,
   "metadata": {},
   "outputs": [
    {
     "name": "stdout",
     "output_type": "stream",
     "text": [
      "3000\n",
      "(array([[0., 0., 0., ..., 0., 0., 0.],\n",
      "       [0., 0., 0., ..., 0., 0., 0.],\n",
      "       [0., 0., 0., ..., 0., 0., 0.],\n",
      "       ...,\n",
      "       [0., 0., 0., ..., 0., 0., 0.],\n",
      "       [0., 0., 0., ..., 0., 0., 0.],\n",
      "       [0., 0., 0., ..., 0., 0., 0.]]), array([4, 8, 4, 1, 3, 4, 9, 1, 3, 1, 6, 4, 9, 1, 8, 8, 8, 4, 3, 6],\n",
      "      dtype=uint8))\n"
     ]
    }
   ],
   "source": [
    "get_mini_batch = GetMiniBatch(X_train, y_train, batch_size=20)\n",
    "print(len(get_mini_batch)) # 2400\n",
    "print(get_mini_batch[5]) # 5番目のミニバッチが取得できる\n",
    "for mini_X_train, mini_y_train in get_mini_batch:\n",
    "    # このfor文内でミニバッチが使える\n",
    "    break"
   ]
  },
  {
   "cell_type": "markdown",
   "metadata": {},
   "source": [
    "# 【問題1】重みの初期値を決めるコードの作成"
   ]
  },
  {
   "cell_type": "code",
   "execution_count": 13,
   "metadata": {},
   "outputs": [],
   "source": [
    "np.random.seed(0)\n",
    "n_features = 784\n",
    "n_nodes1 = 400\n",
    "sigma = 0.01 # ガウス分布の標準偏差\n",
    "W1 = sigma * np.random.randn(n_features, n_nodes1)\n",
    "# W1: (784, 400)"
   ]
  },
  {
   "cell_type": "code",
   "execution_count": 14,
   "metadata": {},
   "outputs": [
    {
     "name": "stdout",
     "output_type": "stream",
     "text": [
      "(784, 400)\n"
     ]
    }
   ],
   "source": [
    "print(W1.shape)"
   ]
  },
  {
   "cell_type": "markdown",
   "metadata": {},
   "source": [
    "# 【問題2】フォワードプロパゲーションの実装"
   ]
  },
  {
   "cell_type": "markdown",
   "metadata": {},
   "source": [
    "三層のニューラルネットワークの フォワードプロパゲーション を作成してください。<br>\n",
    "以下の説明ではノード数は1層目は400、2層目は200としますが、変更しても構いません。<br>\n",
    "各層の数式を以下に示します。今回はそれぞれの記号が表す配列が、実装上どのようなndarrayのshapeになるかを併記してあります。"
   ]
  },
  {
   "cell_type": "code",
   "execution_count": null,
   "metadata": {},
   "outputs": [],
   "source": [
    "「1層目」\n",
    "\n",
    "\n",
    "$X$ : 特徴量ベクトル (batch_size=20, n_features=748)\n",
    "$W_1$ : 1層目の重み (n_features=748, n_nodes1=400)\n",
    "$B_1$ : 1層目のバイアス (n_nodes1=400,)\n",
    "$A_1$ : 出力 (batch_size=20, n_nodes1=400)\n",
    "\n",
    "「1層目の活性化関数」\n",
    "\n",
    "$f()$ : 活性化関数=tanh()\n",
    "$Z_1$ 出力 (batch_size=20, n_nodes1=400)\n",
    "\n",
    "「2層目」\n",
    "\n",
    "$W_2$ : 2層目の重み (n_nodes1=400, n_nodes2=200)\n",
    "$B_2$ : 2層目のバイアス (n_nodes2,=200)\n",
    "$A_2$ : 出力 (batch_size=20, n_nodes2=200)\n",
    "\n",
    "「2層目の活性化関数」\n",
    "\n",
    "$f()$ : 活性化関数=tanh()\n",
    "$Z_2$ 出力 (batch_size=20, n_nodes2=200)\n",
    "\n",
    "「3層目（出力層）」\n",
    "\n",
    "$W_3$ : 3層目の重み (n_nodes2=200, n_output=10)\n",
    "$B_3$ : 3層目のバイアス (n_output=10,)\n",
    "$A_3$ : 出力 (batch_size=20, n_output=10)\n",
    "\n",
    "「3層目の活性化関数」\n",
    "\n",
    "$softmax()$ : ソフトマックス関数\n",
    "$Z_3$ 出力 (batch_size20, n_output=10)\n",
    "$Z_3$ は各ラベル（0〜9）に対する確率の配列である。"
   ]
  },
  {
   "cell_type": "code",
   "execution_count": 15,
   "metadata": {},
   "outputs": [],
   "source": [
    "# 活性化関数（フォワードプロバゲーション）\n",
    "def sigmoid(a):\n",
    "    z_pred = 1/(1+np.exp(-1*a))\n",
    "    return z_pred\n",
    "\n",
    "def tanh(a):\n",
    "    z_pred = np.tanh(a)\n",
    "    return z_pred"
   ]
  },
  {
   "cell_type": "code",
   "execution_count": 16,
   "metadata": {},
   "outputs": [],
   "source": [
    "# ソフトマックス関数\n",
    "def softmax(a):\n",
    "    z_pred = (np.exp(a).T/np.exp(a).sum(axis=1)).T\n",
    "    \n",
    "    return z_pred"
   ]
  },
  {
   "cell_type": "code",
   "execution_count": 38,
   "metadata": {},
   "outputs": [
    {
     "name": "stdout",
     "output_type": "stream",
     "text": [
      "[[4.23449925 9.18145853 3.89686249 2.08826317 2.08910873 8.86523278\n",
      "  0.65827815 8.55316516 4.63009139 4.81382439]\n",
      " [6.65281191 3.71861868 2.6808774  9.71205683 8.80422591 1.30629418\n",
      "  6.30599722 3.925944   6.55363474 7.73716113]\n",
      " [6.57563827 1.94291795 9.29190638 6.07391201 3.95716376 7.25341882\n",
      "  8.61932357 9.32056265 2.18818675 5.90599628]\n",
      " [2.09382159 8.77435943 4.21768849 3.96805011 1.45888048 7.88626854\n",
      "  8.34391087 6.89324747 8.71576345 2.84106478]\n",
      " [4.23274975 7.00723962 1.71490531 9.86663928 8.40779561 0.21568127\n",
      "  8.82114857 0.48427204 4.77894154 2.52321113]\n",
      " [6.52698263 2.60325107 2.2883042  8.80453936 1.30325888 1.50937787\n",
      "  4.94299192 6.16440185 8.50700599 4.00132859]\n",
      " [2.43051728 6.13954192 4.16554729 9.62724595 7.39286055 3.36297721\n",
      "  2.16011279 4.07110427 3.39117758 1.56643395]\n",
      " [0.67916588 3.3980468  0.88941822 2.42248139 7.67254624 0.86977043\n",
      "  2.30585639 0.62069279 8.06017491 6.30991279]\n",
      " [9.84101512 5.98740593 3.27492824 0.87974936 8.98363945 4.7584101\n",
      "  1.69208808 2.10897248 9.0643232  5.27235529]\n",
      " [5.6723114  7.57702839 2.55495297 3.07464963 2.61938494 2.90074726\n",
      "  6.63200047 5.99099206 8.0483549  5.77619302]\n",
      " [0.11029813 7.67773478 4.17112262 9.30421557 8.91629869 7.29186279\n",
      "  1.59067458 0.59409863 2.51953537 2.33706464]\n",
      " [2.18460317 6.09730279 3.26536287 3.41397868 1.82222125 9.24837557\n",
      "  9.07170276 5.92472645 8.38688089 9.58786765]\n",
      " [6.03015868 1.56423796 6.15102023 7.17812281 4.31890382 3.99704848\n",
      "  9.08196139 9.36217785 1.25651961 5.99735098]\n",
      " [2.88171562 0.37665373 2.04302236 6.92205921 4.40144151 0.58441733\n",
      "  3.29740797 9.23478896 0.84556172 6.88094441]\n",
      " [8.81188233 9.26674681 9.13434328 0.0411386  0.41053857 2.35785418\n",
      "  6.46695021 5.33038419 5.81271866 1.98533568]\n",
      " [2.29304728 8.71690228 2.38949791 1.19132257 1.69974968 1.13214868\n",
      "  7.15428034 0.21894893 9.31651258 4.69194599]\n",
      " [9.26270972 4.67808575 6.65668912 8.27973257 3.05116104 8.05494362\n",
      "  6.77519276 9.12682072 0.97847593 6.17851132]\n",
      " [5.21125315 6.86551492 9.81300391 0.60960391 7.98909695 0.49030978\n",
      "  7.726955   5.36002632 4.76226188 2.58125041]\n",
      " [2.30813234 8.62253754 2.96755741 5.52605488 6.39261467 5.18913805\n",
      "  4.43020341 5.01489151 3.76682968 3.90638222]\n",
      " [1.16211231 1.01748864 3.05458072 2.5573002  3.19512574 6.427617\n",
      "  8.56333258 9.10320264 9.88730369 1.77946758]]\n"
     ]
    }
   ],
   "source": [
    "a = np.random.uniform(0, 10,(20, 10))\n",
    "print(a)"
   ]
  },
  {
   "cell_type": "code",
   "execution_count": 18,
   "metadata": {},
   "outputs": [
    {
     "data": {
      "text/plain": [
       "(10,)"
      ]
     },
     "execution_count": 18,
     "metadata": {},
     "output_type": "execute_result"
    }
   ],
   "source": [
    "np.exp(a).sum(axis=0).shape"
   ]
  },
  {
   "cell_type": "code",
   "execution_count": 39,
   "metadata": {},
   "outputs": [
    {
     "data": {
      "text/plain": [
       "array([[3.08957133e-03, 4.34845865e-01, 2.20426825e-03, 3.61243249e-04,\n",
       "        3.61548833e-04, 3.16956927e-01, 8.64500276e-05, 2.31990929e-01,\n",
       "        4.58882727e-03, 5.51437046e-03],\n",
       "       [2.80735659e-02, 1.49277260e-03, 5.28820571e-04, 5.98288657e-01,\n",
       "        2.41348615e-01, 1.33762517e-04, 1.98462234e-02, 1.83668169e-03,\n",
       "        2.54229232e-02, 8.30279782e-02],\n",
       "       [2.34806990e-02, 2.28426325e-04, 3.55116846e-01, 1.42172002e-02,\n",
       "        1.71207187e-03, 4.62452761e-02, 1.81247602e-01, 3.65440379e-01,\n",
       "        2.91920798e-04, 1.20195774e-02],\n",
       "       [3.94635388e-04, 3.14424766e-01, 3.30049974e-03, 2.57136148e-03,\n",
       "        2.09143615e-04, 1.29367080e-01, 2.04444445e-01, 4.79247885e-02,\n",
       "        2.96530136e-01, 8.33143135e-04],\n",
       "       [2.16362165e-03, 3.46838228e-02, 1.74459801e-04, 6.05269028e-01,\n",
       "        1.40728058e-01, 3.89574610e-05, 2.12763736e-01, 5.09610222e-05,\n",
       "        3.73584974e-03, 3.91505735e-04],\n",
       "       [5.25680131e-02, 1.03912214e-03, 7.58380073e-04, 5.12686505e-01,\n",
       "        2.83196032e-04, 3.48019440e-04, 1.07845776e-02, 3.65809289e-02,\n",
       "        3.80745503e-01, 4.20575480e-03],\n",
       "       [6.50633125e-04, 2.65549265e-02, 3.68850288e-03, 8.68631786e-01,\n",
       "        9.29939014e-02, 1.65309713e-03, 4.96479123e-04, 3.35609345e-03,\n",
       "        1.70037862e-03, 2.74201322e-04],\n",
       "       [3.32908255e-04, 5.04800229e-03, 4.10805258e-04, 1.90299159e-03,\n",
       "        3.62669527e-01, 4.02812619e-04, 1.69350810e-03, 3.14000271e-04,\n",
       "        5.34387209e-01, 9.28382351e-02],\n",
       "       [5.19685466e-01, 1.10189285e-02, 7.31350012e-04, 6.66672128e-05,\n",
       "        2.20489062e-01, 3.22398681e-03, 1.50212656e-04, 2.27906713e-04,\n",
       "        2.39016321e-01, 5.39009991e-03],\n",
       "       [4.20098949e-02, 2.82201731e-01, 1.85994469e-03, 3.12752955e-03,\n",
       "        1.98372963e-03, 2.62830997e-03, 1.09682986e-01, 5.77767153e-02,\n",
       "        4.52120478e-01, 4.66086809e-02],\n",
       "       [5.03883452e-05, 9.74599262e-02, 2.92363913e-03, 4.95675789e-01,\n",
       "        3.36300527e-01, 6.62588660e-02, 2.21436608e-04, 8.17413838e-05,\n",
       "        5.60594120e-04, 4.67092083e-04],\n",
       "       [2.28112186e-04, 1.14133290e-02, 6.72227784e-04, 7.79936933e-04,\n",
       "        1.58769843e-04, 2.66628064e-01, 2.23448700e-01, 9.60424847e-03,\n",
       "        1.12658373e-01, 3.74408239e-01],\n",
       "       [1.79443885e-02, 2.06254740e-04, 2.02496801e-02, 5.65565814e-02,\n",
       "        3.24145594e-03, 2.34941710e-03, 3.79585610e-01, 5.02349763e-01,\n",
       "        1.51622467e-04, 1.73652268e-02],\n",
       "       [1.44198559e-03, 1.17767747e-04, 6.23334358e-04, 8.19709269e-02,\n",
       "        6.59127588e-03, 1.44962927e-04, 2.18521319e-03, 8.28067259e-01,\n",
       "        1.88222058e-04, 7.86690519e-02],\n",
       "       [2.41781656e-01, 3.81038173e-01, 3.33784652e-01, 3.75264728e-05,\n",
       "        5.42957848e-05, 3.80605044e-04, 2.31756686e-02, 7.43751608e-03,\n",
       "        1.20476716e-02, 2.62235698e-04],\n",
       "       [5.31162138e-04, 3.27394885e-01, 5.84945071e-04, 1.76503837e-04,\n",
       "        2.93468328e-04, 1.66362430e-04, 6.86173285e-02, 6.67509796e-05,\n",
       "        5.96319944e-01, 5.84864931e-03],\n",
       "       [3.62164551e-01, 3.69682630e-03, 2.67377939e-02, 1.35520309e-01,\n",
       "        7.26548518e-04, 1.08238007e-01, 3.01017017e-02, 3.16147750e-01,\n",
       "        9.14342519e-05, 1.65750783e-02],\n",
       "       [7.34014159e-03, 3.83832012e-02, 7.31508532e-01, 7.36603138e-05,\n",
       "        1.18061057e-01, 6.53769686e-05, 9.08363900e-02, 8.51757173e-03,\n",
       "        4.68500442e-03, 5.29064665e-04],\n",
       "       [1.44885464e-03, 8.00453576e-01, 2.80162164e-03, 3.61868529e-02,\n",
       "        8.60781557e-02, 2.58362631e-02, 1.20956321e-02, 2.17047800e-02,\n",
       "        6.23058779e-03, 7.16367567e-03],\n",
       "       [9.24211708e-05, 7.99764652e-05, 6.13281769e-04, 3.72987150e-04,\n",
       "        7.05826533e-04, 1.78875598e-02, 1.51384214e-01, 2.59742597e-01,\n",
       "        5.68949786e-01, 1.71350531e-04]])"
      ]
     },
     "execution_count": 39,
     "metadata": {},
     "output_type": "execute_result"
    }
   ],
   "source": [
    "np.exp(a).sum(axis=0)\n",
    "softmax(a)"
   ]
  },
  {
   "cell_type": "markdown",
   "metadata": {},
   "source": [
    "# 【問題3】交差エントロピー誤差の実装"
   ]
  },
  {
   "cell_type": "markdown",
   "metadata": {},
   "source": [
    "$$L = - \\frac{1}{n_b}\\sum_{j}^{n_b}\\sum_{k}^{n_c}y_{jk} log(z_{3\\_jk})$$"
   ]
  },
  {
   "cell_type": "markdown",
   "metadata": {},
   "source": [
    "yij: j番目のサンプルの k番目のクラスの正解ラベル（one-hot表現で0か1のスカラー）<br>\n",
    "z3ij : j 番目のサンプルの k 番目のクラスの確率（スカラー）<br>\n",
    "nb : バッチサイズ、batch_size<br>\n",
    "nc : クラスの数、n_output（今回のMNISTでは10）<br>\n",
    "サンプル1つあたりの誤差が求まります。<br>"
   ]
  },
  {
   "cell_type": "code",
   "execution_count": 20,
   "metadata": {},
   "outputs": [],
   "source": [
    "def loss_entropy(z3,y_train_batch):\n",
    "    loss = 1/z3.shape[0]*(y_train_batch*(np.log(z3))).sum()\n",
    "    return loss"
   ]
  },
  {
   "cell_type": "code",
   "execution_count": 22,
   "metadata": {},
   "outputs": [
    {
     "ename": "NameError",
     "evalue": "name 'clf' is not defined",
     "output_type": "error",
     "traceback": [
      "\u001b[0;31m---------------------------------------------------------------------------\u001b[0m",
      "\u001b[0;31mNameError\u001b[0m                                 Traceback (most recent call last)",
      "\u001b[0;32m<ipython-input-22-509cd8da10e1>\u001b[0m in \u001b[0;36m<module>\u001b[0;34m\u001b[0m\n\u001b[0;32m----> 1\u001b[0;31m \u001b[0mloss_entropy\u001b[0m\u001b[0;34m(\u001b[0m\u001b[0mclf\u001b[0m\u001b[0;34m.\u001b[0m\u001b[0mz3\u001b[0m\u001b[0;34m,\u001b[0m\u001b[0mnp\u001b[0m\u001b[0;34m.\u001b[0m\u001b[0mrandom\u001b[0m\u001b[0;34m.\u001b[0m\u001b[0muniform\u001b[0m\u001b[0;34m(\u001b[0m\u001b[0;36m0\u001b[0m\u001b[0;34m,\u001b[0m \u001b[0;36m10\u001b[0m\u001b[0;34m,\u001b[0m\u001b[0;34m(\u001b[0m\u001b[0;36m20\u001b[0m\u001b[0;34m,\u001b[0m \u001b[0;36m10\u001b[0m\u001b[0;34m)\u001b[0m\u001b[0;34m)\u001b[0m\u001b[0;34m)\u001b[0m\u001b[0;34m\u001b[0m\u001b[0;34m\u001b[0m\u001b[0m\n\u001b[0m",
      "\u001b[0;31mNameError\u001b[0m: name 'clf' is not defined"
     ]
    }
   ],
   "source": [
    "loss_entropy(clf.z3,np.random.uniform(0, 10,(20, 10)))"
   ]
  },
  {
   "cell_type": "code",
   "execution_count": 23,
   "metadata": {},
   "outputs": [
    {
     "data": {
      "text/plain": [
       "(600, 10)"
      ]
     },
     "execution_count": 23,
     "metadata": {},
     "output_type": "execute_result"
    }
   ],
   "source": [
    "np.random.uniform(0, 10,(600, 10)).shape"
   ]
  },
  {
   "cell_type": "code",
   "execution_count": 24,
   "metadata": {},
   "outputs": [
    {
     "ename": "NameError",
     "evalue": "name 'clf' is not defined",
     "output_type": "error",
     "traceback": [
      "\u001b[0;31m---------------------------------------------------------------------------\u001b[0m",
      "\u001b[0;31mNameError\u001b[0m                                 Traceback (most recent call last)",
      "\u001b[0;32m<ipython-input-24-97cdc4b43f8a>\u001b[0m in \u001b[0;36m<module>\u001b[0;34m\u001b[0m\n\u001b[0;32m----> 1\u001b[0;31m \u001b[0mclf\u001b[0m\u001b[0;34m.\u001b[0m\u001b[0mz3\u001b[0m\u001b[0;34m.\u001b[0m\u001b[0mshape\u001b[0m\u001b[0;34m[\u001b[0m\u001b[0;36m0\u001b[0m\u001b[0;34m]\u001b[0m\u001b[0;34m\u001b[0m\u001b[0;34m\u001b[0m\u001b[0m\n\u001b[0m",
      "\u001b[0;31mNameError\u001b[0m: name 'clf' is not defined"
     ]
    }
   ],
   "source": [
    "clf.z3.shape[0]"
   ]
  },
  {
   "cell_type": "markdown",
   "metadata": {},
   "source": [
    "# 【問題4】バックプロパゲーションの実装"
   ]
  },
  {
   "cell_type": "code",
   "execution_count": 21,
   "metadata": {},
   "outputs": [],
   "source": [
    "alpha = 0.01"
   ]
  },
  {
   "cell_type": "markdown",
   "metadata": {},
   "source": [
    "$$\\frac{\\partial L}{\\partial A_3} = Z_{3} - Y$$"
   ]
  },
  {
   "cell_type": "code",
   "execution_count": 22,
   "metadata": {},
   "outputs": [],
   "source": [
    "def L_A3(z3,y_train_batch):\n",
    "    LA3 = z3 - y_train_batch\n",
    "    return LA3"
   ]
  },
  {
   "cell_type": "markdown",
   "metadata": {},
   "source": [
    "$$\\frac{\\partial L}{\\partial B_3} = \\sum_{j}^{n_b}\\frac{\\partial L}{\\partial A_{3\\_j}}$$"
   ]
  },
  {
   "cell_type": "code",
   "execution_count": 23,
   "metadata": {},
   "outputs": [],
   "source": [
    "def L_B3(b3,z3,LA3):\n",
    "    L_B3 = (lam/z3.shape[0])*b3 + 1/z3.shape[0]*(LA3 @ z3).T\n",
    "    return L_B3"
   ]
  },
  {
   "cell_type": "markdown",
   "metadata": {},
   "source": [
    "$$\\frac{\\partial L}{\\partial W_3} = Z_{2}^{T}\\cdot \\frac{\\partial L}{\\partial A_3}$$"
   ]
  },
  {
   "cell_type": "code",
   "execution_count": 24,
   "metadata": {},
   "outputs": [],
   "source": [
    "def L_W3(z2,LA3):\n",
    "    LW3 = z2.T@LA3\n",
    "    return LW3"
   ]
  },
  {
   "cell_type": "markdown",
   "metadata": {},
   "source": [
    "$$\\frac{\\partial L}{\\partial Z_2} = \\frac{\\partial L}{\\partial A_3} \\cdot W_3^T$$"
   ]
  },
  {
   "cell_type": "code",
   "execution_count": 25,
   "metadata": {},
   "outputs": [],
   "source": [
    "def L_z2(LA3,W3):\n",
    "    LZ2 = LA3*W3.T\n",
    "    return LZ2"
   ]
  },
  {
   "cell_type": "markdown",
   "metadata": {},
   "source": [
    "$$A_3 = Z_2 \\cdot W_3 + B_3$$"
   ]
  },
  {
   "cell_type": "code",
   "execution_count": 26,
   "metadata": {},
   "outputs": [],
   "source": [
    "def A3(z2,w3,b3):\n",
    "    A3 = z2*w3 + b3\n",
    "    return A3"
   ]
  },
  {
   "cell_type": "markdown",
   "metadata": {},
   "source": [
    "$$\\frac{\\partial L}{\\partial A_2} = \\frac{\\partial L}{\\partial Z_2} \\odot \\{1-tanh^2(A_{2})\\}$$"
   ]
  },
  {
   "cell_type": "code",
   "execution_count": 27,
   "metadata": {},
   "outputs": [],
   "source": [
    "def L_A2(LZ2,a2):\n",
    "    LA2 = LZ2*(1-np.tanh(a2)^2)\n",
    "    return LA2"
   ]
  },
  {
   "cell_type": "markdown",
   "metadata": {},
   "source": [
    "$$\\frac{\\partial L}{\\partial B_2} = \\sum_{j}^{n_b}\\frac{\\partial L}{\\partial A_{2\\_j}}$$"
   ]
  },
  {
   "cell_type": "code",
   "execution_count": 28,
   "metadata": {},
   "outputs": [],
   "source": [
    "def L_B2(b2,z2,LA2):\n",
    "    L_B2 = (lam/z2.shape[0])*b2 + 1/z2.shape[0]*(LA2 @ z2).T\n",
    "    return L_B2"
   ]
  },
  {
   "cell_type": "markdown",
   "metadata": {},
   "source": [
    "$$\\frac{\\partial L}{\\partial Z_1} = \\frac{\\partial L}{\\partial A_2} \\cdot W_2^T$$"
   ]
  },
  {
   "cell_type": "code",
   "execution_count": 29,
   "metadata": {},
   "outputs": [],
   "source": [
    "def L_z1(LA2,W2):\n",
    "    LZ1 = LA2*W2.T\n",
    "    return LZ1"
   ]
  },
  {
   "cell_type": "markdown",
   "metadata": {},
   "source": [
    "$$\\frac{\\partial L}{\\partial W_2} = Z_{1}^T \\cdot \\frac{\\partial L}{\\partial A_2}$$"
   ]
  },
  {
   "cell_type": "code",
   "execution_count": 30,
   "metadata": {},
   "outputs": [],
   "source": [
    "def L_W2(z1,LA2):\n",
    "    LW2 = z1.T@LA2\n",
    "    return LW2"
   ]
  },
  {
   "cell_type": "markdown",
   "metadata": {},
   "source": [
    "$$\\frac{\\partial L}{\\partial A_1} = \\frac{\\partial L}{\\partial Z_1} \\odot \\{1-tanh^2(A_{1})\\}$$"
   ]
  },
  {
   "cell_type": "code",
   "execution_count": 31,
   "metadata": {},
   "outputs": [],
   "source": [
    "def L_A1(LZ1,a1):\n",
    "    LA1 = LZ1*(1-np.tanh(a1)^2)\n",
    "    return LA1"
   ]
  },
  {
   "cell_type": "markdown",
   "metadata": {},
   "source": [
    "$$\\frac{\\partial L}{\\partial B_1} = \\sum_{j}^{n_b}\\frac{\\partial L}{\\partial A_{1\\_j}}$$"
   ]
  },
  {
   "cell_type": "code",
   "execution_count": 32,
   "metadata": {},
   "outputs": [],
   "source": [
    "def L_B1(b1,z1,LA1):\n",
    "    L_B1 = (lam/z1.shape[0])*b1 + 1/z1.shape[0]*(LA1 @ z1).T\n",
    "    return L_B1"
   ]
  },
  {
   "cell_type": "markdown",
   "metadata": {},
   "source": [
    "$$\\frac{\\partial L}{\\partial W_1} = X^T \\cdot \\frac{\\partial L}{\\partial A_1}$$"
   ]
  },
  {
   "cell_type": "code",
   "execution_count": 33,
   "metadata": {},
   "outputs": [],
   "source": [
    "def L_W1(x,LA1):\n",
    "    LW1 = x.T@LA1\n",
    "    return LW1"
   ]
  },
  {
   "cell_type": "code",
   "execution_count": 60,
   "metadata": {},
   "outputs": [],
   "source": [
    "class ScratchSimpleNeuralNetrowkClassifier():\n",
    "    \"\"\"\n",
    "    シンプルな三層ニューラルネットワーク分類器\n",
    "\n",
    "    Parameters\n",
    "    ----------\n",
    "\n",
    "    Attributes\n",
    "    ----------\n",
    "    \"\"\"\n",
    "    def __init__(self,num_iter = 15,lr = 0.01,lam = 0.01, verbose = True):\n",
    "        self.num_iter = num_iter\n",
    "        self.lr = lr\n",
    "        self.verbose = verbose\n",
    "        self.lam = lam\n",
    "        np.random.seed(0)\n",
    "        n_features = 784\n",
    "        n_nodes1 = 400\n",
    "        sigma = 0.005 # ガウス分布の標準偏差\n",
    "        self.W1 = sigma * np.random.randn(n_features, n_nodes1)\n",
    "        n_nodes2 = 200\n",
    "        self.W2 = sigma * np.random.randn(n_nodes1, n_nodes2)\n",
    "        n_output = 10\n",
    "        self.W3 = sigma * np.random.randn(n_nodes2, n_output)\n",
    "        self.B1 = np.zeros(n_nodes1)\n",
    "        self.B2 = np.zeros(n_nodes2)\n",
    "        self.B3 = np.zeros(n_output)\n",
    "        self.alpha = 0.001\n",
    "        self.rec_loss = [] \n",
    "        self.rec_val_loss = [] \n",
    "        \n",
    "        pass\n",
    "    def fit(self, X, y, X_val=None, y_val=None):\n",
    "        self.X = X\n",
    "        self.y = y\n",
    "        self.X_val = X_val\n",
    "        self.y_val = y_val\n",
    "        get_mini_batch = GetMiniBatch(self.X, self.y, batch_size=20)\n",
    "        self.z_all = np.empty((0, 10),dtype=np.float)\n",
    "        for i in range(self.num_iter):\n",
    "            for mini_X_train, mini_y_train in get_mini_batch:\n",
    "                self.a1 = mini_X_train@self.W1 + self.B1\n",
    "                self.z1 = np.tanh(self.a1)\n",
    "                self.a2 = self.z1@self.W2 + self.B2\n",
    "                self.z2 = np.tanh(self.a2)\n",
    "                self.a3 = self.z2@self.W3 + self.B3\n",
    "                self.z3 = softmax(self.a3)\n",
    "                # バックプロパゲーション\n",
    "                self.back_pro(mini_X_train, mini_y_train)\n",
    "            self.loss_entropy(mini_y_train)\n",
    "            self.val_loss_entropy()\n",
    "\n",
    "        if self.verbose:\n",
    "            #verboseをTrueにした際は学習過程などを出力する\n",
    "            print()\n",
    "        pass\n",
    "    def back_pro(self,mini_X,mini_y):\n",
    "        LA3 = self.z3 - mini_y\n",
    "        L_B3 = (self.lam/self.z3.shape[0])*self.B3 + 1/self.z3.shape[0]*(LA3 * self.z3)\n",
    "        LW3 = self.z2.T@LA3\n",
    "        LZ2 = LA3@self.W3.T\n",
    "        \n",
    "        self.W3 = self.W3 - self.alpha*LW3\n",
    "        self.B3 = self.B3 - self.alpha*L_B3.mean(axis=0)\n",
    "        \n",
    "        LA2 = LZ2*(1-np.tanh(self.a2)**2)\n",
    "        L_B2 = (self.lam/self.z2.shape[0])*self.B2 + 1/self.z2.shape[0]*(LA2 * self.z2)\n",
    "        LW2 = self.z1.T@LA2\n",
    "        LZ1 = LA2@self.W2.T\n",
    "        \n",
    "        self.W2 = self.W2 - self.alpha*LW2\n",
    "        self.B2 = self.B2 - self.alpha*L_B2.mean(axis=0)   \n",
    "        \n",
    "        LA1 = LZ1*(1-np.tanh(self.a1)**2)\n",
    "        L_B1 = (self.lam/self.z1.shape[0])*self.B1 + 1/self.z1.shape[0]*(LA1 * self.z1)\n",
    "        LW1 = mini_X.T@LA1\n",
    "        \n",
    "        self.W1 = self.W1 - self.alpha*LW1\n",
    "        self.B1 = self.B1 - self.alpha*L_B1.mean(axis=0)\n",
    "        \n",
    "    \n",
    "    def softmax(self,a):\n",
    "        z_pred = (np.exp(a).T/np.exp(a).sum(axis=1)).T\n",
    "    \n",
    "        return z_pred    \n",
    "    \n",
    "    def loss_entropy(self,y_train_batch):\n",
    "        self.loss = -1/self.z3.shape[0]*(y_train_batch*(np.log(self.z3))).sum()  \n",
    "        self.rec_loss.append(self.loss)\n",
    "        \n",
    "    def val_loss_entropy(self):\n",
    "        self.a1 = self.X_val@self.W1 + self.B1\n",
    "        self.z1 = np.tanh(self.a1)\n",
    "        self.a2 = self.z1@self.W2 + self.B2\n",
    "        self.z2 = np.tanh(self.a2)\n",
    "        self.a3 = self.z2@self.W3 + self.B3\n",
    "        self.z3 = softmax(self.a3)        \n",
    "        self.val_loss = -1/self.z3.shape[0]*(self.y_val*(np.log(self.z3))).sum()  \n",
    "        self.rec_val_loss.append(self.val_loss)\n",
    "        \n",
    "    def predict(self, X_test):\n",
    "        z_all = np.empty((0, 10),dtype=np.float)\n",
    "#         print(z_all.shape)\n",
    "        self.a1 = X_test@self.W1 + self.B1\n",
    "        self.z1 = np.tanh(self.a1)\n",
    "        self.a2 = self.z1@self.W2 + self.B2\n",
    "        self.z2 = np.tanh(self.a2)\n",
    "        self.a3 = self.z2@self.W3 + self.B3\n",
    "        self.z3 = softmax(self.a3)\n",
    "        z_all = np.concatenate([z_all,self.z3])\n",
    "        z_all_index = np.argmax(z_all, axis=1)\n",
    "        \n",
    "        pass\n",
    "        return z_all, z_all_index"
   ]
  },
  {
   "cell_type": "code",
   "execution_count": 61,
   "metadata": {},
   "outputs": [],
   "source": [
    "from sklearn import metrics"
   ]
  },
  {
   "cell_type": "markdown",
   "metadata": {},
   "source": [
    "# 【問題5】推定\n",
    "# 【問題6】学習と推定"
   ]
  },
  {
   "cell_type": "code",
   "execution_count": 62,
   "metadata": {},
   "outputs": [
    {
     "name": "stdout",
     "output_type": "stream",
     "text": [
      "\n",
      "学習結果0.9650833333333333\n"
     ]
    }
   ],
   "source": [
    "clf = ScratchSimpleNeuralNetrowkClassifier()\n",
    "clf.fit(X_train_1, y_train_1, X_val, y_val)\n",
    "y_pred,y_pred_index  = clf.predict(X_val)\n",
    "print(\"学習結果\" + str(metrics.accuracy_score(np.argmax(y_val, axis = 1), y_pred_index)))"
   ]
  },
  {
   "cell_type": "code",
   "execution_count": 63,
   "metadata": {},
   "outputs": [
    {
     "name": "stdout",
     "output_type": "stream",
     "text": [
      "[0.7400874328599356, 0.6508383726293522, 0.4987703515321366, 0.38943724831084947, 0.2946648289666182, 0.22270432735278192, 0.17182014026920447, 0.13800228024317793, 0.11580743523697393, 0.09992539318679122, 0.08765609139065056, 0.07792682482965602, 0.07011826356037289, 0.06373921870835692, 0.05840981270798942]\n"
     ]
    }
   ],
   "source": [
    "print(clf.rec_loss)"
   ]
  },
  {
   "cell_type": "code",
   "execution_count": 64,
   "metadata": {},
   "outputs": [
    {
     "name": "stdout",
     "output_type": "stream",
     "text": [
      "0.05840981270798942\n"
     ]
    }
   ],
   "source": [
    "print(clf.loss)"
   ]
  },
  {
   "cell_type": "code",
   "execution_count": 65,
   "metadata": {},
   "outputs": [
    {
     "name": "stdout",
     "output_type": "stream",
     "text": [
      "[0.6436671632618169, 0.40700725336474897, 0.33729119238629574, 0.2922659486046976, 0.2551946173773563, 0.22398967647781576, 0.19829071267648124, 0.1783526472846723, 0.16320301600047765, 0.15141092963160893, 0.1419654038177141, 0.13424901322677787, 0.12786295038403694, 0.12250135604660976, 0.11791083315919275]\n"
     ]
    }
   ],
   "source": [
    "print(clf.rec_val_loss)"
   ]
  },
  {
   "cell_type": "code",
   "execution_count": 66,
   "metadata": {},
   "outputs": [
    {
     "name": "stdout",
     "output_type": "stream",
     "text": [
      "0.11791083315919275\n"
     ]
    }
   ],
   "source": [
    "print(clf.val_loss)"
   ]
  },
  {
   "cell_type": "markdown",
   "metadata": {},
   "source": [
    "# 【問題7】学習曲線のプロット"
   ]
  },
  {
   "cell_type": "code",
   "execution_count": 70,
   "metadata": {},
   "outputs": [
    {
     "data": {
      "image/png": "[encoded data removed]",
      "text/plain": [
       "<Figure size 432x288 with 1 Axes>"
      ]
     },
     "metadata": {
      "needs_background": "light"
     },
     "output_type": "display_data"
    }
   ],
   "source": [
    "plt.title('LOSS,val_LOSS')\n",
    "plt.xlabel('iter')\n",
    "plt.ylabel('loss')\n",
    "\n",
    "plt.plot(range(1,16), clf.rec_loss)\n",
    "plt.plot(range(1,16), clf.rec_val_loss)\n",
    "legend_info = ('loss', 'val_loss')\n",
    "plt.legend(legend_info, loc=(0.7, 0.7), labelspacing=0.1, fontsize='medium')\n",
    "plt.show()"
   ]
  },
  {
   "cell_type": "code",
   "execution_count": null,
   "metadata": {},
   "outputs": [],
   "source": []
  }
 ],
 "metadata": {
  "kernelspec": {
   "display_name": "Python 3",
   "language": "python",
   "name": "python3"
  },
  "language_info": {
   "codemirror_mode": {
    "name": "ipython",
    "version": 3
   },
   "file_extension": ".py",
   "mimetype": "text/x-python",
   "name": "python",
   "nbconvert_exporter": "python",
   "pygments_lexer": "ipython3",
   "version": "3.7.4"
  },
  "toc": {
   "base_numbering": 1,
   "nav_menu": {},
   "number_sections": true,
   "sideBar": true,
   "skip_h1_title": false,
   "title_cell": "Table of Contents",
   "title_sidebar": "Contents",
   "toc_cell": false,
   "toc_position": {
    "height": "calc(100% - 180px)",
    "left": "10px",
    "top": "150px",
    "width": "256px"
   },
   "toc_section_display": true,
   "toc_window_display": false
  }
 },
 "nbformat": 4,
 "nbformat_minor": 2
}
