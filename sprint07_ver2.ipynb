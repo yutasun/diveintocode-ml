{
 "cells": [
  {
   "cell_type": "code",
   "execution_count": 1,
   "metadata": {},
   "outputs": [],
   "source": [
    "# インポート\n",
    "import random\n",
    "import pandas as pd\n",
    "import numpy as np\n",
    "import matplotlib.pyplot as plt\n",
    "import seaborn as sns\n",
    "from sklearn.model_selection import train_test_split\n",
    "from sklearn.preprocessing import StandardScaler"
   ]
  },
  {
   "cell_type": "code",
   "execution_count": 2,
   "metadata": {},
   "outputs": [
    {
     "data": {
      "text/html": [
       "<div>\n",
       "<style scoped>\n",
       "    .dataframe tbody tr th:only-of-type {\n",
       "        vertical-align: middle;\n",
       "    }\n",
       "\n",
       "    .dataframe tbody tr th {\n",
       "        vertical-align: top;\n",
       "    }\n",
       "\n",
       "    .dataframe thead th {\n",
       "        text-align: right;\n",
       "    }\n",
       "</style>\n",
       "<table border=\"1\" class=\"dataframe\">\n",
       "  <thead>\n",
       "    <tr style=\"text-align: right;\">\n",
       "      <th></th>\n",
       "      <th>Id</th>\n",
       "      <th>MSSubClass</th>\n",
       "      <th>MSZoning</th>\n",
       "      <th>LotFrontage</th>\n",
       "      <th>LotArea</th>\n",
       "      <th>Street</th>\n",
       "      <th>Alley</th>\n",
       "      <th>LotShape</th>\n",
       "      <th>LandContour</th>\n",
       "      <th>Utilities</th>\n",
       "      <th>...</th>\n",
       "      <th>PoolArea</th>\n",
       "      <th>PoolQC</th>\n",
       "      <th>Fence</th>\n",
       "      <th>MiscFeature</th>\n",
       "      <th>MiscVal</th>\n",
       "      <th>MoSold</th>\n",
       "      <th>YrSold</th>\n",
       "      <th>SaleType</th>\n",
       "      <th>SaleCondition</th>\n",
       "      <th>SalePrice</th>\n",
       "    </tr>\n",
       "  </thead>\n",
       "  <tbody>\n",
       "    <tr>\n",
       "      <td>0</td>\n",
       "      <td>1</td>\n",
       "      <td>60</td>\n",
       "      <td>RL</td>\n",
       "      <td>65.0</td>\n",
       "      <td>8450</td>\n",
       "      <td>Pave</td>\n",
       "      <td>NaN</td>\n",
       "      <td>Reg</td>\n",
       "      <td>Lvl</td>\n",
       "      <td>AllPub</td>\n",
       "      <td>...</td>\n",
       "      <td>0</td>\n",
       "      <td>NaN</td>\n",
       "      <td>NaN</td>\n",
       "      <td>NaN</td>\n",
       "      <td>0</td>\n",
       "      <td>2</td>\n",
       "      <td>2008</td>\n",
       "      <td>WD</td>\n",
       "      <td>Normal</td>\n",
       "      <td>208500</td>\n",
       "    </tr>\n",
       "    <tr>\n",
       "      <td>1</td>\n",
       "      <td>2</td>\n",
       "      <td>20</td>\n",
       "      <td>RL</td>\n",
       "      <td>80.0</td>\n",
       "      <td>9600</td>\n",
       "      <td>Pave</td>\n",
       "      <td>NaN</td>\n",
       "      <td>Reg</td>\n",
       "      <td>Lvl</td>\n",
       "      <td>AllPub</td>\n",
       "      <td>...</td>\n",
       "      <td>0</td>\n",
       "      <td>NaN</td>\n",
       "      <td>NaN</td>\n",
       "      <td>NaN</td>\n",
       "      <td>0</td>\n",
       "      <td>5</td>\n",
       "      <td>2007</td>\n",
       "      <td>WD</td>\n",
       "      <td>Normal</td>\n",
       "      <td>181500</td>\n",
       "    </tr>\n",
       "    <tr>\n",
       "      <td>2</td>\n",
       "      <td>3</td>\n",
       "      <td>60</td>\n",
       "      <td>RL</td>\n",
       "      <td>68.0</td>\n",
       "      <td>11250</td>\n",
       "      <td>Pave</td>\n",
       "      <td>NaN</td>\n",
       "      <td>IR1</td>\n",
       "      <td>Lvl</td>\n",
       "      <td>AllPub</td>\n",
       "      <td>...</td>\n",
       "      <td>0</td>\n",
       "      <td>NaN</td>\n",
       "      <td>NaN</td>\n",
       "      <td>NaN</td>\n",
       "      <td>0</td>\n",
       "      <td>9</td>\n",
       "      <td>2008</td>\n",
       "      <td>WD</td>\n",
       "      <td>Normal</td>\n",
       "      <td>223500</td>\n",
       "    </tr>\n",
       "    <tr>\n",
       "      <td>3</td>\n",
       "      <td>4</td>\n",
       "      <td>70</td>\n",
       "      <td>RL</td>\n",
       "      <td>60.0</td>\n",
       "      <td>9550</td>\n",
       "      <td>Pave</td>\n",
       "      <td>NaN</td>\n",
       "      <td>IR1</td>\n",
       "      <td>Lvl</td>\n",
       "      <td>AllPub</td>\n",
       "      <td>...</td>\n",
       "      <td>0</td>\n",
       "      <td>NaN</td>\n",
       "      <td>NaN</td>\n",
       "      <td>NaN</td>\n",
       "      <td>0</td>\n",
       "      <td>2</td>\n",
       "      <td>2006</td>\n",
       "      <td>WD</td>\n",
       "      <td>Abnorml</td>\n",
       "      <td>140000</td>\n",
       "    </tr>\n",
       "    <tr>\n",
       "      <td>4</td>\n",
       "      <td>5</td>\n",
       "      <td>60</td>\n",
       "      <td>RL</td>\n",
       "      <td>84.0</td>\n",
       "      <td>14260</td>\n",
       "      <td>Pave</td>\n",
       "      <td>NaN</td>\n",
       "      <td>IR1</td>\n",
       "      <td>Lvl</td>\n",
       "      <td>AllPub</td>\n",
       "      <td>...</td>\n",
       "      <td>0</td>\n",
       "      <td>NaN</td>\n",
       "      <td>NaN</td>\n",
       "      <td>NaN</td>\n",
       "      <td>0</td>\n",
       "      <td>12</td>\n",
       "      <td>2008</td>\n",
       "      <td>WD</td>\n",
       "      <td>Normal</td>\n",
       "      <td>250000</td>\n",
       "    </tr>\n",
       "  </tbody>\n",
       "</table>\n",
       "<p>5 rows × 81 columns</p>\n",
       "</div>"
      ],
      "text/plain": [
       "   Id  MSSubClass MSZoning  LotFrontage  LotArea Street Alley LotShape  \\\n",
       "0   1          60       RL         65.0     8450   Pave   NaN      Reg   \n",
       "1   2          20       RL         80.0     9600   Pave   NaN      Reg   \n",
       "2   3          60       RL         68.0    11250   Pave   NaN      IR1   \n",
       "3   4          70       RL         60.0     9550   Pave   NaN      IR1   \n",
       "4   5          60       RL         84.0    14260   Pave   NaN      IR1   \n",
       "\n",
       "  LandContour Utilities  ... PoolArea PoolQC Fence MiscFeature MiscVal MoSold  \\\n",
       "0         Lvl    AllPub  ...        0    NaN   NaN         NaN       0      2   \n",
       "1         Lvl    AllPub  ...        0    NaN   NaN         NaN       0      5   \n",
       "2         Lvl    AllPub  ...        0    NaN   NaN         NaN       0      9   \n",
       "3         Lvl    AllPub  ...        0    NaN   NaN         NaN       0      2   \n",
       "4         Lvl    AllPub  ...        0    NaN   NaN         NaN       0     12   \n",
       "\n",
       "  YrSold  SaleType  SaleCondition  SalePrice  \n",
       "0   2008        WD         Normal     208500  \n",
       "1   2007        WD         Normal     181500  \n",
       "2   2008        WD         Normal     223500  \n",
       "3   2006        WD        Abnorml     140000  \n",
       "4   2008        WD         Normal     250000  \n",
       "\n",
       "[5 rows x 81 columns]"
      ]
     },
     "metadata": {},
     "output_type": "display_data"
    },
    {
     "name": "stdout",
     "output_type": "stream",
     "text": [
      "<class 'pandas.core.frame.DataFrame'>\n",
      "RangeIndex: 1460 entries, 0 to 1459\n",
      "Data columns (total 81 columns):\n",
      "Id               1460 non-null int64\n",
      "MSSubClass       1460 non-null int64\n",
      "MSZoning         1460 non-null object\n",
      "LotFrontage      1201 non-null float64\n",
      "LotArea          1460 non-null int64\n",
      "Street           1460 non-null object\n",
      "Alley            91 non-null object\n",
      "LotShape         1460 non-null object\n",
      "LandContour      1460 non-null object\n",
      "Utilities        1460 non-null object\n",
      "LotConfig        1460 non-null object\n",
      "LandSlope        1460 non-null object\n",
      "Neighborhood     1460 non-null object\n",
      "Condition1       1460 non-null object\n",
      "Condition2       1460 non-null object\n",
      "BldgType         1460 non-null object\n",
      "HouseStyle       1460 non-null object\n",
      "OverallQual      1460 non-null int64\n",
      "OverallCond      1460 non-null int64\n",
      "YearBuilt        1460 non-null int64\n",
      "YearRemodAdd     1460 non-null int64\n",
      "RoofStyle        1460 non-null object\n",
      "RoofMatl         1460 non-null object\n",
      "Exterior1st      1460 non-null object\n",
      "Exterior2nd      1460 non-null object\n",
      "MasVnrType       1452 non-null object\n",
      "MasVnrArea       1452 non-null float64\n",
      "ExterQual        1460 non-null object\n",
      "ExterCond        1460 non-null object\n",
      "Foundation       1460 non-null object\n",
      "BsmtQual         1423 non-null object\n",
      "BsmtCond         1423 non-null object\n",
      "BsmtExposure     1422 non-null object\n",
      "BsmtFinType1     1423 non-null object\n",
      "BsmtFinSF1       1460 non-null int64\n",
      "BsmtFinType2     1422 non-null object\n",
      "BsmtFinSF2       1460 non-null int64\n",
      "BsmtUnfSF        1460 non-null int64\n",
      "TotalBsmtSF      1460 non-null int64\n",
      "Heating          1460 non-null object\n",
      "HeatingQC        1460 non-null object\n",
      "CentralAir       1460 non-null object\n",
      "Electrical       1459 non-null object\n",
      "1stFlrSF         1460 non-null int64\n",
      "2ndFlrSF         1460 non-null int64\n",
      "LowQualFinSF     1460 non-null int64\n",
      "GrLivArea        1460 non-null int64\n",
      "BsmtFullBath     1460 non-null int64\n",
      "BsmtHalfBath     1460 non-null int64\n",
      "FullBath         1460 non-null int64\n",
      "HalfBath         1460 non-null int64\n",
      "BedroomAbvGr     1460 non-null int64\n",
      "KitchenAbvGr     1460 non-null int64\n",
      "KitchenQual      1460 non-null object\n",
      "TotRmsAbvGrd     1460 non-null int64\n",
      "Functional       1460 non-null object\n",
      "Fireplaces       1460 non-null int64\n",
      "FireplaceQu      770 non-null object\n",
      "GarageType       1379 non-null object\n",
      "GarageYrBlt      1379 non-null float64\n",
      "GarageFinish     1379 non-null object\n",
      "GarageCars       1460 non-null int64\n",
      "GarageArea       1460 non-null int64\n",
      "GarageQual       1379 non-null object\n",
      "GarageCond       1379 non-null object\n",
      "PavedDrive       1460 non-null object\n",
      "WoodDeckSF       1460 non-null int64\n",
      "OpenPorchSF      1460 non-null int64\n",
      "EnclosedPorch    1460 non-null int64\n",
      "3SsnPorch        1460 non-null int64\n",
      "ScreenPorch      1460 non-null int64\n",
      "PoolArea         1460 non-null int64\n",
      "PoolQC           7 non-null object\n",
      "Fence            281 non-null object\n",
      "MiscFeature      54 non-null object\n",
      "MiscVal          1460 non-null int64\n",
      "MoSold           1460 non-null int64\n",
      "YrSold           1460 non-null int64\n",
      "SaleType         1460 non-null object\n",
      "SaleCondition    1460 non-null object\n",
      "SalePrice        1460 non-null int64\n",
      "dtypes: float64(3), int64(35), object(43)\n",
      "memory usage: 924.0+ KB\n"
     ]
    },
    {
     "data": {
      "text/plain": [
       "None"
      ]
     },
     "metadata": {},
     "output_type": "display_data"
    },
    {
     "data": {
      "text/html": [
       "<div>\n",
       "<style scoped>\n",
       "    .dataframe tbody tr th:only-of-type {\n",
       "        vertical-align: middle;\n",
       "    }\n",
       "\n",
       "    .dataframe tbody tr th {\n",
       "        vertical-align: top;\n",
       "    }\n",
       "\n",
       "    .dataframe thead th {\n",
       "        text-align: right;\n",
       "    }\n",
       "</style>\n",
       "<table border=\"1\" class=\"dataframe\">\n",
       "  <thead>\n",
       "    <tr style=\"text-align: right;\">\n",
       "      <th></th>\n",
       "      <th>Id</th>\n",
       "      <th>MSSubClass</th>\n",
       "      <th>LotFrontage</th>\n",
       "      <th>LotArea</th>\n",
       "      <th>OverallQual</th>\n",
       "      <th>OverallCond</th>\n",
       "      <th>YearBuilt</th>\n",
       "      <th>YearRemodAdd</th>\n",
       "      <th>MasVnrArea</th>\n",
       "      <th>BsmtFinSF1</th>\n",
       "      <th>...</th>\n",
       "      <th>WoodDeckSF</th>\n",
       "      <th>OpenPorchSF</th>\n",
       "      <th>EnclosedPorch</th>\n",
       "      <th>3SsnPorch</th>\n",
       "      <th>ScreenPorch</th>\n",
       "      <th>PoolArea</th>\n",
       "      <th>MiscVal</th>\n",
       "      <th>MoSold</th>\n",
       "      <th>YrSold</th>\n",
       "      <th>SalePrice</th>\n",
       "    </tr>\n",
       "  </thead>\n",
       "  <tbody>\n",
       "    <tr>\n",
       "      <td>count</td>\n",
       "      <td>1460.000000</td>\n",
       "      <td>1460.000000</td>\n",
       "      <td>1201.000000</td>\n",
       "      <td>1460.000000</td>\n",
       "      <td>1460.000000</td>\n",
       "      <td>1460.000000</td>\n",
       "      <td>1460.000000</td>\n",
       "      <td>1460.000000</td>\n",
       "      <td>1452.000000</td>\n",
       "      <td>1460.000000</td>\n",
       "      <td>...</td>\n",
       "      <td>1460.000000</td>\n",
       "      <td>1460.000000</td>\n",
       "      <td>1460.000000</td>\n",
       "      <td>1460.000000</td>\n",
       "      <td>1460.000000</td>\n",
       "      <td>1460.000000</td>\n",
       "      <td>1460.000000</td>\n",
       "      <td>1460.000000</td>\n",
       "      <td>1460.000000</td>\n",
       "      <td>1460.000000</td>\n",
       "    </tr>\n",
       "    <tr>\n",
       "      <td>mean</td>\n",
       "      <td>730.500000</td>\n",
       "      <td>56.897260</td>\n",
       "      <td>70.049958</td>\n",
       "      <td>10516.828082</td>\n",
       "      <td>6.099315</td>\n",
       "      <td>5.575342</td>\n",
       "      <td>1971.267808</td>\n",
       "      <td>1984.865753</td>\n",
       "      <td>103.685262</td>\n",
       "      <td>443.639726</td>\n",
       "      <td>...</td>\n",
       "      <td>94.244521</td>\n",
       "      <td>46.660274</td>\n",
       "      <td>21.954110</td>\n",
       "      <td>3.409589</td>\n",
       "      <td>15.060959</td>\n",
       "      <td>2.758904</td>\n",
       "      <td>43.489041</td>\n",
       "      <td>6.321918</td>\n",
       "      <td>2007.815753</td>\n",
       "      <td>180921.195890</td>\n",
       "    </tr>\n",
       "    <tr>\n",
       "      <td>std</td>\n",
       "      <td>421.610009</td>\n",
       "      <td>42.300571</td>\n",
       "      <td>24.284752</td>\n",
       "      <td>9981.264932</td>\n",
       "      <td>1.382997</td>\n",
       "      <td>1.112799</td>\n",
       "      <td>30.202904</td>\n",
       "      <td>20.645407</td>\n",
       "      <td>181.066207</td>\n",
       "      <td>456.098091</td>\n",
       "      <td>...</td>\n",
       "      <td>125.338794</td>\n",
       "      <td>66.256028</td>\n",
       "      <td>61.119149</td>\n",
       "      <td>29.317331</td>\n",
       "      <td>55.757415</td>\n",
       "      <td>40.177307</td>\n",
       "      <td>496.123024</td>\n",
       "      <td>2.703626</td>\n",
       "      <td>1.328095</td>\n",
       "      <td>79442.502883</td>\n",
       "    </tr>\n",
       "    <tr>\n",
       "      <td>min</td>\n",
       "      <td>1.000000</td>\n",
       "      <td>20.000000</td>\n",
       "      <td>21.000000</td>\n",
       "      <td>1300.000000</td>\n",
       "      <td>1.000000</td>\n",
       "      <td>1.000000</td>\n",
       "      <td>1872.000000</td>\n",
       "      <td>1950.000000</td>\n",
       "      <td>0.000000</td>\n",
       "      <td>0.000000</td>\n",
       "      <td>...</td>\n",
       "      <td>0.000000</td>\n",
       "      <td>0.000000</td>\n",
       "      <td>0.000000</td>\n",
       "      <td>0.000000</td>\n",
       "      <td>0.000000</td>\n",
       "      <td>0.000000</td>\n",
       "      <td>0.000000</td>\n",
       "      <td>1.000000</td>\n",
       "      <td>2006.000000</td>\n",
       "      <td>34900.000000</td>\n",
       "    </tr>\n",
       "    <tr>\n",
       "      <td>25%</td>\n",
       "      <td>365.750000</td>\n",
       "      <td>20.000000</td>\n",
       "      <td>59.000000</td>\n",
       "      <td>7553.500000</td>\n",
       "      <td>5.000000</td>\n",
       "      <td>5.000000</td>\n",
       "      <td>1954.000000</td>\n",
       "      <td>1967.000000</td>\n",
       "      <td>0.000000</td>\n",
       "      <td>0.000000</td>\n",
       "      <td>...</td>\n",
       "      <td>0.000000</td>\n",
       "      <td>0.000000</td>\n",
       "      <td>0.000000</td>\n",
       "      <td>0.000000</td>\n",
       "      <td>0.000000</td>\n",
       "      <td>0.000000</td>\n",
       "      <td>0.000000</td>\n",
       "      <td>5.000000</td>\n",
       "      <td>2007.000000</td>\n",
       "      <td>129975.000000</td>\n",
       "    </tr>\n",
       "    <tr>\n",
       "      <td>50%</td>\n",
       "      <td>730.500000</td>\n",
       "      <td>50.000000</td>\n",
       "      <td>69.000000</td>\n",
       "      <td>9478.500000</td>\n",
       "      <td>6.000000</td>\n",
       "      <td>5.000000</td>\n",
       "      <td>1973.000000</td>\n",
       "      <td>1994.000000</td>\n",
       "      <td>0.000000</td>\n",
       "      <td>383.500000</td>\n",
       "      <td>...</td>\n",
       "      <td>0.000000</td>\n",
       "      <td>25.000000</td>\n",
       "      <td>0.000000</td>\n",
       "      <td>0.000000</td>\n",
       "      <td>0.000000</td>\n",
       "      <td>0.000000</td>\n",
       "      <td>0.000000</td>\n",
       "      <td>6.000000</td>\n",
       "      <td>2008.000000</td>\n",
       "      <td>163000.000000</td>\n",
       "    </tr>\n",
       "    <tr>\n",
       "      <td>75%</td>\n",
       "      <td>1095.250000</td>\n",
       "      <td>70.000000</td>\n",
       "      <td>80.000000</td>\n",
       "      <td>11601.500000</td>\n",
       "      <td>7.000000</td>\n",
       "      <td>6.000000</td>\n",
       "      <td>2000.000000</td>\n",
       "      <td>2004.000000</td>\n",
       "      <td>166.000000</td>\n",
       "      <td>712.250000</td>\n",
       "      <td>...</td>\n",
       "      <td>168.000000</td>\n",
       "      <td>68.000000</td>\n",
       "      <td>0.000000</td>\n",
       "      <td>0.000000</td>\n",
       "      <td>0.000000</td>\n",
       "      <td>0.000000</td>\n",
       "      <td>0.000000</td>\n",
       "      <td>8.000000</td>\n",
       "      <td>2009.000000</td>\n",
       "      <td>214000.000000</td>\n",
       "    </tr>\n",
       "    <tr>\n",
       "      <td>max</td>\n",
       "      <td>1460.000000</td>\n",
       "      <td>190.000000</td>\n",
       "      <td>313.000000</td>\n",
       "      <td>215245.000000</td>\n",
       "      <td>10.000000</td>\n",
       "      <td>9.000000</td>\n",
       "      <td>2010.000000</td>\n",
       "      <td>2010.000000</td>\n",
       "      <td>1600.000000</td>\n",
       "      <td>5644.000000</td>\n",
       "      <td>...</td>\n",
       "      <td>857.000000</td>\n",
       "      <td>547.000000</td>\n",
       "      <td>552.000000</td>\n",
       "      <td>508.000000</td>\n",
       "      <td>480.000000</td>\n",
       "      <td>738.000000</td>\n",
       "      <td>15500.000000</td>\n",
       "      <td>12.000000</td>\n",
       "      <td>2010.000000</td>\n",
       "      <td>755000.000000</td>\n",
       "    </tr>\n",
       "  </tbody>\n",
       "</table>\n",
       "<p>8 rows × 38 columns</p>\n",
       "</div>"
      ],
      "text/plain": [
       "                Id   MSSubClass  LotFrontage        LotArea  OverallQual  \\\n",
       "count  1460.000000  1460.000000  1201.000000    1460.000000  1460.000000   \n",
       "mean    730.500000    56.897260    70.049958   10516.828082     6.099315   \n",
       "std     421.610009    42.300571    24.284752    9981.264932     1.382997   \n",
       "min       1.000000    20.000000    21.000000    1300.000000     1.000000   \n",
       "25%     365.750000    20.000000    59.000000    7553.500000     5.000000   \n",
       "50%     730.500000    50.000000    69.000000    9478.500000     6.000000   \n",
       "75%    1095.250000    70.000000    80.000000   11601.500000     7.000000   \n",
       "max    1460.000000   190.000000   313.000000  215245.000000    10.000000   \n",
       "\n",
       "       OverallCond    YearBuilt  YearRemodAdd   MasVnrArea   BsmtFinSF1  ...  \\\n",
       "count  1460.000000  1460.000000   1460.000000  1452.000000  1460.000000  ...   \n",
       "mean      5.575342  1971.267808   1984.865753   103.685262   443.639726  ...   \n",
       "std       1.112799    30.202904     20.645407   181.066207   456.098091  ...   \n",
       "min       1.000000  1872.000000   1950.000000     0.000000     0.000000  ...   \n",
       "25%       5.000000  1954.000000   1967.000000     0.000000     0.000000  ...   \n",
       "50%       5.000000  1973.000000   1994.000000     0.000000   383.500000  ...   \n",
       "75%       6.000000  2000.000000   2004.000000   166.000000   712.250000  ...   \n",
       "max       9.000000  2010.000000   2010.000000  1600.000000  5644.000000  ...   \n",
       "\n",
       "        WoodDeckSF  OpenPorchSF  EnclosedPorch    3SsnPorch  ScreenPorch  \\\n",
       "count  1460.000000  1460.000000    1460.000000  1460.000000  1460.000000   \n",
       "mean     94.244521    46.660274      21.954110     3.409589    15.060959   \n",
       "std     125.338794    66.256028      61.119149    29.317331    55.757415   \n",
       "min       0.000000     0.000000       0.000000     0.000000     0.000000   \n",
       "25%       0.000000     0.000000       0.000000     0.000000     0.000000   \n",
       "50%       0.000000    25.000000       0.000000     0.000000     0.000000   \n",
       "75%     168.000000    68.000000       0.000000     0.000000     0.000000   \n",
       "max     857.000000   547.000000     552.000000   508.000000   480.000000   \n",
       "\n",
       "          PoolArea       MiscVal       MoSold       YrSold      SalePrice  \n",
       "count  1460.000000   1460.000000  1460.000000  1460.000000    1460.000000  \n",
       "mean      2.758904     43.489041     6.321918  2007.815753  180921.195890  \n",
       "std      40.177307    496.123024     2.703626     1.328095   79442.502883  \n",
       "min       0.000000      0.000000     1.000000  2006.000000   34900.000000  \n",
       "25%       0.000000      0.000000     5.000000  2007.000000  129975.000000  \n",
       "50%       0.000000      0.000000     6.000000  2008.000000  163000.000000  \n",
       "75%       0.000000      0.000000     8.000000  2009.000000  214000.000000  \n",
       "max     738.000000  15500.000000    12.000000  2010.000000  755000.000000  \n",
       "\n",
       "[8 rows x 38 columns]"
      ]
     },
     "metadata": {},
     "output_type": "display_data"
    }
   ],
   "source": [
    "# データセットの用意\n",
    "df = pd.read_csv('/Users/suzukiyuuta/Downloads/train.csv')#教師データを読み込む\n",
    "display(df.head())\n",
    "display(df.info())\n",
    "display(df.describe())"
   ]
  },
  {
   "cell_type": "code",
   "execution_count": 3,
   "metadata": {},
   "outputs": [
    {
     "data": {
      "text/html": [
       "<div>\n",
       "<style scoped>\n",
       "    .dataframe tbody tr th:only-of-type {\n",
       "        vertical-align: middle;\n",
       "    }\n",
       "\n",
       "    .dataframe tbody tr th {\n",
       "        vertical-align: top;\n",
       "    }\n",
       "\n",
       "    .dataframe thead th {\n",
       "        text-align: right;\n",
       "    }\n",
       "</style>\n",
       "<table border=\"1\" class=\"dataframe\">\n",
       "  <thead>\n",
       "    <tr style=\"text-align: right;\">\n",
       "      <th></th>\n",
       "      <th>GrLivArea</th>\n",
       "      <th>YearBuilt</th>\n",
       "    </tr>\n",
       "  </thead>\n",
       "  <tbody>\n",
       "    <tr>\n",
       "      <td>count</td>\n",
       "      <td>1460.000000</td>\n",
       "      <td>1460.000000</td>\n",
       "    </tr>\n",
       "    <tr>\n",
       "      <td>mean</td>\n",
       "      <td>1515.463699</td>\n",
       "      <td>1971.267808</td>\n",
       "    </tr>\n",
       "    <tr>\n",
       "      <td>std</td>\n",
       "      <td>525.480383</td>\n",
       "      <td>30.202904</td>\n",
       "    </tr>\n",
       "    <tr>\n",
       "      <td>min</td>\n",
       "      <td>334.000000</td>\n",
       "      <td>1872.000000</td>\n",
       "    </tr>\n",
       "    <tr>\n",
       "      <td>25%</td>\n",
       "      <td>1129.500000</td>\n",
       "      <td>1954.000000</td>\n",
       "    </tr>\n",
       "    <tr>\n",
       "      <td>50%</td>\n",
       "      <td>1464.000000</td>\n",
       "      <td>1973.000000</td>\n",
       "    </tr>\n",
       "    <tr>\n",
       "      <td>75%</td>\n",
       "      <td>1776.750000</td>\n",
       "      <td>2000.000000</td>\n",
       "    </tr>\n",
       "    <tr>\n",
       "      <td>max</td>\n",
       "      <td>5642.000000</td>\n",
       "      <td>2010.000000</td>\n",
       "    </tr>\n",
       "  </tbody>\n",
       "</table>\n",
       "</div>"
      ],
      "text/plain": [
       "         GrLivArea    YearBuilt\n",
       "count  1460.000000  1460.000000\n",
       "mean   1515.463699  1971.267808\n",
       "std     525.480383    30.202904\n",
       "min     334.000000  1872.000000\n",
       "25%    1129.500000  1954.000000\n",
       "50%    1464.000000  1973.000000\n",
       "75%    1776.750000  2000.000000\n",
       "max    5642.000000  2010.000000"
      ]
     },
     "metadata": {},
     "output_type": "display_data"
    },
    {
     "data": {
      "text/html": [
       "<div>\n",
       "<style scoped>\n",
       "    .dataframe tbody tr th:only-of-type {\n",
       "        vertical-align: middle;\n",
       "    }\n",
       "\n",
       "    .dataframe tbody tr th {\n",
       "        vertical-align: top;\n",
       "    }\n",
       "\n",
       "    .dataframe thead th {\n",
       "        text-align: right;\n",
       "    }\n",
       "</style>\n",
       "<table border=\"1\" class=\"dataframe\">\n",
       "  <thead>\n",
       "    <tr style=\"text-align: right;\">\n",
       "      <th></th>\n",
       "      <th>SalePrice</th>\n",
       "    </tr>\n",
       "  </thead>\n",
       "  <tbody>\n",
       "    <tr>\n",
       "      <td>count</td>\n",
       "      <td>1460.000000</td>\n",
       "    </tr>\n",
       "    <tr>\n",
       "      <td>mean</td>\n",
       "      <td>12.024051</td>\n",
       "    </tr>\n",
       "    <tr>\n",
       "      <td>std</td>\n",
       "      <td>0.399452</td>\n",
       "    </tr>\n",
       "    <tr>\n",
       "      <td>min</td>\n",
       "      <td>10.460242</td>\n",
       "    </tr>\n",
       "    <tr>\n",
       "      <td>25%</td>\n",
       "      <td>11.775097</td>\n",
       "    </tr>\n",
       "    <tr>\n",
       "      <td>50%</td>\n",
       "      <td>12.001505</td>\n",
       "    </tr>\n",
       "    <tr>\n",
       "      <td>75%</td>\n",
       "      <td>12.273731</td>\n",
       "    </tr>\n",
       "    <tr>\n",
       "      <td>max</td>\n",
       "      <td>13.534473</td>\n",
       "    </tr>\n",
       "  </tbody>\n",
       "</table>\n",
       "</div>"
      ],
      "text/plain": [
       "         SalePrice\n",
       "count  1460.000000\n",
       "mean     12.024051\n",
       "std       0.399452\n",
       "min      10.460242\n",
       "25%      11.775097\n",
       "50%      12.001505\n",
       "75%      12.273731\n",
       "max      13.534473"
      ]
     },
     "metadata": {},
     "output_type": "display_data"
    },
    {
     "data": {
      "text/plain": [
       "array([[1828, 2007],\n",
       "       [ 894, 1962],\n",
       "       [ 964, 1921],\n",
       "       ...,\n",
       "       [1902, 1978],\n",
       "       [1557, 2003],\n",
       "       [1839, 1998]])"
      ]
     },
     "execution_count": 3,
     "metadata": {},
     "output_type": "execute_result"
    }
   ],
   "source": [
    "df_X_ori = df.loc[:,['GrLivArea','YearBuilt']]\n",
    "display(df_X_ori.describe())\n",
    "df_Y_ori = df.loc[:,['SalePrice']]\n",
    "df_Y_ori = np.log(df_Y_ori)\n",
    "display(df_Y_ori.describe())\n",
    "\n",
    "X_train, X_test, Y_train, y_test = train_test_split(df_X_ori.values,df_Y_ori.values,test_size=0.2, random_state=0)\n",
    "X_train"
   ]
  },
  {
   "cell_type": "markdown",
   "metadata": {},
   "source": [
    "# 【問題1】ブレンディングのスクラッチ実装"
   ]
  },
  {
   "cell_type": "markdown",
   "metadata": {},
   "source": [
    "ブレンディング をスクラッチ実装し、単一モデルより精度があがる例を 最低3つ 示してください。<br>\n",
    "精度があがるとは、検証用データに対する平均二乗誤差（MSE）が小さくなることを指します。"
   ]
  },
  {
   "cell_type": "code",
   "execution_count": 4,
   "metadata": {},
   "outputs": [
    {
     "name": "stdout",
     "output_type": "stream",
     "text": [
      "<class 'numpy.ndarray'>\n"
     ]
    }
   ],
   "source": [
    "# 線形回帰\n",
    "import numpy as np\n",
    "from sklearn.linear_model import LinearRegression\n",
    "reg_solo = LinearRegression()\n",
    "reg_solo.fit(X_train, Y_train)\n",
    "y_pred_reg_solo = reg_solo.predict(X_test)\n",
    "print(type(y_pred_reg_solo))"
   ]
  },
  {
   "cell_type": "code",
   "execution_count": 5,
   "metadata": {},
   "outputs": [
    {
     "name": "stdout",
     "output_type": "stream",
     "text": [
      "Cross-Validation scores: [0.73179221 0.70065998 0.64454584]\n",
      "Average score: 0.6923326743522802\n"
     ]
    },
    {
     "name": "stderr",
     "output_type": "stream",
     "text": [
      "/opt/anaconda3/lib/python3.7/site-packages/sklearn/model_selection/_split.py:1978: FutureWarning: The default value of cv will change from 3 to 5 in version 0.22. Specify it explicitly to silence this warning.\n",
      "  warnings.warn(CV_WARNING, FutureWarning)\n"
     ]
    }
   ],
   "source": [
    "# クロスバリデーションしてみる\n",
    "from sklearn.model_selection import cross_val_score\n",
    "# 交差検証\n",
    "scores = cross_val_score(reg_solo, df_X_ori.values,df_Y_ori.values)\n",
    "# 各分割におけるスコア\n",
    "print('Cross-Validation scores: {}'.format(scores))\n",
    "# スコアの平均値\n",
    "print('Average score: {}'.format(np.mean(scores)))"
   ]
  },
  {
   "cell_type": "code",
   "execution_count": 6,
   "metadata": {},
   "outputs": [
    {
     "data": {
      "text/plain": [
       "<generator object _BaseKFold.split at 0x11f0c5a50>"
      ]
     },
     "execution_count": 6,
     "metadata": {},
     "output_type": "execute_result"
    }
   ],
   "source": [
    "# StratifiedKFoldで分割インデックスを作成\n",
    "X = df_X_ori.values\n",
    "Y = df_Y_ori.values\n",
    "\n",
    "from sklearn.model_selection import KFold\n",
    "kf = KFold(n_splits=5, shuffle=True)\n",
    "kf.split(X)\n",
    "# for train_index, test_index in kf.split(X, Y):\n",
    "#     print(\"train_index:\", train_index, \"test_index:\", test_index)"
   ]
  },
  {
   "cell_type": "code",
   "execution_count": 7,
   "metadata": {},
   "outputs": [
    {
     "name": "stdout",
     "output_type": "stream",
     "text": [
      "Cross-Validation scores: [0.72627517 0.73571996 0.73936856 0.68826683 0.61421885]\n",
      "Average score: 0.7007698736911229\n"
     ]
    }
   ],
   "source": [
    "# クロスバリデーションとStratifiedKFold組み合わせ\n",
    "scores = cross_val_score(reg_solo, df_X_ori.values,df_Y_ori.values,cv=kf)\n",
    "# 各分割におけるスコア\n",
    "print('Cross-Validation scores: {}'.format(scores))\n",
    "# スコアの平均値\n",
    "print('Average score: {}'.format(np.mean(scores)))"
   ]
  },
  {
   "cell_type": "code",
   "execution_count": 8,
   "metadata": {},
   "outputs": [
    {
     "name": "stdout",
     "output_type": "stream",
     "text": [
      "<bound method BaseEstimator.get_params of SVR(C=1.0, cache_size=200, coef0=0.0, degree=3, epsilon=0.1,\n",
      "    gamma='auto_deprecated', kernel='rbf', max_iter=-1, shrinking=True,\n",
      "    tol=0.001, verbose=False)>\n",
      "[12.03879176 12.03157772 12.03879117 12.03043622 11.52884805 12.03879176\n",
      " 12.03884641 11.88854456 12.03879176 12.03879176 12.03879176 12.03879176\n",
      " 12.03879176 11.81156934 12.03878837 12.03879176 12.03879177 11.8441685\n",
      " 12.03879172 12.03879176 12.02965434 11.94652747 12.03879176 12.03879177\n",
      " 12.03879176 12.03879176 12.06503663 11.46225028 12.03897305 12.03879172\n",
      " 12.03879162 12.03879176 12.03879176 12.03879176 12.03889361 12.03879176\n",
      " 12.04939885 12.03879176 12.04001946 12.03879176 12.03879176 12.0405166\n",
      " 12.03880092 12.03837667 12.03879176 11.89263107 11.99096355 12.03290197\n",
      " 12.03894809 12.03878217 12.03879176 12.03879176 12.03879176 12.03879176\n",
      " 12.03879176 12.03854588 12.03879176 12.04228068 12.0247431  12.03879176\n",
      " 12.03725468 12.01551409 12.01666873 12.03878758 12.03879177 12.03879176\n",
      " 11.85166055 12.04884964 12.03879176 12.03890019 12.03884749 12.03879176\n",
      " 12.03877717 12.03879176 12.03879131 12.36007061 11.89472473 12.03879176\n",
      " 12.03889777 12.03879176 12.03879168 12.03879175 11.8489864  11.8441685\n",
      " 12.03879176 12.0497089  12.03879176 12.11841006 12.03879213 12.03879176\n",
      " 12.03879176 12.03879176 12.03891447 12.03880935 12.03879176 12.17735851\n",
      " 12.01589344 12.03879176 11.79938801 12.03875067 12.11065399 12.1336604\n",
      " 12.0387699  12.03879176 12.03879176 12.08812361 12.03879176 12.0384223\n",
      " 12.16715333 12.03879176 12.03879176 12.03879176 12.03879176 12.03879018\n",
      " 12.03879178 12.03879176 12.03879177 11.89245279 12.03879176 12.14822669\n",
      " 12.03879176 12.03910945 12.03879176 12.03879176 12.03879198 12.03879177\n",
      " 12.03879176 12.03879176 12.03879176 12.04101462 12.03879176 12.03879176\n",
      " 12.03879176 12.03861232 11.79938801 12.03879176 12.03879161 12.03879176\n",
      " 12.03793615 12.03879176 12.03878199 11.94901523 12.03879176 12.03879176\n",
      " 12.03145203 12.0388019  12.06083904 12.0264442  12.03879177 12.10392274\n",
      " 12.03879143 12.0387918  12.03974164 12.03879176 12.03879176 12.03879176\n",
      " 12.03848916 12.03879175 12.03877355 12.03879176 11.74054952 12.03857515\n",
      " 12.04638861 12.03879081 12.0405025  12.03876992 12.03879081 12.03879176\n",
      " 12.0388006  12.06938013 12.01432045 12.03879758 12.03879176 12.03879176\n",
      " 12.03870709 12.03879174 12.03879172 12.03879176 12.03879176 12.03879176\n",
      " 12.03879176 12.03879176 12.03879176 12.03879176 12.03879176 12.03879176\n",
      " 11.64337256 12.03870007 12.03879176 11.94652747 11.8441685  12.0387914\n",
      " 12.04990549 12.03879176 12.03879176 12.03879176 11.46225028 12.03879176\n",
      " 12.03879156 11.91585915 12.03879136 12.03879176 12.03879176 12.03879176\n",
      " 12.03879176 12.03879176 12.03887915 12.03879269 12.18072012 11.0769742\n",
      " 12.03879176 12.04258779 11.54607218 12.03855665 12.0387925  12.03879176\n",
      " 12.03879176 12.03879176 12.03913394 11.33190987 12.03876875 12.03879176\n",
      " 12.03879176 11.71992703 12.04544606 12.03879176 12.03879176 12.03879176\n",
      " 11.77195647 12.03879176 11.50726813 12.03875332 11.74054952 12.03433117\n",
      " 12.03879187 12.03879176 12.03879176 11.81300721 12.03878805 12.03879176\n",
      " 11.9701032  12.09180862 12.03893157 12.0704791  12.03879176 12.03879176\n",
      " 12.03879176 12.03908559 11.94492433 12.0388569  12.03879176 12.04383525\n",
      " 12.03383511 12.03879176 12.0668227  12.03837667 12.03879168 12.10048174\n",
      " 12.03879176 12.03879176 12.03879176 12.03879176 12.03879176 12.03879176\n",
      " 12.03879483 12.04070186 12.03879176 12.03879176 12.03879176 12.35788975\n",
      " 12.03879176 12.03879176 12.03879176 12.03879176 11.88321057 12.04432085\n",
      " 12.03879176 12.03879176 12.22420364 12.03879176 11.82032387 12.03883023\n",
      " 12.03879176 12.03879174 12.03879185 12.03879176 11.6017749  12.04476113\n",
      " 12.03879176 12.03879176 12.03879176 12.03879176]\n"
     ]
    },
    {
     "name": "stderr",
     "output_type": "stream",
     "text": [
      "/opt/anaconda3/lib/python3.7/site-packages/sklearn/utils/validation.py:724: DataConversionWarning: A column-vector y was passed when a 1d array was expected. Please change the shape of y to (n_samples, ), for example using ravel().\n",
      "  y = column_or_1d(y, warn=True)\n",
      "/opt/anaconda3/lib/python3.7/site-packages/sklearn/svm/base.py:193: FutureWarning: The default value of gamma will change from 'auto' to 'scale' in version 0.22 to account better for unscaled features. Set gamma explicitly to 'auto' or 'scale' to avoid this warning.\n",
      "  \"avoid this warning.\", FutureWarning)\n"
     ]
    }
   ],
   "source": [
    "#SVR\n",
    "from sklearn.svm import SVR\n",
    "SVR_solo = SVR()\n",
    "SVR_solo.fit(X_train, Y_train)\n",
    "print(SVR_solo.get_params)\n",
    "y_pred_SVR_solo = SVR_solo.predict(X_test)\n",
    "print(y_pred_SVR_solo)"
   ]
  },
  {
   "cell_type": "code",
   "execution_count": 9,
   "metadata": {},
   "outputs": [
    {
     "name": "stdout",
     "output_type": "stream",
     "text": [
      "<class 'numpy.ndarray'>\n"
     ]
    }
   ],
   "source": [
    "# 決定木\n",
    "from sklearn.tree import DecisionTreeRegressor\n",
    "tree_solo = DecisionTreeRegressor(max_depth = 3)\n",
    "tree_solo.fit(X_train,Y_train)\n",
    "# print(tree_solo.get_params)\n",
    "y_pred_tree_solo = tree_solo.predict(X_test)\n",
    "print(type(y_pred_tree_solo))"
   ]
  },
  {
   "cell_type": "code",
   "execution_count": 10,
   "metadata": {},
   "outputs": [
    {
     "name": "stdout",
     "output_type": "stream",
     "text": [
      "線形回帰\n",
      "0.05730354643047342\n",
      "SVM\n",
      "0.1293299470803371\n",
      "決定木\n",
      "0.055029910373993976\n"
     ]
    }
   ],
   "source": [
    "# MSE\n",
    "from sklearn.metrics import mean_squared_error\n",
    "print('線形回帰')\n",
    "print(mean_squared_error(y_test, y_pred_reg_solo))\n",
    "print('SVM')\n",
    "print(mean_squared_error(y_test, y_pred_SVR_solo))\n",
    "print('決定木')\n",
    "print(mean_squared_error(y_test, y_pred_tree_solo))"
   ]
  },
  {
   "cell_type": "markdown",
   "metadata": {},
   "source": [
    "→線形回帰をベンチマークとする"
   ]
  },
  {
   "cell_type": "code",
   "execution_count": 11,
   "metadata": {},
   "outputs": [
    {
     "data": {
      "text/plain": [
       "(292,)"
      ]
     },
     "execution_count": 11,
     "metadata": {},
     "output_type": "execute_result"
    }
   ],
   "source": [
    "y_pred_reg_solo.reshape(292).shape"
   ]
  },
  {
   "cell_type": "code",
   "execution_count": 12,
   "metadata": {},
   "outputs": [
    {
     "data": {
      "text/plain": [
       "(292,)"
      ]
     },
     "execution_count": 12,
     "metadata": {},
     "output_type": "execute_result"
    }
   ],
   "source": [
    "y_pred_SVR_solo.shape"
   ]
  },
  {
   "cell_type": "code",
   "execution_count": 13,
   "metadata": {},
   "outputs": [
    {
     "data": {
      "text/plain": [
       "(292,)"
      ]
     },
     "execution_count": 13,
     "metadata": {},
     "output_type": "execute_result"
    }
   ],
   "source": [
    "y_pred_tree_solo.shape"
   ]
  },
  {
   "cell_type": "code",
   "execution_count": 14,
   "metadata": {},
   "outputs": [
    {
     "name": "stdout",
     "output_type": "stream",
     "text": [
      "12\n",
      "(292,)\n"
     ]
    },
    {
     "data": {
      "text/plain": [
       "0.048300071850090706"
      ]
     },
     "execution_count": 14,
     "metadata": {},
     "output_type": "execute_result"
    }
   ],
   "source": [
    "# モデル１(決定木と線形回帰をブレンド)\n",
    "for i in range(20):\n",
    "    y_pred_model1 = (y_pred_reg_solo.reshape(292) + 0.1*i*y_pred_tree_solo)/(1 + 0.1*i)\n",
    "    if i == 0:\n",
    "        mse_list_1 = []\n",
    "#         print(mean_squared_error(y_test, y_pred_model1))\n",
    "        mse_list_1.append(mean_squared_error(y_test, y_pred_model1))\n",
    "    else:\n",
    "        mse_list_1.append(mean_squared_error(y_test, y_pred_model1))\n",
    "#         print(mean_squared_error(y_test, y_pred_model1))\n",
    "#         print(min(mse_list))\n",
    "#         print(i)\n",
    "        if min(mse_list_1) >= mean_squared_error(y_test, y_pred_model1):\n",
    "#             print(i)\n",
    "            mse_ID_1 = i\n",
    "            y_pred_model1_best = y_pred_model1\n",
    "        else:\n",
    "            pass\n",
    "\n",
    "print(mse_ID_1)\n",
    "print(y_pred_model1_best.shape)\n",
    "min(mse_list_1)\n"
   ]
  },
  {
   "cell_type": "code",
   "execution_count": 15,
   "metadata": {},
   "outputs": [
    {
     "name": "stdout",
     "output_type": "stream",
     "text": [
      "3\n",
      "(292,)\n"
     ]
    },
    {
     "data": {
      "text/plain": [
       "0.051976457560296195"
      ]
     },
     "execution_count": 15,
     "metadata": {},
     "output_type": "execute_result"
    }
   ],
   "source": [
    "# モデル2(SVMと線形回帰をブレンド)\n",
    "for i in range(20):\n",
    "    y_pred_model2 = (y_pred_reg_solo.reshape(292) + 0.1*i*y_pred_SVR_solo)/(1 + 0.1*i)\n",
    "    if i == 0:\n",
    "        mse_list_2 = []\n",
    "#         print(mean_squared_error(y_test, y_pred_model1))\n",
    "        mse_list_2.append(mean_squared_error(y_test, y_pred_model2))\n",
    "    else:\n",
    "        mse_list_2.append(mean_squared_error(y_test, y_pred_model2))\n",
    "#         print(mean_squared_error(y_test, y_pred_model1))\n",
    "#         print(min(mse_list))\n",
    "#         print(i)\n",
    "        if min(mse_list_2) >= mean_squared_error(y_test, y_pred_model2):\n",
    "#             print(i)\n",
    "            mse_ID_2 = i\n",
    "            y_pred_model2_best = y_pred_model2\n",
    "        else:\n",
    "            pass\n",
    "\n",
    "print(mse_ID_2)\n",
    "print(y_pred_model2_best.shape)\n",
    "min(mse_list_2)"
   ]
  },
  {
   "cell_type": "code",
   "execution_count": 16,
   "metadata": {},
   "outputs": [
    {
     "name": "stdout",
     "output_type": "stream",
     "text": [
      "[3, 10]\n",
      "(292,)\n"
     ]
    },
    {
     "data": {
      "text/plain": [
       "0.0470015599463578"
      ]
     },
     "execution_count": 16,
     "metadata": {},
     "output_type": "execute_result"
    }
   ],
   "source": [
    "# モデル3(決定木とSVMと線形回帰をブレンド)\n",
    "for i in range(20):\n",
    "    for n  in range(20):\n",
    "        y_pred_model3 = (y_pred_reg_solo.reshape(292)\\\n",
    "                         + 0.1*i*y_pred_SVR_solo+\\\n",
    "                         0.1*n*y_pred_tree_solo)\\\n",
    "                            /(1 + 0.1*i + 0.1*n)\n",
    "        if i == 0 and n == 0:\n",
    "            mse_list_3 = np.empty((0,2), float)\n",
    "    #         print(mean_squared_error(y_test, y_pred_model1))\n",
    "            mse_list_3 = np.append(mse_list_3,mean_squared_error(y_test, y_pred_model3))\n",
    "        else:\n",
    "            mse_list_3 = np.append(mse_list_3,mean_squared_error(y_test, y_pred_model3))\n",
    "    #         print(mean_squared_error(y_test, y_pred_model1))\n",
    "    #         print(min(mse_list))\n",
    "    #         print(i)\n",
    "            if min(mse_list_3) >= mean_squared_error(y_test, y_pred_model3):\n",
    "    #             print(i)\n",
    "                mse_ID_3 = [i,n]\n",
    "                y_pred_model3_best = y_pred_model3\n",
    "            else:\n",
    "                pass\n",
    "\n",
    "print(mse_ID_3)\n",
    "print(y_pred_model3_best.shape)\n",
    "min(mse_list_3)"
   ]
  },
  {
   "cell_type": "markdown",
   "metadata": {},
   "source": [
    "# 【問題2】バギングのスクラッチ実装"
   ]
  },
  {
   "cell_type": "markdown",
   "metadata": {},
   "source": [
    "バギング をスクラッチ実装し、単一モデルより精度があがる例を 最低1つ 示してください。"
   ]
  },
  {
   "cell_type": "code",
   "execution_count": 17,
   "metadata": {},
   "outputs": [
    {
     "name": "stdout",
     "output_type": "stream",
     "text": [
      "0.04176251626008926\n",
      "0.15028451127157907\n",
      "0.14682547329830867\n",
      "0.19051679489503656\n",
      "0.1590848770451749\n",
      "0.17402546123483745\n",
      "0.18042194375842718\n",
      "0.16164345659080795\n",
      "0.18537130865864107\n",
      "0.1624868304793634\n",
      "0.16529426065109556\n",
      "0.17163801378482427\n",
      "0.19616750484709333\n",
      "0.15987655877038487\n",
      "0.16015910819386112\n",
      "0.17472732672390123\n",
      "0.16792642502349514\n",
      "0.17640865540892298\n",
      "0.19531893930424976\n"
     ]
    }
   ],
   "source": [
    "# 決定木のバギング\n",
    "y_pred_tree_solo5_list = np.empty((438,0), float)\n",
    "for j in range(1,20):\n",
    "    for i in range(j):\n",
    "        tree_solo5 = DecisionTreeRegressor(max_depth = 5)\n",
    "        X_train, X_test, Y_train, y_test = train_test_split(df_X_ori.values,df_Y_ori.values,test_size=0.3, random_state=i*2)\n",
    "        tree_solo5.fit(X_train,Y_train)\n",
    "        # print(tree_solo.get_params)\n",
    "        y_pred_tree_solo5_n = tree_solo5.predict(X_test)\n",
    "        y_pred_tree_solo5_list = np.append(y_pred_tree_solo5_list,y_pred_tree_solo5_n.reshape(438,1) ,axis=1)\n",
    "    # print(np.mean(y_pred_tree_solo5_list, axis=1))\n",
    "#     print(np.mean(y_pred_tree_solo5_list, axis=1).shape)\n",
    "    print(mean_squared_error(y_test, np.mean(y_pred_tree_solo5_list, axis=1)))"
   ]
  },
  {
   "cell_type": "markdown",
   "metadata": {},
   "source": [
    "→テストサイズ０.３でバギング数１がベストMSEとなってしまった。"
   ]
  },
  {
   "cell_type": "code",
   "execution_count": 18,
   "metadata": {},
   "outputs": [
    {
     "name": "stdout",
     "output_type": "stream",
     "text": [
      "0.05066210713328038\n"
     ]
    },
    {
     "name": "stderr",
     "output_type": "stream",
     "text": [
      "/opt/anaconda3/lib/python3.7/site-packages/sklearn/ensemble/forest.py:245: FutureWarning: The default value of n_estimators will change from 10 in version 0.20 to 100 in 0.22.\n",
      "  \"10 in version 0.20 to 100 in 0.22.\", FutureWarning)\n",
      "/opt/anaconda3/lib/python3.7/site-packages/ipykernel_launcher.py:5: DataConversionWarning: A column-vector y was passed when a 1d array was expected. Please change the shape of y to (n_samples,), for example using ravel().\n",
      "  \"\"\"\n"
     ]
    }
   ],
   "source": [
    "# 参考：ランダムフォレスト\n",
    "#ランダムフォレスト\n",
    "from sklearn.ensemble import RandomForestRegressor\n",
    "clf = RandomForestRegressor(max_depth = 7)\n",
    "clf.fit(X_train,Y_train)\n",
    "# print(tree_solo.get_params)\n",
    "y_pred_clf = clf.predict(X_test)\n",
    "print(mean_squared_error(y_test, y_pred_clf))"
   ]
  },
  {
   "cell_type": "markdown",
   "metadata": {},
   "source": [
    "# 【問題3】スタッキングのスクラッチ実装"
   ]
  },
  {
   "cell_type": "code",
   "execution_count": 19,
   "metadata": {},
   "outputs": [
    {
     "name": "stdout",
     "output_type": "stream",
     "text": [
      "[]\n",
      "RandomForestRegressor(bootstrap=True, criterion='mse', max_depth=7,\n",
      "                      max_features='auto', max_leaf_nodes=None,\n",
      "                      min_impurity_decrease=0.0, min_impurity_split=None,\n",
      "                      min_samples_leaf=1, min_samples_split=2,\n",
      "                      min_weight_fraction_leaf=0.0, n_estimators=10,\n",
      "                      n_jobs=None, oob_score=False, random_state=None,\n",
      "                      verbose=0, warm_start=False)\n",
      "0.06172708607350231\n"
     ]
    }
   ],
   "source": [
    "# インスタンスを保存する。（動作テスト）\n",
    "in_list = []\n",
    "print(in_list)\n",
    "in_list = clf\n",
    "print(clf)\n",
    "\n",
    "y_pred_clf = in_list[0].predict(X_test)\n",
    "print(mean_squared_error(y_test, y_pred_clf))"
   ]
  },
  {
   "cell_type": "code",
   "execution_count": 203,
   "metadata": {},
   "outputs": [],
   "source": [
    "from  sklearn.ensemble import RandomForestClassifier"
   ]
  },
  {
   "cell_type": "code",
   "execution_count": 209,
   "metadata": {},
   "outputs": [],
   "source": [
    "#モデル選択\n",
    "LinearRegression()\n",
    "DecisionTreeRegressor(max_depth = 3)\n",
    "RandomForestRegressor(max_depth = 7)\n",
    "SVR()\n",
    "RandomForestClassifier(max_depth = 7)\n",
    "\n",
    "\n",
    "m1 = RandomForestRegressor(max_depth = 7)\n",
    "m2 = SVR()\n",
    "m3 = DecisionTreeRegressor(max_depth = 3)\n",
    "mz = LinearRegression()"
   ]
  },
  {
   "cell_type": "code",
   "execution_count": 210,
   "metadata": {},
   "outputs": [
    {
     "data": {
      "text/plain": [
       "<generator object _BaseKFold.split at 0x11de55550>"
      ]
     },
     "execution_count": 210,
     "metadata": {},
     "output_type": "execute_result"
    }
   ],
   "source": [
    "# データを分割\n",
    "\n",
    "X_train_ori, X_test_ori, Y_train_ori, y_test_ori = train_test_split(df_X_ori.values,df_Y_ori.values,test_size=0.2, random_state=0)\n",
    "\n",
    "#X_train_ori,Y_train_ori\n",
    "\n",
    "k = 5\n",
    "\n",
    "kf = KFold(n_splits=k)\n",
    "kf.split(X_train_ori)\n",
    "# print(kf.split(X_train_ori))\n",
    "# for train_index, test_index in kf.split(X_train_ori,Y_train_ori):\n",
    "#     print(train_index)\n",
    "#     print(test_index)"
   ]
  },
  {
   "cell_type": "code",
   "execution_count": 211,
   "metadata": {},
   "outputs": [
    {
     "data": {
      "text/plain": [
       "array([[12.65973409],\n",
       "       [11.60367983],\n",
       "       [12.00456827],\n",
       "       ...,\n",
       "       [11.62625415],\n",
       "       [12.36307639],\n",
       "       [12.30591798]])"
      ]
     },
     "execution_count": 211,
     "metadata": {},
     "output_type": "execute_result"
    }
   ],
   "source": [
    "Y_train_ori"
   ]
  },
  {
   "cell_type": "code",
   "execution_count": 212,
   "metadata": {},
   "outputs": [
    {
     "name": "stdout",
     "output_type": "stream",
     "text": [
      "(234, 1)\n",
      "(234, 1)\n",
      "(234, 1)\n",
      "(234, 1)\n",
      "(234, 1)\n",
      "(234, 1)\n",
      "(233, 1)\n",
      "(233, 1)\n",
      "(233, 1)\n",
      "(233, 1)\n",
      "[[12.50576488]\n",
      " [11.73694625]\n",
      " [11.43753737]\n",
      " ...\n",
      " [12.13527087]\n",
      " [12.25552732]\n",
      " [12.23803291]]\n",
      "0.04404038200039998\n"
     ]
    },
    {
     "name": "stderr",
     "output_type": "stream",
     "text": [
      "/opt/anaconda3/lib/python3.7/site-packages/sklearn/ensemble/forest.py:245: FutureWarning: The default value of n_estimators will change from 10 in version 0.20 to 100 in 0.22.\n",
      "  \"10 in version 0.20 to 100 in 0.22.\", FutureWarning)\n",
      "/opt/anaconda3/lib/python3.7/site-packages/ipykernel_launcher.py:11: DataConversionWarning: A column-vector y was passed when a 1d array was expected. Please change the shape of y to (n_samples,), for example using ravel().\n",
      "  # This is added back by InteractiveShellApp.init_path()\n",
      "/opt/anaconda3/lib/python3.7/site-packages/ipykernel_launcher.py:11: DataConversionWarning: A column-vector y was passed when a 1d array was expected. Please change the shape of y to (n_samples,), for example using ravel().\n",
      "  # This is added back by InteractiveShellApp.init_path()\n",
      "/opt/anaconda3/lib/python3.7/site-packages/ipykernel_launcher.py:11: DataConversionWarning: A column-vector y was passed when a 1d array was expected. Please change the shape of y to (n_samples,), for example using ravel().\n",
      "  # This is added back by InteractiveShellApp.init_path()\n",
      "/opt/anaconda3/lib/python3.7/site-packages/ipykernel_launcher.py:11: DataConversionWarning: A column-vector y was passed when a 1d array was expected. Please change the shape of y to (n_samples,), for example using ravel().\n",
      "  # This is added back by InteractiveShellApp.init_path()\n",
      "/opt/anaconda3/lib/python3.7/site-packages/ipykernel_launcher.py:11: DataConversionWarning: A column-vector y was passed when a 1d array was expected. Please change the shape of y to (n_samples,), for example using ravel().\n",
      "  # This is added back by InteractiveShellApp.init_path()\n"
     ]
    }
   ],
   "source": [
    "# モデル①の学習ブレンドデータ作成\n",
    "ins_list = []\n",
    "y_pred_list = np.empty((0,1),float)\n",
    "y_test_list = np.empty((0,1),float)\n",
    "for train_index, test_index in kf.split(X_train_ori):\n",
    "    X_train = X_train_ori[train_index]\n",
    "    test_x = X_train_ori[test_index]   \n",
    "    Y_train = Y_train_ori[train_index]\n",
    "    test_y = Y_train_ori[test_index]\n",
    "    tree_solo = m1\n",
    "    tree_solo.fit(X_train,Y_train)\n",
    "    ins_list.append(tree_solo)\n",
    "    y_pred = tree_solo.predict(test_x).reshape(tree_solo.predict(test_x).shape[0],1)\n",
    "    print(y_pred.shape)\n",
    "    print(test_y.shape)\n",
    "    y_pred_list = np.append(y_pred_list,y_pred,axis=0)\n",
    "    y_test_list = np.append(y_test_list,test_y,axis=0)\n",
    "print(y_pred_list)\n",
    "print(mean_squared_error(y_test_list, y_pred_list))"
   ]
  },
  {
   "cell_type": "code",
   "execution_count": 213,
   "metadata": {},
   "outputs": [
    {
     "name": "stdout",
     "output_type": "stream",
     "text": [
      "(0, 1)\n",
      "<generator object _BaseKFold.split at 0x11de55450>\n",
      "<generator object _BaseKFold.split at 0x11de555d0>\n",
      "<generator object _BaseKFold.split at 0x11de55650>\n",
      "<generator object _BaseKFold.split at 0x11de555d0>\n",
      "<generator object _BaseKFold.split at 0x11de556d0>\n",
      "[[12.04679405]\n",
      " [12.03688523]\n",
      " [12.03684911]\n",
      " ...\n",
      " [12.04954361]\n",
      " [12.05023493]\n",
      " [12.04954361]]\n",
      "0.14947165759969736\n"
     ]
    },
    {
     "name": "stderr",
     "output_type": "stream",
     "text": [
      "/opt/anaconda3/lib/python3.7/site-packages/sklearn/utils/validation.py:724: DataConversionWarning: A column-vector y was passed when a 1d array was expected. Please change the shape of y to (n_samples, ), for example using ravel().\n",
      "  y = column_or_1d(y, warn=True)\n",
      "/opt/anaconda3/lib/python3.7/site-packages/sklearn/svm/base.py:193: FutureWarning: The default value of gamma will change from 'auto' to 'scale' in version 0.22 to account better for unscaled features. Set gamma explicitly to 'auto' or 'scale' to avoid this warning.\n",
      "  \"avoid this warning.\", FutureWarning)\n",
      "/opt/anaconda3/lib/python3.7/site-packages/sklearn/utils/validation.py:724: DataConversionWarning: A column-vector y was passed when a 1d array was expected. Please change the shape of y to (n_samples, ), for example using ravel().\n",
      "  y = column_or_1d(y, warn=True)\n",
      "/opt/anaconda3/lib/python3.7/site-packages/sklearn/svm/base.py:193: FutureWarning: The default value of gamma will change from 'auto' to 'scale' in version 0.22 to account better for unscaled features. Set gamma explicitly to 'auto' or 'scale' to avoid this warning.\n",
      "  \"avoid this warning.\", FutureWarning)\n",
      "/opt/anaconda3/lib/python3.7/site-packages/sklearn/utils/validation.py:724: DataConversionWarning: A column-vector y was passed when a 1d array was expected. Please change the shape of y to (n_samples, ), for example using ravel().\n",
      "  y = column_or_1d(y, warn=True)\n",
      "/opt/anaconda3/lib/python3.7/site-packages/sklearn/svm/base.py:193: FutureWarning: The default value of gamma will change from 'auto' to 'scale' in version 0.22 to account better for unscaled features. Set gamma explicitly to 'auto' or 'scale' to avoid this warning.\n",
      "  \"avoid this warning.\", FutureWarning)\n",
      "/opt/anaconda3/lib/python3.7/site-packages/sklearn/utils/validation.py:724: DataConversionWarning: A column-vector y was passed when a 1d array was expected. Please change the shape of y to (n_samples, ), for example using ravel().\n",
      "  y = column_or_1d(y, warn=True)\n",
      "/opt/anaconda3/lib/python3.7/site-packages/sklearn/svm/base.py:193: FutureWarning: The default value of gamma will change from 'auto' to 'scale' in version 0.22 to account better for unscaled features. Set gamma explicitly to 'auto' or 'scale' to avoid this warning.\n",
      "  \"avoid this warning.\", FutureWarning)\n",
      "/opt/anaconda3/lib/python3.7/site-packages/sklearn/utils/validation.py:724: DataConversionWarning: A column-vector y was passed when a 1d array was expected. Please change the shape of y to (n_samples, ), for example using ravel().\n",
      "  y = column_or_1d(y, warn=True)\n",
      "/opt/anaconda3/lib/python3.7/site-packages/sklearn/svm/base.py:193: FutureWarning: The default value of gamma will change from 'auto' to 'scale' in version 0.22 to account better for unscaled features. Set gamma explicitly to 'auto' or 'scale' to avoid this warning.\n",
      "  \"avoid this warning.\", FutureWarning)\n"
     ]
    }
   ],
   "source": [
    "# モデル②の学習ブレンドデータ作成\n",
    "ins_list2 = []\n",
    "y_pred_list2 = np.empty((0,1),float)\n",
    "y_test_list2 = np.empty((0,1),float)\n",
    "print(y_pred_list2.shape)\n",
    "for train_index, test_index in kf.split(X_train_ori):\n",
    "    print(kf.split(X_train_ori,Y_train_ori))\n",
    "    X_train = X_train_ori[train_index]\n",
    "    test_x = X_train_ori[test_index]   \n",
    "    Y_train = Y_train_ori[train_index]\n",
    "    test_y = Y_train_ori[test_index]\n",
    "    reg_solo = m2\n",
    "    reg_solo.fit(X_train, Y_train)\n",
    "    ins_list2.append(reg_solo)\n",
    "    y_pred = reg_solo.predict(test_x).reshape(tree_solo.predict(test_x).shape[0],1)\n",
    "#     print(y_pred.shape)\n",
    "    y_pred_list2 = np.append(y_pred_list2,y_pred,axis=0)\n",
    "    y_test_list2 = np.append(y_test_list2,test_y,axis=0)\n",
    "print(y_pred_list2)\n",
    "print(mean_squared_error(y_test_list2, y_pred_list2))"
   ]
  },
  {
   "cell_type": "code",
   "execution_count": 214,
   "metadata": {},
   "outputs": [
    {
     "name": "stdout",
     "output_type": "stream",
     "text": [
      "(0, 1)\n",
      "[[12.36762776]\n",
      " [11.75361252]\n",
      " [11.58840583]\n",
      " ...\n",
      " [11.94521114]\n",
      " [12.31717528]\n",
      " [12.4923437 ]]\n",
      "0.060012631781302596\n"
     ]
    }
   ],
   "source": [
    "# モデル③の学習ブレンドデータ作成\n",
    "ins_list3 = []\n",
    "y_pred_list3 = np.empty((0,1),float)\n",
    "y_test_list3 = np.empty((0,1),float)\n",
    "print(y_pred_list3.shape)\n",
    "for train_index, test_index in kf.split(X_train_ori):\n",
    "    X_train = X_train_ori[train_index]\n",
    "    test_x = X_train_ori[test_index]   \n",
    "    Y_train = Y_train_ori[train_index]\n",
    "    test_y = Y_train_ori[test_index]\n",
    "    des_solo = m3\n",
    "    des_solo.fit(X_train, Y_train)\n",
    "    ins_list3.append(des_solo)\n",
    "    y_pred = des_solo.predict(test_x).reshape(des_solo.predict(test_x).shape[0],1)\n",
    "#     print(y_pred.shape)\n",
    "    y_pred_list3 = np.append(y_pred_list3,y_pred,axis=0)\n",
    "    y_test_list3 = np.append(y_test_list3,test_y,axis=0)\n",
    "print(y_pred_list3)\n",
    "print(mean_squared_error(y_test_list3, y_pred_list3))"
   ]
  },
  {
   "cell_type": "code",
   "execution_count": 215,
   "metadata": {},
   "outputs": [
    {
     "name": "stdout",
     "output_type": "stream",
     "text": [
      "(1168, 3)\n"
     ]
    }
   ],
   "source": [
    "y_pred_all = np.empty((0,0),float)\n",
    "y_pred_all = np.concatenate([np.array(y_pred_list).reshape(len(y_pred_list),1),\\\n",
    "                       np.array(y_pred_list2).reshape(len(y_pred_list2),1),\\\n",
    "                       np.array(y_pred_list3).reshape(len(y_pred_list3),1)],1)\n",
    "print(y_pred_all.shape)"
   ]
  },
  {
   "cell_type": "code",
   "execution_count": 216,
   "metadata": {},
   "outputs": [
    {
     "data": {
      "text/plain": [
       "(1168, 3)"
      ]
     },
     "execution_count": 216,
     "metadata": {},
     "output_type": "execute_result"
    }
   ],
   "source": [
    "# ブレンドデータ\n",
    "y_pred_all.shape\n",
    "# Y_train"
   ]
  },
  {
   "cell_type": "code",
   "execution_count": 217,
   "metadata": {},
   "outputs": [
    {
     "name": "stdout",
     "output_type": "stream",
     "text": [
      "(1168, 1)\n"
     ]
    }
   ],
   "source": [
    "# ブレンドデータのインデッス順にトレインデータを並び替える\n",
    "Y_train_ori_kf = np.empty((0,1),float)\n",
    "for train_index, test_index in kf.split(X_train_ori):\n",
    "    X_train = X_train_ori[train_index]\n",
    "    test_x = X_train_ori[test_index]   \n",
    "    Y_train = Y_train_ori[train_index]\n",
    "    test_y = Y_train_ori[test_index]\n",
    "    Y_train_ori_kf = np.append(Y_train_ori_kf,test_y,axis=0)\n",
    "print(Y_train_ori_kf.shape)"
   ]
  },
  {
   "cell_type": "code",
   "execution_count": 218,
   "metadata": {},
   "outputs": [
    {
     "name": "stdout",
     "output_type": "stream",
     "text": [
      "0.043644301399728226\n"
     ]
    }
   ],
   "source": [
    "# モデルZで、ブレンドデータでフィット\n",
    "clf_z = mz\n",
    "clf_z.fit(y_pred_all,Y_train_ori_kf)\n",
    "y_p_test = clf_z.predict(y_pred_all)\n",
    "print(mean_squared_error(Y_train_ori_kf, y_p_test))"
   ]
  },
  {
   "cell_type": "code",
   "execution_count": 219,
   "metadata": {},
   "outputs": [
    {
     "name": "stdout",
     "output_type": "stream",
     "text": [
      "0.036796182179882\n",
      "0.036796182179882\n",
      "0.036796182179882\n",
      "0.036796182179882\n",
      "0.036796182179882\n",
      "RandomForestRegressor(bootstrap=True, criterion='mse', max_depth=7,\n",
      "                      max_features='auto', max_leaf_nodes=None,\n",
      "                      min_impurity_decrease=0.0, min_impurity_split=None,\n",
      "                      min_samples_leaf=1, min_samples_split=2,\n",
      "                      min_weight_fraction_leaf=0.0, n_estimators=10,\n",
      "                      n_jobs=None, oob_score=False, random_state=None,\n",
      "                      verbose=0, warm_start=False)\n"
     ]
    },
    {
     "data": {
      "text/plain": [
       "RandomForestRegressor(bootstrap=True, criterion='mse', max_depth=7,\n",
       "                      max_features='auto', max_leaf_nodes=None,\n",
       "                      min_impurity_decrease=0.0, min_impurity_split=None,\n",
       "                      min_samples_leaf=1, min_samples_split=2,\n",
       "                      min_weight_fraction_leaf=0.0, n_estimators=10,\n",
       "                      n_jobs=None, oob_score=False, random_state=None,\n",
       "                      verbose=0, warm_start=False)"
      ]
     },
     "execution_count": 219,
     "metadata": {},
     "output_type": "execute_result"
    }
   ],
   "source": [
    "# 推論フェーズ　モデル①で計算\n",
    "y_pred_list1_1 = np.empty((292,0),float)\n",
    "for i in range(k):\n",
    "    y_p = ins_list[i].predict(X_test_ori)\n",
    "#     print(y_p.shape)\n",
    "#     print(np.array(y_p).reshape(len(y_p),1).shape)\n",
    "    y_pred_list1_1 = np.append(y_pred_list1_1,np.array(y_p).reshape(len(y_p),1),axis=1)\n",
    "y_pred_m1 = np.mean(y_pred_list1_1, axis=1)\n",
    "# print(y_pred_m1.shape)\n",
    "# y_pred_list1_1[:,0]\n",
    "for i in range(k):\n",
    "    print(mean_squared_error(y_test_ori, y_pred_list1_1[:,i]))\n",
    "# y_pred_list1_1_def = y_pred_list1_1[:,3] - y_pred_list1_1[:,4]\n",
    "# display(y_pred_list1_1_def)\n",
    "print(ins_list[0])\n",
    "ins_list[1]"
   ]
  },
  {
   "cell_type": "code",
   "execution_count": 220,
   "metadata": {},
   "outputs": [
    {
     "name": "stdout",
     "output_type": "stream",
     "text": [
      "(292,)\n",
      "(292, 1)\n",
      "(292,)\n",
      "(292, 1)\n",
      "(292,)\n",
      "(292, 1)\n",
      "(292,)\n",
      "(292, 1)\n",
      "(292,)\n",
      "(292, 1)\n",
      "(292,)\n",
      "0.1301808719687978\n",
      "0.1301808719687978\n",
      "0.1301808719687978\n",
      "0.1301808719687978\n",
      "0.1301808719687978\n"
     ]
    }
   ],
   "source": [
    "# 推論フェーズ　モデル②で計算\n",
    "y_pred_list2_1 = np.empty((292,0),float)\n",
    "for i in range(k):\n",
    "    y_p = ins_list2[i].predict(X_test_ori)\n",
    "    print(y_p.shape)\n",
    "    print(np.array(y_p).reshape(len(y_p),1).shape)\n",
    "    y_pred_list2_1 = np.append(y_pred_list2_1,np.array(y_p).reshape(len(y_p),1),axis=1)\n",
    "y_pred_m2 = np.mean(y_pred_list2_1, axis=1)\n",
    "print(y_pred_m2.shape)\n",
    "for i in range(k):\n",
    "    print(mean_squared_error(y_test_ori, y_pred_list2_1[:,i]))\n",
    "\n",
    "y_pred_list2_1_def = y_pred_list2_1[:,2] - y_pred_list2_1[:,3]\n",
    "# display(y_pred_list2_1_def)"
   ]
  },
  {
   "cell_type": "code",
   "execution_count": 221,
   "metadata": {},
   "outputs": [
    {
     "name": "stdout",
     "output_type": "stream",
     "text": [
      "(292,)\n",
      "(292, 1)\n",
      "(292,)\n",
      "(292, 1)\n",
      "(292,)\n",
      "(292, 1)\n",
      "(292,)\n",
      "(292, 1)\n",
      "(292,)\n",
      "(292, 1)\n",
      "(292,)\n",
      "0.054124056319972275\n",
      "0.054124056319972275\n",
      "0.054124056319972275\n",
      "0.054124056319972275\n",
      "0.054124056319972275\n"
     ]
    }
   ],
   "source": [
    "# 推論フェーズ　モデル③で計算\n",
    "y_pred_list3_1 = np.empty((292,0),float)\n",
    "for i in range(k):\n",
    "    y_p = ins_list3[i].predict(X_test_ori)\n",
    "    print(y_p.shape)\n",
    "    print(np.array(y_p).reshape(len(y_p),1).shape)\n",
    "    y_pred_list3_1 = np.append(y_pred_list3_1,np.array(y_p).reshape(len(y_p),1),axis=1)\n",
    "y_pred_m3 = np.mean(y_pred_list3_1, axis=1)\n",
    "print(y_pred_m3.shape)\n",
    "for i in range(k):\n",
    "    print(mean_squared_error(y_test_ori, y_pred_list3_1[:,i]))\n",
    "\n",
    "y_pred_list3_1_def = y_pred_list3_1[:,2] - y_pred_list3_1[:,3]\n",
    "# display(y_pred_list2_1_def)"
   ]
  },
  {
   "cell_type": "code",
   "execution_count": 222,
   "metadata": {},
   "outputs": [],
   "source": [
    "# ブレンドデータ\n",
    "y_pred_all_2 = np.empty((0,0),float)\n",
    "y_pred_all_2 = np.concatenate([np.array(y_pred_m1).reshape(len(y_pred_m1),1),\\\n",
    "                               np.array(y_pred_m2).reshape(len(y_pred_m2),1),\\\n",
    "                               np.array(y_pred_m3).reshape(len(y_pred_m3),1)],1)"
   ]
  },
  {
   "cell_type": "code",
   "execution_count": 223,
   "metadata": {},
   "outputs": [
    {
     "data": {
      "text/plain": [
       "(292, 3)"
      ]
     },
     "execution_count": 223,
     "metadata": {},
     "output_type": "execute_result"
    }
   ],
   "source": [
    "y_pred_all_2.shape"
   ]
  },
  {
   "cell_type": "code",
   "execution_count": 224,
   "metadata": {},
   "outputs": [],
   "source": [
    "y_pred_all_3 = clf_z.predict(y_pred_all_2) "
   ]
  },
  {
   "cell_type": "code",
   "execution_count": 225,
   "metadata": {},
   "outputs": [
    {
     "name": "stdout",
     "output_type": "stream",
     "text": [
      "0.035856391522057815\n"
     ]
    }
   ],
   "source": [
    "print(mean_squared_error(y_test_ori, y_pred_all_3))"
   ]
  },
  {
   "cell_type": "code",
   "execution_count": null,
   "metadata": {},
   "outputs": [],
   "source": []
  }
 ],
 "metadata": {
  "kernelspec": {
   "display_name": "Python 3",
   "language": "python",
   "name": "python3"
  },
  "language_info": {
   "codemirror_mode": {
    "name": "ipython",
    "version": 3
   },
   "file_extension": ".py",
   "mimetype": "text/x-python",
   "name": "python",
   "nbconvert_exporter": "python",
   "pygments_lexer": "ipython3",
   "version": "3.7.4"
  },
  "toc": {
   "base_numbering": 1,
   "nav_menu": {},
   "number_sections": true,
   "sideBar": true,
   "skip_h1_title": false,
   "title_cell": "Table of Contents",
   "title_sidebar": "Contents",
   "toc_cell": false,
   "toc_position": {},
   "toc_section_display": true,
   "toc_window_display": false
  }
 },
 "nbformat": 4,
 "nbformat_minor": 2
}
