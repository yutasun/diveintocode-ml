{
 "cells": [
  {
   "cell_type": "markdown",
   "metadata": {},
   "source": [
    "# 【問題1】100日目の米粒の数"
   ]
  },
  {
   "cell_type": "markdown",
   "metadata": {},
   "source": [
    "100日目には合計で米粒をいくつもらっているのかを計算するコードを作成し、答えを出力してください。\n",
    "<br>\n",
    "また、1日目から100日目までの「その日にもらう米の数」と「その日までに累計で貰う米の数」の推移を折れ線グラフで表現してください。\n",
    "<br>\n",
    "（縦軸が米の数、横軸が日数）"
   ]
  },
  {
   "cell_type": "code",
   "execution_count": 4,
   "metadata": {},
   "outputs": [
    {
     "data": {
      "image/png": "[encoded data removed]",
      "text/plain": [
       "<Figure size 432x288 with 1 Axes>"
      ]
     },
     "metadata": {
      "needs_background": "light"
     },
     "output_type": "display_data"
    }
   ],
   "source": [
    "import matplotlib.pyplot as plt\n",
    "import matplotlib.path as mpath\n",
    "import numpy as np\n",
    "\n",
    "RICE = 1\n",
    "a_rice = RICE #初期値を入力、その日もらえる米の数\n",
    "b_rice = RICE #初期値を入力、それまでにもらえた米の数\n",
    "a_list = [RICE]\n",
    "b_list = [RICE]\n",
    "for i in range(100):\n",
    "    a_rice = a_rice*2 #初期値を２倍し格納する\n",
    "    a_list.append(a_rice) #計算結果をリスト最後に格納する\n",
    "\n",
    "    b_rice = b_rice + a_rice #i日目の貰える米の数を累計に加算する\n",
    "    b_list.append(b_rice) #計算結果をリスト最後に格納する\n",
    "\n",
    "plt.title(\"sororishinemon\")\n",
    "plt.xlabel(\"number of day\")\n",
    "plt.ylabel(\"rise\")\n",
    "#plt.yscale('log') #対数グラフにする\n",
    "plt.plot(a_list, color='g')\n",
    "plt.plot(b_list, color='b')\n",
    "plt.show()\n"
   ]
  },
  {
   "cell_type": "markdown",
   "metadata": {},
   "source": [
    "# 【問題2】100日目以外の米粒の数"
   ]
  },
  {
   "cell_type": "markdown",
   "metadata": {},
   "source": [
    "この逸話は30日だったり81日だったりと日数が曖昧です。どの話にも対応できるように日数を引数とした 関数 を作成しましょう。\n",
    "<br>\n",
    "関数を作成した上で、コースを受講する日数の間でいくつ米粒をもらえるかを答えてください。\n",
    "<br>\n",
    "前の問題同様に折れ線グラフも出力してください。\n",
    "<br>\n",
    "以下の雛形には関数としての枠組みだけではなく、引数や返り値についてのコメントも記載してあります。\n",
    "<br>\n",
    "参考にして、自分なりにも分かりやすくコメントを書き換えてください。"
   ]
  },
  {
   "cell_type": "code",
   "execution_count": 7,
   "metadata": {},
   "outputs": [
    {
     "data": {
      "image/png": "[encoded data removed]",
      "text/plain": [
       "<Figure size 432x288 with 1 Axes>"
      ]
     },
     "metadata": {
      "needs_background": "light"
     },
     "output_type": "display_data"
    }
   ],
   "source": [
    "def compute_sorori_shinzaemon(day):\n",
    "    RICE = 1\n",
    "    a_rice = RICE #初期値を入力、その日もらえる米の数\n",
    "    b_rice = RICE #初期値を入力、それまでにもらえた米の数\n",
    "    a_list = [RICE]\n",
    "    b_list = [RICE]\n",
    "    for i in range(day):\n",
    "        a_rice = a_rice*2 #初期値を２倍し格納する\n",
    "        a_list.append(a_rice) #計算結果をリスト最後に格納する\n",
    "\n",
    "        b_rice = b_rice + a_rice #i日目の貰える米の数を累計に加算する\n",
    "        b_list.append(b_rice) #計算結果をリスト最後に格納する\n",
    "\n",
    "    return a_list, b_list\n",
    "\n",
    "a_ricelist, b_ricelist = compute_sorori_shinzaemon(15)\n",
    "\n",
    "# compute_sorori_shinzaemon(100)\n",
    "\n",
    "import matplotlib.pyplot as plt\n",
    "#import matplotlib.path as mpath\n",
    "#import numpy as np\n",
    "\n",
    "plt.title(\"sororishinemon\")\n",
    "plt.xlabel(\"number of day\")\n",
    "plt.ylabel(\"rise\")\n",
    "#plt.yscale('log') #対数グラフにする\n",
    "plt.plot(a_ricelist, color='g')\n",
    "plt.plot(b_ricelist, color='b')\n",
    "plt.show()\n"
   ]
  },
  {
   "cell_type": "markdown",
   "metadata": {},
   "source": [
    "# 【問題3】何人が何日生活できる米か"
   ]
  },
  {
   "cell_type": "markdown",
   "metadata": {},
   "source": [
    "この米があれば何人が何日生活できるか計算する関数を作成してください。\n",
    "<br>\n",
    "コースを受講する期間に貰える米粒で、このクラスにいる人数であれば、何日間生活できるかを出力してみましょう。\n",
    "<br>\n",
    "関数の最低限の入力は 米粒の数(int) と 人数(int) 、出力は 生活できる日数(int) です。\n",
    "<br>\n",
    "関数名やコメントなどは分かりやすく考えて作成してください。\n",
    "<br>\n",
    "ここでは1日に必要な米粒の数は提示しません。自分なりに調べて、計算式に落とし込んでください。\n",
    "<br>\n",
    "どう調べ、何を根拠にしたかもコメントを残しておいてください。"
   ]
  },
  {
   "cell_type": "code",
   "execution_count": 11,
   "metadata": {},
   "outputs": [
    {
     "name": "stdout",
     "output_type": "stream",
     "text": [
      "生存日数：5.128205128205129\n"
     ]
    }
   ],
   "source": [
    "# 一人が一食に必要な米の数を5000と仮定する\n",
    "# 米は１００００００粒与えられたものと仮定する\n",
    "\n",
    "def lifeday(amount_rice,parson,required_rice):\n",
    "    survival_days = amount_rice/(required_rice*3*parson)\n",
    "    \n",
    "    return survival_days\n",
    "\n",
    "print(\"生存日数：{}\".format(lifeday(1000000,13,5000)))"
   ]
  },
  {
   "cell_type": "code",
   "execution_count": null,
   "metadata": {},
   "outputs": [],
   "source": []
  }
 ],
 "metadata": {
  "kernelspec": {
   "display_name": "Python 3",
   "language": "python",
   "name": "python3"
  },
  "language_info": {
   "codemirror_mode": {
    "name": "ipython",
    "version": 3
   },
   "file_extension": ".py",
   "mimetype": "text/x-python",
   "name": "python",
   "nbconvert_exporter": "python",
   "pygments_lexer": "ipython3",
   "version": "3.7.4"
  },
  "toc": {
   "base_numbering": 1,
   "nav_menu": {},
   "number_sections": true,
   "sideBar": true,
   "skip_h1_title": false,
   "title_cell": "Table of Contents",
   "title_sidebar": "Contents",
   "toc_cell": false,
   "toc_position": {},
   "toc_section_display": true,
   "toc_window_display": false
  }
 },
 "nbformat": 4,
 "nbformat_minor": 2
}
