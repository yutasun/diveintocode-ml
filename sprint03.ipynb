{
 "cells": [
  {
   "cell_type": "markdown",
   "metadata": {},
   "source": [
    "# 設定"
   ]
  },
  {
   "cell_type": "code",
   "execution_count": 52,
   "metadata": {},
   "outputs": [
    {
     "name": "stdout",
     "output_type": "stream",
     "text": [
      "(100, 2)\n"
     ]
    }
   ],
   "source": [
    "from sklearn.datasets import load_iris\n",
    "import math\n",
    "import pandas as pd\n",
    "import numpy as np\n",
    "import matplotlib.pyplot as plt\n",
    "import seaborn as sns\n",
    "from sklearn.model_selection import train_test_split\n",
    "from sklearn.preprocessing import StandardScaler\n",
    "\n",
    "#アイリスデータのインポート\n",
    "iris_data = load_iris()\n",
    "X = iris_data.data\n",
    "Y = iris_data.target\n",
    "data_names = ['sepal_length','sepal_width','petal_length','petal_width']\n",
    "target_names = ['setosa', 'versicolor', 'virginica']\n",
    "#print(type(X))\n",
    "# print(type(target_names))\n",
    "\n",
    "df_X = pd.DataFrame(X,columns = data_names)\n",
    "df_Y = pd.DataFrame(Y,columns = ['Species'])\n",
    "\n",
    "# print(df_X)\n",
    "# print(df_Y)\n",
    "# print(type(df_X))\n",
    "X = df_X.values\n",
    "X = X[50:150]\n",
    "X = X[:,[2,3]]\n",
    "# print(X)\n",
    "\n",
    "\n",
    "Y = df_Y.values.T\n",
    "Y = Y[ : ,50:150] - 1\n",
    "\n",
    "# print(X.shape)\n",
    "# print(Y)"
   ]
  },
  {
   "cell_type": "code",
   "execution_count": 2,
   "metadata": {},
   "outputs": [],
   "source": [
    "#初期パラメータ設定\n",
    "\n",
    "num_iter: int = 100\n",
    "lr: float = 0.000001\n",
    "no_bias: bool = False\n",
    "verbose : bool = True\n",
    "lam : float = 0.01\n"
   ]
  },
  {
   "cell_type": "code",
   "execution_count": 3,
   "metadata": {},
   "outputs": [],
   "source": [
    "#インスタンス変数の設定\n",
    "def __init__(self, num_iter, lr, bias, verbose):\n",
    "    # ハイパーパラメータを属性として記録\n",
    "    self.iter = num_iter\n",
    "    self.lr = lr\n",
    "    self.bias = bias\n",
    "    self.verbose = verbose\n",
    "    # 損失を記録する配列を用意\n",
    "    self.loss = np.zeros(self.iter)\n",
    "    self.val_loss = np.zeros(self.iter)\n",
    "    \"\"\"\n",
    "    self.coef_ : 次の形のndarray, shape (n_features,)\n",
    "      パラメータ\n",
    "    self.loss : 次の形のndarray, shape (self.iter,)\n",
    "      学習用データに対する損失の記録\n",
    "    self.val_loss : 次の形のndarray, shape (self.iter,)\n",
    "      検証用データに対する損失の記録\n",
    "\n",
    "    \"\"\""
   ]
  },
  {
   "cell_type": "markdown",
   "metadata": {},
   "source": [
    "# 【問題1】仮定関数"
   ]
  },
  {
   "cell_type": "code",
   "execution_count": 4,
   "metadata": {},
   "outputs": [
    {
     "data": {
      "text/plain": [
       "(1, 100)"
      ]
     },
     "execution_count": 4,
     "metadata": {},
     "output_type": "execute_result"
    }
   ],
   "source": [
    "np_x = X\n",
    "\n",
    "np_1 = np.ones((np_x.shape[0],1)) # 行列の長さを自動取得する\n",
    "if no_bias != True:\n",
    "    np_x = np.concatenate([np_1, np_x], 1) # バイアス＝TRUEの時は下記をXとして扱う\n",
    "else:\n",
    "    pass\n",
    "np.random.seed(0) #本来は与えられるパラメータベクトル\n",
    "param_vec = np.random.uniform(0, 5, (1, np_x.shape[1]))\n",
    "\n",
    "\n",
    "# print(np_x.shape[1])\n",
    "# print(np_x.T.shape)\n",
    "# print(param_vec.shape)\n",
    "\n",
    "y_pred = 1/(1 + math.e**(-1*param_vec @ np_x.T))\n",
    "y_pred.shape"
   ]
  },
  {
   "cell_type": "markdown",
   "metadata": {},
   "source": [
    "# 【問題2】最急降下法"
   ]
  },
  {
   "cell_type": "code",
   "execution_count": 5,
   "metadata": {},
   "outputs": [
    {
     "name": "stdout",
     "output_type": "stream",
     "text": [
      "0\n",
      "(1, 100)\n",
      "(1, 100)\n",
      "[[-4.99999999e-11]\n",
      " [-2.12999999e-10]\n",
      " [-6.62999998e-11]]\n"
     ]
    }
   ],
   "source": [
    "stu = 0.0000000001\n",
    "\n",
    "error = y_pred - Y\n",
    "\n",
    "result = 0\n",
    "result0 = result\n",
    "print(result0)\n",
    "# print(result0.shape)\n",
    "# param_vec.shape\n",
    "# result0[0] = result0[0] + 1\n",
    "# print(result0)\n",
    "\n",
    "result = (1 - stu*lam/X.shape[0])*result - stu/X.shape[0]*(error @ np_x).T\n",
    "\n",
    "print(Y.shape)\n",
    "print(error.shape)\n",
    "print(result)"
   ]
  },
  {
   "cell_type": "markdown",
   "metadata": {},
   "source": [
    "# 【問題3】推定"
   ]
  },
  {
   "cell_type": "code",
   "execution_count": 6,
   "metadata": {},
   "outputs": [],
   "source": [
    "    def predict_proba(self, np_x):\n",
    "        param_vec = np.random.uniform(0, 100, (1, np_x.shape[1]))\n",
    "        y_pred = 1/(1 + math.e**(-1*param_vec @ np_x.T))\n",
    "        \n",
    "        pass\n",
    "        return y_pred"
   ]
  },
  {
   "cell_type": "code",
   "execution_count": 7,
   "metadata": {},
   "outputs": [],
   "source": [
    "    def predict(self, np_x):\n",
    "        param_vec = np.random.uniform(0, 100, (1, np_x.shape[1]))\n",
    "        y_pred = 1/(1 + math.e**(-1*param_vec @ np_x.T))\n",
    "        y_pred_2d = y_pred.where(a < 0.5, 0, 1)\n",
    "        pass\n",
    "        return y_pred_2d"
   ]
  },
  {
   "cell_type": "markdown",
   "metadata": {},
   "source": [
    "# 【問題4】目的関数"
   ]
  },
  {
   "cell_type": "code",
   "execution_count": 8,
   "metadata": {},
   "outputs": [
    {
     "name": "stdout",
     "output_type": "stream",
     "text": [
      "\n"
     ]
    },
    {
     "data": {
      "text/plain": [
       "array([[10.98696123]])"
      ]
     },
     "execution_count": 8,
     "metadata": {},
     "output_type": "execute_result"
    }
   ],
   "source": [
    "def loss_cal(y_pred , Y):\n",
    "    \"\"\"\n",
    "    損失関数の計算と記録\n",
    "\n",
    "    Parameters\n",
    "    ----------\n",
    "    y_pred : 次の形のndarray, shape (n_samples,)\n",
    "      推定した値\n",
    "    y : 次の形のndarray, shape (n_samples,)\n",
    "      正解値\n",
    "\n",
    "    Returns\n",
    "    ----------\n",
    "    cost : numpy.float\n",
    "      平均二乗誤差\n",
    "    \"\"\"\n",
    "    \n",
    "    loss_1 = 1/X.shape[0]*(-1)*Y@np.log(y_pred.T)\n",
    "    loss_2 = -1/X.shape[0]*(1 - Y)@np.log(1 - y_pred.T)\n",
    "    l_2 = lam/2/X.shape[0]*result.T@result\n",
    "    loss = loss_1 + loss_2 + l_2\n",
    "    return loss\n",
    "\n",
    "print()\n",
    "\n",
    "loss_cal(y_pred , Y)\n"
   ]
  },
  {
   "cell_type": "code",
   "execution_count": 9,
   "metadata": {},
   "outputs": [
    {
     "name": "stdout",
     "output_type": "stream",
     "text": [
      "(1, 100)\n",
      "(1, 100)\n"
     ]
    }
   ],
   "source": [
    "print(y_pred.shape)\n",
    "print(Y.shape)"
   ]
  },
  {
   "cell_type": "markdown",
   "metadata": {},
   "source": [
    "# 【問題5】学習と推定"
   ]
  },
  {
   "cell_type": "code",
   "execution_count": 66,
   "metadata": {},
   "outputs": [],
   "source": [
    "class ScratchLogisticRegression1():\n",
    "\n",
    "    lam = 0.1\n",
    "    no_bias: bool = True\n",
    "        \n",
    "    def __init__(self, num_iter, lr, bias, verbose):\n",
    "        # ハイパーパラメータを属性として記録\n",
    "        self.iter = num_iter\n",
    "        self.lr = lr\n",
    "        self.bias = bias\n",
    "        self.verbose = verbose\n",
    "        # 損失を記録する配列を用意\n",
    "        self.loss = np.zeros(self.iter)\n",
    "        self.val_loss = np.zeros(self.iter)\n",
    "        \n",
    "    def fit(self, X, y, X_val=None, y_val=None):\n",
    "        self.X = X\n",
    "        self.Y = y\n",
    "\n",
    "        np_1 = np.ones((self.X.shape[0],1)) # 行列の長さを自動取得する\n",
    "#         np_1_val = np.ones((self.np_x_val.shape[0],1))\n",
    "        if no_bias != True:\n",
    "            self.X = np.concatenate([np_1, self.X], 1) # バイアス＝TRUEの時は下記をXとして扱う\n",
    "#             self.X_val = np.concatenate([np_1_val, self.np_x_val], 1)\n",
    "        else:\n",
    "            pass\n",
    "        \n",
    "        #パラメーターの初期値（平均０、分散１の正規分布）\n",
    "#         print(self.X.shape)\n",
    "        np.random.seed(0) #本来は与えられるパラメータベクトル\n",
    "        self.coef_ =  np.random.uniform(0, 1, (1, self.X.shape[1]))\n",
    "#         print(self.coef_)\n",
    "        self.predict_proba(self.X)\n",
    "\n",
    "        error = self.y_pred  - y\n",
    "            \n",
    "        for iter_count in range(self.iter):\n",
    "            if self.verbose:\n",
    "                #verboseをTrueにした際は学習過程を出力\n",
    "                pass\n",
    "                #print(\"{}回目の学習\".format(iter_count))\n",
    "            \n",
    "            # 過程関数\n",
    "#             self.predict_proba(X)\n",
    "#             self.predict(X)\n",
    "# #             print(y.shape)\n",
    "# #             print(self.y_pred.shape)\n",
    "# #             y_pred_val = predict_proba(self, X_val)\n",
    "#             # _linear_hypothesis　→　これだけでh0の更新、fit内部ではself.h0で更新後の値が呼び出せる、retunいらない\n",
    "            \n",
    "#             # 最急降下法（error算出→勾配算出）\n",
    "#             error = self.y_pred - y\n",
    "\n",
    "            self._gradient_descent(X, error)\n",
    "            self.loss_cal(X, y)\n",
    "            self.loss[iter_count] = self.loss_\n",
    "#             self.val_loss[iter_count] = loss_cal(h0_val , y_val)\n",
    "#             print(self.coef_)\n",
    "\n",
    "        \n",
    "    def predict_proba(self, X):\n",
    "#         print(self.coef_.shape)\n",
    "#         print(X.shape)\n",
    "#         np_1 = np.ones((X.shape[0],1)) # 行列の長さを自動取得する\n",
    "#         if no_bias != True:\n",
    "#             X = np.concatenate([np_1, X], 1) # バイアス＝TRUEの時は下記をXとして扱う\n",
    "#         print(X.shape)\n",
    "        self.y_pred = 1/(1 + np.exp(-1*self.coef_ @ X.T))\n",
    "#         print(X.T.shape)\n",
    "\n",
    "    def predict_proba2(self, X):\n",
    "#         print(self.coef_.shape)\n",
    "#         print(X.shape)\n",
    "        np_1 = np.ones((X.shape[0],1)) # 行列の長さを自動取得する\n",
    "        if no_bias != True:\n",
    "            X = np.concatenate([np_1, X], 1) # バイアス＝TRUEの時は下記をXとして扱う\n",
    "#         print(X.shape)\n",
    "        y_pred = 1/(1 + np.exp(-1*self.coef_ @ X.T))\n",
    "#         print(X.T.shape)\n",
    "        return y_pred\n",
    "\n",
    "\n",
    "    def predict(self, X):\n",
    "#         print(self.coef_)\n",
    "#         print(X.T)\n",
    "#         np_1 = np.ones((X.shape[0],1)) # 行列の長さを自動取得する\n",
    "#         if no_bias != True:\n",
    "#             X = np.concatenate([np_1, X], 1) # バイアス＝TRUEの時は下記をXとして扱う\n",
    "        y_pred = 1/(1 + np.exp(-1*self.coef_ @ X.T))\n",
    "        y_pred_2d = np.where(y_pred < 0.5, 0, 1)\n",
    "        y_pred_2d = y_pred_2d\n",
    "        return y_pred_2d\n",
    "    \n",
    "    def predict2(self, X):\n",
    "#         print(self.coef_)\n",
    "#         print(X.T)\n",
    "        np_1 = np.ones((X.shape[0],1)) # 行列の長さを自動取得する\n",
    "        if no_bias != True:\n",
    "            X = np.concatenate([np_1, X], 1) # バイアス＝TRUEの時は下記をXとして扱う\n",
    "        y_pred = 1/(1 + np.exp(-1*self.coef_ @ X.T))\n",
    "        y_pred_2d = np.where(y_pred < 0.5, 0, 1)\n",
    "        y_pred_2d = y_pred_2d\n",
    "        return y_pred_2d\n",
    "    \n",
    "    def loss_cal(self, X, y):\n",
    "        loss_1 = 1/X.shape[0]*(-1)*y@np.log(self.y_pred.T) #計算怪しい\n",
    "        loss_2 = -1/X.shape[0]*(1 - y)@np.log(1 - self.y_pred.T) #計算怪しい\n",
    "        l_2 = lam/2/X.shape[0]*(self.coef_@self.coef_.T)\n",
    "#         print(l_2)\n",
    "        self.loss_ = loss_1 + loss_2 + l_2\n",
    "    \n",
    "    def _gradient_descent(self, X, error):\n",
    "        self.coef_ = (1 - self.lr*lam/self.X.shape[0])*self.coef_ - self.lr/self.X.shape[0]*(error @ self.X)"
   ]
  },
  {
   "cell_type": "code",
   "execution_count": 67,
   "metadata": {},
   "outputs": [
    {
     "name": "stdout",
     "output_type": "stream",
     "text": [
      "(75, 2)\n",
      "(25, 2)\n",
      "(1, 75)\n",
      "(1, 25)\n"
     ]
    },
    {
     "data": {
      "text/plain": [
       "100"
      ]
     },
     "execution_count": 67,
     "metadata": {},
     "output_type": "execute_result"
    }
   ],
   "source": [
    "# 動作確認\n",
    "from sklearn.model_selection import train_test_split\n",
    "# ndarray変換\n",
    "X_train, X_val, y_train, y_val = train_test_split(X, Y.T, test_size=0.25, random_state=0)\n",
    "y_train = y_train.T\n",
    "y_val = y_val.T\n",
    "print(X_train.shape)\n",
    "print(X_val.shape)\n",
    "print(y_train.shape)\n",
    "print(y_val.shape)\n",
    "X.shape[0]"
   ]
  },
  {
   "cell_type": "code",
   "execution_count": 68,
   "metadata": {},
   "outputs": [
    {
     "data": {
      "text/plain": [
       "array([[0, 0, 0, 0, 0, 0, 0, 0, 0, 0, 0, 0, 0, 0, 0, 0, 0, 0, 0, 0, 0, 0,\n",
       "        0, 0, 0]])"
      ]
     },
     "execution_count": 68,
     "metadata": {},
     "output_type": "execute_result"
    }
   ],
   "source": [
    "slrg = ScratchLogisticRegression1(num_iter = 100,lr = 0.1,bias = True,verbose = True)\n",
    "slrg.fit(X_train, y_train, X_val, y_val)\n",
    "# print(slrg.coef_)\n",
    "# print(slrg.loss)\n",
    "# print(X_train.shape)\n",
    "slrg.predict_proba2(X_val)\n",
    "slrg.predict2(X_val)"
   ]
  },
  {
   "cell_type": "code",
   "execution_count": 69,
   "metadata": {},
   "outputs": [
    {
     "data": {
      "text/plain": [
       "array([[0, 1, 0, 1, 1, 1, 0, 1, 1, 1, 1, 1, 1, 0, 0, 0, 0, 0, 0, 0, 0, 1,\n",
       "        0, 1, 0]])"
      ]
     },
     "execution_count": 69,
     "metadata": {},
     "output_type": "execute_result"
    }
   ],
   "source": [
    "y_val"
   ]
  },
  {
   "cell_type": "code",
   "execution_count": 47,
   "metadata": {},
   "outputs": [
    {
     "name": "stdout",
     "output_type": "stream",
     "text": [
      "(25, 2)\n"
     ]
    }
   ],
   "source": [
    "print(X_val.shape)"
   ]
  },
  {
   "cell_type": "code",
   "execution_count": 70,
   "metadata": {},
   "outputs": [],
   "source": [
    "import matplotlib.pyplot as plt\n",
    "from matplotlib.colors import ListedColormap\n",
    "import matplotlib.patches as mpatches\n",
    "import itertools\n",
    "\n",
    "def decision_region(X, y, model, step=0.01, title='decision region', xlabel='xlabel', ylabel='ylabel', target_names=['versicolor', 'virginica']):\n",
    "    \"\"\"\n",
    "    2値分類を2次元の特徴量で学習したモデルの決定領域を描く。\n",
    "    背景の色が学習したモデルによる推定値から描画される。\n",
    "    散布図の点は訓練データまたは検証データである。\n",
    "\n",
    "    Parameters\n",
    "    ----------------\n",
    "    X : ndarray, shape(n_samples, 2)\n",
    "        特徴量\n",
    "    y : ndarray, shape(n_samples,)\n",
    "        ラベル\n",
    "    model : object\n",
    "        学習したモデルのインスンタスを入れる\n",
    "    step : float, (default : 0.1)\n",
    "        推定値を計算する間隔を設定する\n",
    "    title : str\n",
    "        グラフのタイトルの文章を与える\n",
    "    xlabel, ylabel : str\n",
    "        軸ラベルの文章を与える\n",
    "    target_names= : list of str\n",
    "        凡例の一覧を与える\n",
    "    \"\"\"\n",
    "    # setting\n",
    "    scatter_color = ['red', 'blue']\n",
    "    contourf_color = ['pink', 'skyblue']\n",
    "    n_class = 2\n",
    "\n",
    "    # pred\n",
    "    mesh_f0, mesh_f1  = np.meshgrid(np.arange(np.min(X[:,0])-0.5, np.max(X[:,0])+0.5, step),\\\n",
    "                                    np.arange(np.min(X[:,1])-0.5, np.max(X[:,1])+0.5, step))\n",
    "    mesh = np.c_[np.ravel(mesh_f0),np.ravel(mesh_f1)]\n",
    "    y_pred = model.predict(mesh).reshape(mesh_f0.shape)\n",
    "\n",
    "    # plot\n",
    "    plt.title(title)\n",
    "    plt.xlabel(xlabel)\n",
    "    plt.ylabel(ylabel)\n",
    "    plt.contourf(mesh_f0, mesh_f1, y_pred, n_class-1, cmap=ListedColormap(contourf_color))\n",
    "    plt.contour(mesh_f0, mesh_f1, y_pred, n_class-1, colors='y', linewidths=3, alpha=0.5)\n",
    "    for i, target in enumerate(set(y)):\n",
    "        plt.scatter(X[y==target][:, 0], X[y==target][:, 1], s=80, color=scatter_color[i],\\\n",
    "                    label=target_names[i], marker='o')\n",
    "    patches = [mpatches.Patch(color=scatter_color[i], label=target_names[i])\n",
    "for i in range(n_class)]\n",
    "    plt.legend(handles=patches)\n",
    "    plt.legend()\n",
    "    plt.show()\n"
   ]
  },
  {
   "cell_type": "code",
   "execution_count": 71,
   "metadata": {},
   "outputs": [
    {
     "name": "stdout",
     "output_type": "stream",
     "text": [
      "学習結果0.9066666666666666\n",
      "解析結果0.96\n"
     ]
    },
    {
     "name": "stderr",
     "output_type": "stream",
     "text": [
      "/opt/anaconda3/lib/python3.7/site-packages/sklearn/linear_model/logistic.py:432: FutureWarning: Default solver will be changed to 'lbfgs' in 0.22. Specify a solver to silence this warning.\n",
      "  FutureWarning)\n",
      "/opt/anaconda3/lib/python3.7/site-packages/sklearn/utils/validation.py:724: DataConversionWarning: A column-vector y was passed when a 1d array was expected. Please change the shape of y to (n_samples, ), for example using ravel().\n",
      "  y = column_or_1d(y, warn=True)\n"
     ]
    },
    {
     "data": {
      "image/png": "[encoded data removed]",
      "text/plain": [
       "<Figure size 432x288 with 1 Axes>"
      ]
     },
     "metadata": {
      "needs_background": "light"
     },
     "output_type": "display_data"
    },
    {
     "name": "stdout",
     "output_type": "stream",
     "text": [
      "[[0.04403254 1.86380013]]\n"
     ]
    }
   ],
   "source": [
    "from sklearn.linear_model import LogisticRegression\n",
    "clf = LogisticRegression(random_state=0).fit(X_train, y_train.T)\n",
    "y_pred = clf.predict(X_val)\n",
    "y_pred_train = clf.predict(X_train)\n",
    "from sklearn import metrics\n",
    "print(\"学習結果\" + str(metrics.accuracy_score(y_train.T, y_pred_train)))\n",
    "print(\"解析結果\" + str(metrics.accuracy_score(y_val.T, y_pred)))\n",
    "decision_region(X_train,list(itertools.chain.from_iterable(y_train.T)),clf,\\\n",
    "                title='decision region of train_data')\n",
    "# decision_region(X_val,list(itertools.chain.from_iterable(y_val)),clf,\\\n",
    "#                 title='decision region of test_data')\n",
    "print(clf.coef_)"
   ]
  },
  {
   "cell_type": "code",
   "execution_count": null,
   "metadata": {},
   "outputs": [],
   "source": []
  }
 ],
 "metadata": {
  "kernelspec": {
   "display_name": "Python 3",
   "language": "python",
   "name": "python3"
  },
  "language_info": {
   "codemirror_mode": {
    "name": "ipython",
    "version": 3
   },
   "file_extension": ".py",
   "mimetype": "text/x-python",
   "name": "python",
   "nbconvert_exporter": "python",
   "pygments_lexer": "ipython3",
   "version": "3.7.4"
  },
  "toc": {
   "base_numbering": 1,
   "nav_menu": {},
   "number_sections": true,
   "sideBar": true,
   "skip_h1_title": false,
   "title_cell": "Table of Contents",
   "title_sidebar": "Contents",
   "toc_cell": false,
   "toc_position": {},
   "toc_section_display": true,
   "toc_window_display": false
  }
 },
 "nbformat": 4,
 "nbformat_minor": 2
}
