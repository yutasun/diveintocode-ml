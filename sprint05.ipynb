{
 "cells": [
  {
   "cell_type": "markdown",
   "metadata": {},
   "source": [
    "# データ読み込み"
   ]
  },
  {
   "cell_type": "code",
   "execution_count": 261,
   "metadata": {},
   "outputs": [
    {
     "name": "stdout",
     "output_type": "stream",
     "text": [
      "(100, 2)\n",
      "(100, 1)\n"
     ]
    }
   ],
   "source": [
    "from sklearn.datasets import load_iris\n",
    "import math\n",
    "import pandas as pd\n",
    "import numpy as np\n",
    "import matplotlib.pyplot as plt\n",
    "import seaborn as sns\n",
    "from sklearn.model_selection import train_test_split\n",
    "from sklearn.preprocessing import StandardScaler\n",
    "\n",
    "iris_data = load_iris()\n",
    "X = iris_data.data\n",
    "Y = iris_data.target\n",
    "data_names = ['sepal_length','sepal_width','petal_length','petal_width']\n",
    "target_names = ['setosa', 'versicolor', 'virginica']\n",
    "#print(type(X))\n",
    "# print(type(target_names))\n",
    "\n",
    "df_X = pd.DataFrame(X,columns = data_names)\n",
    "df_Y = pd.DataFrame(Y,columns = ['Species'])\n",
    "\n",
    "X = df_X.values\n",
    "X = X[0:100]\n",
    "X = X[:,[2,3]]\n",
    "print(X.shape)\n",
    "\n",
    "Y = df_Y.values\n",
    "Y = Y[0:100]\n",
    "Y = np.where(Y>0,1,-1)\n",
    "print(Y.shape)\n",
    "\n",
    "X_train, X_test, y_train, y_test= train_test_split(X, Y, test_size=0.25, random_state=0)"
   ]
  },
  {
   "cell_type": "markdown",
   "metadata": {},
   "source": [
    "# 【問題1】不純度を求める関数"
   ]
  },
  {
   "cell_type": "markdown",
   "metadata": {},
   "source": [
    "ノード の ジニ不純度 を計算する関数を作成してください。\n",
    "<br>\n",
    "ノード t に対するジニ不純度I(t)は以下の数式で求まります。クラスが混じり合っているほどジニ不純度は高くなります。\n",
    "$$I(t) = 1-\\sum_{i=1}^{K}P^2(C_i|t) = 1-\\sum_{i=1}^{K}(\\frac{N_{t,i}}{N_{t,all}})^{2}$$"
   ]
  },
  {
   "cell_type": "markdown",
   "metadata": {},
   "source": [
    "\n",
    "t\n",
    " : ノードのインデックス\n",
    "\n",
    "i\n",
    " : クラスのインデックス\n",
    "\n",
    "K\n",
    " : クラスの数\n",
    "\n",
    "C\n",
    "i\n",
    " : i番目のクラス\n",
    "\n",
    "P\n",
    "(\n",
    "C\n",
    "i\n",
    "|\n",
    "t\n",
    ")\n",
    " :　t番目のノードにおける\n",
    "C\n",
    "i\n",
    "の割合\n",
    "\n",
    "N\n",
    "t\n",
    ",\n",
    "i\n",
    " : t番目のノードのi番目のクラスに属するサンプル数\n",
    "\n",
    "N\n",
    "t\n",
    ",\n",
    "a\n",
    "l\n",
    "l\n",
    " : t番目のノードのサンプルの総数\n",
    "\n",
    "まずは簡単な例を作り、手計算と関数の結果を比較してください。"
   ]
  },
  {
   "cell_type": "code",
   "execution_count": 254,
   "metadata": {},
   "outputs": [
    {
     "name": "stdout",
     "output_type": "stream",
     "text": [
      "(0.5, 0.49994898479746963, 0.0, array([99., 50., 49.]), array([1., 0., 1.]))\n"
     ]
    }
   ],
   "source": [
    "# 初期閾値\n",
    "np.random.seed(1)\n",
    "lam = np.random.uniform(np.min(X),np.max(X) , (2, 1))\n",
    "# print(lam)\n",
    "\n",
    "\n",
    "def gini_impurity(X,Y):\n",
    "    left = np.zeros(3)\n",
    "    right = np.zeros(3)\n",
    "    Y_l = np.sum(Y > 0)\n",
    "    Y_r = np.sum(Y < 0)\n",
    "    for i in range(X.shape[0]):\n",
    "        if X[i,0] > 1:#lam[1]:\n",
    "            left[0] += 1\n",
    "            if Y[i] == 1:\n",
    "                left[1] += 1\n",
    "            else:\n",
    "                left[2] += 1\n",
    "        else:\n",
    "            right[0] += 1\n",
    "            if Y[i] == 1:\n",
    "                right[1] += 1\n",
    "            else:\n",
    "                right[2] += 1\n",
    "                \n",
    "    gini_a = 1 - ((Y_l/Y.shape[0])**2 + (Y_r/Y.shape[0])**2)\n",
    "    gini_l = 1 - ((left[1]/left[0])**2 + (left[2]/left[0])**2)\n",
    "    gini_r = 1 - ((right[1]/right[0])**2 + (right[2]/right[0])**2)\n",
    "    \n",
    "#     print(left[0])\n",
    "#     print(left[1])\n",
    "#     print(left[2])\n",
    "#     print(right[0])\n",
    "#     print(right[1])\n",
    "#     print(right[2]) \n",
    "#     print(Y_l)\n",
    "#     print(Y_r)     \n",
    "\n",
    "    return gini_a, gini_l, gini_r, left, right\n",
    "\n",
    "print(gini_impurity(X,Y))\n",
    "# ig_p = gini_impurity(X,Y)[0]\n",
    "# ig_l = gini_impurity(X,Y)[1]\n",
    "# ig_r = gini_impurity(X,Y)[2]\n",
    "# left = gini_impurity(X,Y)[3]\n",
    "# right = gini_impurity(X,Y)[4]\n",
    "\n",
    "# print(ig_l)"
   ]
  },
  {
   "cell_type": "markdown",
   "metadata": {},
   "source": [
    "# 【問題2】情報利得を求める関数"
   ]
  },
  {
   "cell_type": "markdown",
   "metadata": {},
   "source": [
    "次に、ノード間の 情報利得 を計算する関数を作成してください。問題1で作成したジニ不純度 $I(t)$ を計算する関数を呼び出して使います。情報利得$IG$は以下の数式で求まります。うまく分けられている時ほど情報利得は大きくなります。"
   ]
  },
  {
   "cell_type": "code",
   "execution_count": 255,
   "metadata": {},
   "outputs": [
    {
     "data": {
      "text/plain": [
       "0.005050505050505083"
      ]
     },
     "execution_count": 255,
     "metadata": {},
     "output_type": "execute_result"
    }
   ],
   "source": [
    "def information_profit(ig_p,ip_l,ig_r,left,right,Y):\n",
    "    ig = ig_p - left[0]/Y.shape[0]*ig_l\\\n",
    "        - right[0]/Y.shape[0]*ig_r\n",
    "#     print(ig_p)\n",
    "#     print(left[0])\n",
    "#     print(ig_l)\n",
    "#     print(right[0])\n",
    "#     print(ig_r)\n",
    "    return ig\n",
    "information_profit(ig_p,ig_l,ig_r,left,right,Y)"
   ]
  },
  {
   "cell_type": "markdown",
   "metadata": {},
   "source": [
    "# 【問題3】学習"
   ]
  },
  {
   "cell_type": "markdown",
   "metadata": {},
   "source": [
    "空間の分割を行い、決定木のグラフを生成するコードを作成してください。今は深さ1の決定木なので、分割を1回だけ行います。ここでグラフを生成するとは、1回の分割の際の条件としてどの特徴量がいくつ以上の時とするかを求めるということです。\n",
    "\n",
    "訓練データに対して全ての組み合わせの分割を行い、その中でノード間の情報利得が最大となる分割をそのノードの分割基準として記録します。\n",
    "\n",
    "クラスが混ざらない不純度が0のノード、または指定された深さのノードが 葉ノード となります。葉ノードにはクラスを記録しておき、これを推定時に分類するクラスとします。クラスが混ざらない場合はそのままのクラスを記録し、混ざっている場合は多数決により決めます。\n",
    "\n",
    "《組み合わせの取り方》\n",
    "\n",
    "全ての組み合わせの取り方は、最も単純には各特徴量の値自体をしきい値にして分割を行う方法があります。片側の端は今回のスクラッチはこの方法で行なってください。\n",
    "\n",
    "他には中間の値をしきい値にする方法もあり、scikit-learnではこの方法が用いられています。\n",
    "\n",
    "《補足》\n",
    "\n",
    "問題2の情報利得を計算する関数はこの問題3で利用する上では、親ノードの不純度 $I(p)$ は固定されるため、左右のノードの不純度の合計を計算するだけでも同じ結果が得られることになります。しかし、ここでは親ノードを考慮した情報利得を計算する実装を行なってください。"
   ]
  },
  {
   "cell_type": "code",
   "execution_count": 258,
   "metadata": {},
   "outputs": [
    {
     "name": "stdout",
     "output_type": "stream",
     "text": [
      "0.319672131147541\n"
     ]
    }
   ],
   "source": [
    "def information_profit_full(X,Y,lam):\n",
    "    left = np.zeros(3)\n",
    "    right = np.zeros(3)\n",
    "    Y_l = np.sum(Y > 0)\n",
    "    Y_r = np.sum(Y < 0)\n",
    "    for i in range(X.shape[0]):\n",
    "        if X[i,0] >= lam[0]:\n",
    "            left[0] += 1\n",
    "            if Y[i] == 1:\n",
    "                left[1] += 1\n",
    "            else:\n",
    "                left[2] += 1\n",
    "        else:\n",
    "            right[0] += 1\n",
    "            if Y[i] == 1:\n",
    "                right[1] += 1\n",
    "            else:\n",
    "                right[2] += 1\n",
    "                \n",
    "    gini_a = 1 - ((Y_l/Y.shape[0])**2 + (Y_r/Y.shape[0])**2)\n",
    "    gini_l = 1 - ((left[1]/left[0])**2 + (left[2]/left[0])**2)\n",
    "    gini_r = 1 - ((right[1]/right[0])**2 + (right[2]/right[0])**2)\n",
    "    ig = gini_a - left[0]/Y.shape[0]*gini_l\\\n",
    "        - right[0]/Y.shape[0]*gini_r\n",
    "#     print(ig_p)\n",
    "#     print(left[0])\n",
    "#     print(ig_l)\n",
    "#     print(right[0])\n",
    "#     print(ig_r)\n",
    "    return ig\n",
    "# print(lam)\n",
    "print(information_profit_full(X,Y,[[4],[0]]))"
   ]
  },
  {
   "cell_type": "code",
   "execution_count": 259,
   "metadata": {},
   "outputs": [
    {
     "name": "stdout",
     "output_type": "stream",
     "text": [
      "22\n",
      "[0.06179775 0.06179775 0.02083333 0.15789474 0.06179775 0.39285714\n",
      " 0.06179775 0.15789474 0.06179775 0.15789474 0.15789474 0.29365079\n",
      " 0.06179775 0.00505051 0.01020408 0.15789474 0.02083333 0.06179775\n",
      " 0.39285714 0.15789474 0.39285714 0.15789474        nan 0.39285714\n",
      " 0.46153846 0.29365079 0.29365079 0.15789474 0.06179775 0.29365079\n",
      " 0.29365079 0.15789474 0.15789474 0.06179775 0.15789474 0.01020408\n",
      " 0.02083333 0.06179775 0.02083333 0.15789474 0.02083333 0.02083333\n",
      " 0.02083333 0.29365079 0.46153846 0.06179775 0.29365079 0.06179775\n",
      " 0.15789474 0.06179775 0.06179775 0.13291139 0.02083333 0.31967213\n",
      " 0.08139535 0.13291139 0.06179775 0.48039216 0.08139535 0.36206897\n",
      " 0.44339623 0.22463768 0.31967213 0.06179775 0.40909091 0.16666667\n",
      " 0.13291139 0.25757576 0.13291139 0.36206897 0.03191489 0.31967213\n",
      " 0.02083333 0.06179775 0.18493151 0.16666667 0.03191489 0.01020408\n",
      " 0.13291139 0.44339623 0.37719298 0.39285714 0.36206897 0.00505051\n",
      " 0.13291139 0.13291139 0.06179775 0.16666667 0.25757576 0.31967213\n",
      " 0.16666667 0.08139535 0.31967213 0.48039216 0.22463768 0.22463768\n",
      " 0.22463768 0.18493151 0.5        0.25757576]\n",
      "4.1\n"
     ]
    },
    {
     "name": "stderr",
     "output_type": "stream",
     "text": [
      "/opt/anaconda3/lib/python3.7/site-packages/ipykernel_launcher.py:22: RuntimeWarning: invalid value encountered in double_scalars\n"
     ]
    }
   ],
   "source": [
    "lam = np.zeros(2)\n",
    "ig = np.zeros(X.shape[0])\n",
    "for k in range(X.shape[0]):\n",
    "    lam[0] = X[k,0]\n",
    "#     lam = lam + 0.01\n",
    "    ig[k] = information_profit_full(X,Y,lam)\n",
    "\n",
    "# print(ig)\n",
    "ig_max_ind = np.argmax(ig)\n",
    "print(ig_max_ind)\n",
    "print(ig)\n",
    "print(lam[0])\n",
    "# print(ig[ig_max_ind])#分割基準\n",
    "# print(lam)\n",
    "# print(X[ig_max_ind,0])"
   ]
  },
  {
   "cell_type": "markdown",
   "metadata": {},
   "source": [
    "# 【問題4】推定"
   ]
  },
  {
   "cell_type": "code",
   "execution_count": 243,
   "metadata": {},
   "outputs": [],
   "source": [
    "class ScratchDecesionTreeClassifierDepth1():\n",
    "    def __init__(self, verbose=False):\n",
    "        # ハイパーパラメータを属性として記録\n",
    "        self.ig_list = []\n",
    "        self.verbose = verbose\n",
    "    def fit(self, X, Y):\n",
    "        self.X = X[X[:,0].argsort(), :]\n",
    "        self.Y = Y\n",
    "        lam = np.zeros(self.X.shape[1])\n",
    "        ig = np.zeros(self.X.shape[0] - 1)\n",
    "        self.ig = ig\n",
    "        for k in range(self.X.shape[0] - 1):\n",
    "            lam[0] = self.X[k,0]\n",
    "            self._information_profit_full(lam)\n",
    "\n",
    "        self.ig_max_ind = np.argmax(self.ig_list)\n",
    "        self.ig_max = np.max(self.ig_list)\n",
    "        \n",
    "    def _information_profit_full(self,lam):\n",
    "        left = np.zeros(3)\n",
    "        right = np.zeros(3)\n",
    "        Y_l = np.sum(Y > 0)\n",
    "        Y_r = np.sum(Y < 0)\n",
    "        for i in range(self.X.shape[0]):\n",
    "            if self.X[i,0] > lam[0]:\n",
    "                left[0] += 1\n",
    "                if self.Y[i] == 1:\n",
    "                    left[1] += 1\n",
    "                else:\n",
    "                    left[2] += 1\n",
    "            else:\n",
    "                right[0] += 1\n",
    "                if self.Y[i] == 1:\n",
    "                    right[1] += 1\n",
    "                else:\n",
    "                    right[2] += 1\n",
    "\n",
    "        gini_a = 1 - ((Y_l/self.Y.shape[0])**2 + (Y_r/self.Y.shape[0])**2)\n",
    "        gini_l = 1 - ((left[1]/left[0])**2 + (left[2]/left[0])**2)\n",
    "        gini_r = 1 - ((right[1]/right[0])**2 + (right[2]/right[0])**2)\n",
    "        ig = gini_a - left[0]/self.Y.shape[0]*gini_l\\\n",
    "            - right[0]/self.Y.shape[0]*gini_r\n",
    "        self.ig_list.append(ig)\n",
    "    #     print(ig_p)\n",
    "    #     print(left[0])\n",
    "    #     print(ig_l)\n",
    "    #     print(right[0])\n",
    "    #     print(ig_r)\n",
    "        return\n",
    "        \n",
    "#         if self.verbose:\n",
    "#             #verboseをTrueにした際は学習過程を出力\n",
    "#             print()\n",
    "        pass\n",
    "    def predict(self, X):\n",
    "        y_pred =  np.zeros(X.shape[0])\n",
    "#         print(self.X[self.ig_max_ind,0])\n",
    "        for i in range(X.shape[0]):\n",
    "            if X[i,0] >= self.X[self.ig_max_ind,0]: \n",
    "                y_pred[i] = 1\n",
    "#                 print(y_pred[i])\n",
    "            else:\n",
    "                y_pred[i] = -1\n",
    "        print(y_pred)\n",
    "        self.y_perd = y_pred\n",
    "        return self.y_perd"
   ]
  },
  {
   "cell_type": "code",
   "execution_count": 245,
   "metadata": {},
   "outputs": [
    {
     "name": "stdout",
     "output_type": "stream",
     "text": [
      "[-1. -1. -1. -1. -1. -1. -1. -1. -1. -1. -1. -1. -1. -1. -1. -1. -1. -1.\n",
      " -1. -1. -1. -1. -1. -1.  1. -1. -1. -1. -1. -1. -1. -1. -1. -1. -1. -1.\n",
      " -1. -1. -1. -1. -1. -1. -1. -1.  1. -1. -1. -1. -1. -1.  1.  1.  1.  1.\n",
      "  1.  1.  1.  1.  1.  1.  1.  1.  1.  1.  1.  1.  1.  1.  1.  1.  1.  1.\n",
      "  1.  1.  1.  1.  1.  1.  1.  1.  1.  1.  1.  1.  1.  1.  1.  1.  1.  1.\n",
      "  1.  1.  1.  1.  1.  1.  1.  1.  1.  1.]\n"
     ]
    }
   ],
   "source": [
    "clf = ScratchDecesionTreeClassifierDepth1()\n",
    "clf.fit(X, Y)\n",
    "y_p = clf.predict(X)\n",
    "\n",
    "# # print(y_p)\n",
    "\n",
    "# # X[22,1]\n",
    "\n",
    "# clf.X\n",
    "# print(clf.ig_max_ind)\n",
    "# print(clf.ig_max)\n",
    "# # print()\n",
    "# print(clf.ig[clf.ig_max_ind])\n",
    "# print(clf.X[clf.ig_max_ind])\n"
   ]
  },
  {
   "cell_type": "code",
   "execution_count": 250,
   "metadata": {},
   "outputs": [],
   "source": [
    "import matplotlib.pyplot as plt\n",
    "from matplotlib.colors import ListedColormap\n",
    "import matplotlib.patches as mpatches\n",
    "import itertools\n",
    "\n",
    "def decision_region(X, y, model, step=0.01, title='decision region', xlabel='xlabel', ylabel='ylabel', target_names=['0', '1']):\n",
    "    \"\"\"\n",
    "    2値分類を2次元の特徴量で学習したモデルの決定領域を描く。\n",
    "    背景の色が学習したモデルによる推定値から描画される。\n",
    "    散布図の点は訓練データまたは検証データである。\n",
    "\n",
    "    Parameters\n",
    "    ----------------\n",
    "    X : ndarray, shape(n_samples, 2)\n",
    "        特徴量\n",
    "    y : ndarray, shape(n_samples,)\n",
    "        ラベル\n",
    "    model : object\n",
    "        学習したモデルのインスンタスを入れる\n",
    "    step : float, (default : 0.1)\n",
    "        推定値を計算する間隔を設定する\n",
    "    title : str\n",
    "        グラフのタイトルの文章を与える\n",
    "    xlabel, ylabel : str\n",
    "        軸ラベルの文章を与える\n",
    "    target_names= : list of str\n",
    "        凡例の一覧を与える\n",
    "    \"\"\"\n",
    "    # setting\n",
    "    scatter_color = ['red', 'blue']\n",
    "    contourf_color = ['pink', 'skyblue']\n",
    "    n_class = 2\n",
    "\n",
    "    # pred\n",
    "    mesh_f0, mesh_f1  = np.meshgrid(np.arange(np.min(X[:,0])-0.5, np.max(X[:,0])+0.5, step),\\\n",
    "                                    np.arange(np.min(X[:,1])-0.5, np.max(X[:,1])+0.5, step))\n",
    "    mesh = np.c_[np.ravel(mesh_f0),np.ravel(mesh_f1)]\n",
    "    y_pred = model.predict(mesh).reshape(mesh_f0.shape)\n",
    "\n",
    "    # plot\n",
    "    plt.title(title)\n",
    "    plt.xlabel(xlabel)\n",
    "    plt.ylabel(ylabel)\n",
    "    plt.contourf(mesh_f0, mesh_f1, y_pred, n_class-1, cmap=ListedColormap(contourf_color))\n",
    "    plt.contour(mesh_f0, mesh_f1, y_pred, n_class-1, colors='y', linewidths=3, alpha=0.5)\n",
    "\n",
    "    for i, target in enumerate(set(y)):\n",
    "        plt.scatter(X[y==target][:, 0], X[y==target][:, 1], s=80, color=scatter_color[i],\\\n",
    "                    label=target_names[i], marker='o')\n",
    "    patches = [mpatches.Patch(color=scatter_color[i], label=target_names[i])\n",
    "for i in range(n_class)]\n",
    "    plt.legend(handles=patches)\n",
    "    plt.legend()\n",
    "    plt.show()"
   ]
  },
  {
   "cell_type": "code",
   "execution_count": 247,
   "metadata": {},
   "outputs": [
    {
     "name": "stdout",
     "output_type": "stream",
     "text": [
      "(75, 2)\n",
      "(25, 2)\n",
      "(75, 1)\n",
      "(25, 1)\n"
     ]
    }
   ],
   "source": [
    "X_train, X_test, y_train, y_test= train_test_split(X, Y, test_size=0.25, random_state=0)\n",
    "print(X_train.shape)\n",
    "print(X_test.shape)\n",
    "print(y_train.shape)\n",
    "print(y_test.shape)"
   ]
  },
  {
   "cell_type": "code",
   "execution_count": 251,
   "metadata": {},
   "outputs": [
    {
     "name": "stdout",
     "output_type": "stream",
     "text": [
      "[-1.  1. -1.  1.  1.  1. -1.  1.  1.  1.  1.  1.  1. -1. -1. -1. -1.  1.\n",
      " -1. -1. -1.  1. -1.  1. -1.]\n",
      "[-1. -1.  1.  1.  1.  1.  1.  1.  1.  1. -1. -1.  1.  1.  1. -1.  1. -1.\n",
      " -1. -1. -1. -1. -1. -1. -1.  1.  1. -1. -1. -1.  1. -1. -1. -1.  1. -1.\n",
      " -1.  1.  1.  1.  1. -1.  1. -1.  1. -1. -1. -1.  1.  1.  1. -1.  1.  1.\n",
      "  1. -1. -1.  1. -1. -1.  1.  1. -1.  1.  1.  1. -1. -1.  1. -1.  1.  1.\n",
      "  1. -1.  1.]\n",
      "(75, 1)\n",
      "(75,)\n",
      "(25, 1)\n",
      "(25,)\n",
      "学習結果0.9866666666666667\n",
      "解析結果0.96\n",
      "[-1. -1. -1. ...  1.  1.  1.]\n"
     ]
    },
    {
     "data": {
      "image/png": "[encoded data removed]",
      "text/plain": [
       "<Figure size 432x288 with 1 Axes>"
      ]
     },
     "metadata": {
      "needs_background": "light"
     },
     "output_type": "display_data"
    },
    {
     "name": "stdout",
     "output_type": "stream",
     "text": [
      "[-1. -1. -1. ...  1.  1.  1.]\n"
     ]
    },
    {
     "data": {
      "image/png": "[encoded data removed]",
      "text/plain": [
       "<Figure size 432x288 with 1 Axes>"
      ]
     },
     "metadata": {
      "needs_background": "light"
     },
     "output_type": "display_data"
    }
   ],
   "source": [
    "from sklearn import metrics\n",
    "from sklearn.metrics import confusion_matrix\n",
    "clf2 = ScratchDecesionTreeClassifierDepth1()\n",
    "clf2.fit(X_train, y_train)\n",
    "y_pred1 = clf.predict(X_test)\n",
    "y_pred_train1 = clf.predict(X_train)\n",
    "print(y_train.shape)\n",
    "print(y_pred_train1.T.shape)\n",
    "print(y_test.shape)\n",
    "print(y_pred1.T.shape)\n",
    "\n",
    "# print(X_train.shape)\n",
    "# print(y_train.shape)\n",
    "# print(X_test.shape)\n",
    "# print(y_test.shape)\n",
    "print(\"学習結果\" + str(metrics.accuracy_score(y_train, y_pred_train1.T)))\n",
    "print(\"解析結果\" + str(metrics.accuracy_score(y_test, y_pred1.T)))\n",
    "decision_region(X_train,list(itertools.chain.from_iterable(y_train)),clf,\\\n",
    "                title='decision region of train_data')\n",
    "decision_region(X_test,list(itertools.chain.from_iterable(y_test)),clf,\\\n",
    "                title='decision region of test_data')"
   ]
  },
  {
   "cell_type": "code",
   "execution_count": 275,
   "metadata": {},
   "outputs": [],
   "source": [
    "class ScratchDecesionTreeClassifierDepth2():\n",
    "    def __init__(self, verbose=False):\n",
    "        # ハイパーパラメータを属性として記録\n",
    "        self.ig_list = []\n",
    "        self.verbose = verbose\n",
    "    def fit(self, X, Y):\n",
    "        self.X = X[X[:,0].argsort(), :]\n",
    "        self.Y = Y\n",
    "        lam = np.zeros(self.X.shape[1])\n",
    "        ig = np.zeros(self.X.shape[0] - 1)\n",
    "        self.ig = ig\n",
    "        for k in range(self.X.shape[0] - 1):\n",
    "            lam[0] = self.X[k,0]\n",
    "            self._information_profit_full(lam)\n",
    "\n",
    "        self.ig_max_ind = np.argmax(self.ig_list)\n",
    "        self.ig_max = np.max(self.ig_list)\n",
    "        \n",
    "    def _information_profit_full(self,lam):\n",
    "        left = np.zeros(3)\n",
    "        right = np.zeros(3)\n",
    "        Y_l = np.sum(Y > 0)\n",
    "        Y_r = np.sum(Y < 0)\n",
    "        for i in range(self.X.shape[0]):\n",
    "            if self.X[i,0] > lam[0]:\n",
    "                left[0] += 1\n",
    "                if self.Y[i] == 1:\n",
    "                    left[1] += 1\n",
    "                else:\n",
    "                    left[2] += 1\n",
    "            else:\n",
    "                right[0] += 1\n",
    "                if self.Y[i] == 1:\n",
    "                    right[1] += 1\n",
    "                else:\n",
    "                    right[2] += 1\n",
    "\n",
    "        gini_a = 1 - ((Y_l/self.Y.shape[0])**2 + (Y_r/self.Y.shape[0])**2)\n",
    "        gini_l = 1 - ((left[1]/left[0])**2 + (left[2]/left[0])**2)\n",
    "        gini_r = 1 - ((right[1]/right[0])**2 + (right[2]/right[0])**2)\n",
    "        ig = gini_a - left[0]/self.Y.shape[0]*gini_l\\\n",
    "            - right[0]/self.Y.shape[0]*gini_r\n",
    "        self.ig_list.append(ig)\n",
    "    #     print(ig_p)\n",
    "    #     print(left[0])\n",
    "    #     print(ig_l)\n",
    "    #     print(right[0])\n",
    "    #     print(ig_r)\n",
    "        return\n",
    "        \n",
    "#         if self.verbose:\n",
    "#             #verboseをTrueにした際は学習過程を出力\n",
    "#             print()\n",
    "        pass\n",
    "    def predict(self, X):\n",
    "        y_pred =  np.zeros(X.shape[0])\n",
    "#         print(self.X[self.ig_max_ind,0])\n",
    "        for i in range(X.shape[0]):\n",
    "            if X[i,0] >= self.X[self.ig_max_ind,0]: \n",
    "                y_pred[i] = 1\n",
    "#                 print(y_pred[i])\n",
    "            else:\n",
    "                y_pred[i] = -1\n",
    "        print(y_pred)\n",
    "        self.y_perd = y_pred\n",
    "        return self.y_perd"
   ]
  },
  {
   "cell_type": "markdown",
   "metadata": {},
   "source": [
    "# シンプルデータ２"
   ]
  },
  {
   "cell_type": "code",
   "execution_count": 280,
   "metadata": {},
   "outputs": [
    {
     "name": "stdout",
     "output_type": "stream",
     "text": [
      "(30, 1)\n",
      "(10, 1)\n"
     ]
    }
   ],
   "source": [
    "Xs2 = np.array([[-0.44699 , -2.8073  ],[-1.4621  , -2.4586  ],\n",
    "       [ 0.10645 ,  1.9242  ],[-3.5944  , -4.0112  ],\n",
    "       [-0.9888  ,  4.5718  ],[-3.1625  , -3.9606  ],\n",
    "       [ 0.56421 ,  0.72888 ],[-0.60216 ,  8.4636  ],\n",
    "       [-0.61251 , -0.75345 ],[-0.73535 , -2.2718  ],\n",
    "       [-0.80647 , -2.2135  ],[ 0.86291 ,  2.3946  ],\n",
    "       [-3.1108  ,  0.15394 ],[-2.9362  ,  2.5462  ],\n",
    "       [-0.57242 , -2.9915  ],[ 1.4771  ,  3.4896  ],\n",
    "       [ 0.58619 ,  0.37158 ],[ 0.6017  ,  4.3439  ],\n",
    "       [-2.1086  ,  8.3428  ],[-4.1013  , -4.353   ],\n",
    "       [-1.9948  , -1.3927  ],[ 0.35084 , -0.031994],\n",
    "       [ 0.96765 ,  7.8929  ],[-1.281   , 15.6824  ],\n",
    "       [ 0.96765 , 10.083   ],[ 1.3763  ,  1.3347  ],\n",
    "       [-2.234   , -2.5323  ],[-2.9452  , -1.8219  ],\n",
    "       [ 0.14654 , -0.28733 ],[ 0.5461  ,  5.8245  ],\n",
    "       [-0.65259 ,  9.3444  ],[ 0.59912 ,  5.3524  ],\n",
    "       [ 0.50214 , -0.31818 ],[-3.0603  , -3.6461  ],\n",
    "       [-6.6797  ,  0.67661 ],[-2.353   , -0.72261 ],\n",
    "       [ 1.1319  ,  2.4023  ],[-0.12243 ,  9.0162  ],\n",
    "       [-2.5677  , 13.1779  ],[ 0.057313,  5.4681  ]])\n",
    "ys2 = np.array([0, 0, 0, 0, 0, 0, 0, 0, 0, 0, 0, 0, 0, 0, 0, 0, 0, 0, 0, 0, 1, 1,\n",
    "       1, 1, 1, 1, 1, 1, 1, 1, 1, 1, 1, 1, 1, 1, 1, 1, 1, 1])\n",
    "\n",
    "X_train2, X_test2, y_train2, y_test2 = train_test_split(Xs2, ys2, test_size=0.25, random_state=1)\n",
    "\n",
    "y_train2 = y_train2.reshape(30,1)\n",
    "y_test2 = y_test2.reshape(10,1)\n",
    "\n",
    "print(y_train2.shape)\n",
    "print(y_test2.shape)"
   ]
  },
  {
   "cell_type": "markdown",
   "metadata": {},
   "source": [
    "# 【問題5】学習と推定"
   ]
  },
  {
   "cell_type": "markdown",
   "metadata": {},
   "source": [
    "機械学習スクラッチ入門のSprintで用意したシンプルデータセット2の2値分類に対してスクラッチ実装の学習と推定を行なってください。\n",
    "<br>\n",
    "scikit-learnによる実装と比べ、正しく動いているかを確認してください。\n",
    "<br>\n",
    "AccuracyやPrecision、Recallなどの指標値はscikit-learnを使用してください。"
   ]
  },
  {
   "cell_type": "markdown",
   "metadata": {},
   "source": [
    "# 【問題6】決定領域の可視化"
   ]
  },
  {
   "cell_type": "markdown",
   "metadata": {},
   "source": [
    "決定領域を可視化してください。"
   ]
  },
  {
   "cell_type": "code",
   "execution_count": 281,
   "metadata": {},
   "outputs": [
    {
     "name": "stdout",
     "output_type": "stream",
     "text": [
      "[ 1.  1. -1.  1. -1.  1.  1.  1. -1. -1.]\n",
      "[ 1.  1. -1.  1. -1.  1. -1.  1. -1. -1. -1.  1. -1. -1. -1.  1.  1. -1.\n",
      "  1. -1. -1.  1.  1.  1. -1.  1. -1.  1. -1.  1.]\n",
      "[ 1.  1. -1.  1. -1.  1.  1.  1. -1. -1.]\n",
      "(30, 1)\n",
      "(30,)\n",
      "(10, 1)\n",
      "(10,)\n",
      "学習結果0.2\n",
      "解析結果0.5\n",
      "[-1. -1. -1. ...  1.  1.  1.]\n"
     ]
    },
    {
     "data": {
      "image/png": "[encoded data removed]",
      "text/plain": [
       "<Figure size 432x288 with 1 Axes>"
      ]
     },
     "metadata": {
      "needs_background": "light"
     },
     "output_type": "display_data"
    },
    {
     "name": "stdout",
     "output_type": "stream",
     "text": [
      "[-1. -1. -1. ...  1.  1.  1.]\n"
     ]
    },
    {
     "data": {
      "image/png": "[encoded data removed]",
      "text/plain": [
       "<Figure size 432x288 with 1 Axes>"
      ]
     },
     "metadata": {
      "needs_background": "light"
     },
     "output_type": "display_data"
    }
   ],
   "source": [
    "from sklearn import metrics\n",
    "from sklearn.metrics import confusion_matrix\n",
    "clf3 = ScratchDecesionTreeClassifierDepth2()\n",
    "clf3.fit(X_train2, y_train2)\n",
    "y_pred1_s2 = clf3.predict(X_test2)\n",
    "y_pred_train1_s2 = clf3.predict(X_train2)\n",
    "print(y_pred1_s2)\n",
    "print(y_train2.shape)\n",
    "print(y_pred_train1_s2.T.shape)\n",
    "print(y_test2.shape)\n",
    "print(y_pred1_s2.T.shape)\n",
    "\n",
    "# print(X_train.shape)\n",
    "# print(y_train.shape)\n",
    "# print(X_test.shape)\n",
    "# print(y_test.shape)\n",
    "print(\"学習結果\" + str(metrics.accuracy_score(y_train2, y_pred_train1_s2.T)))\n",
    "print(\"解析結果\" + str(metrics.accuracy_score(y_test2, y_pred1_s2.T)))\n",
    "decision_region(X_train2,list(itertools.chain.from_iterable(y_train2)),clf3,\\\n",
    "                title='decision region of train_data')\n",
    "decision_region(X_test2,list(itertools.chain.from_iterable(y_test2)),clf3,\\\n",
    "                title='decision region of test_data')"
   ]
  },
  {
   "cell_type": "code",
   "execution_count": 284,
   "metadata": {},
   "outputs": [],
   "source": [
    "class ScratchDecesionTreeClassifierDepth3():\n",
    "    def __init__(self, verbose=False):\n",
    "        # ハイパーパラメータを属性として記録\n",
    "        self.ig_list = []\n",
    "        self.verbose = verbose\n",
    "    def fit(self, X, Y):\n",
    "        self.X = X[X[:,1].argsort(), :]\n",
    "        self.Y = Y\n",
    "        lam = np.zeros(self.X.shape[1])\n",
    "        ig = np.zeros(self.X.shape[0] - 1)\n",
    "        self.ig = ig\n",
    "        for k in range(self.X.shape[0] - 1):\n",
    "            lam[1] = self.X[k,1]\n",
    "            self._information_profit_full(lam)\n",
    "\n",
    "        self.ig_max_ind = np.argmax(self.ig_list)\n",
    "        self.ig_max = np.max(self.ig_list)\n",
    "        \n",
    "    def _information_profit_full(self,lam):\n",
    "        left = np.zeros(3)\n",
    "        right = np.zeros(3)\n",
    "        Y_l = np.sum(Y > 0)\n",
    "        Y_r = np.sum(Y < 0)\n",
    "        for i in range(self.X.shape[0]):\n",
    "            if self.X[i,1] > lam[1]:\n",
    "                left[0] += 1\n",
    "                if self.Y[i] == 1:\n",
    "                    left[1] += 1\n",
    "                else:\n",
    "                    left[2] += 1\n",
    "            else:\n",
    "                right[0] += 1\n",
    "                if self.Y[i] == 1:\n",
    "                    right[1] += 1\n",
    "                else:\n",
    "                    right[2] += 1\n",
    "\n",
    "        gini_a = 1 - ((Y_l/self.Y.shape[0])**2 + (Y_r/self.Y.shape[0])**2)\n",
    "        gini_l = 1 - ((left[1]/left[0])**2 + (left[2]/left[0])**2)\n",
    "        gini_r = 1 - ((right[1]/right[0])**2 + (right[2]/right[0])**2)\n",
    "        ig = gini_a - left[0]/self.Y.shape[0]*gini_l\\\n",
    "            - right[0]/self.Y.shape[0]*gini_r\n",
    "        self.ig_list.append(ig)\n",
    "    #     print(ig_p)\n",
    "    #     print(left[0])\n",
    "    #     print(ig_l)\n",
    "    #     print(right[0])\n",
    "    #     print(ig_r)\n",
    "        return\n",
    "        \n",
    "#         if self.verbose:\n",
    "#             #verboseをTrueにした際は学習過程を出力\n",
    "#             print()\n",
    "        pass\n",
    "    def predict(self, X):\n",
    "        y_pred =  np.zeros(X.shape[0])\n",
    "#         print(self.X[self.ig_max_ind,0])\n",
    "        for i in range(X.shape[0]):\n",
    "            if X[i,1] >= self.X[self.ig_max_ind,0]: \n",
    "                y_pred[i] = 1\n",
    "#                 print(y_pred[i])\n",
    "            else:\n",
    "                y_pred[i] = -1\n",
    "        print(y_pred)\n",
    "        self.y_perd = y_pred\n",
    "        return self.y_perd"
   ]
  },
  {
   "cell_type": "code",
   "execution_count": 285,
   "metadata": {},
   "outputs": [
    {
     "name": "stdout",
     "output_type": "stream",
     "text": [
      "[ 1.  1. -1. -1. -1.  1.  1.  1. -1. -1.]\n",
      "[-1.  1.  1.  1. -1. -1.  1. -1. -1. -1.  1.  1.  1. -1.  1.  1.  1.  1.\n",
      "  1.  1. -1. -1. -1.  1. -1.  1. -1. -1. -1.  1.]\n",
      "[ 1.  1. -1. -1. -1.  1.  1.  1. -1. -1.]\n",
      "(30, 1)\n",
      "(30,)\n",
      "(10, 1)\n",
      "(10,)\n",
      "学習結果0.26666666666666666\n",
      "解析結果0.4\n",
      "[-1. -1. -1. ...  1.  1.  1.]\n"
     ]
    },
    {
     "data": {
      "image/png": "[encoded data removed]",
      "text/plain": [
       "<Figure size 432x288 with 1 Axes>"
      ]
     },
     "metadata": {
      "needs_background": "light"
     },
     "output_type": "display_data"
    },
    {
     "name": "stdout",
     "output_type": "stream",
     "text": [
      "[-1. -1. -1. ...  1.  1.  1.]\n"
     ]
    },
    {
     "data": {
      "image/png": "[encoded data removed]",
      "text/plain": [
       "<Figure size 432x288 with 1 Axes>"
      ]
     },
     "metadata": {
      "needs_background": "light"
     },
     "output_type": "display_data"
    }
   ],
   "source": [
    "from sklearn import metrics\n",
    "from sklearn.metrics import confusion_matrix\n",
    "clf4 = ScratchDecesionTreeClassifierDepth3()\n",
    "clf4.fit(X_train2, y_train2)\n",
    "y_pred1_s2 = clf4.predict(X_test2)\n",
    "y_pred_train1_s2 = clf4.predict(X_train2)\n",
    "print(y_pred1_s2)\n",
    "print(y_train2.shape)\n",
    "print(y_pred_train1_s2.T.shape)\n",
    "print(y_test2.shape)\n",
    "print(y_pred1_s2.T.shape)\n",
    "\n",
    "# print(X_train.shape)\n",
    "# print(y_train.shape)\n",
    "# print(X_test.shape)\n",
    "# print(y_test.shape)\n",
    "print(\"学習結果\" + str(metrics.accuracy_score(y_train2, y_pred_train1_s2.T)))\n",
    "print(\"解析結果\" + str(metrics.accuracy_score(y_test2, y_pred1_s2.T)))\n",
    "decision_region(X_train2,list(itertools.chain.from_iterable(y_train2)),clf4,\\\n",
    "                title='decision region of train_data')\n",
    "decision_region(X_test2,list(itertools.chain.from_iterable(y_test2)),clf4,\\\n",
    "                title='decision region of test_data')"
   ]
  },
  {
   "cell_type": "code",
   "execution_count": null,
   "metadata": {},
   "outputs": [],
   "source": []
  }
 ],
 "metadata": {
  "kernelspec": {
   "display_name": "Python 3",
   "language": "python",
   "name": "python3"
  },
  "language_info": {
   "codemirror_mode": {
    "name": "ipython",
    "version": 3
   },
   "file_extension": ".py",
   "mimetype": "text/x-python",
   "name": "python",
   "nbconvert_exporter": "python",
   "pygments_lexer": "ipython3",
   "version": "3.7.4"
  },
  "toc": {
   "base_numbering": 1,
   "nav_menu": {},
   "number_sections": true,
   "sideBar": true,
   "skip_h1_title": false,
   "title_cell": "Table of Contents",
   "title_sidebar": "Contents",
   "toc_cell": false,
   "toc_position": {},
   "toc_section_display": true,
   "toc_window_display": false
  }
 },
 "nbformat": 4,
 "nbformat_minor": 2
}
