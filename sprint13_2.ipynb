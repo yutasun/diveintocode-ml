{
 "cells": [
  {
   "cell_type": "markdown",
   "metadata": {},
   "source": [
    "# 【問題1】公式チュートリアルモデルを分担して実行"
   ]
  },
  {
   "cell_type": "markdown",
   "metadata": {},
   "source": [
    "RNN を使ったテキスト分類<br>\n",
    "https://www.tensorflow.org/tutorials/text/text_classification_rnn"
   ]
  },
  {
   "cell_type": "markdown",
   "metadata": {},
   "source": [
    "テンソルフローのデータセットをインポート<br>\n",
    "IMDB 映画レビュー大型データセット（http://ai.stanford.edu/~amaas/data/sentiment/）"
   ]
  },
  {
   "cell_type": "markdown",
   "metadata": {},
   "source": [
    "- tensorflow1.14で動作を確認(2.0では「tensorflow_datasets」が読みこめなかった)<br>\n",
    "- tensorflow_datasetsのインストールが必要"
   ]
  },
  {
   "cell_type": "code",
   "execution_count": 1,
   "metadata": {},
   "outputs": [],
   "source": [
    "import tensorflow as tf\n",
    "import tensorflow_datasets as tfds"
   ]
  },
  {
   "cell_type": "code",
   "execution_count": 3,
   "metadata": {},
   "outputs": [],
   "source": [
    "import matplotlib.pyplot as plt\n",
    "\n",
    "def plot_graphs(history, string):\n",
    "  plt.plot(history.history[string])\n",
    "  plt.plot(history.history['val_'+string], '')\n",
    "  plt.xlabel(\"Epochs\")\n",
    "  plt.ylabel(string)\n",
    "  plt.legend([string, 'val_'+string])\n",
    "  plt.show()"
   ]
  },
  {
   "cell_type": "markdown",
   "metadata": {},
   "source": [
    "入力パイプラインの設定<br>\n",
    "- IMDB 映画レビュー大型データセットは\"二値分類データセット\"。<br>\n",
    "- すべてのレビューは、好意的(positive) または 非好意的(negative) のいずれかの感情を含んでいる。<br>"
   ]
  },
  {
   "cell_type": "code",
   "execution_count": 4,
   "metadata": {},
   "outputs": [],
   "source": [
    "dataset, info = tfds.load('imdb_reviews/subwords8k', with_info=True,\n",
    "                          as_supervised=True)\n",
    "train_dataset, test_dataset = dataset['train'], dataset['test']"
   ]
  },
  {
   "cell_type": "code",
   "execution_count": 5,
   "metadata": {},
   "outputs": [],
   "source": [
    "encoder = info.features['text'].encoder"
   ]
  },
  {
   "cell_type": "markdown",
   "metadata": {},
   "source": [
    "このテキストエンコーダーは、任意の文字列を可逆的にエンコードします。必要であればバイトエンコーディングでフォールバックできる。"
   ]
  },
  {
   "cell_type": "code",
   "execution_count": 6,
   "metadata": {},
   "outputs": [
    {
     "name": "stdout",
     "output_type": "stream",
     "text": [
      "Vocabulary size: 8185\n"
     ]
    }
   ],
   "source": [
    "print ('Vocabulary size: {}'.format(encoder.vocab_size))"
   ]
  },
  {
   "cell_type": "markdown",
   "metadata": {},
   "source": [
    "- 今回のデータに含まれるユニークなVocabularyは８１８５種類（単語は全てID化される）"
   ]
  },
  {
   "cell_type": "code",
   "execution_count": 7,
   "metadata": {},
   "outputs": [
    {
     "name": "stdout",
     "output_type": "stream",
     "text": [
      "Encoded string is [4025, 222, 6307, 2327, 4043, 2120, 7975]\n",
      "The original string: \"Hello TensorFlow.\"\n"
     ]
    }
   ],
   "source": [
    "sample_string = 'Hello TensorFlow.'\n",
    "\n",
    "encoded_string = encoder.encode(sample_string)\n",
    "print ('Encoded string is {}'.format(encoded_string))\n",
    "\n",
    "original_string = encoder.decode(encoded_string)\n",
    "print ('The original string: \"{}\"'.format(original_string))"
   ]
  },
  {
   "cell_type": "code",
   "execution_count": 8,
   "metadata": {},
   "outputs": [],
   "source": [
    "assert original_string == sample_string"
   ]
  },
  {
   "cell_type": "markdown",
   "metadata": {},
   "source": [
    "- 'Hello TensorFlow.'は以下のように分割されID化されている"
   ]
  },
  {
   "cell_type": "code",
   "execution_count": 9,
   "metadata": {},
   "outputs": [
    {
     "name": "stdout",
     "output_type": "stream",
     "text": [
      "4025 ----> Hell\n",
      "222 ----> o \n",
      "6307 ----> Ten\n",
      "2327 ----> sor\n",
      "4043 ----> Fl\n",
      "2120 ----> ow\n",
      "7975 ----> .\n"
     ]
    }
   ],
   "source": [
    "for index in encoded_string:\n",
    "  print ('{} ----> {}'.format(index, encoder.decode([index])))"
   ]
  },
  {
   "cell_type": "markdown",
   "metadata": {},
   "source": [
    "訓練用データの準備<br>\n",
    "次に、これらのエンコード済み文字列をバッチ化します。<br>\n",
    "padded_batch メソッドを使ってバッチ中の一番長い文字列の長さにゼロパディングを行います。<br>"
   ]
  },
  {
   "cell_type": "code",
   "execution_count": 10,
   "metadata": {},
   "outputs": [],
   "source": [
    "BUFFER_SIZE = 10000\n",
    "BATCH_SIZE = 64"
   ]
  },
  {
   "cell_type": "code",
   "execution_count": 11,
   "metadata": {},
   "outputs": [],
   "source": [
    "train_dataset = train_dataset.shuffle(BUFFER_SIZE)\n",
    "\n",
    "output_shapes_train = tf.compat.v1.data.get_output_shapes(train_dataset) #公式では記載ないためエラーになる\n",
    "train_dataset = train_dataset.padded_batch(BATCH_SIZE,output_shapes_train) #output_shapes_trainを引数に追加\n",
    "\n",
    "output_shapes_test = tf.compat.v1.data.get_output_shapes(test_dataset)  #公式では記載ないためエラーになる\n",
    "test_dataset = test_dataset.padded_batch(BATCH_SIZE,output_shapes_test) #output_shapes_testを引数に追加"
   ]
  },
  {
   "cell_type": "markdown",
   "metadata": {},
   "source": [
    "リカレントニューラルネットワーク（RNN）は、シーケンスの入力を要素を一つずつ扱うことで処理します。<br>\n",
    "RNN は、あるタイムステップでの出力を次のタイムステップの入力へと、次々に渡していきます。<br>\n",
    "RNN レイヤーとともに、tf.keras.layers.Bidirectional ラッパーを使用することができます。<br>\n",
    "このラッパーは、入力を RNN 層の順方向と逆方向に伝え、その後出力を結合します。<br>\n",
    "これにより、RNN は長期的な依存関係を学習できます。<br>"
   ]
  },
  {
   "cell_type": "markdown",
   "metadata": {},
   "source": [
    "Embedding = 単語を数値化する<br>\n",
    "Bidirectional =入出力の双方向に学習？\n",
    "LSTM(64) = 短期長期記憶をメモリに保存（）内のパラメーターで保存する容量を決定？\n",
    "\n",
    "LSTM→FC→FC"
   ]
  },
  {
   "cell_type": "code",
   "execution_count": 12,
   "metadata": {},
   "outputs": [],
   "source": [
    "model = tf.keras.Sequential([\n",
    "    tf.keras.layers.Embedding(encoder.vocab_size, 64),\n",
    "    tf.keras.layers.Bidirectional(tf.keras.layers.LSTM(64)),\n",
    "    tf.keras.layers.Dense(64, activation='relu'),\n",
    "    tf.keras.layers.Dense(1, activation='sigmoid')\n",
    "])"
   ]
  },
  {
   "cell_type": "markdown",
   "metadata": {},
   "source": [
    "訓練プロセスを定義するため、Keras モデルをコンパイルします。"
   ]
  },
  {
   "cell_type": "code",
   "execution_count": 13,
   "metadata": {},
   "outputs": [],
   "source": [
    "model.compile(loss='binary_crossentropy',\n",
    "              optimizer=tf.keras.optimizers.Adam(1e-4),\n",
    "              metrics=['accuracy'])"
   ]
  },
  {
   "cell_type": "markdown",
   "metadata": {},
   "source": [
    "時間短縮のためエポックは１０→５に減らして計算"
   ]
  },
  {
   "cell_type": "code",
   "execution_count": 14,
   "metadata": {},
   "outputs": [
    {
     "name": "stdout",
     "output_type": "stream",
     "text": [
      "Epoch 1/5\n",
      "391/391 [==============================] - 583s 1s/step - loss: 0.6127 - accuracy: 0.6435 - val_loss: 0.0000e+00 - val_accuracy: 0.0000e+00\n",
      "Epoch 2/5\n",
      "391/391 [==============================] - 583s 1s/step - loss: 0.3276 - accuracy: 0.8695 - val_loss: 0.3412 - val_accuracy: 0.8661\n",
      "Epoch 3/5\n",
      "391/391 [==============================] - 649s 2s/step - loss: 0.2498 - accuracy: 0.9070 - val_loss: 0.3189 - val_accuracy: 0.8771\n",
      "Epoch 4/5\n",
      "391/391 [==============================] - 683s 2s/step - loss: 0.2068 - accuracy: 0.9265 - val_loss: 0.3414 - val_accuracy: 0.8776\n",
      "Epoch 5/5\n",
      "391/391 [==============================] - 692s 2s/step - loss: 0.1798 - accuracy: 0.9372 - val_loss: 0.3450 - val_accuracy: 0.8766\n"
     ]
    }
   ],
   "source": [
    "history = model.fit(train_dataset, epochs=5,\n",
    "                    validation_data=test_dataset, \n",
    "                    validation_steps=30)"
   ]
  },
  {
   "cell_type": "markdown",
   "metadata": {},
   "source": [
    "上記のモデルはシーケンスに適用されたパディングをマスクしていません。"
   ]
  },
  {
   "cell_type": "code",
   "execution_count": 15,
   "metadata": {},
   "outputs": [
    {
     "name": "stdout",
     "output_type": "stream",
     "text": [
      "391/391 [==============================] - 138s 354ms/step - loss: 0.3566 - accuracy: 0.8678\n",
      "Test Loss: 0.3566382362714509\n",
      "Test Accuracy: 0.8678399920463562\n"
     ]
    }
   ],
   "source": [
    "test_loss, test_acc = model.evaluate(test_dataset)\n",
    "\n",
    "print('Test Loss: {}'.format(test_loss))\n",
    "print('Test Accuracy: {}'.format(test_acc))"
   ]
  },
  {
   "cell_type": "code",
   "execution_count": 16,
   "metadata": {},
   "outputs": [],
   "source": [
    "def pad_to_size(vec, size):\n",
    "  zeros = [0] * (size - len(vec))\n",
    "  vec.extend(zeros)\n",
    "  return vec"
   ]
  },
  {
   "cell_type": "code",
   "execution_count": 56,
   "metadata": {},
   "outputs": [],
   "source": [
    "def sample_predict(sentence, pad):\n",
    "  encoded_sample_pred_text = encoder.encode(sentence) #公式のコードから修正\n",
    "\n",
    "  if pad:\n",
    "    encoded_sample_pred_text = pad_to_size(encoded_sample_pred_text, 64)\n",
    "  encoded_sample_pred_text = tf.cast(encoded_sample_pred_text, tf.float32)\n",
    "  predictions = model.predict(tf.expand_dims(encoded_sample_pred_text, 0))\n",
    "\n",
    "  return (predictions)"
   ]
  },
  {
   "cell_type": "markdown",
   "metadata": {},
   "source": [
    "レビュー内容「映画はクールでした。 アニメーションとグラフィックスは飛び抜けていた。 この映画をお勧めします。」"
   ]
  },
  {
   "cell_type": "code",
   "execution_count": 57,
   "metadata": {},
   "outputs": [
    {
     "name": "stdout",
     "output_type": "stream",
     "text": [
      "[[0.4999575]]\n"
     ]
    }
   ],
   "source": [
    "# パディングなしのサンプルテキストの推論(ポジティブ)\n",
    "sample_pred_text = ('The movie was cool. The animation and the graphics '\n",
    "                    'were out of this world. I would recommend this movie.')\n",
    "predictions = sample_predict(sample_pred_text, pad=False)\n",
    "print (predictions)"
   ]
  },
  {
   "cell_type": "code",
   "execution_count": 58,
   "metadata": {},
   "outputs": [
    {
     "name": "stdout",
     "output_type": "stream",
     "text": [
      "[[0.48828924]]\n"
     ]
    }
   ],
   "source": [
    "# パディングありのサンプルテキストの推論(ポジティブ)\n",
    "sample_pred_text = ('The movie was cool. The animation and the graphics '\n",
    "                    'were out of this world. I would recommend this movie.')\n",
    "predictions = sample_predict(sample_pred_text, pad=True)\n",
    "print (predictions)"
   ]
  },
  {
   "cell_type": "code",
   "execution_count": 60,
   "metadata": {},
   "outputs": [
    {
     "name": "stdout",
     "output_type": "stream",
     "text": [
      "[[0.39679363]]\n"
     ]
    }
   ],
   "source": [
    "# パディングなしのサンプルテキストの推論(ネガティブ)\n",
    "sample_pred_text = ('The movie was not cool. The animation and the graphics '\n",
    "                    'were out of this world. I would not recommend this movie.')\n",
    "predictions = sample_predict(sample_pred_text, pad=False)\n",
    "print (predictions)"
   ]
  },
  {
   "cell_type": "code",
   "execution_count": 61,
   "metadata": {},
   "outputs": [
    {
     "name": "stdout",
     "output_type": "stream",
     "text": [
      "[[0.3861104]]\n"
     ]
    }
   ],
   "source": [
    "# パディングありのサンプルテキストの推論(ネガティブ)\n",
    "sample_pred_text = ('The movie was not cool. The animation and the graphics '\n",
    "                    'were out of this world. I would not recommend this movie.')\n",
    "predictions = sample_predict(sample_pred_text, pad=True)\n",
    "print (predictions)"
   ]
  },
  {
   "cell_type": "code",
   "execution_count": 20,
   "metadata": {},
   "outputs": [
    {
     "data": {
      "image/png": "[encoded data removed]",
      "text/plain": [
       "<Figure size 432x288 with 1 Axes>"
      ]
     },
     "metadata": {
      "needs_background": "light"
     },
     "output_type": "display_data"
    }
   ],
   "source": [
    "plot_graphs(history, 'accuracy')"
   ]
  },
  {
   "cell_type": "code",
   "execution_count": 21,
   "metadata": {},
   "outputs": [
    {
     "data": {
      "image/png": "[encoded data removed]",
      "text/plain": [
       "<Figure size 432x288 with 1 Axes>"
      ]
     },
     "metadata": {
      "needs_background": "light"
     },
     "output_type": "display_data"
    }
   ],
   "source": [
    "plot_graphs(history, 'loss')"
   ]
  },
  {
   "cell_type": "markdown",
   "metadata": {},
   "source": [
    "2つ以上の LSTM レイヤーを重ねる<br>\n",
    "Keras のリカレントレイヤーには、コンストラクタの return_sequences 引数でコントロールされる2つのモードがあります。<br>\n",
    "それぞれのタイムステップの連続した出力のシーケンス全体（shape が (batch_size, timesteps, output_features) の3階テンソル）を返す。<br>\n",
    "それぞれの入力シーケンスの最後の出力だけ（shape が (batch_size, output_features) の2階テンソル）を返す。<br>"
   ]
  },
  {
   "cell_type": "markdown",
   "metadata": {},
   "source": [
    "LSTM（６４）→LSTM（３２）→FC（ドロップアウト）→FC<br>\n",
    "1番目のLSTMでは「A,B,C,Dの4つがあったら、A, B, C=>Dだけでなく、A=>B、A,B=>Cも学習する設定になっている」"
   ]
  },
  {
   "cell_type": "code",
   "execution_count": 23,
   "metadata": {},
   "outputs": [],
   "source": [
    "model2 = tf.keras.Sequential([\n",
    "    tf.keras.layers.Embedding(encoder.vocab_size, 64),\n",
    "    tf.keras.layers.Bidirectional(tf.keras.layers.LSTM(64,  return_sequences=True)),\n",
    "    tf.keras.layers.Bidirectional(tf.keras.layers.LSTM(32)),\n",
    "    tf.keras.layers.Dense(64, activation='relu'),\n",
    "    tf.keras.layers.Dropout(0.5),\n",
    "    tf.keras.layers.Dense(1, activation='sigmoid')\n",
    "])"
   ]
  },
  {
   "cell_type": "code",
   "execution_count": 24,
   "metadata": {},
   "outputs": [],
   "source": [
    "model2.compile(loss='binary_crossentropy',\n",
    "              optimizer=tf.keras.optimizers.Adam(1e-4),\n",
    "              metrics=['accuracy'])"
   ]
  },
  {
   "cell_type": "markdown",
   "metadata": {},
   "source": [
    "時間短縮のためエポック数は１０→５に減らして計算"
   ]
  },
  {
   "cell_type": "code",
   "execution_count": 26,
   "metadata": {
    "scrolled": true
   },
   "outputs": [
    {
     "name": "stdout",
     "output_type": "stream",
     "text": [
      "Epoch 1/5\n",
      "391/391 [==============================] - 1244s 3s/step - loss: 0.5917 - accuracy: 0.6704 - val_loss: 0.0000e+00 - val_accuracy: 0.0000e+00\n",
      "Epoch 2/5\n",
      "391/391 [==============================] - 1190s 3s/step - loss: 0.3393 - accuracy: 0.8712 - val_loss: 0.3555 - val_accuracy: 0.8552\n",
      "Epoch 3/5\n",
      "391/391 [==============================] - 1074s 3s/step - loss: 0.2499 - accuracy: 0.9119 - val_loss: 0.3588 - val_accuracy: 0.8490\n",
      "Epoch 4/5\n",
      "391/391 [==============================] - 1145s 3s/step - loss: 0.2205 - accuracy: 0.9248 - val_loss: 0.3602 - val_accuracy: 0.8651\n",
      "Epoch 5/5\n",
      "391/391 [==============================] - 1168s 3s/step - loss: 0.1748 - accuracy: 0.9467 - val_loss: 0.3709 - val_accuracy: 0.8542\n"
     ]
    }
   ],
   "source": [
    "history2 = model2.fit(train_dataset, epochs=5,\n",
    "                    validation_data=test_dataset,\n",
    "                    validation_steps=30)"
   ]
  },
  {
   "cell_type": "code",
   "execution_count": 27,
   "metadata": {},
   "outputs": [
    {
     "name": "stdout",
     "output_type": "stream",
     "text": [
      "391/391 [==============================] - 249s 637ms/step - loss: 0.3664 - accuracy: 0.8543\n",
      "Test Loss: 0.36644667318409974\n",
      "Test Accuracy: 0.8543199896812439\n"
     ]
    }
   ],
   "source": [
    "test_loss2, test_acc2 = model2.evaluate(test_dataset)\n",
    "\n",
    "print('Test Loss: {}'.format(test_loss2))\n",
    "print('Test Accuracy: {}'.format(test_acc2))"
   ]
  },
  {
   "cell_type": "code",
   "execution_count": 50,
   "metadata": {},
   "outputs": [],
   "source": [
    "def sample_predict2(sentence, pad):\n",
    "  encoded_sample_pred_text = encoder.encode(sentence) #公式のコードから修正\n",
    "\n",
    "  if pad:\n",
    "    encoded_sample_pred_text = pad_to_size(encoded_sample_pred_text, 64)\n",
    "  encoded_sample_pred_text = tf.cast(encoded_sample_pred_text, tf.float32)\n",
    "  predictions = model2.predict(tf.expand_dims(encoded_sample_pred_text, 0))\n",
    "\n",
    "  return (predictions)"
   ]
  },
  {
   "cell_type": "markdown",
   "metadata": {},
   "source": [
    "レビュー内容「映画は良くなかった。 アニメーションとグラフィックスがひどかった。 この映画はお勧めしません。」"
   ]
  },
  {
   "cell_type": "code",
   "execution_count": 51,
   "metadata": {},
   "outputs": [
    {
     "name": "stdout",
     "output_type": "stream",
     "text": [
      "[[0.22510944]]\n"
     ]
    }
   ],
   "source": [
    "# パディングなしのサンプルテキストの推論(ネガティブ)\n",
    "sample_pred_text2 = ('The movie was not good. The animation and the graphics '\n",
    "                    'were terrible. I would not recommend this movie.')\n",
    "predictions2 = sample_predict2(sample_pred_text2, pad=False)\n",
    "print (predictions2)"
   ]
  },
  {
   "cell_type": "code",
   "execution_count": 52,
   "metadata": {},
   "outputs": [
    {
     "name": "stdout",
     "output_type": "stream",
     "text": [
      "[[0.06083976]]\n"
     ]
    }
   ],
   "source": [
    "# パディングなしのサンプルテキストの推論(ネガティブ)\n",
    "sample_pred_text3 = ('The movie was not good. The animation and the graphics '\n",
    "                    'were terrible. I would not recommend this movie.')\n",
    "predictions3 = sample_predict2(sample_pred_text3, pad=True)\n",
    "print (predictions3)"
   ]
  },
  {
   "cell_type": "code",
   "execution_count": 68,
   "metadata": {},
   "outputs": [
    {
     "name": "stdout",
     "output_type": "stream",
     "text": [
      "[[0.65984386]]\n"
     ]
    }
   ],
   "source": [
    "# パディングなしのサンプルテキストの推論(ポジティブ)\n",
    "sample_pred_text6 = ('The movie was great. The animation and the graphics were beautful. I would recommend this movie.')\n",
    "predictions6 = sample_predict2(sample_pred_text6, pad=False)\n",
    "print (predictions6)"
   ]
  },
  {
   "cell_type": "code",
   "execution_count": 69,
   "metadata": {},
   "outputs": [
    {
     "name": "stdout",
     "output_type": "stream",
     "text": [
      "[[0.5045866]]\n"
     ]
    }
   ],
   "source": [
    "# パディングありのサンプルテキストの推論(ポジティブ)\n",
    "sample_pred_text7 = ('The movie was great. The animation and the graphics were beautful. I would recommend this movie.')\n",
    "predictions7 = sample_predict2(sample_pred_text7, pad=True)\n",
    "print (predictions7)"
   ]
  },
  {
   "cell_type": "code",
   "execution_count": 71,
   "metadata": {},
   "outputs": [
    {
     "name": "stdout",
     "output_type": "stream",
     "text": [
      "[[0.59869426]]\n"
     ]
    }
   ],
   "source": [
    "# パディングなしのサンプルテキストの推論(ポジティブ)\n",
    "sample_pred_text7 = ('The movie was cool. The animation and the graphics '\n",
    "                    'were out of this world. I would recommend this movie.')\n",
    "predictions7 = sample_predict2(sample_pred_text7, pad=False)\n",
    "print (predictions7)"
   ]
  },
  {
   "cell_type": "code",
   "execution_count": 72,
   "metadata": {},
   "outputs": [
    {
     "name": "stdout",
     "output_type": "stream",
     "text": [
      "[[0.39874557]]\n"
     ]
    }
   ],
   "source": [
    "# パディングありのサンプルテキストの推論(ポジティブ)\n",
    "sample_pred_text7 = ('The movie was cool. The animation and the graphics '\n",
    "                    'were out of this world. I would recommend this movie.')\n",
    "predictions7 = sample_predict2(sample_pred_text7, pad=True)\n",
    "print (predictions7)"
   ]
  },
  {
   "cell_type": "code",
   "execution_count": 35,
   "metadata": {},
   "outputs": [
    {
     "data": {
      "image/png": "[encoded data removed]",
      "text/plain": [
       "<Figure size 432x288 with 1 Axes>"
      ]
     },
     "metadata": {
      "needs_background": "light"
     },
     "output_type": "display_data"
    }
   ],
   "source": [
    "plot_graphs(history2, 'accuracy')"
   ]
  },
  {
   "cell_type": "code",
   "execution_count": 36,
   "metadata": {},
   "outputs": [
    {
     "data": {
      "image/png": "[encoded data removed]",
      "text/plain": [
       "<Figure size 432x288 with 1 Axes>"
      ]
     },
     "metadata": {
      "needs_background": "light"
     },
     "output_type": "display_data"
    }
   ],
   "source": [
    "plot_graphs(history2, 'loss')"
   ]
  },
  {
   "cell_type": "code",
   "execution_count": null,
   "metadata": {},
   "outputs": [],
   "source": []
  }
 ],
 "metadata": {
  "kernelspec": {
   "display_name": "Python 3",
   "language": "python",
   "name": "python3"
  },
  "language_info": {
   "codemirror_mode": {
    "name": "ipython",
    "version": 3
   },
   "file_extension": ".py",
   "mimetype": "text/x-python",
   "name": "python",
   "nbconvert_exporter": "python",
   "pygments_lexer": "ipython3",
   "version": "3.7.4"
  },
  "toc": {
   "base_numbering": 1,
   "nav_menu": {},
   "number_sections": true,
   "sideBar": true,
   "skip_h1_title": false,
   "title_cell": "Table of Contents",
   "title_sidebar": "Contents",
   "toc_cell": false,
   "toc_position": {},
   "toc_section_display": true,
   "toc_window_display": false
  }
 },
 "nbformat": 4,
 "nbformat_minor": 2
}
