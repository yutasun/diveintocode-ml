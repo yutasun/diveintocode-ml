{
 "cells": [
  {
   "cell_type": "markdown",
   "metadata": {},
   "source": [
    "【問題1】1次関数\n",
    "　　xが-50から50の範囲で次の式を考えます"
   ]
  },
  {
   "cell_type": "code",
   "execution_count": 1,
   "metadata": {},
   "outputs": [
    {
     "name": "stdout",
     "output_type": "stream",
     "text": [
      "[[-50. ]\n",
      " [-49.9]\n",
      " [-49.8]\n",
      " ...\n",
      " [ 49.8]\n",
      " [ 49.9]\n",
      " [ 50. ]]\n"
     ]
    }
   ],
   "source": [
    "import numpy as np\n",
    "x_ndarray = np.arange(-50, 50.1, 0.1) # xのndarrayを作る\n",
    "xr_ndarray = x_ndarray.reshape(1001,1 )\n",
    "print(xr_ndarray)"
   ]
  },
  {
   "cell_type": "code",
   "execution_count": 2,
   "metadata": {},
   "outputs": [
    {
     "name": "stdout",
     "output_type": "stream",
     "text": [
      "[[-24.  ]\n",
      " [-23.95]\n",
      " [-23.9 ]\n",
      " ...\n",
      " [ 25.9 ]\n",
      " [ 25.95]\n",
      " [ 26.  ]]\n"
     ]
    }
   ],
   "source": [
    "y_ndarray = x_ndarray/2 + 1 # xのndarrayを２で割って１足す\n",
    "yr_ndarray = y_ndarray.reshape(1001,1 )\n",
    "print(yr_ndarray)"
   ]
  },
  {
   "cell_type": "markdown",
   "metadata": {},
   "source": [
    "【問題2】配列の結合"
   ]
  },
  {
   "cell_type": "code",
   "execution_count": 3,
   "metadata": {},
   "outputs": [
    {
     "name": "stdout",
     "output_type": "stream",
     "text": [
      "[[-50.   -24.  ]\n",
      " [-49.9  -23.95]\n",
      " [-49.8  -23.9 ]\n",
      " ...\n",
      " [ 49.8   25.9 ]\n",
      " [ 49.9   25.95]\n",
      " [ 50.    26.  ]]\n"
     ]
    }
   ],
   "source": [
    "hairetsu_ndarray = np.concatenate((xr_ndarray, yr_ndarray),axis=1)\n",
    "print(hairetsu_ndarray)"
   ]
  },
  {
   "cell_type": "markdown",
   "metadata": {},
   "source": [
    "【問題3】勾配を求める"
   ]
  },
  {
   "cell_type": "code",
   "execution_count": 4,
   "metadata": {},
   "outputs": [
    {
     "data": {
      "text/plain": [
       "(1000, 1)"
      ]
     },
     "execution_count": 4,
     "metadata": {},
     "output_type": "execute_result"
    }
   ],
   "source": [
    "d_xr_ndarray = xr_ndarray[1:] - xr_ndarray[:-1] #Xの変化量\n",
    "#print(d_xr_ndarray)\n",
    "d_yr_ndarray = yr_ndarray[1:] - yr_ndarray[:-1] #Xの変化量\n",
    "#print(d_yr_ndarray)\n",
    "\n",
    "koubai_ndarray = d_yr_ndarray/d_xr_ndarray\n",
    "#print(koubai_ndarray)\n",
    "koubai_ndarray.shape"
   ]
  },
  {
   "cell_type": "markdown",
   "metadata": {},
   "source": [
    "【問題4】グラフを描く"
   ]
  },
  {
   "cell_type": "code",
   "execution_count": 6,
   "metadata": {},
   "outputs": [
    {
     "data": {
      "image/png": "[encoded data removed]",
      "text/plain": [
       "<Figure size 432x288 with 1 Axes>"
      ]
     },
     "metadata": {
      "needs_background": "light"
     },
     "output_type": "display_data"
    }
   ],
   "source": [
    "import numpy as np\n",
    "#from numpy.random import *\n",
    "import matplotlib.pyplot as plt\n",
    "#from matplotlib import pyplot as plt\n",
    "import seaborn as sns\n",
    "#import random\n",
    "\n",
    "plt.scatter(xr_ndarray[:-1],koubai_ndarray)\n",
    "plt.scatter(xr_ndarray,yr_ndarray)\n",
    "plt.show()"
   ]
  },
  {
   "cell_type": "markdown",
   "metadata": {},
   "source": [
    "【問題5】Pythonの関数化"
   ]
  },
  {
   "cell_type": "code",
   "execution_count": 32,
   "metadata": {},
   "outputs": [],
   "source": [
    "def compute_gradient(function, x_range=(-50, 50.1, 0.1)):\n",
    "    x_ndarray = np.arange(x_range[0], x_range[1], x_range[2]) # xのndarrayを作る\n",
    "    xr_ndarray = x_ndarray.reshape(x_ndarray.shape[0],1 )\n",
    "    yr_ndarray = function(xr_ndarray)\n",
    "    array_xy = np.concatenate((xr_ndarray, yr_ndarray),axis=1)\n",
    "    array_xy_delta = array_xy[1:] - array_xy[:-1] #Xの変化量\n",
    "    gradient = array_xy_delta[:, 1:2]/array_xy_delta[:, 0:1]\n",
    "    return array_xy, gradient\n",
    "\n",
    "def function0(array_x): # = np.arange(-50, 50.1, 0.1)):\n",
    "    array_y = array_x**2 # xのndarrayを2情する\n",
    "    return array_y\n",
    "\n",
    "def function1(array_x): # = np.arange(-50, 50.1, 0.1)):\n",
    "    array_y = 2*array_x**2 + 2**array_x # xのndarrayを2情する\n",
    "    return array_y\n",
    "\n",
    "def function2(array_x): # = np.arange(-50, 50.1, 0.1)):\n",
    "    array_y = np.sin(array_x**(1/2)) # xのndarrayを2情する\n",
    "    return array_y\n",
    "  \n",
    "array_xy0, gradient0 = compute_gradient(function0)\n",
    "array_xy1, gradient1 = compute_gradient(function1)\n",
    "array_xy2, gradient2 = compute_gradient(function2,x_range=(0, 50.1, 0.1))"
   ]
  },
  {
   "cell_type": "markdown",
   "metadata": {},
   "source": [
    "【問題6】最小値を求める"
   ]
  },
  {
   "cell_type": "markdown",
   "metadata": {},
   "source": [
    "$$ y = x^{2} \\quad (-50\\leq x \\leq 50)\\\\ $$"
   ]
  },
  {
   "cell_type": "code",
   "execution_count": 53,
   "metadata": {},
   "outputs": [
    {
     "name": "stdout",
     "output_type": "stream",
     "text": [
      "最小値5.048709793414476e-25\n",
      "最小値のインデックス500\n",
      "最小値前後の勾配[0.1][-0.1]\n"
     ]
    }
   ],
   "source": [
    "print(\"最小値\" + str(array_xy0[:, 1:2].min()))\n",
    "print(\"最小値のインデックス\" + str(array_xy0[:, 1:2].argmin()))\n",
    "print(\"最小値前後の勾配\" + str(gradient0[array_xy0[:, 1:2].argmin()])\\\n",
    "                       + str(gradient0[array_xy0[:, 1:2].argmin() - 1]))"
   ]
  },
  {
   "cell_type": "markdown",
   "metadata": {},
   "source": [
    "$$ y = 2x^{2}+2^{x} \\quad (-50\\leq x \\leq 50)\\\\ $$"
   ]
  },
  {
   "cell_type": "code",
   "execution_count": 54,
   "metadata": {},
   "outputs": [
    {
     "name": "stdout",
     "output_type": "stream",
     "text": [
      "最小値0.9505505632959851\n",
      "最小値のインデックス498\n",
      "最小値前後の勾配[0.02482428][-0.41701833]\n"
     ]
    }
   ],
   "source": [
    "print(\"最小値\" + str(array_xy1[:, 1:2].min()))\n",
    "print(\"最小値のインデックス\" + str(array_xy1[:, 1:2].argmin()))\n",
    "print(\"最小値前後の勾配\" + str(gradient1[array_xy1[:, 1:2].argmin()])\\\n",
    "                       + str(gradient1[array_xy1[:, 1:2].argmin() - 1]))"
   ]
  },
  {
   "cell_type": "markdown",
   "metadata": {},
   "source": [
    "$$ y = sin(x^{\\frac{1}{2}}) \\quad (0\\leq x \\leq 50) $$"
   ]
  },
  {
   "cell_type": "code",
   "execution_count": 55,
   "metadata": {},
   "outputs": [
    {
     "name": "stdout",
     "output_type": "stream",
     "text": [
      "最小値-0.9999997540298113\n",
      "最小値のインデックス222\n",
      "最小値前後の勾配[0.00048745][-0.00063884]\n"
     ]
    }
   ],
   "source": [
    "print(\"最小値\" + str(array_xy2[:, 1:2].min()))\n",
    "print(\"最小値のインデックス\" + str(array_xy2[:, 1:2].argmin()))\n",
    "print(\"最小値前後の勾配\" + str(gradient2[array_xy2[:, 1:2].argmin()])\\\n",
    "                       + str(gradient2[array_xy2[:, 1:2].argmin() - 1]))"
   ]
  },
  {
   "cell_type": "code",
   "execution_count": null,
   "metadata": {},
   "outputs": [],
   "source": []
  }
 ],
 "metadata": {
  "kernelspec": {
   "display_name": "Python 3",
   "language": "python",
   "name": "python3"
  },
  "language_info": {
   "codemirror_mode": {
    "name": "ipython",
    "version": 3
   },
   "file_extension": ".py",
   "mimetype": "text/x-python",
   "name": "python",
   "nbconvert_exporter": "python",
   "pygments_lexer": "ipython3",
   "version": "3.7.4"
  },
  "toc": {
   "base_numbering": 1,
   "nav_menu": {},
   "number_sections": true,
   "sideBar": true,
   "skip_h1_title": false,
   "title_cell": "Table of Contents",
   "title_sidebar": "Contents",
   "toc_cell": false,
   "toc_position": {},
   "toc_section_display": true,
   "toc_window_display": false
  }
 },
 "nbformat": 4,
 "nbformat_minor": 2
}
