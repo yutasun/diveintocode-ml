{
 "cells": [
  {
   "cell_type": "code",
   "execution_count": 9,
   "metadata": {},
   "outputs": [],
   "source": [
    "#必要なクラスをインポート\n",
    "from sklearn.datasets import load_iris\n",
    "import pandas as pd\n",
    "import numpy as np\n",
    "import matplotlib.pyplot as plt\n",
    "import seaborn as sns\n",
    "from sklearn.model_selection import train_test_split\n",
    "from sklearn.preprocessing import StandardScaler\n",
    "\n",
    "# 今日使用データをインプット\n",
    "df = pd.read_csv('/Users/suzukiyuuta/Downloads/train.csv')#教師データを読み込む\n",
    "\n",
    "df_XY = df.loc[:,['GrLivArea','YearBuilt','SalePrice']]\n",
    "# display(df_XY)\n",
    "np_XY = df_XY.values\n",
    "np_X = np_XY[:, :2]\n",
    "np_Y = np_XY[:, 2:3]\n",
    "\n",
    "from sklearn.model_selection import train_test_split\n",
    "# ndarray変換\n",
    "X_array = np_X\n",
    "y_array = np_Y\n",
    "X_train, X_valid, y_train, y_valid = train_test_split(\n",
    "    X_array, y_array, test_size=0.25, random_state=0)\n",
    "\n",
    "# バイアス＝TRUEの時は下記をXとして扱う\n",
    "# np_1 = np.ones((1460,1))\n",
    "# np_1X = np.concatenate([np_1, np_X], 1)"
   ]
  },
  {
   "cell_type": "code",
   "execution_count": 2,
   "metadata": {},
   "outputs": [
    {
     "name": "stdout",
     "output_type": "stream",
     "text": [
      "<class 'numpy.ndarray'>\n",
      "[[54.88135039 71.51893664 60.27633761]]\n"
     ]
    },
    {
     "data": {
      "text/plain": [
       "array([[243085.76722723, 209417.82249835, 248400.65373644, ...,\n",
       "        284405.56437704, 194691.15337931, 208325.66916485]])"
      ]
     },
     "execution_count": 2,
     "metadata": {},
     "output_type": "execute_result"
    }
   ],
   "source": [
    "# 初期推定\n",
    "# np.random.seed(0) \n",
    "# param_vec = np.random.uniform(0, 100, (1, 3))\n",
    "# y = param_vec @ np_1X.T\n",
    "# y = y.T\n",
    "# print(y)\n",
    "num_iter: int = 100\n",
    "lr: float = 0.000001\n",
    "no_bias: bool = False\n",
    "verbose : bool = True\n",
    "\n",
    "X = np_X\n",
    "\n",
    "np_1 = np.ones((X.shape[0],1)) # 行列の長さを自動取得する\n",
    "if no_bias != True:\n",
    "    X = np.concatenate([np_1, X], 1) # バイアス＝TRUEの時は下記をXとして扱う\n",
    "else:\n",
    "    pass\n",
    "np.random.seed(0) #本来は与えられるパラメータベクトル\n",
    "param_vec = np.random.uniform(0, 100, (1, X.shape[1]))\n",
    "\n",
    "print(type(X))\n",
    "print(param_vec)\n",
    "\n",
    "\n",
    "y_pred = param_vec @ X.T\n",
    "y_pred"
   ]
  },
  {
   "cell_type": "markdown",
   "metadata": {},
   "source": [
    "# 【問題1】仮定関数"
   ]
  },
  {
   "cell_type": "code",
   "execution_count": 25,
   "metadata": {},
   "outputs": [],
   "source": [
    "# 関数化\n",
    "# クラスパラメータ値を借りで入力\n",
    "# num_iter: int = 100\n",
    "# lr: float = 0.000001\n",
    "# no_bias: bool = False\n",
    "# verbose : bool = True\n",
    "\n",
    "def _linear_hypothesis(self,X):\n",
    "    \"\"\"\n",
    "    線形の仮定関数を計算する\n",
    "\n",
    "    Parameters\n",
    "    ----------\n",
    "    X : 次の形のndarray, shape (n_samples, n_features)\n",
    "      学習データ\n",
    "\n",
    "    Returns\n",
    "    -------\n",
    "      次の形のndarray, shape (n_samples, 1)\n",
    "      線形の仮定関数による推定結果\n",
    "\n",
    "    \"\"\"\n",
    "    \n",
    "    h0 = np.dot(X, self.coef_.T)\n",
    "    # coef_.Tでベクトルを転置すると予期せぬ結果が発生する\n",
    "    # →　だからベクトルの内積時は次元追加の方が良い（newaxis or reshape）\n",
    "    \n",
    "    return h0\n",
    "#     np_1 = np.ones((X.shape[0],1)) # 行列の長さを自動取得する\n",
    "#     if no_bias != True:\n",
    "#         X = np.concatenate([np_1, X], 1) # バイアス＝TRUEの時は下記をXとして扱う\n",
    "#     else:\n",
    "#         pass\n",
    "#     np.random.seed(0) #本来は与えられるパラメータベクトル\n",
    "#     param_vec = np.random.uniform(0, 100, (1, X.shape[1]))\n",
    "#     y_pred = (param_vec @ X.T).T\n",
    "#     pass\n",
    "#     return y_pred\n",
    "\n",
    "# _linear_hypothesis(np_X)\n",
    "# yp = _linear_hypothesis(np_X)\n",
    "# print(yp)"
   ]
  },
  {
   "cell_type": "markdown",
   "metadata": {},
   "source": [
    "# 【問題2】最急降下法"
   ]
  },
  {
   "cell_type": "code",
   "execution_count": 19,
   "metadata": {},
   "outputs": [],
   "source": [
    "def _gradient_descent(self, X, error):\n",
    "    stu = 0.0000000001\n",
    "\n",
    "    self.coef_ = self.coef_ - stu/X.shape[0]*(error.T @ X).T\n",
    "\n",
    "# pv_next = param_vec\n",
    "# for n in range(num_iter):\n",
    "#     param_da = pv_next[0]\n",
    "#     for j in range(X.shape[1]):\n",
    "#         for i in range(X.shape[0]):\n",
    "#             result0 += (param_da*X[i] - np_Y[i])*X[i]\n",
    "#         pv0 = param_da - stu/X.shape[0]*result0\n",
    "# #         print(- stu/X.shape[0]*result0)\n",
    "#         pv_next = np.insert(pv_next,0,pv0)\n",
    "# print(pv_next)\n",
    "\n",
    "# X.shape[0] = 1460\n",
    "# X.shape[1] = 3\n",
    "# error.T.shape\n",
    "# X[:, 0].shape\n",
    "# X.shape[0] = 1460\n",
    "# X.shape[1] = 3"
   ]
  },
  {
   "cell_type": "markdown",
   "metadata": {},
   "source": [
    "# 【問題4】平均二乗誤差"
   ]
  },
  {
   "cell_type": "code",
   "execution_count": 16,
   "metadata": {},
   "outputs": [
    {
     "data": {
      "text/plain": [
       "array([5.51645086e+09])"
      ]
     },
     "execution_count": 16,
     "metadata": {},
     "output_type": "execute_result"
    }
   ],
   "source": [
    "def MSE(y_pred, y):\n",
    "    suma = 0\n",
    "    for i in range(y_pred.shape[0]):\n",
    "        suma += (y_pred[i] - y[i]) **2\n",
    "    mse = (1/y_pred.shape[0])*suma\n",
    "    \n",
    "    pass\n",
    "    return mse\n",
    "\n",
    "MSE(yp,np_Y)"
   ]
  },
  {
   "cell_type": "markdown",
   "metadata": {},
   "source": [
    "# 【問題3】推定"
   ]
  },
  {
   "cell_type": "code",
   "execution_count": 100,
   "metadata": {},
   "outputs": [],
   "source": [
    "class ScratchLinearRegression():\n",
    "    \"\"\"\n",
    "    線形回帰のスクラッチ実装\n",
    "\n",
    "    Parameters\n",
    "    ----------\n",
    "    num_iter : int\n",
    "      イテレーション数\n",
    "    lr : float\n",
    "      学習率\n",
    "    no_bias : bool\n",
    "      バイアス項を入れない場合はTrue\n",
    "    verbose : bool\n",
    "      学習過程を出力する場合はTrue\n",
    "\n",
    "    Attributes\n",
    "    ----------\n",
    "    self.coef_ : 次の形のndarray, shape (n_features,)\n",
    "      パラメータ\n",
    "    self.loss : 次の形のndarray, shape (self.iter,)\n",
    "      学習用データに対する損失の記録\n",
    "    self.val_loss : 次の形のndarray, shape (self.iter,)\n",
    "      検証用データに対する損失の記録\n",
    "\n",
    "    \"\"\"\n",
    "\n",
    "    def __init__(self, num_iter, lr, bias=None, verbose=None):\n",
    "        # ハイパーパラメータを属性として記録\n",
    "        self.iter = num_iter\n",
    "        self.lr = lr\n",
    "        self.bias = bias\n",
    "        self.verbose = verbose\n",
    "        # 損失を記録する配列を用意\n",
    "        self.loss = np.zeros(self.iter)\n",
    "        self.val_loss = np.zeros(self.iter)\n",
    "        #パラメーターの初期値（平均０、分散１の正規分布）\n",
    "        self.coef_ = np.random.normal(0, 1, X.shape[1])\n",
    "        self.stu = 0.0000000001\n",
    "#         print(self.coef_)\n",
    "#         self.coef_ = None # とすることで、fitをを呼び出さなくてもcoefが使用できる（先にpredictやる時とか）\n",
    "        # self/h0も同様\n",
    "\n",
    "    def _linear_hypothesis2(self,X):\n",
    "        \"\"\"\n",
    "        線形の仮定関数を計算する\n",
    "\n",
    "        Parameters\n",
    "        ----------\n",
    "        X : 次の形のndarray, shape (n_samples, n_features)\n",
    "          学習データ\n",
    "\n",
    "        Returns\n",
    "        -------\n",
    "          次の形のndarray, shape (n_samples, 1)\n",
    "          線形の仮定関数による推定結果\n",
    "\n",
    "        \"\"\"\n",
    "#         print(self.coef_)\n",
    "        coef_T = (self.coef_).T\n",
    "        \n",
    "        h0 = np.dot(X, coef_T)\n",
    "        # coef_.Tでベクトルを転置すると予期せぬ結果が発生する\n",
    "        # →　だからベクトルの内積時は次元追加の方が良い（newaxis or reshape）\n",
    "\n",
    "        return h0\n",
    "    def _gradient_descent2(self,X,error):\n",
    "\n",
    "        self.coef_ = self.coef_ - self.stu/X.shape[0]*(error.T @ X).T\n",
    "    \n",
    "    def fit(self, X, y, X_val=None, y_val=None):\n",
    "        \"\"\"\n",
    "        線形回帰を学習する。検証用データが入力された場合はそれに対する損失と精度もイテレーションごとに計算する。\n",
    "\n",
    "        Parameters\n",
    "        ----------\n",
    "        X : 次の形のndarray, shape (n_samples, n_features)\n",
    "            学習用データの特徴量\n",
    "        y : 次の形のndarray, shape (n_samples, )\n",
    "            学習用データの正解値\n",
    "        X_val : 次の形のndarray, shape (n_samples, n_features)\n",
    "            検証用データの特徴量\n",
    "        y_val : 次の形のndarray, shape (n_samples, )\n",
    "            検証用データの正解値\n",
    "        \"\"\"\n",
    "        \n",
    "        # yの一次元化\n",
    "        y = y.ravel()\n",
    "        y_val = y_val.ravel()\n",
    "        \n",
    "        # 切片列を追加（切片の有無を選べる）\n",
    "        if not self.bias:   \n",
    "            X = np.concatenate([np.ones([X.shape[0], 1]), X], axis=1)\n",
    "            X_val = np.concatenate([np.ones([X_val.shape[0], 1]), X_val], axis=1)\n",
    "        \n",
    "#         print(self.coef_)\n",
    "        \n",
    "        for iter_count in range(self.iter):\n",
    "            if self.verbose:\n",
    "                #verboseをTrueにした際は学習過程を出力\n",
    "                print(\"{}回目の学習\".format(iter_count))\n",
    "            \n",
    "            # 過程関数\n",
    "#             print(iter_count)\n",
    "            h0 = self._linear_hypothesis2(X)\n",
    "            h0_val = self._linear_hypothesis2(X_val)\n",
    "            # _linear_hypothesis　→　これだけでh0の更新、fit内部ではself.h0で更新後の値が呼び出せる、retunいらない\n",
    "            \n",
    "            # 最急降下法（error算出→勾配算出）\n",
    "            error = h0 - y\n",
    "            self._gradient_descent2(X,error)\n",
    "#             print(self.coef_)\n",
    "            # self._gradient_descent →　これだけでself.coef_の更新、fit内部ではself.coef_で更新後の値が呼び出せる、retunいらない\n",
    "            \n",
    "            # costの記録\n",
    "            self.loss[iter_count] = loss_cal(h0 , y)\n",
    "            self.val_loss[iter_count] = loss_cal(h0_val , y_val)\n",
    "    \n",
    "    def predict(self, X):\n",
    "        \"\"\"\n",
    "        線形回帰を使い推定する。\n",
    "\n",
    "        Parameters\n",
    "        ----------\n",
    "        X : 次の形のndarray, shape (n_samples, n_features)\n",
    "            サンプル\n",
    "\n",
    "        Returns\n",
    "        -------\n",
    "            次の形のndarray, shape (n_samples, 1)\n",
    "            線形回帰による推定結果\n",
    "        \"\"\"\n",
    "        if not self.bias:   \n",
    "            X = np.concatenate([np.ones([X.shape[0], 1]), X], axis=1)\n",
    "        h0 = np.dot(X, self.coef_.T)\n",
    "        \n",
    "        return h0"
   ]
  },
  {
   "cell_type": "code",
   "execution_count": 101,
   "metadata": {},
   "outputs": [],
   "source": [
    "slrg = ScratchLinearRegression(5000, 0.001)\n",
    "slrg.fit(X_train, y_train, X_valid, y_valid)"
   ]
  },
  {
   "cell_type": "code",
   "execution_count": 103,
   "metadata": {},
   "outputs": [
    {
     "data": {
      "text/plain": [
       "array([225827.48025329, 178585.90654112, 160476.1259371 , 202441.74633495,\n",
       "       156064.28761845, 149440.89578048, 176353.64733044, 168323.46453749,\n",
       "       324982.28615682, 158266.96586706, 170754.05203768, 185449.22855851,\n",
       "       201648.12548581, 146346.72451622, 154378.98324645, 166336.61111024,\n",
       "       198313.89703732, 152201.73408536, 162542.2852792 , 189525.27696609,\n",
       "       169594.8698082 , 145685.21668943, 141978.88153675, 176523.14686574,\n",
       "       195054.50511711, 183657.04974447, 181390.74018517, 133127.63637227,\n",
       "       187944.70759645, 160964.86156667, 189273.26235642, 191034.53647896,\n",
       "       147510.24912745, 212349.76867343, 205234.43204637, 174892.91604571,\n",
       "       181055.0137765 , 145713.79143406, 207353.39849597, 233041.94927391,\n",
       "       207781.52146717, 168511.72083165, 168621.86793561, 194625.24892367,\n",
       "       241613.61130154, 187206.03329449, 142010.7924457 , 146515.15433167,\n",
       "       185701.30667058, 146746.27274278, 235786.17025959, 154812.70882645,\n",
       "       168362.04777507, 139453.69453195, 184338.57455717, 145166.70959058,\n",
       "       169750.01846879, 192943.28071599, 157086.88743902, 139865.39069115,\n",
       "       153768.07958508, 153108.71119797, 162472.9243549 , 158674.1926397 ,\n",
       "       186330.96709082, 174460.26018556, 147164.57772823, 187750.97569828,\n",
       "       160734.749373  , 189471.46364115, 174613.33290886, 153665.6745296 ,\n",
       "       147750.17930688, 174124.59727929, 148749.67998683, 185317.17903856,\n",
       "       150991.94769045, 146166.14676812, 225685.54924518, 166104.35947689,\n",
       "       148802.55059672, 145132.59573956, 165539.59059438, 152201.73408536,\n",
       "       253542.5374159 , 169855.82319098, 159210.19627038, 171494.86577932,\n",
       "       163974.44181929, 154797.28823189, 186686.5199782 , 180198.5773269 ,\n",
       "       177416.96982828, 195760.13528788, 166097.81415305, 163470.22209276,\n",
       "       177189.12407908, 182151.25340072, 144718.69663827, 177769.12304894,\n",
       "       189624.47286205, 198833.473856  , 167624.50669535, 172919.21676854,\n",
       "       135412.76619284, 222732.17576678, 170576.81045391, 147269.12222339,\n",
       "       177240.86146674, 166142.81570967, 133348.80979282, 152426.24367023,\n",
       "       200694.82308713, 155696.58679843, 175345.33488218, 178910.68174179,\n",
       "       222114.66327917, 153074.59734695, 207920.24331575, 200821.46050548,\n",
       "       157177.20806427, 172787.16724859, 150395.3314014 , 199796.59424043,\n",
       "       182082.01948123, 177150.6043439 , 208846.04068964, 168227.79531304,\n",
       "       165255.72857817, 177672.32060226, 169892.13998409, 165206.19413259,\n",
       "       213343.73024698, 173819.64855732, 144718.69663827, 186587.45108704,\n",
       "       174125.60349673, 170295.02437498, 145723.67292221, 182462.87445132,\n",
       "       157949.86921246, 156832.66988728, 212939.71263385, 153798.92077419,\n",
       "       164183.53080961, 177462.0983897 , 176452.7162216 , 153511.59558886,\n",
       "       190516.09288251, 177374.04420893, 172197.09628338, 188194.58276643,\n",
       "       192997.22104573, 207275.09879856, 182117.1395497 , 240238.7312555 ,\n",
       "       156237.05981567, 174943.45670874, 159313.7980505 , 176469.206536  ,\n",
       "       144770.43402593, 160198.74574232, 181849.76784788, 149474.00341407,\n",
       "       181750.69895671, 174426.08283213, 174077.20227338, 219374.84817765,\n",
       "       170947.78393585, 187186.27031817, 169963.64034806, 179910.18242173,\n",
       "       168423.73015329, 159121.13587217, 150033.16968778, 156906.37319333,\n",
       "       157575.6230686 , 231610.92595605, 164431.13953512, 156090.7229234 ,\n",
       "       208200.95967485, 196923.59639672, 154713.57643288, 188241.91426993,\n",
       "       143017.97167172, 188155.99952885, 150811.43344476, 164215.50522096,\n",
       "       173230.77431674, 145685.21668943, 152201.73408536, 168570.06704555,\n",
       "       179715.38080373, 148540.5909965 , 160730.34348884, 152328.30800131,\n",
       "       133127.63637227, 157670.2860756 , 186508.14517219, 169587.19126213,\n",
       "       167626.70963743, 163680.50780772, 138906.61268848, 153850.65816185,\n",
       "       194629.52780303, 232342.92792938, 163578.10275224, 210120.71862228,\n",
       "       192042.84892721, 141821.40292929, 158861.37921403, 185303.96138609,\n",
       "       152402.01130736, 138376.0211594 , 193732.49568097, 219554.2292011 ,\n",
       "       172176.20008482, 237977.7702954 , 185812.52349437, 133231.11114759,\n",
       "       175353.01342826, 170769.40912984, 179805.51092177, 144822.17141359,\n",
       "       178330.61926953, 204975.74510807, 199371.74393115, 195235.0193628 ,\n",
       "       162679.87390554, 170093.55042833, 152350.2739197 , 156383.46021033,\n",
       "       144770.43402593, 157652.72604137, 194801.35728521, 170259.71379931,\n",
       "       190893.61168829, 142355.33062269, 158208.55615076, 174615.47234854,\n",
       "       164333.2038662 , 186391.5162468 , 191549.70741348, 191993.31448163,\n",
       "       164743.83030556, 156642.21065103, 170012.1050738 , 182043.49974604,\n",
       "       165159.86884652, 174305.11152498, 172188.28451506, 199830.77159386,\n",
       "       142235.30203058, 249662.42384857, 169026.95526858, 194625.24892367,\n",
       "       143524.33083793, 181554.76411647, 266051.71650972, 383360.29835645,\n",
       "       189561.72076399, 175165.82685393, 190007.46727183, 162396.89110197,\n",
       "       207065.0035908 , 191416.52467129, 235965.55128304, 125454.13968894,\n",
       "       202054.21903622, 187798.30720178, 172507.45710694, 202676.13740798,\n",
       "       174918.15462603, 180948.20283686, 209332.44637234, 206909.79142782,\n",
       "       189636.55729229, 186558.74933761, 200173.10682877, 165512.08556959,\n",
       "       146308.20478103, 201758.20908737, 174476.75049995, 177802.16718013,\n",
       "       167881.05419397, 206743.50105204, 162357.36514935, 188260.60752641,\n",
       "       222868.69467329, 224251.12626061, 135439.20149779, 154366.83531382,\n",
       "       194384.18552201, 145790.83090443, 147137.00920104, 187240.21064791,\n",
       "       179857.37531423, 164161.56489122, 167245.85466733, 173562.09484126,\n",
       "       151016.18005333, 160753.50613187, 185657.31133139, 171197.65910583,\n",
       "       192807.83152932, 169203.00012771, 156360.3610697 , 173268.16082969,\n",
       "       175957.37176579, 163239.10368165, 152402.01130736, 164568.85516627,\n",
       "       187777.28399843, 166012.9056294 , 167632.18524143, 145685.21668943,\n",
       "       215675.18535361, 161369.94889964, 173721.7128884 , 201120.74311625,\n",
       "       158676.33207938, 185650.70250516, 149462.92520128, 251999.22755441,\n",
       "       188055.73391305, 199076.74019975, 149487.22106655, 194827.79259016,\n",
       "       182329.62820674, 158217.36791908, 149030.39634592, 197771.221078  ,\n",
       "       180478.09696136, 169022.54938442, 173349.60618422, 155370.80538031,\n",
       "       156933.87821812, 173865.91034098, 169482.58326457, 153748.25310637,\n",
       "       192393.99593044, 163603.46833735, 186613.75938719, 200717.98573016,\n",
       "       162120.70763184, 176790.58206996, 156600.29124913, 152798.28687201,\n",
       "       144152.85803593, 149097.55432813, 191308.64401181, 232161.34396384,\n",
       "       146475.50137425, 144885.99323149, 169597.13625268, 206616.99063849,\n",
       "       228586.05211368, 187790.50165091, 184276.95568136, 207501.93833031,\n",
       "       235395.24329414, 195175.60342907, 179013.08679727, 181653.83300763,\n",
       "       138246.11107913])"
      ]
     },
     "execution_count": 103,
     "metadata": {},
     "output_type": "execute_result"
    }
   ],
   "source": [
    "slrg.predict(X_valid)"
   ]
  },
  {
   "cell_type": "code",
   "execution_count": 105,
   "metadata": {},
   "outputs": [
    {
     "data": {
      "text/plain": [
       "array([4.29963088e+09])"
      ]
     },
     "execution_count": 105,
     "metadata": {},
     "output_type": "execute_result"
    }
   ],
   "source": [
    "MSE(slrg.predict(X_valid),y_valid)"
   ]
  },
  {
   "cell_type": "code",
   "execution_count": 97,
   "metadata": {},
   "outputs": [
    {
     "data": {
      "image/png": "[encoded data removed]",
      "text/plain": [
       "<Figure size 432x288 with 1 Axes>"
      ]
     },
     "metadata": {
      "needs_background": "light"
     },
     "output_type": "display_data"
    }
   ],
   "source": [
    "iter_list = [i for i in range(slrg.iter)]\n",
    "plt.scatter(iter_list, slrg.loss, label=\"train\")\n",
    "plt.scatter(iter_list, slrg.val_loss, label=\"valid\")\n",
    "plt.ylabel('loss')\n",
    "plt.xlabel('iter')\n",
    "plt.title('madel loss (StandardScaler)')\n",
    "plt.legend();"
   ]
  },
  {
   "cell_type": "code",
   "execution_count": 96,
   "metadata": {},
   "outputs": [
    {
     "data": {
      "text/plain": [
       "(3,)"
      ]
     },
     "execution_count": 96,
     "metadata": {},
     "output_type": "execute_result"
    }
   ],
   "source": [
    "slrg.coef_.shape"
   ]
  },
  {
   "cell_type": "markdown",
   "metadata": {},
   "source": [
    "# 【問題5】目的関数"
   ]
  },
  {
   "cell_type": "code",
   "execution_count": 22,
   "metadata": {},
   "outputs": [],
   "source": [
    "def loss_cal(y_pred , y):\n",
    "    \"\"\"\n",
    "    損失関数の計算と記録\n",
    "\n",
    "    Parameters\n",
    "    ----------\n",
    "    y_pred : 次の形のndarray, shape (n_samples,)\n",
    "      推定した値\n",
    "    y : 次の形のndarray, shape (n_samples,)\n",
    "      正解値\n",
    "\n",
    "    Returns\n",
    "    ----------\n",
    "    cost : numpy.float\n",
    "      平均二乗誤差\n",
    "    \"\"\"\n",
    "    loss = ((y_pred-y)**2).sum() / X.shape[0] / 2\n",
    "    \n",
    "    return loss"
   ]
  },
  {
   "cell_type": "code",
   "execution_count": null,
   "metadata": {},
   "outputs": [],
   "source": [
    "def _linear_hypothesis(self, X):\n",
    "    \"\"\"\n",
    "    線形の仮定関数を計算する\n",
    "\n",
    "    Parameters\n",
    "    ----------\n",
    "    X : 次の形のndarray, shape (n_samples, n_features)\n",
    "      学習データ\n",
    "\n",
    "    Returns\n",
    "    -------\n",
    "      次の形のndarray, shape (n_samples, 1)\n",
    "      線形の仮定関数による推定結果\n",
    "\n",
    "    \"\"\"\n",
    "    pass\n",
    "    return"
   ]
  },
  {
   "cell_type": "code",
   "execution_count": 6,
   "metadata": {},
   "outputs": [
    {
     "ename": "SyntaxError",
     "evalue": "invalid syntax (<ipython-input-6-b38e3ac97ecc>, line 26)",
     "output_type": "error",
     "traceback": [
      "\u001b[0;36m  File \u001b[0;32m\"<ipython-input-6-b38e3ac97ecc>\"\u001b[0;36m, line \u001b[0;32m26\u001b[0m\n\u001b[0;31m    def fit(self, X, y), X_val=None, y_val=None):\u001b[0m\n\u001b[0m                       ^\u001b[0m\n\u001b[0;31mSyntaxError\u001b[0m\u001b[0;31m:\u001b[0m invalid syntax\n"
     ]
    }
   ],
   "source": [
    "class ScratchLinearRegression():\n",
    "    \"\"\"\n",
    "    線形回帰のスクラッチ実装\n",
    "    \"\"\"\n",
    "    num_iter: int = 100\n",
    "    lr: float = 0.000001\n",
    "    no_bias: bool = True\n",
    "    verbose : bool = True\n",
    "\n",
    "    \"\"\"\n",
    "    self.coef_ : 次の形のndarray, shape (特徴量の数,)\n",
    "    self.loss : 次の形のndarray, shape (学習用データに対する損失の記録を格納,)\n",
    "    self.val_loss : 次の形のndarray, shape (検証用データに対する損失の記録を格納,)\n",
    "    \"\"\"\n",
    "\n",
    "    def __init__(self, num_iter, lr, bias, verbose):\n",
    "        # ハイパーパラメータを属性として記録\n",
    "        self.iter = num_iter\n",
    "        self.lr = lr\n",
    "        self.bias = bias\n",
    "        self.verbose = verbose\n",
    "        # 損失を記録する配列を用意\n",
    "        self.loss = np.zeros(self.iter)\n",
    "        self.val_loss = np.zeros(self.iter)\n",
    "\n",
    "    def fit(self, X, y), X_val=None, y_val=None):\n",
    "        \"\"\"\n",
    "        線形回帰を学習する。検証用データが入力された場合はそれに対する損失と精度もイテレーションごとに計算する。\n",
    "        \"\"\"\n",
    "\n",
    "        if self.verbose:\n",
    "            #verboseをTrueにした際は学習過程を出力\n",
    "            print()\n",
    "        pass\n",
    "\n",
    "\n",
    "    def predict(self, X):\n",
    "        \"\"\"\n",
    "        線形回帰を使い推定する。\n",
    "        Returns\n",
    "        -------\n",
    "            次の形のndarray, shape (n_samples, 1)\n",
    "            線形回帰による推定結果\n",
    "        \"\"\"\n",
    "\n",
    "        pass\n",
    "        return"
   ]
  }
 ],
 "metadata": {
  "kernelspec": {
   "display_name": "Python 3",
   "language": "python",
   "name": "python3"
  },
  "language_info": {
   "codemirror_mode": {
    "name": "ipython",
    "version": 3
   },
   "file_extension": ".py",
   "mimetype": "text/x-python",
   "name": "python",
   "nbconvert_exporter": "python",
   "pygments_lexer": "ipython3",
   "version": "3.7.4"
  },
  "toc": {
   "base_numbering": 1,
   "nav_menu": {},
   "number_sections": true,
   "sideBar": true,
   "skip_h1_title": false,
   "title_cell": "Table of Contents",
   "title_sidebar": "Contents",
   "toc_cell": false,
   "toc_position": {},
   "toc_section_display": true,
   "toc_window_display": false
  }
 },
 "nbformat": 4,
 "nbformat_minor": 2
}
