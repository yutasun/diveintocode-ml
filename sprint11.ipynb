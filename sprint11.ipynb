{
 "cells": [
  {
   "cell_type": "code",
   "execution_count": 4,
   "metadata": {},
   "outputs": [],
   "source": [
    "# インポート\n",
    "import random\n",
    "import pandas as pd\n",
    "import numpy as np\n",
    "import matplotlib.pyplot as plt\n",
    "import seaborn as sns\n",
    "from sklearn.model_selection import train_test_split\n",
    "from sklearn.preprocessing import StandardScaler\n",
    "from sklearn.preprocessing import OneHotEncoder\n",
    "from sklearn import metrics"
   ]
  },
  {
   "cell_type": "code",
   "execution_count": 5,
   "metadata": {},
   "outputs": [
    {
     "name": "stderr",
     "output_type": "stream",
     "text": [
      "Using TensorFlow backend.\n"
     ]
    }
   ],
   "source": [
    "# データセットインストール\n",
    "from keras.datasets import mnist\n",
    "(X_train, y_train), (X_test, y_test) = mnist.load_data()"
   ]
  },
  {
   "cell_type": "code",
   "execution_count": 6,
   "metadata": {},
   "outputs": [
    {
     "name": "stdout",
     "output_type": "stream",
     "text": [
      "(60000, 28, 28)\n",
      "(10000, 28, 28)\n",
      "uint8\n"
     ]
    }
   ],
   "source": [
    "print(X_train.shape) # (60000, 28, 28)\n",
    "print(X_test.shape) # (10000, 28, 28)\n",
    "print(X_train[0].dtype) # uint8"
   ]
  },
  {
   "cell_type": "code",
   "execution_count": 7,
   "metadata": {},
   "outputs": [
    {
     "name": "stdout",
     "output_type": "stream",
     "text": [
      "1.0\n",
      "0.0\n",
      "(60000,)\n",
      "(60000, 10)\n",
      "float64\n"
     ]
    }
   ],
   "source": [
    "X_train = X_train.astype(np.float)\n",
    "X_test = X_test.astype(np.float)\n",
    "X_train /= 255\n",
    "X_test /= 255\n",
    "print(X_train.max()) # 1.0\n",
    "print(X_train.min()) # 0.0\n",
    "enc = OneHotEncoder(handle_unknown='ignore', sparse=False)\n",
    "y_train_one_hot = enc.fit_transform(y_train[:, np.newaxis])\n",
    "y_test_one_hot = enc.transform(y_test[:, np.newaxis])\n",
    "print(y_train.shape) # (60000,)\n",
    "print(y_train_one_hot.shape) # (60000, 10)\n",
    "print(y_train_one_hot.dtype) # float64"
   ]
  },
  {
   "cell_type": "code",
   "execution_count": 8,
   "metadata": {},
   "outputs": [
    {
     "name": "stdout",
     "output_type": "stream",
     "text": [
      "(600, 1, 28, 28)\n",
      "(59400, 1, 28, 28)\n",
      "(600, 10)\n",
      "(59400, 10)\n"
     ]
    }
   ],
   "source": [
    "#NCHW(n_samples, n_channels, height, width):採用\n",
    "\n",
    "X_train_0, X_val_0, y_train_0, y_val_0 = train_test_split(X_train, y_train_one_hot, test_size=0.99)\n",
    "# print(X_train_1.shape) # (600, 28,28)\n",
    "# print(X_val.shape) # (59400, 28,28)\n",
    "#Xにaxis1にchanelを追加する\n",
    "\n",
    "X_train_0 = X_train_0[:, np.newaxis, :, :]\n",
    "X_val_0 = X_val_0[:, np.newaxis, :, :]\n",
    "\n",
    "print(X_train_0.shape) # (600, 28,28,1)\n",
    "print(X_val_0.shape) # (59400, 28,28,1)\n",
    "print(y_train_0.shape) # (600, 10)\n",
    "print(y_val_0.shape) # (59400, 10)"
   ]
  },
  {
   "cell_type": "code",
   "execution_count": 9,
   "metadata": {},
   "outputs": [
    {
     "name": "stdout",
     "output_type": "stream",
     "text": [
      "(600, 28, 28, 1)\n",
      "(59400, 28, 28, 1)\n",
      "(600, 10)\n",
      "(59400, 10)\n"
     ]
    }
   ],
   "source": [
    "#NHWC(n_samples, height, width, n_channels)：不採用\n",
    "\n",
    "X_train_1, X_val, y_train_1, y_val = train_test_split(X_train, y_train_one_hot, test_size=0.99)\n",
    "# print(X_train_1.shape) # (600, 28,28)\n",
    "# print(X_val.shape) # (59400, 28,28)\n",
    "#Xにchanelを追加するためreshape\n",
    "\n",
    "X_train_1 = X_train_1.reshape(X_train_1.shape[0],X_train_1.shape[1],X_train_1.shape[2],1)\n",
    "X_val = X_val.reshape(X_val.shape[0],X_val.shape[1],X_val.shape[2],1)\n",
    "\n",
    "print(X_train_1.shape) # (600, 28,28,1)\n",
    "print(X_val.shape) # (59400, 28,28,1)\n",
    "print(y_train_1.shape) # (600, 10)\n",
    "print(y_val.shape) # (59400, 10)"
   ]
  },
  {
   "cell_type": "markdown",
   "metadata": {},
   "source": [
    "# 【問題2】2次元畳み込み後の出力サイズ"
   ]
  },
  {
   "cell_type": "markdown",
   "metadata": {},
   "source": [
    "$$N_{h,out} =  \\frac{N_{h,in}+2P_{h}-F_{h}}{S_{h}} + 1$$\n",
    "$$N_{w,out} =  \\frac{N_{w,in}+2P_{w}-F_{w}}{S_{w}} + 1$$"
   ]
  },
  {
   "cell_type": "code",
   "execution_count": 10,
   "metadata": {},
   "outputs": [],
   "source": [
    "def Nh_out(Nh_in,Ph=0,Fh=3,Sh=1):\n",
    "    Nh_out = (Nh_in + 2*Ph - Fh)/Sh + 1\n",
    "    return int(Nh_out)"
   ]
  },
  {
   "cell_type": "code",
   "execution_count": 11,
   "metadata": {},
   "outputs": [
    {
     "name": "stdout",
     "output_type": "stream",
     "text": [
      "26\n"
     ]
    }
   ],
   "source": [
    "print(Nh_out(28))"
   ]
  },
  {
   "cell_type": "code",
   "execution_count": 12,
   "metadata": {},
   "outputs": [],
   "source": [
    "def Nw_out(Nw_in,Pw=0,Fw=3,Sw=1):\n",
    "    Nw_out = (Nw_in + 2*Pw - Fw)/Sw + 1\n",
    "    return int(Nw_out)"
   ]
  },
  {
   "cell_type": "code",
   "execution_count": 13,
   "metadata": {},
   "outputs": [
    {
     "name": "stdout",
     "output_type": "stream",
     "text": [
      "26\n"
     ]
    }
   ],
   "source": [
    "print(Nw_out(28))"
   ]
  },
  {
   "cell_type": "markdown",
   "metadata": {},
   "source": [
    "# 【問題3】最大プーリング層の作成"
   ]
  },
  {
   "cell_type": "code",
   "execution_count": 14,
   "metadata": {},
   "outputs": [],
   "source": [
    "#入力はNHWC(n_samples, height, width, n_channels)\n",
    "def MaxPool2D(A):\n",
    "    sample = A.shape[0]\n",
    "    chanel = A.shape[1]\n",
    "    height = A.shape[2]\n",
    "    width = A.shape[3]\n",
    "    Z_index = np.zeros([sample,chanel,height,width])\n",
    "    Z = np.zeros([sample,chanel,int(height/2),int(width/2)])\n",
    "#     print(Z.shape)\n",
    "    \n",
    "    for h in range(sample):#サンプルを設定\n",
    "        for k in range(chanel):#チャネルを設定\n",
    "            for i in range(0, int(height/2), 1):#高さを設定\n",
    "                for j in range(0, int(width/2), 1):#幅を設定\n",
    "                        Z0 = A[h,k,i*2:i*2 + 2,j*2:j*2 + 2]\n",
    "                        Z[h,k,i,j] = np.nanmax(Z0)\n",
    "                        a = Z0/np.nanmax(Z0)#最大値が１の行列\n",
    "                        Z_index[h,k,i*2:i*2 + 2,j*2:j*2 + 2] += (np.where(a==1,1,0))\n",
    "\n",
    "    return Z, Z_index"
   ]
  },
  {
   "cell_type": "code",
   "execution_count": 15,
   "metadata": {},
   "outputs": [],
   "source": [
    "test = np.array([1,3,2,9,7,4,1,5,8,5,2,3,4,2,1,4]).reshape(1,1,4,4)"
   ]
  },
  {
   "cell_type": "code",
   "execution_count": 16,
   "metadata": {},
   "outputs": [
    {
     "data": {
      "text/plain": [
       "array([[[[1, 3, 2, 9],\n",
       "         [7, 4, 1, 5],\n",
       "         [8, 5, 2, 3],\n",
       "         [4, 2, 1, 4]]]])"
      ]
     },
     "execution_count": 16,
     "metadata": {},
     "output_type": "execute_result"
    }
   ],
   "source": [
    "test"
   ]
  },
  {
   "cell_type": "code",
   "execution_count": 17,
   "metadata": {},
   "outputs": [
    {
     "data": {
      "text/plain": [
       "(array([[[[7., 9.],\n",
       "          [8., 4.]]]]), array([[[[0., 0., 0., 1.],\n",
       "          [1., 0., 0., 0.],\n",
       "          [1., 0., 0., 0.],\n",
       "          [0., 0., 0., 1.]]]]))"
      ]
     },
     "execution_count": 17,
     "metadata": {},
     "output_type": "execute_result"
    }
   ],
   "source": [
    "MaxPool2D(test)"
   ]
  },
  {
   "cell_type": "code",
   "execution_count": 18,
   "metadata": {},
   "outputs": [
    {
     "name": "stdout",
     "output_type": "stream",
     "text": [
      "[[[[0. 0. 0. 1.]\n",
      "   [1. 0. 0. 0.]\n",
      "   [1. 0. 0. 0.]\n",
      "   [0. 0. 0. 1.]]]]\n"
     ]
    }
   ],
   "source": [
    "Z,Z_index = MaxPool2D(test)\n",
    "print(Z_index)"
   ]
  },
  {
   "cell_type": "markdown",
   "metadata": {},
   "source": [
    "# 【問題1】2次元畳み込み層の作成"
   ]
  },
  {
   "cell_type": "markdown",
   "metadata": {},
   "source": [
    "1次元畳み込み層のクラスConv1dを発展させ、2次元畳み込み層のクラスConv2dを作成してください。<br>\n",
    "フォワードプロパゲーションの数式は以下のようになります。<br>"
   ]
  },
  {
   "cell_type": "markdown",
   "metadata": {},
   "source": [
    "$$a_{i,j,m} = \\sum_{k=0}^{K-1}\\sum_{s=0}^{F_{h}-1}\\sum_{t=0}^{F_{w}-1}x_{(i+s),(j+t),k}w_{s,t,k,m}+b_{m}$$"
   ]
  },
  {
   "cell_type": "code",
   "execution_count": 19,
   "metadata": {},
   "outputs": [
    {
     "name": "stdout",
     "output_type": "stream",
     "text": [
      "[[[[1 1]\n",
      "   [1 1]]]\n",
      "\n",
      "\n",
      " [[[2 2]\n",
      "   [2 2]]]]\n"
     ]
    }
   ],
   "source": [
    "#テスト用のフィルター(Nout=2,Nin=1,h=2,w=2)\n",
    "W0 = np.array([1,1,1,1,2,2,2,2]).reshape(2,1,2,2)\n",
    "print(W0)"
   ]
  },
  {
   "cell_type": "code",
   "execution_count": 20,
   "metadata": {},
   "outputs": [
    {
     "name": "stdout",
     "output_type": "stream",
     "text": [
      "[1 2]\n"
     ]
    }
   ],
   "source": [
    "#テスト用のバイアス(Nout=2)\n",
    "B0 = np.array([1,2]).reshape(2)\n",
    "print(B0)"
   ]
  },
  {
   "cell_type": "code",
   "execution_count": 330,
   "metadata": {},
   "outputs": [],
   "source": [
    "#フォワードプロパゲーションのテスト\n",
    "def forward(X,W,B):\n",
    "    sample = X.shape[0]\n",
    "    chanel = X.shape[1]\n",
    "    height = X.shape[2]\n",
    "    width = X.shape[3]\n",
    "    \n",
    "    c_out = W.shape[0]\n",
    "    c_in = W.shape[1]\n",
    "    w_height = W.shape[2]\n",
    "    w_width = W.shape[3]\n",
    "    \n",
    "    h_out = Nh_out(Nh_in=height,Ph=0,Fh=2,Sh=1)\n",
    "    w_out = Nw_out(Nw_in=width,Pw=0,Fw=2,Sw=1)\n",
    "    \n",
    "    A0_list = np.zeros([sample,c_out,c_in,h_out,w_out])\n",
    "#     A_list = []\n",
    "#     print(h_out)\n",
    "#     print(w_out)\n",
    "    \n",
    "    # X*Wの計算\n",
    "    for h in range(sample):#サンプルを設定\n",
    "        for k in range(chanel):#チャネルを設定\n",
    "            for i in range(0, h_out, 1):#高さを設定\n",
    "                for j in range(0, w_out, 1):#幅を設定\n",
    "                    A0 = X[h,k,i:i + w_height,j:j + w_width]#Xの中の要素を抽出\n",
    "#                     print(A0)\n",
    "                    for l in range(c_out):#フィルターの出力チャネルを設定\n",
    "                        for m in range(c_in):#フィルターの入力チャネルを設定\n",
    "                            A0_list[h,l,m,i,j] = (A0*W[l,m]).sum()\n",
    "\n",
    "    A0_list = A0_list.sum(axis=2)#入力チャネル方向にSUM\n",
    "    # +Bの計算\n",
    "    for n in range(sample):#サンプルを設定\n",
    "        for o in range(c_out):#フィルターの出力チャネルを設定\n",
    "            print(A0_list[n,o,:,:].shape)\n",
    "            print(B[o])\n",
    "            A0_list[n,o,:,:] += B[o]\n",
    "    \n",
    "    return A0_list# A0_list([サンプル数,チャネル,高さ,幅])"
   ]
  },
  {
   "cell_type": "code",
   "execution_count": 331,
   "metadata": {},
   "outputs": [
    {
     "name": "stdout",
     "output_type": "stream",
     "text": [
      "(2, 2)\n",
      "1\n",
      "(2, 2)\n",
      "1\n",
      "(2, 2)\n",
      "1\n",
      "(2, 2)\n",
      "1\n",
      "(2, 2)\n",
      "1\n",
      "(2, 2)\n",
      "1\n",
      "(2, 2)\n",
      "1\n",
      "(2, 2)\n",
      "1\n"
     ]
    }
   ],
   "source": [
    "list_g = forward(X4,W4,np.array([1,1,1,1]))"
   ]
  },
  {
   "cell_type": "code",
   "execution_count": 329,
   "metadata": {},
   "outputs": [
    {
     "data": {
      "text/plain": [
       "1"
      ]
     },
     "execution_count": 329,
     "metadata": {},
     "output_type": "execute_result"
    }
   ],
   "source": [
    "np.array([1,1,1,1])[3]"
   ]
  },
  {
   "cell_type": "code",
   "execution_count": 22,
   "metadata": {},
   "outputs": [],
   "source": [
    "list_a = forward(test,W0,B0)"
   ]
  },
  {
   "cell_type": "code",
   "execution_count": 23,
   "metadata": {},
   "outputs": [
    {
     "data": {
      "text/plain": [
       "array([[[[16., 11., 18.],\n",
       "         [25., 13., 12.],\n",
       "         [20., 11., 11.]],\n",
       "\n",
       "        [[32., 22., 36.],\n",
       "         [50., 26., 24.],\n",
       "         [40., 22., 22.]]]])"
      ]
     },
     "execution_count": 23,
     "metadata": {},
     "output_type": "execute_result"
    }
   ],
   "source": [
    "list_a"
   ]
  },
  {
   "cell_type": "code",
   "execution_count": 24,
   "metadata": {},
   "outputs": [
    {
     "name": "stdout",
     "output_type": "stream",
     "text": [
      "[[[[ 0  1  2  3  4]\n",
      "   [ 5  6  7  8  9]\n",
      "   [10 11 12 13 14]\n",
      "   [15 16 17 18 19]\n",
      "   [20 21 22 23 24]]]]\n"
     ]
    }
   ],
   "source": [
    "#MAX POOL用テストデータ\n",
    "test_pool = np.array(range(25)).reshape(1,1,5,5)\n",
    "print(test_pool)"
   ]
  },
  {
   "cell_type": "code",
   "execution_count": 25,
   "metadata": {},
   "outputs": [],
   "source": [
    "list_b = forward(test_pool,W0,B0)"
   ]
  },
  {
   "cell_type": "code",
   "execution_count": 26,
   "metadata": {},
   "outputs": [
    {
     "data": {
      "text/plain": [
       "array([[[[ 13.,  17.,  21.,  25.],\n",
       "         [ 33.,  37.,  41.,  45.],\n",
       "         [ 53.,  57.,  61.,  65.],\n",
       "         [ 73.,  77.,  81.,  85.]],\n",
       "\n",
       "        [[ 26.,  34.,  42.,  50.],\n",
       "         [ 66.,  74.,  82.,  90.],\n",
       "         [106., 114., 122., 130.],\n",
       "         [146., 154., 162., 170.]]]])"
      ]
     },
     "execution_count": 26,
     "metadata": {},
     "output_type": "execute_result"
    }
   ],
   "source": [
    "list_b"
   ]
  },
  {
   "cell_type": "code",
   "execution_count": 27,
   "metadata": {},
   "outputs": [
    {
     "data": {
      "text/plain": [
       "(array([[[[ 37.,  45.],\n",
       "          [ 77.,  85.]],\n",
       " \n",
       "         [[ 74.,  90.],\n",
       "          [154., 170.]]]]), array([[[[0., 0., 0., 0.],\n",
       "          [0., 1., 0., 1.],\n",
       "          [0., 0., 0., 0.],\n",
       "          [0., 1., 0., 1.]],\n",
       " \n",
       "         [[0., 0., 0., 0.],\n",
       "          [0., 1., 0., 1.],\n",
       "          [0., 0., 0., 0.],\n",
       "          [0., 1., 0., 1.]]]]))"
      ]
     },
     "execution_count": 27,
     "metadata": {},
     "output_type": "execute_result"
    }
   ],
   "source": [
    "MaxPool2D(list_b)#Zの出力結果"
   ]
  },
  {
   "cell_type": "code",
   "execution_count": 28,
   "metadata": {},
   "outputs": [],
   "source": [
    "def Nh_in(Nh_out,Ph=0,Fh=2,Sh=1):\n",
    "    Nh_in = (Nh_out -1)*Sh -2*Ph + Fh\n",
    "    return int(Nh_in)"
   ]
  },
  {
   "cell_type": "code",
   "execution_count": 50,
   "metadata": {},
   "outputs": [
    {
     "name": "stdout",
     "output_type": "stream",
     "text": [
      "5\n"
     ]
    }
   ],
   "source": [
    "print(Nh_in(4))"
   ]
  },
  {
   "cell_type": "code",
   "execution_count": 30,
   "metadata": {},
   "outputs": [],
   "source": [
    "def Nw_in(Nw_out,Pw=0,Fw=2,Sw=1):\n",
    "    Nw_in = (Nw_out -1)*Sw -2*Pw + Fw\n",
    "    return int(Nw_in)"
   ]
  },
  {
   "cell_type": "code",
   "execution_count": 31,
   "metadata": {},
   "outputs": [
    {
     "name": "stdout",
     "output_type": "stream",
     "text": [
      "5\n"
     ]
    }
   ],
   "source": [
    "print(Nw_in(4))"
   ]
  },
  {
   "cell_type": "code",
   "execution_count": 32,
   "metadata": {},
   "outputs": [
    {
     "name": "stdout",
     "output_type": "stream",
     "text": [
      "[[[[ 0  1  2  3]\n",
      "   [ 4  5  6  7]\n",
      "   [ 8  9 10 11]\n",
      "   [12 13 14 15]]\n",
      "\n",
      "  [[16 17 18 19]\n",
      "   [20 21 22 23]\n",
      "   [24 25 26 27]\n",
      "   [28 29 30 31]]]]\n"
     ]
    }
   ],
   "source": [
    "#バックプロパゲーション用テストデータ\n",
    "dA_test1 = np.array([range(32)]).reshape(1,2,4,4)\n",
    "print(dA_test1)"
   ]
  },
  {
   "cell_type": "code",
   "execution_count": 33,
   "metadata": {},
   "outputs": [
    {
     "name": "stdout",
     "output_type": "stream",
     "text": [
      "[[[[0 1]\n",
      "   [2 3]]\n",
      "\n",
      "  [[4 5]\n",
      "   [6 7]]]]\n"
     ]
    }
   ],
   "source": [
    "#バックプロパゲーション用テストデータ\n",
    "dA_test2 = np.array([range(8)]).reshape(1,2,2,2)\n",
    "print(dA_test2)"
   ]
  },
  {
   "cell_type": "code",
   "execution_count": 34,
   "metadata": {},
   "outputs": [],
   "source": [
    "Z_index_test1 = np.concatenate([Z_index, Z_index], 1)"
   ]
  },
  {
   "cell_type": "code",
   "execution_count": 35,
   "metadata": {},
   "outputs": [
    {
     "data": {
      "text/plain": [
       "(1, 2, 4, 4)"
      ]
     },
     "execution_count": 35,
     "metadata": {},
     "output_type": "execute_result"
    }
   ],
   "source": [
    "Z_index_test1.shape"
   ]
  },
  {
   "cell_type": "code",
   "execution_count": 37,
   "metadata": {},
   "outputs": [
    {
     "name": "stdout",
     "output_type": "stream",
     "text": [
      "[[[[0 1 0]\n",
      "   [1 1 0]\n",
      "   [0 1 1]]\n",
      "\n",
      "  [[0 0 0]\n",
      "   [1 0 0]\n",
      "   [1 0 1]]]]\n"
     ]
    }
   ],
   "source": [
    "Z_index_test2 = np.array([0,1,0,1,1,0,0,1,1,0,0,0,1,0,0,1,0,1]).reshape(1,2,3,3)\n",
    "print(Z_index_test2)"
   ]
  },
  {
   "cell_type": "code",
   "execution_count": 207,
   "metadata": {},
   "outputs": [],
   "source": [
    "#バックプロパゲーションのテスト\n",
    "def backward(dA,Z_index,X,W):#dB,dW\n",
    "    sample = dA.shape[0]\n",
    "    chanel = dA.shape[1]\n",
    "    height = dA.shape[2]\n",
    "    width = dA.shape[3]  \n",
    "    \n",
    "    c_out = W.shape[0]\n",
    "    c_in = W.shape[1]\n",
    "    w_height = W.shape[2]\n",
    "    w_width = W.shape[3]\n",
    "    \n",
    "    dW = np.zeros([sample,c_out,c_in,w_height,w_width])\n",
    "\n",
    "    Z_height = Z_index.shape[2]\n",
    "    Z_width = Z_index.shape[3]\n",
    "\n",
    "    h_in = Nh_in(Nh_out=height*2,Ph=0,Fh=2,Sh=1)\n",
    "    w_in = Nw_in(Nw_out=width*2,Pw=0,Fw=2,Sw=1)\n",
    "\n",
    "    #Z_index(サンプル,チャネル,高さ,幅）\n",
    "    \n",
    "    dB = np.zeros([sample,chanel])\n",
    "    \n",
    "    \n",
    "    dZ_box = np.zeros([sample,c_out,c_in,height,width,Z_height,Z_width])#(1,4,2,2,2,4,4)\n",
    "#     dZ_box = np.zeros([sample,chanel,height,width,Z_height,Z_width])#(1,2,2,2,4,4)\n",
    "    dZ = np.zeros([sample,c_out,c_in,h_in,w_in])\n",
    "#     print(dW.shape)\n",
    "#     print(dB)\n",
    "#     print(dW_box.shape)\n",
    "    #dBの計算\n",
    "    for q in range(sample):#サンプルを設定\n",
    "        for i in range(chanel):#チャネルを設定\n",
    "            dB[q,i] = np.sum(dA[q,i,:,:])\n",
    "\n",
    "    #dWの計算        \n",
    "    for r in range(sample):#サンプルを設定\n",
    "        for s in range(c_out):#出力のチャネルを設定 \n",
    "            for v in range(c_in):#入力のチャネルを設定\n",
    "                for t in range(height):#高さを設定\n",
    "                    for u in range(width):#幅を設定  \n",
    "                        dW[r,s,v] += dA[r,s,t,u]*X[r,v,t:t + w_height,u:u + w_width]*Z_index[r,s]\n",
    "#     print(dW)\n",
    "\n",
    "    #dZの計算\n",
    "    for h in range(sample):#サンプルを設定\n",
    "        for j in range(c_out):#出力のチャネルを設定 \n",
    "            for w in range(c_in):#入力のチャネルを設定\n",
    "                for k in range(height):#高さを設定\n",
    "                    for l in range(width):#幅を設定\n",
    "    #                     print(dA[h,j,k,l])\n",
    "    #                     print(Z_index[h,j])\n",
    "    #                     print(dA[h,j,k,l]*Z_index[h,j])\n",
    "                        dZ_box[h,j,w,k,l] = dA[h,j,k,l]*W[j,k]\n",
    "#                         dZ_box[h,j,w,k,l] = dA[h,j,k,l]*Z_index[h,j]\n",
    "    \n",
    "    for o in range(sample):#サンプルを設定\n",
    "        for p in range(c_out):#出力チャネルを設定\n",
    "            for x in range(c_in):#入力チャネルを設定\n",
    "                for m in range(height):#高さを設定\n",
    "                    for n in range(width):#幅を設定\n",
    "                        dZ[o,p,x,m:m+4,n:n+4] += dZ_box[o,p,x,m,n]\n",
    "    dZ = dZ.sum(axis=1)#出力チャネルでSUM\n",
    "     \n",
    "#     print(dW.shape)\n",
    "#     print(dW[0,4,4])\n",
    "    return dB, dW, dZ"
   ]
  },
  {
   "cell_type": "code",
   "execution_count": 210,
   "metadata": {},
   "outputs": [],
   "source": [
    "X = np.random.randint(0, 10, (2,1,5, 5))"
   ]
  },
  {
   "cell_type": "code",
   "execution_count": 212,
   "metadata": {},
   "outputs": [],
   "source": [
    "W1 = np.array([1,1,1,1,2,2,2,2,1,1,1,1,2,2,2,2,3,3,3,3,2,2,2,2,3,3,3,3,2,2,2,2]).reshape(2,1,4,4)"
   ]
  },
  {
   "cell_type": "code",
   "execution_count": 215,
   "metadata": {},
   "outputs": [
    {
     "data": {
      "text/plain": [
       "(1, 4, 2, 2)"
      ]
     },
     "execution_count": 215,
     "metadata": {},
     "output_type": "execute_result"
    }
   ],
   "source": [
    "#バックワードテスト用データdA（サンプル:1、出力チャネル:4、高さ:2、幅:2）\n",
    "dA_test3 = np.concatenate([dA_test2, dA_test2], 1)\n",
    "dA_test3.shape"
   ]
  },
  {
   "cell_type": "code",
   "execution_count": 216,
   "metadata": {},
   "outputs": [
    {
     "data": {
      "text/plain": [
       "(1, 4, 4, 4)"
      ]
     },
     "execution_count": 216,
     "metadata": {},
     "output_type": "execute_result"
    }
   ],
   "source": [
    "#バックワードテスト用データZインデック（MAXPOOL時のフィルタ）（サンプル:1、出力チャネル:4、高さ:4、幅:4）\n",
    "Z_index_test3 = np.concatenate([Z_index_test1, Z_index_test1], 1)\n",
    "Z_index_test3.shape"
   ]
  },
  {
   "cell_type": "code",
   "execution_count": 217,
   "metadata": {},
   "outputs": [
    {
     "data": {
      "text/plain": [
       "(1, 2, 5, 5)"
      ]
     },
     "execution_count": 217,
     "metadata": {},
     "output_type": "execute_result"
    }
   ],
   "source": [
    "#バックワードテスト用データX（サンプル:1、チャネル:2、高さ:5、幅:5)\n",
    "X3 = np.random.randint(0, 10, (1,2,5, 5))\n",
    "X3.shape"
   ]
  },
  {
   "cell_type": "code",
   "execution_count": 218,
   "metadata": {},
   "outputs": [
    {
     "data": {
      "text/plain": [
       "(4, 2, 4, 4)"
      ]
     },
     "execution_count": 218,
     "metadata": {},
     "output_type": "execute_result"
    }
   ],
   "source": [
    "#バックワードテスト用データW（出力チャネル:4、入力チャネル:2、高さ:4、幅:4)\n",
    "W3 = np.concatenate([W1, W1], 0)\n",
    "W3 = np.concatenate([W3, W3], 1)\n",
    "W3.shape"
   ]
  },
  {
   "cell_type": "code",
   "execution_count": 230,
   "metadata": {},
   "outputs": [],
   "source": [
    "dB3, dW3, dZ3 = backward(dA_test3,Z_index_test3,X3,W3)"
   ]
  },
  {
   "cell_type": "code",
   "execution_count": 231,
   "metadata": {},
   "outputs": [
    {
     "name": "stdout",
     "output_type": "stream",
     "text": [
      "(1, 4)\n",
      "(1, 4, 2, 4, 4)\n",
      "(1, 2, 5, 5)\n"
     ]
    }
   ],
   "source": [
    "print(dB3.shape)# (サンプル:1、出力チャネル:4)\n",
    "print(dW3.shape)# (サンプル:1、出力チャネル:4、入力チャネル:2、フィルタ高さ:4、フィルタ幅:4)\n",
    "print(dZ3.shape)# (サンプル:1、入力チャネル:2、入力特徴量の高さ:5、入力特徴量の幅:5)\n",
    "# print(dB3)\n",
    "# print(dW3)\n",
    "# print(dZ3)"
   ]
  },
  {
   "cell_type": "code",
   "execution_count": 223,
   "metadata": {},
   "outputs": [
    {
     "data": {
      "text/plain": [
       "(2, 4, 2, 2)"
      ]
     },
     "execution_count": 223,
     "metadata": {},
     "output_type": "execute_result"
    }
   ],
   "source": [
    "#バックワードテスト用データdA（サンプル:2、出力チャネル:4、高さ:2、幅:2）\n",
    "dA_test4 = np.concatenate([dA_test3, dA_test3], 0)\n",
    "dA_test4.shape"
   ]
  },
  {
   "cell_type": "code",
   "execution_count": 224,
   "metadata": {},
   "outputs": [
    {
     "data": {
      "text/plain": [
       "(2, 4, 4, 4)"
      ]
     },
     "execution_count": 224,
     "metadata": {},
     "output_type": "execute_result"
    }
   ],
   "source": [
    "#バックワードテスト用データZインデック（MAXPOOL時のフィルタ）（サンプル:2、出力チャネル:4、高さ:4、幅:4）\n",
    "Z_index_test4 = np.concatenate([Z_index_test3, Z_index_test3], 0)\n",
    "Z_index_test4.shape"
   ]
  },
  {
   "cell_type": "code",
   "execution_count": 227,
   "metadata": {},
   "outputs": [
    {
     "data": {
      "text/plain": [
       "(2, 2, 5, 5)"
      ]
     },
     "execution_count": 227,
     "metadata": {},
     "output_type": "execute_result"
    }
   ],
   "source": [
    "#バックワードテスト用データX（サンプル:2、チャネル:2、高さ:5、幅:5)\n",
    "X4 = np.concatenate([X3, X3], 0)\n",
    "X4.shape"
   ]
  },
  {
   "cell_type": "code",
   "execution_count": 228,
   "metadata": {},
   "outputs": [
    {
     "data": {
      "text/plain": [
       "(4, 2, 4, 4)"
      ]
     },
     "execution_count": 228,
     "metadata": {},
     "output_type": "execute_result"
    }
   ],
   "source": [
    "#バックワードテスト用データW（出力チャネル:4、入力チャネル:2、高さ:4、幅:4)\n",
    "W4 = W3\n",
    "W4.shape"
   ]
  },
  {
   "cell_type": "code",
   "execution_count": 232,
   "metadata": {},
   "outputs": [],
   "source": [
    "dB4, dW4, dZ4 = backward(dA_test4,Z_index_test4,X4,W4)"
   ]
  },
  {
   "cell_type": "code",
   "execution_count": 233,
   "metadata": {},
   "outputs": [
    {
     "name": "stdout",
     "output_type": "stream",
     "text": [
      "(2, 4)\n",
      "(2, 4, 2, 4, 4)\n",
      "(2, 2, 5, 5)\n"
     ]
    }
   ],
   "source": [
    "print(dB4.shape)# (サンプル:2、出力チャネル:4)\n",
    "print(dW4.shape)# (サンプル:2、出力チャネル:4、入力チャネル:2、フィルタ高さ:4、フィルタ幅:4)\n",
    "print(dZ4.shape)# (サンプル:2、入力チャネル:2、入力特徴量の高さ:5、入力特徴量の幅:5)\n",
    "# print(dB4)\n",
    "# print(dW4)\n",
    "# print(dZ4)"
   ]
  },
  {
   "cell_type": "code",
   "execution_count": 255,
   "metadata": {},
   "outputs": [],
   "source": [
    "#conv2d用のイニシャライザー\n",
    "class ConV2d_Initializer:\n",
    "    \"\"\"\n",
    "    ガウス分布によるシンプルな初期化\n",
    "    Parameters\n",
    "    ----------\n",
    "    sigma : float\n",
    "      ガウス分布の標準偏差\n",
    "    \"\"\"\n",
    "    def __init__(self, sigma=1, in_cha=2, out_cha=4, F_size=4):\n",
    "        self.sigma = sigma\n",
    "        self.in_cha = in_cha\n",
    "        self.out_cha = out_cha\n",
    "        self.F_size = F_size\n",
    "        \n",
    "    def W(self):\n",
    "        W = np.random.randn(self.out_cha, self.in_cha, self.F_size, self.F_size)\n",
    "#         print(W.shape)\n",
    "        pass\n",
    "        return W\n",
    "    def B(self):\n",
    "        B = self.sigma * np.random.rand(self.out_cha)\n",
    "#         print(B.shape)\n",
    "        pass\n",
    "        return B"
   ]
  },
  {
   "cell_type": "code",
   "execution_count": 307,
   "metadata": {},
   "outputs": [
    {
     "name": "stdout",
     "output_type": "stream",
     "text": [
      "(4, 2, 4, 4)\n",
      "(4,)\n"
     ]
    }
   ],
   "source": [
    "cv2 = ConV2d_Initializer()\n",
    "print(cv2.W().shape)\n",
    "print(cv2.B().shape)"
   ]
  },
  {
   "cell_type": "code",
   "execution_count": 257,
   "metadata": {},
   "outputs": [],
   "source": [
    "#テスト用の最適化関数\n",
    "class SGD:\n",
    "    \"\"\"\n",
    "    確率的勾配降下法\n",
    "    Parameters\n",
    "    ----------\n",
    "    lr : 学習率\n",
    "    \"\"\"\n",
    "    def __init__(self, lr=0.001):\n",
    "        self.lr = lr\n",
    "    def update(self, layer):\n",
    "        layer.W = layer.W - self.lr*layer.dW\n",
    "        layer.B = layer.B - self.lr*layer.dB.mean(axis=0)\n",
    "        return layer"
   ]
  },
  {
   "cell_type": "code",
   "execution_count": 347,
   "metadata": {},
   "outputs": [],
   "source": [
    "#Conv2d のクラス化\n",
    "\n",
    "class Conv2d:\n",
    "\n",
    "    def __init__(self, Nh_in, Nw_in, initializer=ConV2d_Initializer(), optimizer=SGD,Ph=0,Fh=2,Sh=1,Pw=0,Fw=2,Sw=1):\n",
    "#     def __init__(self, N_in=2, B, initializer=ones_Initializer, optimizer=SGD, F=3,S=1,P=0):\n",
    "        self.initializer = initializer\n",
    "        self.optimizer = optimizer\n",
    "        \n",
    "        ini = self.initializer   \n",
    "        opt = self.optimizer\n",
    "        \n",
    "        #初期値を決める\n",
    "        # WとBを決定する\n",
    "        self.W = ini.W()\n",
    "        self.B = ini.B() \n",
    "        \n",
    "        self.h_in = Nh_in\n",
    "#         print(self.h_in)\n",
    "        self.Ph = Ph\n",
    "        self.Fh = Fh\n",
    "        self.Sh = Sh\n",
    "        self.w_in = Nw_in\n",
    "        self.Pw = Pw\n",
    "        self.Fw = Fw\n",
    "        self.Sw = Sw\n",
    "        self.Nh_out()\n",
    "#         print(self.h_out)\n",
    "        self.Nw_out()\n",
    "#         print(self.w_out)\n",
    " \n",
    "    def Nh_out(self,Ph=0,Fh=4,Sh=1):#Fh フィルターサイズて入力\n",
    "        self.h_out = int((self.h_in + 2*Ph - Fh)/Sh + 1)\n",
    "\n",
    "    def Nw_out(self,Pw=0,Fw=4,Sw=1):#Fw フィルターサイズて入力\n",
    "        self.w_out = int((self.w_in + 2*Pw - Fw)/Sw + 1)\n",
    "\n",
    "    def forward(self,X): # W,Bのデータをself.で引き出せるようにする\n",
    "        self.X = X\n",
    "        sample = X.shape[0]\n",
    "        chanel = X.shape[1]\n",
    "        height = X.shape[2]\n",
    "        width = X.shape[3]\n",
    "\n",
    "        c_out = self.W.shape[0]\n",
    "#         print(c_out)\n",
    "        c_in = self.W.shape[1]\n",
    "#         print(c_in)\n",
    "        w_height = self.W.shape[2]\n",
    "        w_width = self.W.shape[3]\n",
    "\n",
    "#         h_out = Nh_out(Nh_in=height,Ph=0,Fh=2,Sh=1)\n",
    "#         w_out = Nw_out(Nw_in=width,Pw=0,Fw=2,Sw=1)\n",
    "        A0_list = np.zeros([sample,c_out,c_in,self.h_out,self.w_out])\n",
    "    #     A_list = []\n",
    "    #     print(h_out)\n",
    "    #     print(w_out)\n",
    "#         print(A0_list.shape)\n",
    "\n",
    "        # X*Wの計算\n",
    "        for h in range(sample):#サンプルを設定\n",
    "            for k in range(chanel):#チャネルを設定\n",
    "                for i in range(0, self.h_out, 1):#高さを設定\n",
    "                    for j in range(0, self.w_out, 1):#幅を設定\n",
    "                        A0 = X[h,k,i:i + w_height,j:j + w_width]#Xの中の要素を抽出\n",
    "    #                     print(A0)\n",
    "                        for l in range(c_out):#フィルターの出力チャネルを設定\n",
    "                            for m in range(c_in):#フィルターの入力チャネルを設定\n",
    "                                A0_list[h,l,m,i,j] = (A0*self.W[l,m]).sum()\n",
    "\n",
    "        A0 = A0_list.sum(axis=2)#入力チャネル方向にSUM\n",
    "#         print(A0.shape)\n",
    "        # +Bの計算\n",
    "        for n in range(sample):#サンプルを設定\n",
    "            for o in range(c_out):#フィルターの出力チャネルを設定\n",
    "                A0[n,o,:,:] += self.B[o]\n",
    "\n",
    "        self.A = A0\n",
    "        return A0#([サンプル数,チャネル,高さ,幅])\n",
    "      \n",
    "    def backward(self,dA,Z_index): # Z_index,X,Wのデータをself.で引き出せるようにする\n",
    "        sample = dA.shape[0]\n",
    "        chanel = dA.shape[1]\n",
    "        height = dA.shape[2]\n",
    "        width = dA.shape[3]  \n",
    "\n",
    "        c_out = self.W.shape[0]\n",
    "#         print(c_out)\n",
    "        c_in = self.W.shape[1]\n",
    "#         print(c_in)\n",
    "        w_height = self.W.shape[2]\n",
    "        w_width = self.W.shape[3]\n",
    "\n",
    "        dW = np.zeros([sample,c_out,c_in,w_height,w_width])\n",
    "\n",
    "        Z_height = Z_index.shape[2]\n",
    "        Z_width = Z_index.shape[3]\n",
    "\n",
    "#         h_in = Nh_in(Nh_out=height*2,Ph=0,Fh=2,Sh=1)\n",
    "#         w_in = Nw_in(Nw_out=width*2,Pw=0,Fw=2,Sw=1)\n",
    "\n",
    "        #Z_index(サンプル,チャネル,高さ,幅）\n",
    "\n",
    "        dB = np.zeros([sample,chanel])\n",
    "\n",
    "\n",
    "        dZ_box = np.zeros([sample,c_out,c_in,height,width,Z_height,Z_width])#(1,4,2,2,2,4,4)\n",
    "    #     dZ_box = np.zeros([sample,chanel,height,width,Z_height,Z_width])#(1,2,2,2,4,4)\n",
    "        dZ = np.zeros([sample,c_out,c_in,self.h_in,self.w_in])\n",
    "    #     print(dW.shape)\n",
    "    #     print(dB)\n",
    "    #     print(dW_box.shape)\n",
    "        #dBの計算\n",
    "        for q in range(sample):#サンプルを設定\n",
    "            for i in range(chanel):#チャネルを設定\n",
    "                dB[q,i] = np.sum(dA[q,i,:,:])\n",
    "        self.dB = dB\n",
    "\n",
    "        #dWの計算        \n",
    "        for r in range(sample):#サンプルを設定\n",
    "            for s in range(c_out):#出力のチャネルを設定 \n",
    "                for v in range(c_in):#入力のチャネルを設定\n",
    "                    for t in range(height):#高さを設定\n",
    "                        for u in range(width):#幅を設定  \n",
    "                            dW[r,s,v] += dA[r,s,t,u]*self.X[r,v,t:t + w_height,u:u + w_width]*Z_index[r,s]\n",
    "        self.dW = dW\n",
    "\n",
    "        #dZの計算\n",
    "        for h in range(sample):#サンプルを設定\n",
    "            for j in range(c_out):#出力のチャネルを設定 \n",
    "                for w in range(c_in):#入力のチャネルを設定\n",
    "                    for k in range(height):#高さを設定\n",
    "                        for l in range(width):#幅を設定\n",
    "        #                     print(dA[h,j,k,l])\n",
    "        #                     print(Z_index[h,j])\n",
    "        #                     print(dA[h,j,k,l]*Z_index[h,j])\n",
    "                            dZ_box[h,j,w,k,l] = dA[h,j,k,l]*self.W[j,k]\n",
    "    #                         dZ_box[h,j,w,k,l] = dA[h,j,k,l]*Z_index[h,j]\n",
    "\n",
    "        for o in range(sample):#サンプルを設定\n",
    "            for p in range(c_out):#出力チャネルを設定\n",
    "                for x in range(c_in):#入力チャネルを設定\n",
    "                    for m in range(height):#高さを設定\n",
    "                        for n in range(width):#幅を設定\n",
    "                            dZ[o,p,x,m:m+4,n:n+4] += dZ_box[o,p,x,m,n]\n",
    "        dZ = dZ.sum(axis=1)#出力チャネルでSUM\n",
    "\n",
    "    #     print(dW.shape)\n",
    "    #     print(dW[0,4,4])\n",
    "    \n",
    "#         self.optimizer.update(self)\n",
    "        \n",
    "        return dZ\n"
   ]
  },
  {
   "cell_type": "code",
   "execution_count": 348,
   "metadata": {},
   "outputs": [],
   "source": [
    "cv2d = Conv2d(5,5)"
   ]
  },
  {
   "cell_type": "code",
   "execution_count": 349,
   "metadata": {},
   "outputs": [
    {
     "data": {
      "text/plain": [
       "(2, 2, 5, 5)"
      ]
     },
     "execution_count": 349,
     "metadata": {},
     "output_type": "execute_result"
    }
   ],
   "source": [
    "X4.shape"
   ]
  },
  {
   "cell_type": "code",
   "execution_count": 350,
   "metadata": {},
   "outputs": [
    {
     "data": {
      "text/plain": [
       "(2, 4, 2, 2)"
      ]
     },
     "execution_count": 350,
     "metadata": {},
     "output_type": "execute_result"
    }
   ],
   "source": [
    "(cv2d.forward(X4)).shape# dAのシェイプは（サンプル数：2,チャネル数：4,高さ：2,幅：2）　OK"
   ]
  },
  {
   "cell_type": "code",
   "execution_count": 354,
   "metadata": {},
   "outputs": [
    {
     "data": {
      "text/plain": [
       "(2, 2, 5, 5)"
      ]
     },
     "execution_count": 354,
     "metadata": {},
     "output_type": "execute_result"
    }
   ],
   "source": [
    "(cv2d.backward(dA_test4,Z_index_test4)).shape # dZのシェイプは（サンプル数：2,チャネル数：2,高さ：5,幅：5）　OK"
   ]
  },
  {
   "cell_type": "markdown",
   "metadata": {},
   "source": [
    "# 【問題5】平滑化"
   ]
  },
  {
   "cell_type": "code",
   "execution_count": 405,
   "metadata": {},
   "outputs": [],
   "source": [
    "class Flatten:\n",
    "    def __init__(self):\n",
    "        \n",
    "        pass\n",
    "    def forward(self,X):\n",
    "        self.X = X\n",
    "        self.figure = X.shape\n",
    "        \n",
    "        X_F = X.reshape(X.shape[0],-1)\n",
    "        self.X_F = X_F\n",
    "        return X_F\n",
    "    \n",
    "    def backward(self,dA_F):\n",
    "        self.dA_F = dA_F\n",
    "        dA = dA_F.reshape(self.figure)\n",
    "#         print(dA)\n",
    "        return dA"
   ]
  },
  {
   "cell_type": "code",
   "execution_count": 406,
   "metadata": {},
   "outputs": [],
   "source": [
    "ft = Flatten()"
   ]
  },
  {
   "cell_type": "code",
   "execution_count": 407,
   "metadata": {},
   "outputs": [
    {
     "data": {
      "text/plain": [
       "(2, 50)"
      ]
     },
     "execution_count": 407,
     "metadata": {},
     "output_type": "execute_result"
    }
   ],
   "source": [
    "X_F = ft.forward(X4)#X4(サンプル数：2,2,5,5)の平滑化　OK\n",
    "X_F.shape"
   ]
  },
  {
   "cell_type": "code",
   "execution_count": 408,
   "metadata": {},
   "outputs": [
    {
     "data": {
      "text/plain": [
       "(2, 2, 5, 5)"
      ]
     },
     "execution_count": 408,
     "metadata": {},
     "output_type": "execute_result"
    }
   ],
   "source": [
    "dA = ft.backward(X_F)#X4(2,2,5,5)の平滑化もどし　OK\n",
    "dA.shape"
   ]
  },
  {
   "cell_type": "markdown",
   "metadata": {},
   "source": [
    "# 【問題6】学習と推定"
   ]
  },
  {
   "cell_type": "code",
   "execution_count": 383,
   "metadata": {},
   "outputs": [],
   "source": [
    "class SimpleInitializer:\n",
    "    \"\"\"\n",
    "    ガウス分布によるシンプルな初期化\n",
    "    Parameters\n",
    "    ----------\n",
    "    sigma : float\n",
    "      ガウス分布の標準偏差\n",
    "    \"\"\"\n",
    "    def __init__(self, sigma=0.005):\n",
    "        self.sigma = sigma\n",
    "        \n",
    "    def W(self, n_nodes1, n_nodes2):\n",
    "        W = self.sigma * np.random.randn(n_nodes1, n_nodes2)\n",
    "        pass\n",
    "        return W\n",
    "    \n",
    "    def B(self, n_nodes2):\n",
    "        B = self.sigma * np.random.rand(n_nodes2)\n",
    "        pass\n",
    "        return B"
   ]
  },
  {
   "cell_type": "code",
   "execution_count": 386,
   "metadata": {},
   "outputs": [],
   "source": [
    "class FC:\n",
    "    \"\"\"\n",
    "    ノード数n_nodes1からn_nodes2への全結合層\n",
    "    Parameters\n",
    "    ----------\n",
    "    n_nodes1 : int\n",
    "      前の層のノード数\n",
    "    n_nodes2 : int\n",
    "      後の層のノード数\n",
    "    initializer : 初期化方法のインスタンス\n",
    "    optimizer : 最適化手法のインスタンス\n",
    "    \"\"\"\n",
    "    \n",
    "    def __init__(self, n_nodes1, n_nodes2, initializer=SimpleInitializer, optimizer=SGD):\n",
    "        self.initializer = SimpleInitializer\n",
    "        self.optimizer = optimizer\n",
    "        self.n_nodes1 = n_nodes1\n",
    "        self.n_nodes2 = n_nodes2\n",
    "        \n",
    "        ini = self.initializer()\n",
    "        #初期値を決める\n",
    "        # WとBを決定する\n",
    "        self.W = ini.W(self.n_nodes1,self.n_nodes2)\n",
    "        self.B = ini.B(self.n_nodes2)        \n",
    "        \n",
    "        opt = self.optimizer\n",
    "        #最適化処理をインスタンス化\n",
    "        \n",
    "        pass\n",
    "    def forward(self, Z):\n",
    "        self.Z = Z\n",
    "        A = self.Z@self.W + self.B\n",
    "        self.A = A\n",
    "        \n",
    "        pass\n",
    "        return A\n",
    "    def backward(self, dA):\n",
    "        self.dA = dA\n",
    "        self.dB = self.dA.mean(axis=0)\n",
    "        self.dW = self.Z.T@self.dA\n",
    "        dZ = self.dA@self.W.T\n",
    "        \n",
    "        pass\n",
    "        # 更新\n",
    "        self.optimizer.update(self)\n",
    "        return dZ"
   ]
  },
  {
   "cell_type": "code",
   "execution_count": 389,
   "metadata": {},
   "outputs": [],
   "source": [
    "# タンジェントハイポ\n",
    "class tanh:\n",
    "    def __init__(self):\n",
    "        \n",
    "        pass\n",
    "    def forward(self, A):\n",
    "        self.A = A\n",
    "        Z = np.tanh(A)\n",
    "        self.Z = Z       \n",
    "        return Z        \n",
    "    def backward(self, dZ):\n",
    "        dA = dZ*(1-np.tanh(self.A)**2)\n",
    "    \n",
    "        return dA"
   ]
  },
  {
   "cell_type": "code",
   "execution_count": 392,
   "metadata": {},
   "outputs": [],
   "source": [
    "#ソフトマックス\n",
    "class softmax:\n",
    "    def __init__(self):\n",
    "        \n",
    "        pass\n",
    "    def forward(self, A):\n",
    "        Z = (np.exp(A).T/np.exp(A).sum(axis=1)).T\n",
    "         \n",
    "        return Z\n",
    "    def backward(self, Z, Y):\n",
    "        dA = Z - Y\n",
    "        \n",
    "        return dA"
   ]
  },
  {
   "cell_type": "code",
   "execution_count": 395,
   "metadata": {},
   "outputs": [],
   "source": [
    "# ミニバッチ\n",
    "class GetMiniBatch:\n",
    "    \"\"\"\n",
    "    ミニバッチを取得するイテレータ\n",
    "\n",
    "    Parameters\n",
    "    ----------\n",
    "    X : 次の形のndarray, shape (n_samples, n_features)\n",
    "      訓練データ\n",
    "    y : 次の形のndarray, shape (n_samples, 1)\n",
    "      正解値\n",
    "    batch_size : int\n",
    "      バッチサイズ\n",
    "    seed : int\n",
    "      NumPyの乱数のシード\n",
    "    \"\"\"\n",
    "    def __init__(self, X, y, batch_size = 20, seed=0):\n",
    "        self.batch_size = batch_size\n",
    "        np.random.seed(seed)\n",
    "        shuffle_index = np.random.permutation(np.arange(X.shape[0]))\n",
    "        self._X = X[shuffle_index]\n",
    "        self._y = y[shuffle_index]\n",
    "        self._stop = np.ceil(X.shape[0]/self.batch_size).astype(np.int)\n",
    "    def __len__(self):\n",
    "        return self._stop\n",
    "    def __getitem__(self,item):\n",
    "        p0 = item*self.batch_size\n",
    "        p1 = item*self.batch_size + self.batch_size\n",
    "        return self._X[p0:p1], self._y[p0:p1]        \n",
    "    def __iter__(self):\n",
    "        self._counter = 0\n",
    "        return self\n",
    "    def __next__(self):\n",
    "        if self._counter >= self._stop:\n",
    "            raise StopIteration()\n",
    "        p0 = self._counter*self.batch_size\n",
    "        p1 = self._counter*self.batch_size + self.batch_size\n",
    "        self._counter += 1\n",
    "        return self._X[p0:p1], self._y[p0:p1]"
   ]
  },
  {
   "cell_type": "code",
   "execution_count": 438,
   "metadata": {},
   "outputs": [],
   "source": [
    "#Conv2d のクラス化\n",
    "\n",
    "class Conv2d_test_pred:\n",
    "\n",
    "    def __init__(self, Nh_in, Nw_in, initializer=ConV2d_Initializer_pred_test(), optimizer=SGD,Ph=0,Fh=2,Sh=1,Pw=0,Fw=2,Sw=1):\n",
    "#     def __init__(self, N_in=2, B, initializer=ones_Initializer, optimizer=SGD, F=3,S=1,P=0):\n",
    "        self.initializer = initializer\n",
    "        self.optimizer = optimizer\n",
    "        \n",
    "        ini = self.initializer   \n",
    "        opt = self.optimizer\n",
    "        \n",
    "        #初期値を決める\n",
    "        # WとBを決定する\n",
    "        self.W = ini.W()\n",
    "        self.B = ini.B() \n",
    "        \n",
    "        self.h_in = Nh_in\n",
    "#         print(self.h_in)\n",
    "        self.Ph = Ph\n",
    "        self.Fh = Fh\n",
    "        self.Sh = Sh\n",
    "        self.w_in = Nw_in\n",
    "        self.Pw = Pw\n",
    "        self.Fw = Fw\n",
    "        self.Sw = Sw\n",
    "        self.Nh_out()\n",
    "#         print(self.h_out)\n",
    "        self.Nw_out()\n",
    "#         print(self.w_out)\n",
    " \n",
    "    def Nh_out(self,Ph=0,Fh=2,Sh=1):#Fh フィルターサイズて入力\n",
    "        self.h_out = int((self.h_in + 2*Ph - Fh)/Sh + 1)\n",
    "\n",
    "    def Nw_out(self,Pw=0,Fw=2,Sw=1):#Fw フィルターサイズて入力\n",
    "        self.w_out = int((self.w_in + 2*Pw - Fw)/Sw + 1)\n",
    "\n",
    "    def forward(self,X): # W,Bのデータをself.で引き出せるようにする\n",
    "        self.X = X\n",
    "        sample = X.shape[0]\n",
    "        chanel = X.shape[1]\n",
    "        height = X.shape[2]\n",
    "        width = X.shape[3]\n",
    "\n",
    "        c_out = self.W.shape[0]\n",
    "#         print(c_out)\n",
    "        c_in = self.W.shape[1]\n",
    "#         print(c_in)\n",
    "        w_height = self.W.shape[2]\n",
    "        w_width = self.W.shape[3]\n",
    "\n",
    "#         h_out = Nh_out(Nh_in=height,Ph=0,Fh=2,Sh=1)\n",
    "#         w_out = Nw_out(Nw_in=width,Pw=0,Fw=2,Sw=1)\n",
    "        A0_list = np.zeros([sample,c_out,c_in,self.h_out,self.w_out])\n",
    "    #     A_list = []\n",
    "    #     print(h_out)\n",
    "    #     print(w_out)\n",
    "#         print(A0_list.shape)\n",
    "\n",
    "        # X*Wの計算\n",
    "        for h in range(sample):#サンプルを設定\n",
    "            for k in range(chanel):#チャネルを設定\n",
    "                for i in range(0, self.h_out, 1):#高さを設定\n",
    "                    for j in range(0, self.w_out, 1):#幅を設定\n",
    "                        A0 = X[h,k,i:i + w_height,j:j + w_width]#Xの中の要素を抽出\n",
    "    #                     print(A0)\n",
    "                        for l in range(c_out):#フィルターの出力チャネルを設定\n",
    "                            for m in range(c_in):#フィルターの入力チャネルを設定\n",
    "                                A0_list[h,l,m,i,j] = (A0*self.W[l,m]).sum()\n",
    "\n",
    "        A0 = A0_list.sum(axis=2)#入力チャネル方向にSUM\n",
    "#         print(A0.shape)\n",
    "        # +Bの計算\n",
    "        for n in range(sample):#サンプルを設定\n",
    "            for o in range(c_out):#フィルターの出力チャネルを設定\n",
    "                A0[n,o,:,:] += self.B[o]\n",
    "\n",
    "        self.A = A0\n",
    "        return A0#([サンプル数,チャネル,高さ,幅])\n",
    "      \n",
    "    def backward(self,dA,M_index): # Z_index,X,Wのデータをself.で引き出せるようにする\n",
    "        sample = dA.shape[0]\n",
    "        chanel = dA.shape[1]\n",
    "        height = dA.shape[2]\n",
    "        width = dA.shape[3]  \n",
    "\n",
    "        c_out = self.W.shape[0]\n",
    "#         print(c_out)\n",
    "        c_in = self.W.shape[1]\n",
    "#         print(c_in)\n",
    "        w_height = self.W.shape[2]\n",
    "        w_width = self.W.shape[3]\n",
    "\n",
    "        dW = np.zeros([sample,c_out,c_in,w_height,w_width])\n",
    "\n",
    "        Z_height = Z_index.shape[2]\n",
    "        Z_width = Z_index.shape[3]\n",
    "\n",
    "#         h_in = Nh_in(Nh_out=height*2,Ph=0,Fh=2,Sh=1)\n",
    "#         w_in = Nw_in(Nw_out=width*2,Pw=0,Fw=2,Sw=1)\n",
    "\n",
    "        #Z_index(サンプル,チャネル,高さ,幅）\n",
    "\n",
    "        dB = np.zeros([sample,chanel])\n",
    "\n",
    "\n",
    "        dZ_box = np.zeros([sample,c_out,c_in,height,width,Z_height,Z_width])#(1,4,2,2,2,4,4)\n",
    "    #     dZ_box = np.zeros([sample,chanel,height,width,Z_height,Z_width])#(1,2,2,2,4,4)\n",
    "        dZ = np.zeros([sample,c_out,c_in,self.h_in,self.w_in])\n",
    "    #     print(dW.shape)\n",
    "    #     print(dB)\n",
    "    #     print(dW_box.shape)\n",
    "        #dBの計算\n",
    "        for q in range(sample):#サンプルを設定\n",
    "            for i in range(chanel):#チャネルを設定\n",
    "                dB[q,i] = np.sum(dA[q,i,:,:])\n",
    "        self.dB = dB\n",
    "\n",
    "        #dWの計算        \n",
    "        for r in range(sample):#サンプルを設定\n",
    "            for s in range(c_out):#出力のチャネルを設定 \n",
    "                for v in range(c_in):#入力のチャネルを設定\n",
    "                    for t in range(height):#高さを設定\n",
    "                        for u in range(width):#幅を設定  \n",
    "                            dW[r,s,v] += dA[r,s,t,u]*self.X[r,v,t:t + w_height,u:u + w_width]*Z_index[r,s]\n",
    "        self.dW = dW\n",
    "\n",
    "        #dZの計算\n",
    "        for h in range(sample):#サンプルを設定\n",
    "            for j in range(c_out):#出力のチャネルを設定 \n",
    "                for w in range(c_in):#入力のチャネルを設定\n",
    "                    for k in range(height):#高さを設定\n",
    "                        for l in range(width):#幅を設定\n",
    "        #                     print(dA[h,j,k,l])\n",
    "        #                     print(Z_index[h,j])\n",
    "        #                     print(dA[h,j,k,l]*Z_index[h,j])\n",
    "                            dZ_box[h,j,w,k,l] = dA[h,j,k,l]*self.W[j,k]\n",
    "    #                         dZ_box[h,j,w,k,l] = dA[h,j,k,l]*Z_index[h,j]\n",
    "\n",
    "        for o in range(sample):#サンプルを設定\n",
    "            for p in range(c_out):#出力チャネルを設定\n",
    "                for x in range(c_in):#入力チャネルを設定\n",
    "                    for m in range(height):#高さを設定\n",
    "                        for n in range(width):#幅を設定\n",
    "                            dZ[o,p,x,m:m+4,n:n+4] += dZ_box[o,p,x,m,n]\n",
    "        dZ = dZ.sum(axis=1)#出力チャネルでSUM\n",
    "\n",
    "    #     print(dW.shape)\n",
    "    #     print(dW[0,4,4])\n",
    "    \n",
    "#         self.optimizer.update(self)\n",
    "        \n",
    "        return dZ"
   ]
  },
  {
   "cell_type": "code",
   "execution_count": 439,
   "metadata": {},
   "outputs": [],
   "source": [
    "#conv2d用のイニシャライザー\n",
    "class ConV2d_Initializer_pred_test:\n",
    "    \"\"\"\n",
    "    ガウス分布によるシンプルな初期化\n",
    "    Parameters\n",
    "    ----------\n",
    "    sigma : float\n",
    "      ガウス分布の標準偏差\n",
    "    \"\"\"\n",
    "    def __init__(self, sigma=1, in_cha=1, out_cha=2, F_size=2):\n",
    "        self.sigma = sigma\n",
    "        self.in_cha = in_cha\n",
    "        self.out_cha = out_cha\n",
    "        self.F_size = F_size\n",
    "        \n",
    "    def W(self):\n",
    "        W = np.random.randn(self.out_cha, self.in_cha, self.F_size, self.F_size)\n",
    "#         print(W.shape)\n",
    "        pass\n",
    "        return W\n",
    "    def B(self):\n",
    "        B = self.sigma * np.random.rand(self.out_cha)\n",
    "#         print(B.shape)\n",
    "        pass\n",
    "        return B"
   ]
  },
  {
   "cell_type": "code",
   "execution_count": 440,
   "metadata": {},
   "outputs": [],
   "source": [
    "#入力はNHWC(n_samples, height, width, n_channels)\n",
    "class MaxPool2D:\n",
    "    def M(self,A):\n",
    "        sample = A.shape[0]\n",
    "        chanel = A.shape[1]\n",
    "        height = A.shape[2]\n",
    "        width = A.shape[3]\n",
    "        Z_index = np.zeros([sample,chanel,height,width])\n",
    "        Z = np.zeros([sample,chanel,int(height/2),int(width/2)])\n",
    "    #     print(Z.shape)\n",
    "\n",
    "        for h in range(sample):#サンプルを設定\n",
    "            for k in range(chanel):#チャネルを設定\n",
    "                for i in range(0, int(height/2), 1):#高さを設定\n",
    "                    for j in range(0, int(width/2), 1):#幅を設定\n",
    "                            Z0 = A[h,k,i*2:i*2 + 2,j*2:j*2 + 2]\n",
    "                            Z[h,k,i,j] = np.nanmax(Z0)\n",
    "                            a = Z0/np.nanmax(Z0)#最大値が１の行列\n",
    "                            Z_index[h,k,i*2:i*2 + 2,j*2:j*2 + 2] += (np.where(a==1,1,0))\n",
    "\n",
    "\n",
    "        self.Z = Z\n",
    "        self.Z_index = Z_index\n",
    "        return Z"
   ]
  },
  {
   "cell_type": "code",
   "execution_count": null,
   "metadata": {},
   "outputs": [],
   "source": []
  },
  {
   "cell_type": "code",
   "execution_count": 450,
   "metadata": {},
   "outputs": [],
   "source": [
    "class ScratchDeepNeuralNetrowkClassifier():\n",
    "\n",
    "    def __init__(self,num_iter = 1,lr = 0.01, verbose = True):\n",
    "        self.verbose = verbose\n",
    "        self.num_iter = num_iter\n",
    "        self.lr = lr\n",
    "        self.verbose = verbose\n",
    "#         self.n_features = 784#\n",
    "        self.n_nodes1 = 338\n",
    "    #\n",
    "#         self.n_nodes2 = 200#\n",
    "        self.n_output = 10\n",
    "        self.alpha = 0.001\n",
    "        self.rec_loss = [] \n",
    "        self.rec_val_loss = []         \n",
    "        \n",
    "        pass\n",
    "    def fit(self, X, y, X_val=None, y_val=None):\n",
    "        #最適化手法のインスタンス化\n",
    "        optimizer = SGD(self.lr)\n",
    "        initializer1 = ConV2d_Initializer_pred_test(2,2)\n",
    "        initializer2 = SimpleInitializer()\n",
    "        #層の数、各層の特徴数（インプット＆アウトプット）、初期値設定、最適化手法、活性化関数の種類を設定\n",
    "        self.MP = MaxPool2D()\n",
    "        self.Cv2d1 = Conv2d_test_pred(28, 28)#, initializer1, optimizer)\n",
    "        self.activation1 = Flatten()\n",
    "        self.FC1 = FC(self.n_nodes1, self.n_output, initializer2, optimizer)\n",
    "        self.activation2 = softmax()\n",
    "\n",
    "        #ミニバッチ２０で学習\n",
    "        self.X = X\n",
    "        self.y = y\n",
    "        self.X_val = X_val\n",
    "        self.y_val = y_val\n",
    "        get_mini_batch = GetMiniBatch(self.X, self.y, batch_size=20)\n",
    "        self.z_all = np.empty((0, 10),dtype=np.float)\n",
    "        for i in range(self.num_iter):\n",
    "            for mini_X_train, mini_y_train in get_mini_batch:\n",
    "        # フォワードプロパゲーション\n",
    "                A1 = self.Cv2d1.forward(mini_X_train)\n",
    "                M1 = self.MP.M(A1)\n",
    "                Z1 = self.activation1.forward(M1)\n",
    "#                 print(Z1.shape)\n",
    "                A2 = self.FC1.forward(Z1)\n",
    "                Z2 = self.activation2.forward(A2)\n",
    "#                 A3 = self.FC3.forward(Z2)\n",
    "#                 Z3 = self.activation3.forward(A3)\n",
    "                self.Z2 = Z2\n",
    "        # バックプロパゲーション\n",
    "                dA2 = self.activation2.backward(Z2, mini_y_train) # 交差エントロピー誤差とソフトマックスを合わせている\n",
    "                dZ1 = self.FC1.backward(dA2)\n",
    "#                 dA2 = self.activation2.backward(dZ2)\n",
    "#                 dZ1 = self.FC2.backward(dA2)\n",
    "                dA1 = self.activation1.backward(dZ1)\n",
    "                index = self.MP.Z_index\n",
    "                print(index.shape)\n",
    "                print(dA1.shape)\n",
    "                dZ0 = self.Cv2d1.backward(dA1,index) # dZ0は使用しない\n",
    "#             self.loss_entropy(mini_y_train)\n",
    "            #フィット後のB、Wを抜き出す\n",
    "            self.B1 = self.Cv2d1.B\n",
    "            self.B2 = self.FC1.B\n",
    "#             self.B3 = self.FC3.B\n",
    "            \n",
    "            self.W1 = self.Cv2d1.W\n",
    "            self.W2 = self.FC1.W\n",
    "#             self.W3 = self.FC3.W\n",
    "#             self.val_loss_entropy()\n",
    "                \n",
    "        if self.verbose:\n",
    "            #verboseをTrueにした際は学習過程などを出力する\n",
    "            print()\n",
    "        pass\n",
    "\n",
    "#     def loss_entropy(self,y_train_batch):\n",
    "#         self.loss = -1/self.Z3.shape[0]*(y_train_batch*(np.log(self.Z3))).sum()  \n",
    "#         self.rec_loss.append(self.loss)\n",
    "        \n",
    "#     def val_loss_entropy(self):\n",
    "#         self.a1 = self.X_val@self.W1 + self.B1\n",
    "#         self.z1 = np.tanh(self.a1)\n",
    "#         self.a2 = self.z1@self.W2 + self.B2\n",
    "#         self.z2 = np.tanh(self.a2)\n",
    "#         self.a3 = self.z2@self.W3 + self.B3\n",
    "#         self.z3 = self.activation3.forward(self.a3)        \n",
    "#         self.val_loss = -1/self.z3.shape[0]*(self.y_val*(np.log(self.z3))).sum()  \n",
    "#         self.rec_val_loss.append(self.val_loss)\n",
    "        \n",
    "    def predict(self, X_test):\n",
    "        z_all = np.empty((0, 10),dtype=np.float)\n",
    "#         print(z_all.shape)\n",
    "        self.a1 = self.Cv2d1.forward(X_test)\n",
    "        self.z1 = self.activation1.forward(self.a1)\n",
    "        self.a2 = self.z1@self.W2 + self.B2\n",
    "#         self.z2 = np.tanh(self.a2)\n",
    "#         self.a3 = self.z2@self.W3 + self.B3\n",
    "        self.z2 = self.activation2.forward(self.a2)\n",
    "        z_all = np.concatenate([z_all,self.z2])\n",
    "        z_all_index = np.argmax(z_all, axis=1)\n",
    "        \n",
    "        pass\n",
    "        return z_all, z_all_index"
   ]
  },
  {
   "cell_type": "code",
   "execution_count": 451,
   "metadata": {},
   "outputs": [
    {
     "name": "stdout",
     "output_type": "stream",
     "text": [
      "(20, 2, 27, 27)\n",
      "(20, 2, 13, 13)\n"
     ]
    },
    {
     "ename": "ValueError",
     "evalue": "operands could not be broadcast together with shapes (2,2) (4,4) ",
     "output_type": "error",
     "traceback": [
      "\u001b[0;31m---------------------------------------------------------------------------\u001b[0m",
      "\u001b[0;31mValueError\u001b[0m                                Traceback (most recent call last)",
      "\u001b[0;32m<ipython-input-451-d3d89765196a>\u001b[0m in \u001b[0;36m<module>\u001b[0;34m\u001b[0m\n\u001b[1;32m      1\u001b[0m \u001b[0mclf\u001b[0m \u001b[0;34m=\u001b[0m \u001b[0mScratchDeepNeuralNetrowkClassifier\u001b[0m\u001b[0;34m(\u001b[0m\u001b[0;34m)\u001b[0m\u001b[0;34m\u001b[0m\u001b[0;34m\u001b[0m\u001b[0m\n\u001b[0;32m----> 2\u001b[0;31m \u001b[0mclf\u001b[0m\u001b[0;34m.\u001b[0m\u001b[0mfit\u001b[0m\u001b[0;34m(\u001b[0m\u001b[0mX_train_0\u001b[0m\u001b[0;34m,\u001b[0m \u001b[0my_train_0\u001b[0m\u001b[0;34m,\u001b[0m \u001b[0mX_val_0\u001b[0m\u001b[0;34m,\u001b[0m \u001b[0my_val_0\u001b[0m\u001b[0;34m)\u001b[0m\u001b[0;34m\u001b[0m\u001b[0;34m\u001b[0m\u001b[0m\n\u001b[0m",
      "\u001b[0;32m<ipython-input-450-250e97455aa6>\u001b[0m in \u001b[0;36mfit\u001b[0;34m(self, X, y, X_val, y_val)\u001b[0m\n\u001b[1;32m     56\u001b[0m                 \u001b[0mprint\u001b[0m\u001b[0;34m(\u001b[0m\u001b[0mindex\u001b[0m\u001b[0;34m.\u001b[0m\u001b[0mshape\u001b[0m\u001b[0;34m)\u001b[0m\u001b[0;34m\u001b[0m\u001b[0;34m\u001b[0m\u001b[0m\n\u001b[1;32m     57\u001b[0m                 \u001b[0mprint\u001b[0m\u001b[0;34m(\u001b[0m\u001b[0mdA1\u001b[0m\u001b[0;34m.\u001b[0m\u001b[0mshape\u001b[0m\u001b[0;34m)\u001b[0m\u001b[0;34m\u001b[0m\u001b[0;34m\u001b[0m\u001b[0m\n\u001b[0;32m---> 58\u001b[0;31m                 \u001b[0mdZ0\u001b[0m \u001b[0;34m=\u001b[0m \u001b[0mself\u001b[0m\u001b[0;34m.\u001b[0m\u001b[0mCv2d1\u001b[0m\u001b[0;34m.\u001b[0m\u001b[0mbackward\u001b[0m\u001b[0;34m(\u001b[0m\u001b[0mdA1\u001b[0m\u001b[0;34m,\u001b[0m\u001b[0mindex\u001b[0m\u001b[0;34m)\u001b[0m \u001b[0;31m# dZ0は使用しない\u001b[0m\u001b[0;34m\u001b[0m\u001b[0;34m\u001b[0m\u001b[0m\n\u001b[0m\u001b[1;32m     59\u001b[0m \u001b[0;31m#             self.loss_entropy(mini_y_train)\u001b[0m\u001b[0;34m\u001b[0m\u001b[0;34m\u001b[0m\u001b[0;34m\u001b[0m\u001b[0m\n\u001b[1;32m     60\u001b[0m             \u001b[0;31m#フィット後のB、Wを抜き出す\u001b[0m\u001b[0;34m\u001b[0m\u001b[0;34m\u001b[0m\u001b[0;34m\u001b[0m\u001b[0m\n",
      "\u001b[0;32m<ipython-input-438-9fea0eac6bb0>\u001b[0m in \u001b[0;36mbackward\u001b[0;34m(self, dA, M_index)\u001b[0m\n\u001b[1;32m    123\u001b[0m                     \u001b[0;32mfor\u001b[0m \u001b[0mt\u001b[0m \u001b[0;32min\u001b[0m \u001b[0mrange\u001b[0m\u001b[0;34m(\u001b[0m\u001b[0mheight\u001b[0m\u001b[0;34m)\u001b[0m\u001b[0;34m:\u001b[0m\u001b[0;31m#高さを設定\u001b[0m\u001b[0;34m\u001b[0m\u001b[0;34m\u001b[0m\u001b[0m\n\u001b[1;32m    124\u001b[0m                         \u001b[0;32mfor\u001b[0m \u001b[0mu\u001b[0m \u001b[0;32min\u001b[0m \u001b[0mrange\u001b[0m\u001b[0;34m(\u001b[0m\u001b[0mwidth\u001b[0m\u001b[0;34m)\u001b[0m\u001b[0;34m:\u001b[0m\u001b[0;31m#幅を設定\u001b[0m\u001b[0;34m\u001b[0m\u001b[0;34m\u001b[0m\u001b[0m\n\u001b[0;32m--> 125\u001b[0;31m                             \u001b[0mdW\u001b[0m\u001b[0;34m[\u001b[0m\u001b[0mr\u001b[0m\u001b[0;34m,\u001b[0m\u001b[0ms\u001b[0m\u001b[0;34m,\u001b[0m\u001b[0mv\u001b[0m\u001b[0;34m]\u001b[0m \u001b[0;34m+=\u001b[0m \u001b[0mdA\u001b[0m\u001b[0;34m[\u001b[0m\u001b[0mr\u001b[0m\u001b[0;34m,\u001b[0m\u001b[0ms\u001b[0m\u001b[0;34m,\u001b[0m\u001b[0mt\u001b[0m\u001b[0;34m,\u001b[0m\u001b[0mu\u001b[0m\u001b[0;34m]\u001b[0m\u001b[0;34m*\u001b[0m\u001b[0mself\u001b[0m\u001b[0;34m.\u001b[0m\u001b[0mX\u001b[0m\u001b[0;34m[\u001b[0m\u001b[0mr\u001b[0m\u001b[0;34m,\u001b[0m\u001b[0mv\u001b[0m\u001b[0;34m,\u001b[0m\u001b[0mt\u001b[0m\u001b[0;34m:\u001b[0m\u001b[0mt\u001b[0m \u001b[0;34m+\u001b[0m \u001b[0mw_height\u001b[0m\u001b[0;34m,\u001b[0m\u001b[0mu\u001b[0m\u001b[0;34m:\u001b[0m\u001b[0mu\u001b[0m \u001b[0;34m+\u001b[0m \u001b[0mw_width\u001b[0m\u001b[0;34m]\u001b[0m\u001b[0;34m*\u001b[0m\u001b[0mZ_index\u001b[0m\u001b[0;34m[\u001b[0m\u001b[0mr\u001b[0m\u001b[0;34m,\u001b[0m\u001b[0ms\u001b[0m\u001b[0;34m]\u001b[0m\u001b[0;34m\u001b[0m\u001b[0;34m\u001b[0m\u001b[0m\n\u001b[0m\u001b[1;32m    126\u001b[0m         \u001b[0mself\u001b[0m\u001b[0;34m.\u001b[0m\u001b[0mdW\u001b[0m \u001b[0;34m=\u001b[0m \u001b[0mdW\u001b[0m\u001b[0;34m\u001b[0m\u001b[0;34m\u001b[0m\u001b[0m\n\u001b[1;32m    127\u001b[0m \u001b[0;34m\u001b[0m\u001b[0m\n",
      "\u001b[0;31mValueError\u001b[0m: operands could not be broadcast together with shapes (2,2) (4,4) "
     ]
    }
   ],
   "source": [
    "clf = ScratchDeepNeuralNetrowkClassifier()\n",
    "clf.fit(X_train_0, y_train_0, X_val_0, y_val_0)"
   ]
  },
  {
   "cell_type": "code",
   "execution_count": null,
   "metadata": {},
   "outputs": [],
   "source": []
  },
  {
   "cell_type": "code",
   "execution_count": 414,
   "metadata": {},
   "outputs": [],
   "source": [
    "z_all = np.empty((0, 10),dtype=np.float)"
   ]
  },
  {
   "cell_type": "code",
   "execution_count": 416,
   "metadata": {},
   "outputs": [
    {
     "data": {
      "text/plain": [
       "(0, 10)"
      ]
     },
     "execution_count": 416,
     "metadata": {},
     "output_type": "execute_result"
    }
   ],
   "source": [
    "z_all.shape"
   ]
  },
  {
   "cell_type": "markdown",
   "metadata": {},
   "source": [
    "# 【問題9】出力サイズとパラメータ数の計算"
   ]
  },
  {
   "cell_type": "markdown",
   "metadata": {},
   "source": [
    "CNNモデルを構築する際には、全結合層に入力する段階で特徴量がいくつになっているかを事前に計算する必要があります。<br>\n",
    "また、巨大なモデルを扱うようになると、メモリや計算速度の関係でパラメータ数の計算は必須になってきます。<br>\n",
    "フレームワークでは各層のパラメータ数を表示させることが可能ですが、意味を理解していなくては適切な調整が行えません。<br>\n",
    "以下の3つの畳み込み層の出力サイズとパラメータ数を計算してください。パラメータ数についてはバイアス項も考えてください。<br>\n",
    "\n",
    "1.\n",
    "入力サイズ : 144×144, 3チャンネル<br>\n",
    "フィルタサイズ : 3×3, 6チャンネル<br>\n",
    "ストライド : 1<br>\n",
    "パディング : なし<br>\n"
   ]
  },
  {
   "cell_type": "markdown",
   "metadata": {},
   "source": [
    "A.1<br>\n",
    "出力サイズ：１４２＊１４２<br>\n",
    "出力チャネル：６<br>\n",
    "パラメータ数：３＊３＊６　＋　６<br>\n",
    "            ＝60<br>"
   ]
  },
  {
   "cell_type": "markdown",
   "metadata": {},
   "source": [
    "2.\n",
    "入力サイズ : 60×60, 24チャンネル<br>\n",
    "フィルタサイズ : 3×3, 48チャンネル<br>\n",
    "ストライド　: 1<br>\n",
    "パディング : なし<br>"
   ]
  },
  {
   "cell_type": "markdown",
   "metadata": {},
   "source": [
    "A.2<br>\n",
    "出力サイズ：58＊58<br>\n",
    "出力チャネル：48<br>\n",
    "パラメータ数：3＊3＊48　＋　48<br>\n",
    "            ＝480<br>"
   ]
  },
  {
   "cell_type": "markdown",
   "metadata": {},
   "source": [
    "3.\n",
    "入力サイズ : 20×20, 10チャンネル<br>\n",
    "フィルタサイズ: 3×3, 20チャンネル<br>\n",
    "ストライド : 2<br>\n",
    "パディング : なし<br>\n",
    "\n",
    "＊最後の例は丁度良く畳み込みをすることができない場合です。<br>\n",
    "フレームワークでは余ったピクセルを見ないという処理が行われることがあるので、その場合を考えて計算してください。<br>\n",
    "端が欠けてしまうので、こういった設定は好ましくないという例です。<br>"
   ]
  },
  {
   "cell_type": "markdown",
   "metadata": {},
   "source": [
    "A.3<br>\n",
    "出力サイズ：9＊9<br>\n",
    "出力チャネル：20<br>\n",
    "パラメータ数：9＊9＊20　＋　20<br>\n",
    "            ＝200<br>"
   ]
  },
  {
   "cell_type": "markdown",
   "metadata": {},
   "source": []
  }
 ],
 "metadata": {
  "kernelspec": {
   "display_name": "Python 3",
   "language": "python",
   "name": "python3"
  },
  "language_info": {
   "codemirror_mode": {
    "name": "ipython",
    "version": 3
   },
   "file_extension": ".py",
   "mimetype": "text/x-python",
   "name": "python",
   "nbconvert_exporter": "python",
   "pygments_lexer": "ipython3",
   "version": "3.7.4"
  },
  "toc": {
   "base_numbering": 1,
   "nav_menu": {},
   "number_sections": true,
   "sideBar": true,
   "skip_h1_title": false,
   "title_cell": "Table of Contents",
   "title_sidebar": "Contents",
   "toc_cell": false,
   "toc_position": {},
   "toc_section_display": true,
   "toc_window_display": false
  }
 },
 "nbformat": 4,
 "nbformat_minor": 2
}
