{
 "cells": [
  {
   "cell_type": "markdown",
   "metadata": {},
   "source": [
    "# 【問題1】train_test_splitのスクラッチ"
   ]
  },
  {
   "cell_type": "code",
   "execution_count": 9,
   "metadata": {},
   "outputs": [
    {
     "name": "stdout",
     "output_type": "stream",
     "text": [
      "(40, 2)\n",
      "(10, 2)\n",
      "(40, 1)\n",
      "(10, 1)\n"
     ]
    }
   ],
   "source": [
    "from sklearn.datasets import load_iris\n",
    "import math\n",
    "import random\n",
    "import pandas as pd\n",
    "import numpy as np\n",
    "import matplotlib.pyplot as plt\n",
    "import seaborn as sns\n",
    "from sklearn.model_selection import train_test_split\n",
    "from sklearn.preprocessing import StandardScaler\n",
    "\n",
    "X = np.random.uniform(0,50 , (50, 2))\n",
    "y = np.random.uniform(0,50 , (50, 1))\n",
    "\n",
    "# print(X.shape)\n",
    "# print(y)\n",
    "\n",
    "# print(X.shape[0] - round(X.shape[0]*0.8))\n",
    "\n",
    "def scratch_train_test_split(X, y, train_size=0.8):\n",
    "    ns = []\n",
    "    X_train = np.empty((0,X.shape[1]), int)\n",
    "    X_test =  np.empty((0,X.shape[1]), int)\n",
    "    while len(ns) < round(X.shape[0]*0.8):\n",
    "        n = random.randint(0, X.shape[0] - 1)\n",
    "        if not n in ns:\n",
    "            ns.append(n)\n",
    "        else:\n",
    "            pass\n",
    "    ns_n = []\n",
    "    while len(ns_n) < X.shape[0] - round(X.shape[0]*0.8):\n",
    "        n = random.randint(0, X.shape[0] - 1)\n",
    "        if not n in ns:\n",
    "            if not n in ns_n:\n",
    "                ns_n.append(n)\n",
    "        else:\n",
    "            pass\n",
    "    \n",
    "    for i in ns:\n",
    "        X_train = np.vstack((X_train, X[i]))\n",
    "    for j in ns_n:\n",
    "        X_test = np.vstack((X_test, X[j]))\n",
    "    y_train = y[ns]\n",
    "    y_test = y[ns_n]\n",
    "    \n",
    "    return X_train, X_test, y_train, y_test\n",
    "X_train, X_test, y_train, y_test = scratch_train_test_split(X, y)\n",
    "print(X_train.shape)\n",
    "print(X_test.shape)\n",
    "print(y_train.shape)\n",
    "print(y_test.shape)"
   ]
  },
  {
   "cell_type": "markdown",
   "metadata": {},
   "source": [
    "# 【問題2】 分類問題を解くコードの作成\n",
    "上記3種類の手法で3種類のデータセットを学習・推定するコードを作成してください。"
   ]
  },
  {
   "cell_type": "code",
   "execution_count": 16,
   "metadata": {},
   "outputs": [
    {
     "name": "stdout",
     "output_type": "stream",
     "text": [
      "(50, 2)\n",
      "(100, 1)\n",
      "(80, 4)\n"
     ]
    },
    {
     "data": {
      "text/plain": [
       "(80, 1)"
      ]
     },
     "execution_count": 16,
     "metadata": {},
     "output_type": "execute_result"
    }
   ],
   "source": [
    "#アイリスデータ読み込み\n",
    "iris_data = load_iris()\n",
    "Xi = iris_data.data\n",
    "Yi = iris_data.target\n",
    "data_names = ['sepal_length','sepal_width','petal_length','petal_width']\n",
    "target_names = ['setosa', 'versicolor', 'virginica']\n",
    "#print(type(X))\n",
    "# print(type(target_names))\n",
    "\n",
    "df_Xi = pd.DataFrame(Xi,columns = data_names)\n",
    "df_Yi = pd.DataFrame(Yi,columns = ['Species'])\n",
    "\n",
    "Xi = df_Xi.values\n",
    "Xi = Xi[50:150]\n",
    "print(X.shape)\n",
    "\n",
    "Yi = df_Yi.values\n",
    "Yi = Yi[50:150]\n",
    "print(Y.shape)\n",
    "\n",
    "Xi_train, Xi_test, yi_train, yi_test = scratch_train_test_split(Xi, Yi)\n",
    "print(Xi_train.shape)\n",
    "yi_train.shape"
   ]
  },
  {
   "cell_type": "code",
   "execution_count": 11,
   "metadata": {},
   "outputs": [],
   "source": [
    "# シンプルデータ1\n",
    "import numpy as np\n",
    "np.random.seed(seed=0)\n",
    "n_samples = 500\n",
    "f0 = [-1, 2]\n",
    "f1 = [2, -1]\n",
    "cov = [[1.0,0.8], [0.8, 1.0]]\n",
    "f0 = np.random.multivariate_normal(f0, cov, int(n_samples/2))\n",
    "f1 = np.random.multivariate_normal(f1, cov, int(n_samples/2))\n",
    "Xs = np.concatenate((f0, f1))\n",
    "ys = np.concatenate((np.ones((int(n_samples/2))), np.ones((int(n_samples/2))) *(-1))).astype(np.int)\n",
    "random_index = np.random.permutation(np.arange(n_samples))\n",
    "Xs = Xs[random_index]\n",
    "ys = ys[random_index]\n",
    "\n",
    "Xs_train, Xs_test, ys_train, ys_test = scratch_train_test_split(Xs, ys)"
   ]
  },
  {
   "cell_type": "code",
   "execution_count": 12,
   "metadata": {},
   "outputs": [],
   "source": [
    "# シンプルデータ2\n",
    "Xs2 = np.array([[-0.44699 , -2.8073  ],[-1.4621  , -2.4586  ],\n",
    "       [ 0.10645 ,  1.9242  ],[-3.5944  , -4.0112  ],\n",
    "       [-0.9888  ,  4.5718  ],[-3.1625  , -3.9606  ],\n",
    "       [ 0.56421 ,  0.72888 ],[-0.60216 ,  8.4636  ],\n",
    "       [-0.61251 , -0.75345 ],[-0.73535 , -2.2718  ],\n",
    "       [-0.80647 , -2.2135  ],[ 0.86291 ,  2.3946  ],\n",
    "       [-3.1108  ,  0.15394 ],[-2.9362  ,  2.5462  ],\n",
    "       [-0.57242 , -2.9915  ],[ 1.4771  ,  3.4896  ],\n",
    "       [ 0.58619 ,  0.37158 ],[ 0.6017  ,  4.3439  ],\n",
    "       [-2.1086  ,  8.3428  ],[-4.1013  , -4.353   ],\n",
    "       [-1.9948  , -1.3927  ],[ 0.35084 , -0.031994],\n",
    "       [ 0.96765 ,  7.8929  ],[-1.281   , 15.6824  ],\n",
    "       [ 0.96765 , 10.083   ],[ 1.3763  ,  1.3347  ],\n",
    "       [-2.234   , -2.5323  ],[-2.9452  , -1.8219  ],\n",
    "       [ 0.14654 , -0.28733 ],[ 0.5461  ,  5.8245  ],\n",
    "       [-0.65259 ,  9.3444  ],[ 0.59912 ,  5.3524  ],\n",
    "       [ 0.50214 , -0.31818 ],[-3.0603  , -3.6461  ],\n",
    "       [-6.6797  ,  0.67661 ],[-2.353   , -0.72261 ],\n",
    "       [ 1.1319  ,  2.4023  ],[-0.12243 ,  9.0162  ],\n",
    "       [-2.5677  , 13.1779  ],[ 0.057313,  5.4681  ]])\n",
    "ys2 = np.array([0, 0, 0, 0, 0, 0, 0, 0, 0, 0, 0, 0, 0, 0, 0, 0, 0, 0, 0, 0, 1, 1,\n",
    "       1, 1, 1, 1, 1, 1, 1, 1, 1, 1, 1, 1, 1, 1, 1, 1, 1, 1])\n",
    "\n",
    "Xs2_train, Xs2_test, ys2_train, ys2_test = scratch_train_test_split(Xs2, ys2)"
   ]
  },
  {
   "cell_type": "code",
   "execution_count": 20,
   "metadata": {},
   "outputs": [],
   "source": [
    "import matplotlib.pyplot as plt\n",
    "from matplotlib.colors import ListedColormap\n",
    "import matplotlib.patches as mpatches\n",
    "import itertools\n",
    "\n",
    "def decision_region(X, y, model, step=0.01, title='decision region', xlabel='xlabel', ylabel='ylabel', target_names=['versicolor', 'virginica']):\n",
    "    \"\"\"\n",
    "    2値分類を2次元の特徴量で学習したモデルの決定領域を描く。\n",
    "    背景の色が学習したモデルによる推定値から描画される。\n",
    "    散布図の点は訓練データまたは検証データである。\n",
    "\n",
    "    Parameters\n",
    "    ----------------\n",
    "    X : ndarray, shape(n_samples, 2)\n",
    "        特徴量\n",
    "    y : ndarray, shape(n_samples,)\n",
    "        ラベル\n",
    "    model : object\n",
    "        学習したモデルのインスンタスを入れる\n",
    "    step : float, (default : 0.1)\n",
    "        推定値を計算する間隔を設定する\n",
    "    title : str\n",
    "        グラフのタイトルの文章を与える\n",
    "    xlabel, ylabel : str\n",
    "        軸ラベルの文章を与える\n",
    "    target_names= : list of str\n",
    "        凡例の一覧を与える\n",
    "    \"\"\"\n",
    "    # setting\n",
    "    scatter_color = ['red', 'blue']\n",
    "    contourf_color = ['pink', 'skyblue']\n",
    "    n_class = 2\n",
    "\n",
    "    # pred\n",
    "    mesh_f0, mesh_f1  = np.meshgrid(np.arange(np.min(X[:,0])-0.5, np.max(X[:,0])+0.5, step),\\\n",
    "                                    np.arange(np.min(X[:,1])-0.5, np.max(X[:,1])+0.5, step))\n",
    "    mesh = np.c_[np.ravel(mesh_f0),np.ravel(mesh_f1)]\n",
    "    y_pred = model.predict(mesh).reshape(mesh_f0.shape)\n",
    "\n",
    "    # plot\n",
    "    plt.title(title)\n",
    "    plt.xlabel(xlabel)\n",
    "    plt.ylabel(ylabel)\n",
    "    plt.contourf(mesh_f0, mesh_f1, y_pred, n_class-1, cmap=ListedColormap(contourf_color))\n",
    "    plt.contour(mesh_f0, mesh_f1, y_pred, n_class-1, colors='y', linewidths=3, alpha=0.5)\n",
    "    for i, target in enumerate(set(y)):\n",
    "        plt.scatter(X[y==target][:, 0], X[y==target][:, 1], s=80, color=scatter_color[i],\\\n",
    "                    label=target_names[i], marker='o')\n",
    "    patches = [mpatches.Patch(color=scatter_color[i], label=target_names[i])\n",
    "for i in range(n_class)]\n",
    "    plt.legend(handles=patches)\n",
    "    plt.legend()\n",
    "    plt.show()"
   ]
  },
  {
   "cell_type": "code",
   "execution_count": 31,
   "metadata": {},
   "outputs": [
    {
     "name": "stdout",
     "output_type": "stream",
     "text": [
      "学習結果0.9125\n",
      "解析結果0.85\n"
     ]
    },
    {
     "name": "stderr",
     "output_type": "stream",
     "text": [
      "/opt/anaconda3/lib/python3.7/site-packages/sklearn/utils/validation.py:724: DataConversionWarning: A column-vector y was passed when a 1d array was expected. Please change the shape of y to (n_samples, ), for example using ravel().\n",
      "  y = column_or_1d(y, warn=True)\n"
     ]
    }
   ],
   "source": [
    "# ロジスティクス回帰(アイリスデータ)\n",
    "from sklearn import linear_model\n",
    "from sklearn import metrics\n",
    "from sklearn.metrics import accuracy_score\n",
    "clf=linear_model.SGDClassifier(loss=\"log\")\n",
    "clf.fit(Xi_train,yi_train)\n",
    "y_pred = clf.predict(Xi_test)\n",
    "y_pred_train = clf.predict(Xi_train)\n",
    "print(\"学習結果\" + str(metrics.accuracy_score(yi_train, y_pred_train)))\n",
    "print(\"解析結果\" + str(metrics.accuracy_score(yi_test, y_pred)))\n"
   ]
  },
  {
   "cell_type": "code",
   "execution_count": 32,
   "metadata": {},
   "outputs": [
    {
     "name": "stdout",
     "output_type": "stream",
     "text": [
      "学習結果1.0\n",
      "解析結果1.0\n"
     ]
    }
   ],
   "source": [
    "# ロジスティクス回帰(シンプルデータ１)\n",
    "from sklearn import linear_model\n",
    "from sklearn import metrics\n",
    "from sklearn.metrics import accuracy_score\n",
    "clf=linear_model.SGDClassifier(loss=\"log\")\n",
    "clf.fit(Xs_train,ys_train)\n",
    "y_pred = clf.predict(Xs_test)\n",
    "y_pred_train = clf.predict(Xs_train)\n",
    "print(\"学習結果\" + str(metrics.accuracy_score(ys_train, y_pred_train)))\n",
    "print(\"解析結果\" + str(metrics.accuracy_score(ys_test, y_pred)))"
   ]
  },
  {
   "cell_type": "code",
   "execution_count": 33,
   "metadata": {},
   "outputs": [
    {
     "name": "stdout",
     "output_type": "stream",
     "text": [
      "学習結果0.5625\n",
      "解析結果0.5\n"
     ]
    }
   ],
   "source": [
    "# ロジスティクス回帰(シンプルデータ２)\n",
    "from sklearn import linear_model\n",
    "from sklearn import metrics\n",
    "from sklearn.metrics import accuracy_score\n",
    "clf=linear_model.SGDClassifier(loss=\"log\")\n",
    "clf.fit(Xs2_train,ys2_train)\n",
    "y_pred = clf.predict(Xs2_test)\n",
    "y_pred_train = clf.predict(Xs2_train)\n",
    "print(\"学習結果\" + str(metrics.accuracy_score(ys2_train, y_pred_train)))\n",
    "print(\"解析結果\" + str(metrics.accuracy_score(ys2_test, y_pred)))"
   ]
  },
  {
   "cell_type": "code",
   "execution_count": 38,
   "metadata": {},
   "outputs": [
    {
     "name": "stdout",
     "output_type": "stream",
     "text": [
      "学習結果1.0\n",
      "解析結果0.95\n"
     ]
    },
    {
     "name": "stderr",
     "output_type": "stream",
     "text": [
      "/opt/anaconda3/lib/python3.7/site-packages/sklearn/utils/validation.py:724: DataConversionWarning: A column-vector y was passed when a 1d array was expected. Please change the shape of y to (n_samples, ), for example using ravel().\n",
      "  y = column_or_1d(y, warn=True)\n"
     ]
    }
   ],
   "source": [
    "# SVM(アイリスデータ)\n",
    "from sklearn.svm import SVC\n",
    "clf2 = SVC(gamma='auto')\n",
    "clf2.fit(Xi_train,yi_train)\n",
    "y_pred = clf2.predict(Xi_test)\n",
    "y_pred_train = clf2.predict(Xi_train)\n",
    "print(\"学習結果\" + str(metrics.accuracy_score(yi_train, y_pred_train)))\n",
    "print(\"解析結果\" + str(metrics.accuracy_score(yi_test, y_pred)))"
   ]
  },
  {
   "cell_type": "code",
   "execution_count": 39,
   "metadata": {},
   "outputs": [
    {
     "name": "stdout",
     "output_type": "stream",
     "text": [
      "学習結果1.0\n",
      "解析結果1.0\n"
     ]
    }
   ],
   "source": [
    "# SVM(シンプルデータ１)\n",
    "from sklearn.svm import SVC\n",
    "clf2 = SVC(gamma='auto')\n",
    "clf2.fit(Xs_train,ys_train)\n",
    "y_pred = clf2.predict(Xs_test)\n",
    "y_pred_train = clf2.predict(Xs_train)\n",
    "print(\"学習結果\" + str(metrics.accuracy_score(ys_train, y_pred_train)))\n",
    "print(\"解析結果\" + str(metrics.accuracy_score(ys_test, y_pred)))"
   ]
  },
  {
   "cell_type": "code",
   "execution_count": 41,
   "metadata": {},
   "outputs": [
    {
     "name": "stdout",
     "output_type": "stream",
     "text": [
      "学習結果0.90625\n",
      "解析結果0.5\n"
     ]
    }
   ],
   "source": [
    "# SVM(シンプルデータ２)\n",
    "from sklearn.svm import SVC\n",
    "clf2 = SVC(gamma='auto')\n",
    "clf2.fit(Xs2_train,ys2_train)\n",
    "y_pred = clf2.predict(Xs2_test)\n",
    "y_pred_train = clf2.predict(Xs2_train)\n",
    "print(\"学習結果\" + str(metrics.accuracy_score(ys2_train, y_pred_train)))\n",
    "print(\"解析結果\" + str(metrics.accuracy_score(ys2_test, y_pred)))"
   ]
  },
  {
   "cell_type": "code",
   "execution_count": 42,
   "metadata": {},
   "outputs": [
    {
     "name": "stdout",
     "output_type": "stream",
     "text": [
      "学習結果1.0\n",
      "解析結果0.85\n"
     ]
    }
   ],
   "source": [
    "# 決定木(アイリスデータ)\n",
    "from sklearn.tree import DecisionTreeClassifier\n",
    "from sklearn import tree\n",
    "clf3 = tree.DecisionTreeClassifier(max_depth=5)\n",
    "clf3.fit(Xi_train,yi_train)\n",
    "y_pred = clf3.predict(Xi_test)\n",
    "y_pred_train = clf3.predict(Xi_train)\n",
    "print(\"学習結果\" + str(metrics.accuracy_score(yi_train, y_pred_train)))\n",
    "print(\"解析結果\" + str(metrics.accuracy_score(yi_test, y_pred)))"
   ]
  },
  {
   "cell_type": "code",
   "execution_count": 43,
   "metadata": {},
   "outputs": [
    {
     "name": "stdout",
     "output_type": "stream",
     "text": [
      "学習結果1.0\n",
      "解析結果1.0\n"
     ]
    }
   ],
   "source": [
    "# 決定木(シンプルデータ１)\n",
    "clf3.fit(Xs_train,ys_train)\n",
    "y_pred = clf3.predict(Xs_test)\n",
    "y_pred_train = clf3.predict(Xs_train)\n",
    "print(\"学習結果\" + str(metrics.accuracy_score(ys_train, y_pred_train)))\n",
    "print(\"解析結果\" + str(metrics.accuracy_score(ys_test, y_pred)))"
   ]
  },
  {
   "cell_type": "code",
   "execution_count": 44,
   "metadata": {},
   "outputs": [
    {
     "name": "stdout",
     "output_type": "stream",
     "text": [
      "学習結果0.9375\n",
      "解析結果0.625\n"
     ]
    }
   ],
   "source": [
    "# 決定木(シンプルデータ２)\n",
    "clf3.fit(Xs2_train,ys2_train)\n",
    "y_pred = clf3.predict(Xs2_test)\n",
    "y_pred_train = clf3.predict(Xs2_train)\n",
    "print(\"学習結果\" + str(metrics.accuracy_score(ys2_train, y_pred_train)))\n",
    "print(\"解析結果\" + str(metrics.accuracy_score(ys2_test, y_pred)))"
   ]
  },
  {
   "cell_type": "markdown",
   "metadata": {},
   "source": [
    "# 【問題3】 回帰問題を解くコードの作成\n",
    "<br>\n",
    "回帰は1種類をスクラッチします。\n",
    "<br>\n",
    "線形回帰"
   ]
  },
  {
   "cell_type": "code",
   "execution_count": 46,
   "metadata": {},
   "outputs": [],
   "source": [
    "# データのインポート\n",
    "df = pd.read_csv('/Users/suzukiyuuta/Downloads/train.csv')#教師データを読み込む"
   ]
  },
  {
   "cell_type": "code",
   "execution_count": 47,
   "metadata": {},
   "outputs": [
    {
     "data": {
      "text/html": [
       "<div>\n",
       "<style scoped>\n",
       "    .dataframe tbody tr th:only-of-type {\n",
       "        vertical-align: middle;\n",
       "    }\n",
       "\n",
       "    .dataframe tbody tr th {\n",
       "        vertical-align: top;\n",
       "    }\n",
       "\n",
       "    .dataframe thead th {\n",
       "        text-align: right;\n",
       "    }\n",
       "</style>\n",
       "<table border=\"1\" class=\"dataframe\">\n",
       "  <thead>\n",
       "    <tr style=\"text-align: right;\">\n",
       "      <th></th>\n",
       "      <th>GrLivArea</th>\n",
       "      <th>YearBuilt</th>\n",
       "    </tr>\n",
       "  </thead>\n",
       "  <tbody>\n",
       "    <tr>\n",
       "      <td>count</td>\n",
       "      <td>1460.000000</td>\n",
       "      <td>1460.000000</td>\n",
       "    </tr>\n",
       "    <tr>\n",
       "      <td>mean</td>\n",
       "      <td>1515.463699</td>\n",
       "      <td>1971.267808</td>\n",
       "    </tr>\n",
       "    <tr>\n",
       "      <td>std</td>\n",
       "      <td>525.480383</td>\n",
       "      <td>30.202904</td>\n",
       "    </tr>\n",
       "    <tr>\n",
       "      <td>min</td>\n",
       "      <td>334.000000</td>\n",
       "      <td>1872.000000</td>\n",
       "    </tr>\n",
       "    <tr>\n",
       "      <td>25%</td>\n",
       "      <td>1129.500000</td>\n",
       "      <td>1954.000000</td>\n",
       "    </tr>\n",
       "    <tr>\n",
       "      <td>50%</td>\n",
       "      <td>1464.000000</td>\n",
       "      <td>1973.000000</td>\n",
       "    </tr>\n",
       "    <tr>\n",
       "      <td>75%</td>\n",
       "      <td>1776.750000</td>\n",
       "      <td>2000.000000</td>\n",
       "    </tr>\n",
       "    <tr>\n",
       "      <td>max</td>\n",
       "      <td>5642.000000</td>\n",
       "      <td>2010.000000</td>\n",
       "    </tr>\n",
       "  </tbody>\n",
       "</table>\n",
       "</div>"
      ],
      "text/plain": [
       "         GrLivArea    YearBuilt\n",
       "count  1460.000000  1460.000000\n",
       "mean   1515.463699  1971.267808\n",
       "std     525.480383    30.202904\n",
       "min     334.000000  1872.000000\n",
       "25%    1129.500000  1954.000000\n",
       "50%    1464.000000  1973.000000\n",
       "75%    1776.750000  2000.000000\n",
       "max    5642.000000  2010.000000"
      ]
     },
     "metadata": {},
     "output_type": "display_data"
    },
    {
     "data": {
      "text/html": [
       "<div>\n",
       "<style scoped>\n",
       "    .dataframe tbody tr th:only-of-type {\n",
       "        vertical-align: middle;\n",
       "    }\n",
       "\n",
       "    .dataframe tbody tr th {\n",
       "        vertical-align: top;\n",
       "    }\n",
       "\n",
       "    .dataframe thead th {\n",
       "        text-align: right;\n",
       "    }\n",
       "</style>\n",
       "<table border=\"1\" class=\"dataframe\">\n",
       "  <thead>\n",
       "    <tr style=\"text-align: right;\">\n",
       "      <th></th>\n",
       "      <th>SalePrice</th>\n",
       "    </tr>\n",
       "  </thead>\n",
       "  <tbody>\n",
       "    <tr>\n",
       "      <td>count</td>\n",
       "      <td>1460.000000</td>\n",
       "    </tr>\n",
       "    <tr>\n",
       "      <td>mean</td>\n",
       "      <td>180921.195890</td>\n",
       "    </tr>\n",
       "    <tr>\n",
       "      <td>std</td>\n",
       "      <td>79442.502883</td>\n",
       "    </tr>\n",
       "    <tr>\n",
       "      <td>min</td>\n",
       "      <td>34900.000000</td>\n",
       "    </tr>\n",
       "    <tr>\n",
       "      <td>25%</td>\n",
       "      <td>129975.000000</td>\n",
       "    </tr>\n",
       "    <tr>\n",
       "      <td>50%</td>\n",
       "      <td>163000.000000</td>\n",
       "    </tr>\n",
       "    <tr>\n",
       "      <td>75%</td>\n",
       "      <td>214000.000000</td>\n",
       "    </tr>\n",
       "    <tr>\n",
       "      <td>max</td>\n",
       "      <td>755000.000000</td>\n",
       "    </tr>\n",
       "  </tbody>\n",
       "</table>\n",
       "</div>"
      ],
      "text/plain": [
       "           SalePrice\n",
       "count    1460.000000\n",
       "mean   180921.195890\n",
       "std     79442.502883\n",
       "min     34900.000000\n",
       "25%    129975.000000\n",
       "50%    163000.000000\n",
       "75%    214000.000000\n",
       "max    755000.000000"
      ]
     },
     "metadata": {},
     "output_type": "display_data"
    }
   ],
   "source": [
    "df_X_ori = df.loc[:,['GrLivArea','YearBuilt']]\n",
    "display(df_X_ori.describe())\n",
    "df_Y_ori = df.loc[:,['SalePrice']]\n",
    "display(df_Y_ori.describe())"
   ]
  },
  {
   "cell_type": "code",
   "execution_count": null,
   "metadata": {},
   "outputs": [],
   "source": [
    "sprint02にて提出"
   ]
  }
 ],
 "metadata": {
  "kernelspec": {
   "display_name": "Python 3",
   "language": "python",
   "name": "python3"
  },
  "language_info": {
   "codemirror_mode": {
    "name": "ipython",
    "version": 3
   },
   "file_extension": ".py",
   "mimetype": "text/x-python",
   "name": "python",
   "nbconvert_exporter": "python",
   "pygments_lexer": "ipython3",
   "version": "3.7.4"
  },
  "toc": {
   "base_numbering": 1,
   "nav_menu": {},
   "number_sections": true,
   "sideBar": true,
   "skip_h1_title": false,
   "title_cell": "Table of Contents",
   "title_sidebar": "Contents",
   "toc_cell": false,
   "toc_position": {},
   "toc_section_display": true,
   "toc_window_display": false
  }
 },
 "nbformat": 4,
 "nbformat_minor": 2
}
